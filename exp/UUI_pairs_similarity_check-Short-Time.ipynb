{
 "cells": [
  {
   "cell_type": "markdown",
   "metadata": {},
   "source": [
    "# UUI pairs analysis (Last 7 day)\n",
    "\n",
    "### Using user behaviour to examine SFE-SIP results\n",
    "- Dataset: SFE-SIP results (2019-09-30)\n",
    "- Dataset: User Behaviour Feature (2019-09-24 ~ 2019-09-30)"
   ]
  },
  {
   "cell_type": "code",
   "execution_count": 1,
   "metadata": {},
   "outputs": [],
   "source": [
    "import numpy as np\n",
    "import pandas as pd\n",
    "from datetime import datetime, timedelta\n",
    "import pyspark.sql.functions as F\n",
    "from pyspark.sql.window import Window\n",
    "from pyspark import SparkConf\n",
    "from pyspark.sql import SparkSession\n",
    "import pyspark.sql.types as T\n",
    "from pyspark.ml.linalg import Vectors, VectorUDT"
   ]
  },
  {
   "cell_type": "code",
   "execution_count": 2,
   "metadata": {},
   "outputs": [],
   "source": [
    "def get_spark_session(**kwargs):\n",
    "    \"\"\"Initializing Spark context.\n",
    "\n",
    "    Parameters\n",
    "    ----------\n",
    "    kwargs : dict\n",
    "        Variable number of keyword arguments to initialize the SparkContext\n",
    "        object\n",
    "\n",
    "    Returns\n",
    "    -------\n",
    "     : SparkContext object\n",
    "\n",
    "    \"\"\"\n",
    "    conf = SparkConf() \\\n",
    "        .setAppName(kwargs.get('app_name', 'test')) \\\n",
    "        .set(\"spark.executor.memory\", kwargs.get('executor_memory', '10g')) \\\n",
    "        .set(\"spark.driver.memory\", kwargs.get('driver_memory', '30g')) \\\n",
    "        .set(\"spark.driver.maxResultSize\",\n",
    "             kwargs.get('max_result_size', '100g')) \\\n",
    "        .set(\"spark.executor.instances\", kwargs.get('num_executors', '200')) \\\n",
    "        .set(\"spark.executor.cores\", kwargs.get('num_cores', '5')) \\\n",
    "        .set(\"spark.sql.crossJoin.enabled\", True)  \\\n",
    "        .set(\"spark.cores.max\", kwargs.get('cores_max', '1000'))    \\\n",
    "        .set(\"spark.network.timeout\", kwargs.get('timeout', '3600s')) \\\n",
    "        .set(\"spark.executor.heartbeatInterval\", kwargs.get('heartbeat', '3600s')) \\\n",
    "        .set(\"spark.sql.shuffle.partitions\", kwargs.get('num_partitions', '4000')) \\\n",
    "        .set(\"spark.yarn.queue\", kwargs.get('spark_yarn_queue', 'recommend'))\n",
    "\n",
    "    spark_session = SparkSession.builder.config(conf=conf).enableHiveSupport().getOrCreate()\n",
    "    \n",
    "    return spark_session"
   ]
  },
  {
   "cell_type": "code",
   "execution_count": 3,
   "metadata": {},
   "outputs": [
    {
     "data": {
      "text/plain": [
       "DataFrame[]"
      ]
     },
     "execution_count": 3,
     "metadata": {},
     "output_type": "execute_result"
    }
   ],
   "source": [
    "your_name = \"LiuMing\" # put your name here\n",
    "spark_appname = \"pyspark_user_path_explore_{}\".format(your_name)\n",
    "\n",
    "# spark conf parameter\n",
    "executor_memory = '10g'\n",
    "driver_memory = '30g'\n",
    "\n",
    "# get the spark object\n",
    "spark = get_spark_session(app_name=spark_appname,\n",
    "                         executor_memory=executor_memory,\n",
    "                         driver_memory=driver_memory)\n",
    "\n",
    "sc = spark.sparkContext\n",
    "spark.sql('use shopee')"
   ]
  },
  {
   "cell_type": "markdown",
   "metadata": {},
   "source": [
    "# 1. Understand sfe-sip result"
   ]
  },
  {
   "cell_type": "code",
   "execution_count": 4,
   "metadata": {},
   "outputs": [],
   "source": [
    "cluster_path = '/projects/regds_uui/uui_live/sfe/output/sfe_sip/sfe_sip_cluster_result_ID_1569772800_1569859200.parquet'\n",
    "full_edges_path = '/projects/regds_uui/uui_live/sfe/output/sfe_sip/sfe_sip_full_edges_ID_1569772800_1569859200.parquet'"
   ]
  },
  {
   "cell_type": "code",
   "execution_count": 5,
   "metadata": {},
   "outputs": [],
   "source": [
    "cluster_df = spark.read.parquet(cluster_path)\n",
    "edges_df = spark.read.parquet(full_edges_path)"
   ]
  },
  {
   "cell_type": "code",
   "execution_count": 6,
   "metadata": {},
   "outputs": [
    {
     "name": "stdout",
     "output_type": "stream",
     "text": [
      "+--------+----------+\n",
      "|  userid|cluster_id|\n",
      "+--------+----------+\n",
      "|17607429|  17607429|\n",
      "|23822481|  23822481|\n",
      "|29588253|  29588253|\n",
      "|36272550|  36082738|\n",
      "|36705001|  36701514|\n",
      "+--------+----------+\n",
      "only showing top 5 rows\n",
      "\n"
     ]
    }
   ],
   "source": [
    "cluster_df = cluster_df.select('userid','cluster_id')\n",
    "cluster_df.show(5)"
   ]
  },
  {
   "cell_type": "code",
   "execution_count": 7,
   "metadata": {},
   "outputs": [
    {
     "name": "stdout",
     "output_type": "stream",
     "text": [
      "+--------+--------+----------+\n",
      "|   node1|   node2|similarity|\n",
      "+--------+--------+----------+\n",
      "| 4259299| 8481659|      0.08|\n",
      "| 3469106|10246004|  0.126875|\n",
      "| 7775188|10740863|   0.00375|\n",
      "|17540641|19700906|   0.52125|\n",
      "|10637643|21006791|  0.251875|\n",
      "+--------+--------+----------+\n",
      "only showing top 5 rows\n",
      "\n"
     ]
    }
   ],
   "source": [
    "edges_df.show(5)"
   ]
  },
  {
   "cell_type": "code",
   "execution_count": 8,
   "metadata": {},
   "outputs": [
    {
     "name": "stdout",
     "output_type": "stream",
     "text": [
      "+-------+--------+----------+---+---+---+---+\n",
      "|  node1|   node2|similarity| u1| c1| u2| c2|\n",
      "+-------+--------+----------+---+---+---+---+\n",
      "|4259299| 8481659|      0.08|  0|  0|  1|  1|\n",
      "|3469106|10246004|  0.126875|  0|  0|  1|  1|\n",
      "|7775188|10740863|   0.00375|  0|  0|  1|  1|\n",
      "+-------+--------+----------+---+---+---+---+\n",
      "only showing top 3 rows\n",
      "\n"
     ]
    }
   ],
   "source": [
    "cluster1 = cluster_df.selectExpr('userid as u1', 'cluster_id as c1')\n",
    "edges_df = edges_df.join(cluster1, \n",
    "                         cluster1.u1 == edges_df.node1,\n",
    "                         how='left').na.fill(0)\n",
    "\n",
    "cluster2 = cluster_df.selectExpr('userid as u2', 'cluster_id as c2')\n",
    "edges_df = edges_df.join(cluster2, \n",
    "                         cluster2.u2 == edges_df.node2,\n",
    "                         how='left').na.fill(1)\n",
    "edges_df.show(3)"
   ]
  },
  {
   "cell_type": "code",
   "execution_count": 9,
   "metadata": {},
   "outputs": [],
   "source": [
    "@F.udf(T.StringType())\n",
    "def label(c1, c2, sim):\n",
    "    if sim >= 0.8:\n",
    "        return 'uui_high_score_pairs'\n",
    "    elif sim >= 0.7 and c1 == c2:\n",
    "        return 'uui_grey_score_pairs'\n",
    "    elif sim >= 0.7:\n",
    "        return 'non_uui_grey_score_pairs'\n",
    "    elif c1==c2:\n",
    "        return 'uui_low_score_pairs'\n",
    "    else:\n",
    "        return 'non_uui_low_score_pairs'"
   ]
  },
  {
   "cell_type": "code",
   "execution_count": 10,
   "metadata": {},
   "outputs": [
    {
     "name": "stdout",
     "output_type": "stream",
     "text": [
      "+--------+--------+----------+---+---+---+---+--------------------+\n",
      "|   node1|   node2|similarity| u1| c1| u2| c2|               label|\n",
      "+--------+--------+----------+---+---+---+---+--------------------+\n",
      "| 4259299| 8481659|      0.08|  0|  0|  1|  1|non_uui_low_score...|\n",
      "| 3469106|10246004|  0.126875|  0|  0|  1|  1|non_uui_low_score...|\n",
      "| 7775188|10740863|   0.00375|  0|  0|  1|  1|non_uui_low_score...|\n",
      "|17540641|19700906|   0.52125|  0|  0|  1|  1|non_uui_low_score...|\n",
      "+--------+--------+----------+---+---+---+---+--------------------+\n",
      "only showing top 4 rows\n",
      "\n"
     ]
    }
   ],
   "source": [
    "edges_df = edges_df.withColumn('label', label(F.col('c1'), F.col('c2'), F.col('similarity')))\n",
    "edges_df.show(4)"
   ]
  },
  {
   "cell_type": "code",
   "execution_count": 11,
   "metadata": {},
   "outputs": [
    {
     "name": "stdout",
     "output_type": "stream",
     "text": [
      "+------------------------+--------+\n",
      "|label                   |count   |\n",
      "+------------------------+--------+\n",
      "|uui_high_score_pairs    |787353  |\n",
      "|non_uui_low_score_pairs |27975953|\n",
      "|uui_grey_score_pairs    |1273694 |\n",
      "|non_uui_grey_score_pairs|2856372 |\n",
      "|uui_low_score_pairs     |278154  |\n",
      "+------------------------+--------+\n",
      "\n"
     ]
    }
   ],
   "source": [
    "edges_df.groupBy('label').count().show(5, False)"
   ]
  },
  {
   "cell_type": "markdown",
   "metadata": {},
   "source": [
    "# 2. Select active user of the same period of those uui edges (09-24 ~ 09-30)\n",
    "\n",
    "active user = user which has larger than 5 or 10 sessions in select period"
   ]
  },
  {
   "cell_type": "code",
   "execution_count": 12,
   "metadata": {},
   "outputs": [],
   "source": [
    "def pull_all_action_data(spark, country, begin, end):\n",
    "    \"\"\" \n",
    "    pull all user action data (click & view) on certain day \n",
    "\n",
    "    Args:\n",
    "        spark: spark session object\n",
    "        country: str country code e.g. 'ID'\n",
    "        date: str e.g. ('2019-09-09')\n",
    "\n",
    "    Returns:\n",
    "        action_df: spark dataframe\n",
    "            - schema: uid, page_type, page_section, operation, \n",
    "                event_timestamp\n",
    "    \"\"\"\n",
    "\n",
    "    VIEW_QUERY = \"\"\"  \n",
    "        SELECT \n",
    "            userid as uid, \n",
    "            page_type,\n",
    "            page_section[0] as section,\n",
    "            operation,\n",
    "            target_type,\n",
    "            event_timestamp,\n",
    "            hour\n",
    "        FROM \n",
    "            user_behavior_mart_dwd__view_event\n",
    "        WHERE \n",
    "            grass_region='%s' and utc_date >='%s' and utc_date <='%s'\n",
    "    \"\"\" % (country, begin, end)\n",
    "\n",
    "    CLICK_QUERY = \"\"\"\n",
    "        SELECT \n",
    "            userid as uid, \n",
    "            page_type,\n",
    "            page_section[0] as section,\n",
    "            operation,\n",
    "            target_type,\n",
    "            event_timestamp,\n",
    "            hour\n",
    "        FROM \n",
    "            user_behavior_mart_dwd__click_event\n",
    "        WHERE \n",
    "            grass_region='%s' and utc_date >='%s' and utc_date <='%s'\n",
    "    \"\"\" % (country, begin, end)\n",
    "\n",
    "    click_df = spark.sql(CLICK_QUERY)\n",
    "    view_df = spark.sql(VIEW_QUERY)\n",
    "    union_df = click_df\\\n",
    "        .union(view_df)\\\n",
    "        .orderBy(['uid', 'event_timestamp'])\\\n",
    "        .where(F.col('uid').isNotNull())\n",
    "    action_df = union_df.withColumn('event_timestamp', F.col('event_timestamp')/1000)\n",
    "    return action_df\n",
    "\n",
    "\n",
    "def map_feature(action_df, feature_map):\n",
    "    \"\"\" \n",
    "    map raw action (page_type + page_section + operation) to selected\n",
    "    concise action features.\n",
    "\n",
    "    Args:\n",
    "        action_df: spark dataframe with raw action featrue\n",
    "            - schema: page_type, page_section, operation, ...\n",
    "        feature_map: spark dataframe which record mapping relationship \n",
    "            - schema: page_type, page_section, operation, action_feature\n",
    "\n",
    "    Returns:\n",
    "        action_df: spark dataframe with concise action featrue\n",
    "            - schema: action_feature, ...\n",
    "    \"\"\"\n",
    "\n",
    "    # concat operation - page type - page section\n",
    "    feature_map = feature_map.na.fill('null')\n",
    "    feature_map = feature_map.withColumn('crossfeature',\n",
    "                                         F.concat(\n",
    "                                             F.col('operation'),\n",
    "                                             F.lit('_'),\n",
    "                                             F.col('page_type'),\n",
    "                                             F.lit('_'),\n",
    "                                             F.col('section'),\n",
    "                                             F.lit('_'),\n",
    "                                             F.col('target_type')))\n",
    "\n",
    "    action_df = action_df.na.fill('null')\n",
    "    action_df = action_df.withColumn('cross_feature',\n",
    "                                     F.concat(\n",
    "                                         F.col('operation'),\n",
    "                                         F.lit('_'),\n",
    "                                         F.col('page_type'),\n",
    "                                         F.lit('_'),\n",
    "                                         F.col('section'),\n",
    "                                         F.lit('_'),\n",
    "                                         F.col('target_type')))\n",
    "\n",
    "    # join action_df with feature_map\n",
    "    action_df = action_df.join(\n",
    "        feature_map,\n",
    "        action_df.cross_feature == feature_map.crossfeature)\n",
    "\n",
    "    # delete useless columns\n",
    "    action_df = action_df\\\n",
    "        .where(F.col('action_feature_v2') != 'ignore')\n",
    "    action_df = action_df\\\n",
    "        .selectExpr('uid', 'action_feature_v2 as action_feature', 'event_timestamp', 'hour')\n",
    "\n",
    "    return action_df\n",
    "\n",
    "\n",
    "def split_session(action_df, session_idle_threshold=10 * 60):\n",
    "    \"\"\" \n",
    "    calculate intervals between event_timestamp. split sessions using \n",
    "    predefined threshold (default 10 min). generate session id.\n",
    "\n",
    "    Args:\n",
    "        action_df: spark dataframe\n",
    "            - schema: uid|event_timestamp|...\n",
    "        session_idle_threshold: int (miliseconds)\n",
    "\n",
    "    Returns:\n",
    "        action_df: spark dataframe\n",
    "            - schema: uid|event_timestamp|session_id|...\n",
    "    \"\"\"\n",
    "\n",
    "    # Get intervals in miliseconds between click or views\n",
    "    op_window = Window.partitionBy('uid').orderBy('event_timestamp')\n",
    "    action_df = action_df.withColumn('last_op_timestamp',\n",
    "                                     F.lag(action_df.event_timestamp)\n",
    "                                     .over(op_window)\n",
    "                                     )\n",
    "    action_df = action_df.withColumn('op_interval',\n",
    "                                     F.when(\n",
    "                                         F.isnull(action_df.event_timestamp - action_df.last_op_timestamp), 0)\n",
    "                                     .otherwise(action_df.event_timestamp - action_df.last_op_timestamp)\n",
    "                                     )\n",
    "    action_df = action_df.drop('last_op_timestamp')\n",
    "\n",
    "    # get session split signal\n",
    "    action_df = action_df.withColumn('session_start',\n",
    "                                     F.when(action_df.op_interval >\n",
    "                                            session_idle_threshold, 1)\n",
    "                                     .otherwise(0)\n",
    "                                     )\n",
    "\n",
    "    # Keep This Interval For Calculateing op_interval matrix\n",
    "    # action_df = action_df.drop('op_interval')\n",
    "\n",
    "    # get the cum sum of session_start to get human split session id.\n",
    "    windowval = (Window.partitionBy('uid').orderBy('event_timestamp')\n",
    "                 .rangeBetween(Window.unboundedPreceding, 0))\n",
    "    action_df = action_df.withColumn('session_id',\n",
    "                                     F.sum('session_start').over(windowval)\n",
    "                                     )\n",
    "    action_df = action_df.drop('session_start')\n",
    "\n",
    "    return action_df\n",
    "\n",
    "\n",
    "def construct_2gram(action_df):\n",
    "    \"\"\" \n",
    "    construct 2 gram of action feature within each human split session.\n",
    "    add session_start and session_end to the beginning and end of each session.\n",
    "\n",
    "    Args:\n",
    "        action_df: spark dataframe\n",
    "\n",
    "    Returns:\n",
    "        action_df: spark dataframe\n",
    "    \"\"\"\n",
    "\n",
    "    # add extra row showing \"session_end\" for each user * session partition\n",
    "    session_end_df = action_df.groupBy(['uid', 'session_id']).agg(\n",
    "            F.max('event_timestamp').alias('event_timestamp'),\n",
    "            F.max('hour').alias('hour'),\n",
    "            F.lit(0.1).alias('op_interval')\n",
    "        )\n",
    "    session_end_df = session_end_df.withColumn('event_timestamp', session_end_df.event_timestamp + 0.1)\n",
    "    session_end_df = session_end_df.withColumn('action_feature', F.lit('session_end'))\n",
    "\n",
    "    # pay attention to schema ! do not mix them\n",
    "    action_df = action_df.select('uid','session_id','event_timestamp', 'hour', 'op_interval', 'action_feature')\n",
    "    action_df = action_df.union(session_end_df)\n",
    "\n",
    "    # generate action 2 gram with in each session\n",
    "    session_window = Window.partitionBy([\"uid\", \"session_id\"]).orderBy(['uid', 'event_timestamp'])\n",
    "    action_df = action_df.withColumn(\n",
    "        'last_action', F.lag(action_df.action_feature).over(session_window))\n",
    "    action_df = action_df.withColumn(\n",
    "        'action_2gram',\n",
    "        F.when(\n",
    "            F.isnull(action_df.last_action), F.concat(F.lit('session_begin-'), F.col('action_feature')))\n",
    "        .otherwise(F.concat(F.col('last_action'), F.lit('-'), F.col('action_feature')))\n",
    "    )\n",
    "    action_df = action_df.drop('last_action')\n",
    "\n",
    "    return action_df\n",
    "\n",
    "\n",
    "def get_action_features():\n",
    "    \"\"\" get action features from file \"\"\"\n",
    "\n",
    "    feature_map_file = 'feature_mapping_v2.csv'\n",
    "    df = pd.read_csv(feature_map_file)\n",
    "\n",
    "    action_features = sorted(list(df['action_feature_v2'].unique()))\n",
    "    action_features.insert(0, 'session_begin')\n",
    "    action_features.append('session_end')\n",
    "\n",
    "    return action_features\n",
    "\n",
    "\n",
    "def get_feature_map(action_features):\n",
    "    \"\"\" get action features from file \"\"\"\n",
    "    action_map = {}\n",
    "    for i, action in enumerate(action_features):\n",
    "        action_map[action] = i\n",
    "\n",
    "    action_2gram_map = {}\n",
    "    for j, action1 in enumerate(action_features):\n",
    "        for k, action2 in enumerate(action_features):\n",
    "            action_2gram_map[action1 + '-' + action2] = j * len(action_features) + k\n",
    "    \n",
    "    time_map = {}\n",
    "    for hour in range(24):\n",
    "        time_map[hour] = hour\n",
    "\n",
    "    return action_map, action_2gram_map, time_map\n",
    "\n",
    "\n",
    "#### Global Variable\n",
    "action_features = get_action_features()\n",
    "action_map, action_2gram_map, time_map = get_feature_map(action_features)\n",
    "\n",
    "@F.udf(T.ArrayType(T.IntegerType()))\n",
    "def map_array1(columns):  \n",
    "    index_map = action_map\n",
    "    dense_vec = [0] * len(index_map)\n",
    "    for row in columns:\n",
    "        content, value  = row[0], row[1]\n",
    "        try:\n",
    "            dense_vec[index_map[content]] = value\n",
    "        except:\n",
    "            pass\n",
    "    return dense_vec\n",
    "\n",
    "@F.udf(T.ArrayType(T.IntegerType()))\n",
    "def map_array2(columns):\n",
    "\n",
    "    index_map = action_2gram_map\n",
    "    dense_vec = [0] * len(index_map)\n",
    "    for row in columns:\n",
    "        content, value  = row[0], row[1]\n",
    "        try:\n",
    "            dense_vec[index_map[content]] = value\n",
    "        except:\n",
    "            pass\n",
    "    return dense_vec\n",
    "\n",
    "@F.udf(T.ArrayType(T.DoubleType()))\n",
    "def map_array4(columns):\n",
    "\n",
    "    index_map = action_2gram_map\n",
    "    dense_vec = [0] * len(index_map)\n",
    "    for row in columns:\n",
    "        content, value  = row[0], row[1]\n",
    "        try:\n",
    "            dense_vec[index_map[content]] = value\n",
    "        except:\n",
    "            pass\n",
    "    return dense_vec\n",
    "\n",
    "@F.udf(T.ArrayType(T.IntegerType()))\n",
    "def map_array3(columns):\n",
    "\n",
    "    index_map = time_map\n",
    "    dense_vec = [0] * len(index_map)\n",
    "    for row in columns:\n",
    "        content, value  = row[0], row[1]\n",
    "        try:\n",
    "            dense_vec[index_map[content]] = value\n",
    "        except:\n",
    "            pass\n",
    "    return dense_vec\n",
    "\n",
    "\n",
    "def get_action_feature(action_df):\n",
    "    \"\"\" get action count, in map format \"\"\"\n",
    "\n",
    "    df = action_df\\\n",
    "        .groupBy(['uid', 'action_feature'])\\\n",
    "        .agg(F.count('action_feature').alias('action_feature_count'))\\\n",
    "        .orderBy(['uid', 'action_feature'])\n",
    "\n",
    "    action_distribute = df.groupBy('uid').agg(\n",
    "        map_array1(F.collect_list(F.struct(\"action_feature\",\n",
    "                                          \"action_feature_count\"))\n",
    "                 ).alias(\"action_count\")\n",
    "    ).orderBy('uid')\n",
    "\n",
    "    return action_distribute\n",
    "\n",
    "\n",
    "def get_transition_feature(action_df):\n",
    "    \"\"\" get action 2 gram count and intervals, in map format \"\"\"\n",
    "\n",
    "    df = action_df\\\n",
    "        .groupBy(['uid', 'action_2gram'])\\\n",
    "        .agg(\n",
    "            F.count('action_2gram').alias('action_2gram_count'),\n",
    "            F.sum('op_interval').alias('action_2gram_interval'))\\\n",
    "        .orderBy(['uid', 'action_2gram'])\n",
    "\n",
    "    action_2gram_distribute = df.groupBy('uid').agg(\n",
    "        map_array2(F.collect_list(F.struct(\"action_2gram\",\n",
    "                                                   \"action_2gram_count\"))\n",
    "                 ).alias(\"action_2gram_count\"),\n",
    "        map_array4(F.collect_list(F.struct(\"action_2gram\",\n",
    "                                                   \"action_2gram_interval\"))\n",
    "                 ).alias(\"action_2gram_interval\")\n",
    "    ).orderBy('uid')\n",
    "    \n",
    "    return action_2gram_distribute\n",
    "\n",
    "\n",
    "def get_general_feature(action_df):\n",
    "    \"\"\" \n",
    "    get general feature from user behavior data, such as\n",
    "        - Total session count per day \n",
    "        - Average operations per session \n",
    "    \"\"\"\n",
    "    # generate session level feature\n",
    "    session_df = action_df.groupBy(['uid', 'session_id'])\\\n",
    "        .agg(F.min(\"event_timestamp\").alias('begin'),\n",
    "            F.max(\"event_timestamp\").alias('end'),\n",
    "            F.count(F.lit(1)).alias('session_ops'))\\\n",
    "        .orderBy(['uid', 'begin'])\n",
    "\n",
    "    session_df = session_df.withColumn(\n",
    "        'session_duration', F.col('end') - F.col('begin'))\n",
    "\n",
    "    user_df = session_df.groupBy('uid')\\\n",
    "        .agg(\n",
    "            F.sum(\"session_duration\").alias('daily_active_time'),\n",
    "            F.count(F.lit(1)).alias(\"daily_session_count\"),\n",
    "            F.sum(\"session_ops\").alias(\"daily_operation_count\")) \\\n",
    "        .orderBy('uid')\n",
    "\n",
    "    df = action_df.groupBy(['uid', 'hour'])\\\n",
    "        .agg(\n",
    "            F.count(F.lit(1)).alias('active_hour_count')\n",
    "        ).orderBy('uid')\n",
    "\n",
    "    active_hour_df = df.groupBy('uid').agg(\n",
    "        map_array3(\n",
    "            F.collect_list(F.struct(\"hour\",\"active_hour_count\"))\n",
    "        ).alias(\"active_hour_map\")\n",
    "    ).orderBy('uid')\n",
    "\n",
    "    return user_df, active_hour_df"
   ]
  },
  {
   "cell_type": "code",
   "execution_count": 13,
   "metadata": {
    "scrolled": false
   },
   "outputs": [
    {
     "name": "stdout",
     "output_type": "stream",
     "text": [
      "+---+--------------+---------------+----+\n",
      "|uid|action_feature|event_timestamp|hour|\n",
      "+---+--------------+---------------+----+\n",
      "|  0|          home|3.16403013766E8|   6|\n",
      "|  0|          home| 3.1640305217E8|   6|\n",
      "|  0|     microsite|3.16403053182E8|   6|\n",
      "+---+--------------+---------------+----+\n",
      "only showing top 3 rows\n",
      "\n"
     ]
    }
   ],
   "source": [
    "action_df = pull_all_action_data(spark, 'ID', '2019-09-24', '2019-09-30')\n",
    "\n",
    "# map feature\n",
    "feature_map = spark.read.load('uui-click-path/feature_mapping_v2.csv',\n",
    "                 format=\"csv\", sep=\",\", inferSchema=\"true\", header=\"true\")\n",
    "\n",
    "action_df = map_feature(action_df, feature_map)\n",
    "action_df.cache()\n",
    "action_df.show(3)"
   ]
  },
  {
   "cell_type": "code",
   "execution_count": 14,
   "metadata": {
    "scrolled": false
   },
   "outputs": [],
   "source": [
    "action_df = split_session(action_df, 10 * 60)\n",
    "action_df = construct_2gram(action_df)"
   ]
  },
  {
   "cell_type": "code",
   "execution_count": 15,
   "metadata": {
    "scrolled": false
   },
   "outputs": [],
   "source": [
    "action_distribute = get_action_feature(action_df)"
   ]
  },
  {
   "cell_type": "code",
   "execution_count": 16,
   "metadata": {},
   "outputs": [],
   "source": [
    "action_2gram_distribute = get_transition_feature(action_df)"
   ]
  },
  {
   "cell_type": "code",
   "execution_count": 17,
   "metadata": {},
   "outputs": [],
   "source": [
    "user_df, active_hour_df = get_general_feature(action_df)"
   ]
  },
  {
   "cell_type": "code",
   "execution_count": 18,
   "metadata": {},
   "outputs": [],
   "source": [
    "active_user_df = user_df.where(user_df.daily_session_count >= 10)"
   ]
  },
  {
   "cell_type": "code",
   "execution_count": 19,
   "metadata": {},
   "outputs": [],
   "source": [
    "user_info = (active_user_df\n",
    "             .join(action_distribute, [\"uid\"])\n",
    "             .join(action_2gram_distribute, [\"uid\"])\n",
    "             .join(active_hour_df, [\"uid\"]))"
   ]
  },
  {
   "cell_type": "code",
   "execution_count": 20,
   "metadata": {},
   "outputs": [],
   "source": [
    "user_info.coalesce(400).write.mode('overwrite').parquet('user_info')"
   ]
  },
  {
   "cell_type": "markdown",
   "metadata": {},
   "source": [
    "# Save result to save time"
   ]
  },
  {
   "cell_type": "code",
   "execution_count": 21,
   "metadata": {},
   "outputs": [],
   "source": [
    "# user_info = spark.read.parquet('user_info')"
   ]
  },
  {
   "cell_type": "code",
   "execution_count": 22,
   "metadata": {},
   "outputs": [
    {
     "name": "stdout",
     "output_type": "stream",
     "text": [
      "+---+-----------------+-------------------+---------------------+--------------------+--------------------+---------------------+--------------------+\n",
      "|uid|daily_active_time|daily_session_count|daily_operation_count|        action_count|  action_2gram_count|action_2gram_interval|     active_hour_map|\n",
      "+---+-----------------+-------------------+---------------------+--------------------+--------------------+---------------------+--------------------+\n",
      "|  0|858461.6318747997|               1295|               349854|[0, 390, 8923, 2,...|[0, 2, 65, 0, 0, ...| [, 27961.25, 1416...|[9813, 12630, 143...|\n",
      "+---+-----------------+-------------------+---------------------+--------------------+--------------------+---------------------+--------------------+\n",
      "only showing top 1 row\n",
      "\n"
     ]
    }
   ],
   "source": [
    "user_info = user_info.repartition(\"uid\").orderBy('uid')\n",
    "user_info.show(1)"
   ]
  },
  {
   "cell_type": "code",
   "execution_count": 23,
   "metadata": {},
   "outputs": [
    {
     "name": "stdout",
     "output_type": "stream",
     "text": [
      "root\n",
      " |-- uid: long (nullable = true)\n",
      " |-- daily_active_time: double (nullable = true)\n",
      " |-- daily_session_count: long (nullable = false)\n",
      " |-- daily_operation_count: long (nullable = true)\n",
      " |-- action_count: array (nullable = true)\n",
      " |    |-- element: integer (containsNull = true)\n",
      " |-- action_2gram_count: array (nullable = true)\n",
      " |    |-- element: integer (containsNull = true)\n",
      " |-- action_2gram_interval: array (nullable = true)\n",
      " |    |-- element: double (containsNull = true)\n",
      " |-- active_hour_map: array (nullable = true)\n",
      " |    |-- element: integer (containsNull = true)\n",
      "\n"
     ]
    }
   ],
   "source": [
    "user_info.printSchema()"
   ]
  },
  {
   "cell_type": "code",
   "execution_count": 24,
   "metadata": {},
   "outputs": [],
   "source": [
    "@F.udf(T.ArrayType(T.DoubleType()))\n",
    "def divide(interval, count):\n",
    "    result = []\n",
    "    for i in range(len(interval)):\n",
    "        if count[i] and interval[i]:\n",
    "            result.append(float(interval[i]) / float(count[i]))\n",
    "        else:\n",
    "            result.append(0.0)\n",
    "    return result\n",
    "\n",
    "@F.udf(T.ArrayType(T.DoubleType()))\n",
    "def markov(count):\n",
    "    dim = 32\n",
    "    result = []\n",
    "    for i in range(dim):\n",
    "        tmp = count[i*dim:(i+1)*dim]\n",
    "        s = float(sum(tmp))\n",
    "        if s == 0:\n",
    "            s += 1\n",
    "        result.extend([x / s for x in tmp])\n",
    "    return result\n",
    "\n",
    "@F.udf(T.ArrayType(T.DoubleType()))\n",
    "def normalise(count):\n",
    "    s = float(sum(count))\n",
    "    if s == 0:\n",
    "        s += 1.0\n",
    "    result = [x / s for x in count]\n",
    "    return result\n",
    "\n",
    "\n",
    "to_vector = F.udf(lambda a: Vectors.dense(a), VectorUDT())"
   ]
  },
  {
   "cell_type": "code",
   "execution_count": 25,
   "metadata": {
    "scrolled": false
   },
   "outputs": [],
   "source": [
    "user_info = user_info.withColumn('hour_normalise', to_vector(normalise(F.col('active_hour_map'))))"
   ]
  },
  {
   "cell_type": "code",
   "execution_count": 26,
   "metadata": {},
   "outputs": [],
   "source": [
    "user_info = user_info.withColumn('action_normalise', to_vector(normalise(F.col('action_count'))))"
   ]
  },
  {
   "cell_type": "code",
   "execution_count": 27,
   "metadata": {},
   "outputs": [],
   "source": [
    "user_info = user_info.withColumn('op_interval', to_vector(divide(F.col('action_2gram_interval'), \n",
    "                                                                 F.col('action_2gram_count'))))"
   ]
  },
  {
   "cell_type": "code",
   "execution_count": 28,
   "metadata": {},
   "outputs": [],
   "source": [
    "user_info = user_info.withColumn('markov', to_vector(markov(F.col('action_2gram_count'))))"
   ]
  },
  {
   "cell_type": "code",
   "execution_count": 29,
   "metadata": {},
   "outputs": [],
   "source": [
    "# user_info.show(1)"
   ]
  },
  {
   "cell_type": "code",
   "execution_count": 30,
   "metadata": {},
   "outputs": [
    {
     "name": "stdout",
     "output_type": "stream",
     "text": [
      "root\n",
      " |-- uid: long (nullable = true)\n",
      " |-- daily_active_time: double (nullable = true)\n",
      " |-- daily_session_count: long (nullable = false)\n",
      " |-- daily_operation_count: long (nullable = true)\n",
      " |-- action_count: array (nullable = true)\n",
      " |    |-- element: integer (containsNull = true)\n",
      " |-- action_2gram_count: array (nullable = true)\n",
      " |    |-- element: integer (containsNull = true)\n",
      " |-- action_2gram_interval: array (nullable = true)\n",
      " |    |-- element: double (containsNull = true)\n",
      " |-- active_hour_map: array (nullable = true)\n",
      " |    |-- element: integer (containsNull = true)\n",
      " |-- hour_normalise: vector (nullable = true)\n",
      " |-- action_normalise: vector (nullable = true)\n",
      " |-- op_interval: vector (nullable = true)\n",
      " |-- markov: vector (nullable = true)\n",
      "\n"
     ]
    }
   ],
   "source": [
    "user_info.printSchema()"
   ]
  },
  {
   "cell_type": "code",
   "execution_count": 31,
   "metadata": {},
   "outputs": [],
   "source": [
    "user_info.coalesce(400).write.mode('overwrite').parquet('user_info')"
   ]
  },
  {
   "cell_type": "code",
   "execution_count": 32,
   "metadata": {},
   "outputs": [
    {
     "name": "stdout",
     "output_type": "stream",
     "text": [
      "There are 4769162 users which have more than 10 sessions during 09-01 ~ 09-30\n"
     ]
    }
   ],
   "source": [
    "print(\"There are %d users which have more than 10 sessions during 09-01 ~ 09-30\" % (user_info.count()))"
   ]
  },
  {
   "cell_type": "markdown",
   "metadata": {},
   "source": [
    "# 3. Experiment Starts Here ..."
   ]
  },
  {
   "cell_type": "code",
   "execution_count": 12,
   "metadata": {},
   "outputs": [],
   "source": [
    "user_info = spark.read.parquet('user_info')"
   ]
  },
  {
   "cell_type": "code",
   "execution_count": 13,
   "metadata": {},
   "outputs": [
    {
     "name": "stdout",
     "output_type": "stream",
     "text": [
      "root\n",
      " |-- uid: long (nullable = true)\n",
      " |-- daily_active_time: double (nullable = true)\n",
      " |-- daily_session_count: long (nullable = true)\n",
      " |-- daily_operation_count: long (nullable = true)\n",
      " |-- action_count: array (nullable = true)\n",
      " |    |-- element: integer (containsNull = true)\n",
      " |-- action_2gram_count: array (nullable = true)\n",
      " |    |-- element: integer (containsNull = true)\n",
      " |-- action_2gram_interval: array (nullable = true)\n",
      " |    |-- element: double (containsNull = true)\n",
      " |-- active_hour_map: array (nullable = true)\n",
      " |    |-- element: integer (containsNull = true)\n",
      " |-- hour_normalise: vector (nullable = true)\n",
      " |-- action_normalise: vector (nullable = true)\n",
      " |-- op_interval: vector (nullable = true)\n",
      " |-- markov: vector (nullable = true)\n",
      "\n"
     ]
    }
   ],
   "source": [
    "user_info.printSchema()"
   ]
  },
  {
   "cell_type": "code",
   "execution_count": 14,
   "metadata": {},
   "outputs": [],
   "source": [
    "edges_df = edges_df.selectExpr('node1', 'node2', 'similarity', 'label')\n",
    "user_info_df1 = user_info.selectExpr('uid as u1', \n",
    "                                     'daily_active_time as active_time1', \n",
    "                                     'daily_session_count as session_count1',\n",
    "                                     'daily_operation_count as operation_count1',\n",
    "                                     'action_normalise as action_normalise1',\n",
    "                                     'markov as markov1',\n",
    "                                     'op_interval as interval1',\n",
    "                                     'hour_normalise as hour_normalise1'\n",
    "                                     )\n",
    "\n",
    "user_info_df2 = user_info.selectExpr('uid as u2', \n",
    "                                     'daily_active_time as active_time2', \n",
    "                                     'daily_session_count as session_count2',\n",
    "                                     'daily_operation_count as operation_count2',\n",
    "                                     'action_normalise as action_normalise2',\n",
    "                                     'markov as markov2',\n",
    "                                     'op_interval as interval2',\n",
    "                                     'hour_normalise as hour_normalise2'\n",
    "                                     )"
   ]
  },
  {
   "cell_type": "code",
   "execution_count": 15,
   "metadata": {},
   "outputs": [
    {
     "name": "stdout",
     "output_type": "stream",
     "text": [
      "root\n",
      " |-- u2: long (nullable = true)\n",
      " |-- active_time2: double (nullable = true)\n",
      " |-- session_count2: long (nullable = true)\n",
      " |-- operation_count2: long (nullable = true)\n",
      " |-- action_normalise2: vector (nullable = true)\n",
      " |-- markov2: vector (nullable = true)\n",
      " |-- interval2: vector (nullable = true)\n",
      " |-- hour_normalise2: vector (nullable = true)\n",
      "\n"
     ]
    }
   ],
   "source": [
    "user_info_df2.printSchema()"
   ]
  },
  {
   "cell_type": "code",
   "execution_count": 16,
   "metadata": {},
   "outputs": [],
   "source": [
    "total_df = edges_df\n",
    "total_df = total_df.join(user_info_df1, user_info_df1.u1 == total_df.node1)\n",
    "total_df = total_df.join(user_info_df2, user_info_df2.u2 == total_df.node2)\n",
    "# total_df.cache()\n",
    "# total_df.show(1)"
   ]
  },
  {
   "cell_type": "code",
   "execution_count": 17,
   "metadata": {},
   "outputs": [],
   "source": [
    "# user_info.unpersist()\n",
    "# user_info.take(1)"
   ]
  },
  {
   "cell_type": "code",
   "execution_count": 18,
   "metadata": {},
   "outputs": [],
   "source": [
    "# write our UDF for cosine similarity\n",
    "@F.udf(T.DoubleType())\n",
    "def cos_dis(a,b):\n",
    "    if (np.linalg.norm(a) * np.linalg.norm(b))== 0.0:\n",
    "        return -1.0\n",
    "    return 1 - float(np.dot(a, b) / (np.linalg.norm(a) * np.linalg.norm(b)))\n",
    "\n",
    "@F.udf(T.DoubleType())\n",
    "def L2_dis(a,b):\n",
    "    return float(np.linalg.norm(a-b))\n",
    "\n",
    "result_df = total_df\n",
    "result_df = result_df.withColumn(\"action_normalise_cos_dis\", cos_dis(F.col('action_normalise1'), \n",
    "                                                                     F.col('action_normalise2')))\n",
    "\n",
    "\n",
    "result_df = result_df.withColumn(\"markov_cos_dis\", cos_dis(F.col('markov1'),\n",
    "                                                           F.col('markov2')))\n",
    "\n",
    "\n",
    "result_df = result_df.withColumn(\"interval_cos_dis\", cos_dis(F.col('interval1'),\n",
    "                                                                   F.col('interval2')))\n",
    "\n",
    "\n",
    "result_df = result_df.withColumn(\"hour_normalise_cos_dis\", cos_dis(F.col('hour_normalise1'),\n",
    "                                                                   F.col('hour_normalise2')))\n"
   ]
  },
  {
   "cell_type": "code",
   "execution_count": 19,
   "metadata": {},
   "outputs": [
    {
     "name": "stdout",
     "output_type": "stream",
     "text": [
      "root\n",
      " |-- node1: integer (nullable = true)\n",
      " |-- node2: integer (nullable = true)\n",
      " |-- similarity: float (nullable = false)\n",
      " |-- label: string (nullable = true)\n",
      " |-- u1: long (nullable = true)\n",
      " |-- active_time1: double (nullable = true)\n",
      " |-- session_count1: long (nullable = true)\n",
      " |-- operation_count1: long (nullable = true)\n",
      " |-- action_normalise1: vector (nullable = true)\n",
      " |-- markov1: vector (nullable = true)\n",
      " |-- interval1: vector (nullable = true)\n",
      " |-- hour_normalise1: vector (nullable = true)\n",
      " |-- u2: long (nullable = true)\n",
      " |-- active_time2: double (nullable = true)\n",
      " |-- session_count2: long (nullable = true)\n",
      " |-- operation_count2: long (nullable = true)\n",
      " |-- action_normalise2: vector (nullable = true)\n",
      " |-- markov2: vector (nullable = true)\n",
      " |-- interval2: vector (nullable = true)\n",
      " |-- hour_normalise2: vector (nullable = true)\n",
      " |-- action_normalise_cos_dis: double (nullable = true)\n",
      " |-- markov_cos_dis: double (nullable = true)\n",
      " |-- interval_cos_dis: double (nullable = true)\n",
      " |-- hour_normalise_cos_dis: double (nullable = true)\n",
      "\n"
     ]
    }
   ],
   "source": [
    "result_df.printSchema()"
   ]
  },
  {
   "cell_type": "code",
   "execution_count": 20,
   "metadata": {},
   "outputs": [],
   "source": [
    "result_df=result_df.drop('u1').drop('u2')"
   ]
  },
  {
   "cell_type": "code",
   "execution_count": 21,
   "metadata": {},
   "outputs": [],
   "source": [
    "# result_df.coalesce(300).write.mode('overwrite').parquet('uui_user_sim')"
   ]
  },
  {
   "cell_type": "markdown",
   "metadata": {},
   "source": [
    "# Save result to save time"
   ]
  },
  {
   "cell_type": "code",
   "execution_count": 22,
   "metadata": {},
   "outputs": [],
   "source": [
    "# pair_df = pd.read_parquet('uui_user_sim')"
   ]
  },
  {
   "cell_type": "code",
   "execution_count": 23,
   "metadata": {},
   "outputs": [],
   "source": [
    "pair_df = result_df.select('node1','node2',\n",
    "                           'similarity','label',\n",
    "                           'active_time1','active_time2',\n",
    "                           'session_count1','session_count2',\n",
    "                           'operation_count1','operation_count2',\n",
    "                           'action_normalise_cos_dis',\n",
    "                           'markov_cos_dis',\n",
    "                           'hour_normalise_cos_dis',\n",
    "                           'interval_cos_dis'\n",
    "                          ).toPandas()"
   ]
  },
  {
   "cell_type": "code",
   "execution_count": 24,
   "metadata": {},
   "outputs": [
    {
     "name": "stdout",
     "output_type": "stream",
     "text": [
      "<class 'pandas.core.frame.DataFrame'>\n",
      "RangeIndex: 854641 entries, 0 to 854640\n",
      "Data columns (total 14 columns):\n",
      "node1                       854641 non-null int32\n",
      "node2                       854641 non-null int32\n",
      "similarity                  854641 non-null float32\n",
      "label                       854641 non-null object\n",
      "active_time1                854641 non-null float64\n",
      "active_time2                854641 non-null float64\n",
      "session_count1              854641 non-null int64\n",
      "session_count2              854641 non-null int64\n",
      "operation_count1            854641 non-null int64\n",
      "operation_count2            854641 non-null int64\n",
      "action_normalise_cos_dis    854641 non-null float64\n",
      "markov_cos_dis              854641 non-null float64\n",
      "hour_normalise_cos_dis      854641 non-null float64\n",
      "interval_cos_dis            854641 non-null float64\n",
      "dtypes: float32(1), float64(6), int32(2), int64(4), object(1)\n",
      "memory usage: 81.5+ MB\n"
     ]
    }
   ],
   "source": [
    "pair_df.info()"
   ]
  },
  {
   "cell_type": "code",
   "execution_count": 25,
   "metadata": {},
   "outputs": [
    {
     "data": {
      "text/plain": [
       "label\n",
       "non_uui_grey_score_pairs     36355\n",
       "non_uui_low_score_pairs     809864\n",
       "uui_grey_score_pairs          3783\n",
       "uui_high_score_pairs          4310\n",
       "uui_low_score_pairs            329\n",
       "Name: node1, dtype: int64"
      ]
     },
     "execution_count": 25,
     "metadata": {},
     "output_type": "execute_result"
    }
   ],
   "source": [
    "pair_df.groupby('label')['node1'].count()"
   ]
  },
  {
   "cell_type": "markdown",
   "metadata": {},
   "source": [
    "# Active Pair Analysis\n",
    "\n",
    "## Cosine distance distribution for each column"
   ]
  },
  {
   "cell_type": "code",
   "execution_count": 26,
   "metadata": {},
   "outputs": [
    {
     "name": "stdout",
     "output_type": "stream",
     "text": [
      "There are 17143 high_sim records, about 0.020059 percentage of total pairs\n"
     ]
    },
    {
     "data": {
      "text/plain": [
       "label\n",
       "non_uui_grey_score_pairs    9053\n",
       "non_uui_low_score_pairs     4629\n",
       "uui_grey_score_pairs        1211\n",
       "uui_high_score_pairs        2235\n",
       "uui_low_score_pairs           15\n",
       "Name: node1, dtype: int64"
      ]
     },
     "execution_count": 26,
     "metadata": {},
     "output_type": "execute_result"
    }
   ],
   "source": [
    "high_sim = pair_df[pair_df['action_normalise_cos_dis'] < 0.05]\n",
    "high_sim = high_sim[high_sim['markov_cos_dis'] < 0.05]\n",
    "high_sim = high_sim[high_sim['hour_normalise_cos_dis'] < 0.05]\n",
    "high_sim = high_sim[high_sim['interval_cos_dis'] < 0.05]\n",
    "\n",
    "print('There are %d high_sim records, about %f percentage of total pairs'%\n",
    "      (len(high_sim), float(len(high_sim)) / len(pair_df)))\n",
    "\n",
    "high_sim.groupby('label')['node1'].count()"
   ]
  },
  {
   "cell_type": "code",
   "execution_count": 27,
   "metadata": {},
   "outputs": [],
   "source": [
    "import plotly.express as px\n",
    "import plotly.graph_objects as go"
   ]
  },
  {
   "cell_type": "code",
   "execution_count": 33,
   "metadata": {},
   "outputs": [],
   "source": [
    "g = pair_df.groupby('label')\n",
    "sample_df = g.apply(lambda x: x.sample(329).reset_index(drop=True)).reset_index(drop=True)"
   ]
  },
  {
   "cell_type": "code",
   "execution_count": 35,
   "metadata": {},
   "outputs": [
    {
     "data": {
      "application/vnd.plotly.v1+json": {
       "config": {
        "plotlyServerURL": "https://plot.ly"
       },
       "data": [
        {
         "name": "uui_high_score_pairs",
         "nbinsx": 100,
         "opacity": 0.75,
         "type": "histogram",
         "x": [
          2.220446049250313e-16,
          2.220446049250313e-16,
          0.0009276611952340197,
          2.220446049250313e-16,
          2.220446049250313e-16,
          0.04196183344361615,
          2.220446049250313e-16,
          0.18644316742758693,
          0.008140366362662133,
          0.010114584945322691,
          2.220446049250313e-16,
          0.03278581766263944,
          2.220446049250313e-16,
          2.220446049250313e-16,
          0.017357217934972802,
          2.220446049250313e-16,
          0.06329494229100208,
          2.220446049250313e-16,
          0.0009438416449406573,
          2.220446049250313e-16,
          2.220446049250313e-16,
          0.017346251628466258,
          2.220446049250313e-16,
          0.007896651977578495,
          0,
          2.220446049250313e-16,
          2.220446049250313e-16,
          2.220446049250313e-16,
          2.220446049250313e-16,
          2.220446049250313e-16,
          2.220446049250313e-16,
          0.08385715140681782,
          0.0016460916509671852,
          0.06685962268600043,
          0,
          2.220446049250313e-16,
          2.220446049250313e-16,
          0.0005857975760960032,
          0.020391681365688474,
          0.09461778213929362,
          2.220446049250313e-16,
          0.018665867623056664,
          2.220446049250313e-16,
          0.0011318622755623897,
          2.220446049250313e-16,
          0.007010935413030439,
          2.220446049250313e-16,
          2.220446049250313e-16,
          2.220446049250313e-16,
          0.008152838528878603,
          0.005119878247577758,
          2.220446049250313e-16,
          0.0025919229687244583,
          0.006129140218862128,
          2.220446049250313e-16,
          2.220446049250313e-16,
          0.01077207914201106,
          0.08276446791707459,
          2.220446049250313e-16,
          0.006192010000093395,
          2.220446049250313e-16,
          0.3779784112196676,
          0.0014760155646610373,
          0.005564298869893292,
          0.07307108729756051,
          2.220446049250313e-16,
          0.04634333380703748,
          2.220446049250313e-16,
          -2.220446049250313e-16,
          2.220446049250313e-16,
          2.220446049250313e-16,
          0.0009824150126764852,
          0.049620607043042386,
          0.23531186826324357,
          8.537558855770122e-06,
          2.220446049250313e-16,
          2.220446049250313e-16,
          0.007206431103126021,
          0.04588139201134844,
          2.220446049250313e-16,
          2.220446049250313e-16,
          0.011240225119801495,
          0.04218224072994048,
          0.0029018098567524797,
          0.002059734421668291,
          0.0030809130888977965,
          0.21331339891019985,
          2.220446049250313e-16,
          0.19236424106634664,
          2.220446049250313e-16,
          2.220446049250313e-16,
          0.054883160502892325,
          0.0018674152616708906,
          0.156678151090768,
          2.220446049250313e-16,
          0.0009896042543099393,
          0.06941609774365487,
          2.220446049250313e-16,
          0,
          2.220446049250313e-16,
          0.014806540910301313,
          0.023690970298455682,
          0.000625939933782238,
          0.01984316169922029,
          0.0009438416449406573,
          0.007370480297308135,
          0.06707387861768943,
          2.220446049250313e-16,
          0.06834370424775871,
          2.220446049250313e-16,
          0.004276364268637534,
          0.002059734421668291,
          0.023007192723292103,
          2.220446049250313e-16,
          0.023960393842080707,
          0.0009438416449406573,
          2.220446049250313e-16,
          0.043012308806896216,
          2.785225774470934e-05,
          0.011508117026346354,
          2.220446049250313e-16,
          2.220446049250313e-16,
          0.03991875199445538,
          5.600433110064529e-05,
          0.004106793532296038,
          0.007843258350778481,
          0.004449301825231289,
          2.220446049250313e-16,
          2.220446049250313e-16,
          2.220446049250313e-16,
          2.220446049250313e-16,
          2.220446049250313e-16,
          0.0004237171501352277,
          0.0007875580093000822,
          2.220446049250313e-16,
          2.220446049250313e-16,
          2.220446049250313e-16,
          2.220446049250313e-16,
          2.220446049250313e-16,
          0.011552429920615115,
          0,
          0.0347803279281369,
          2.220446049250313e-16,
          0.0012322863584305344,
          2.220446049250313e-16,
          0.022881156450098805,
          0.0621491371907853,
          2.220446049250313e-16,
          2.220446049250313e-16,
          2.220446049250313e-16,
          2.220446049250313e-16,
          0.003628088662499085,
          2.220446049250313e-16,
          2.220446049250313e-16,
          2.220446049250313e-16,
          2.220446049250313e-16,
          2.220446049250313e-16,
          2.220446049250313e-16,
          0.06896662922727159,
          0.003121780022098064,
          2.220446049250313e-16,
          2.220446049250313e-16,
          0.0016279026365777494,
          2.220446049250313e-16,
          2.220446049250313e-16,
          0.035808840897221916,
          2.220446049250313e-16,
          0.0027808738308143788,
          2.220446049250313e-16,
          2.220446049250313e-16,
          2.220446049250313e-16,
          2.220446049250313e-16,
          0.022070543631219075,
          2.220446049250313e-16,
          8.537558855770122e-06,
          0.01722367331473129,
          0.006318908805437395,
          0.008552554674660873,
          2.220446049250313e-16,
          0.029734365907063243,
          0,
          2.220446049250313e-16,
          2.220446049250313e-16,
          2.220446049250313e-16,
          2.220446049250313e-16,
          2.220446049250313e-16,
          0.5021997471286743,
          2.220446049250313e-16,
          0.0009568094039693609,
          3.596856956433747e-05,
          0.00044174346483583093,
          0.03028906097177031,
          2.220446049250313e-16,
          -2.220446049250313e-16,
          2.220446049250313e-16,
          0.007072429065795527,
          2.220446049250313e-16,
          2.220446049250313e-16,
          0.003705187572141111,
          2.220446049250313e-16,
          8.537558855770122e-06,
          2.220446049250313e-16,
          0.19005118010050748,
          0.0136469171039737,
          0.07383994733437282,
          2.220446049250313e-16,
          2.220446049250313e-16,
          2.220446049250313e-16,
          0.038954913826282356,
          0.015678559596586816,
          0.003742175295635919,
          2.220446049250313e-16,
          0.03624595201653713,
          0.011417934179345113,
          0.07503785622373382,
          0.0014248745096443471,
          0.0006851662332328923,
          2.220446049250313e-16,
          0.12617923022240063,
          2.220446049250313e-16,
          2.220446049250313e-16,
          2.220446049250313e-16,
          0.008447038884517921,
          2.220446049250313e-16,
          2.220446049250313e-16,
          2.220446049250313e-16,
          2.220446049250313e-16,
          0.007273123825890737,
          2.220446049250313e-16,
          0.006930450219571838,
          2.220446049250313e-16,
          2.220446049250313e-16,
          0.004848985099123904,
          2.220446049250313e-16,
          0.0009276611952340197,
          2.220446049250313e-16,
          2.220446049250313e-16,
          2.220446049250313e-16,
          0,
          2.220446049250313e-16,
          0.032501936819029686,
          2.220446049250313e-16,
          0.005046289566172701,
          2.220446049250313e-16,
          2.220446049250313e-16,
          0.0009438416449406573,
          2.220446049250313e-16,
          0.03359048088407812,
          2.220446049250313e-16,
          0.10527456911812716,
          2.220446049250313e-16,
          0.0005933354212037667,
          2.220446049250313e-16,
          0.0009438416449406573,
          2.220446049250313e-16,
          0.057024560811157254,
          2.220446049250313e-16,
          0.03290434546438992,
          0.10910801976084361,
          2.220446049250313e-16,
          2.220446049250313e-16,
          2.220446049250313e-16,
          7.120489928680307e-05,
          0.11283584093057097,
          2.220446049250313e-16,
          2.220446049250313e-16,
          2.220446049250313e-16,
          0.0006851662332328923,
          0.0692229921478098,
          0.00219470784945186,
          2.220446049250313e-16,
          0.07087447365276722,
          2.220446049250313e-16,
          0.00036216268412825325,
          2.220446049250313e-16,
          2.220446049250313e-16,
          0.0009276611952340197,
          0.052296444656208196,
          2.220446049250313e-16,
          2.220446049250313e-16,
          2.220446049250313e-16,
          2.220446049250313e-16,
          0,
          2.220446049250313e-16,
          2.220446049250313e-16,
          2.220446049250313e-16,
          0.05262815387283648,
          0.02459810674252083,
          0.05480422311267408,
          2.220446049250313e-16,
          2.220446049250313e-16,
          0.06893806102669608,
          2.220446049250313e-16,
          2.220446049250313e-16,
          0.007226680898292259,
          0.025397040683735272,
          2.220446049250313e-16,
          2.220446049250313e-16,
          2.220446049250313e-16,
          0.33419325599271443,
          2.220446049250313e-16,
          0.3374469918942976,
          0.0032767475302218907,
          2.220446049250313e-16,
          2.220446049250313e-16,
          0.02816404421209806,
          2.220446049250313e-16,
          2.220446049250313e-16,
          2.220446049250313e-16,
          2.8913433187005566e-05,
          2.220446049250313e-16,
          2.220446049250313e-16,
          0.019712421930261237,
          0.004520729489208897,
          0.0015637226142070082,
          0.10379623000154947,
          0.008509056029021744,
          0.008829848760269043,
          0.0009751343128597822,
          2.220446049250313e-16,
          0.21012657827149483,
          2.220446049250313e-16,
          2.220446049250313e-16,
          2.220446049250313e-16,
          2.220446049250313e-16,
          -2.220446049250313e-16,
          0.009928350992211232,
          0.0051951470167383995,
          0.017239013102141265
         ]
        },
        {
         "name": "uui_grey_score_pairs",
         "nbinsx": 100,
         "opacity": 0.75,
         "type": "histogram",
         "x": [
          0.0863797448527509,
          2.220446049250313e-16,
          2.220446049250313e-16,
          0.0014200405947800698,
          0.026949765866369657,
          2.220446049250313e-16,
          0.004244715627291895,
          2.220446049250313e-16,
          2.220446049250313e-16,
          0.24656843205031553,
          0.00019564364128532574,
          0.17404827462478045,
          0.0022202040805259227,
          0.002863090985052441,
          2.220446049250313e-16,
          0.06906018322590035,
          -2.220446049250313e-16,
          0.04731506961216181,
          0.030334298674515647,
          2.220446049250313e-16,
          2.220446049250313e-16,
          0.07345007343974319,
          0.03341983530000847,
          0.016534181874445997,
          2.220446049250313e-16,
          2.220446049250313e-16,
          0.005536500850234272,
          0.01012151306210618,
          0.00035602925162137034,
          2.220446049250313e-16,
          2.220446049250313e-16,
          2.220446049250313e-16,
          2.220446049250313e-16,
          0.0019191951348364045,
          0.00015401025156336345,
          0.17186312005711035,
          2.220446049250313e-16,
          0.004609978395888725,
          0.12518740367754067,
          0.22950814208247872,
          2.220446049250313e-16,
          2.220446049250313e-16,
          0.058415019981062355,
          0.014050143858490238,
          0.012742591175162854,
          0.019912247334976207,
          2.220446049250313e-16,
          2.220446049250313e-16,
          0.020912964494811503,
          2.220446049250313e-16,
          0.008191776735434253,
          2.220446049250313e-16,
          0.41357964908474987,
          0.01419920818215159,
          0.0011318622755623897,
          2.220446049250313e-16,
          0.0033877887886255564,
          2.220446049250313e-16,
          2.220446049250313e-16,
          0.035165925740936355,
          2.220446049250313e-16,
          0.0293469421343312,
          0.0009438416449406573,
          0.3930314027926245,
          2.220446049250313e-16,
          0.05039042678428307,
          0.005413455322318628,
          0.39306389439132594,
          0.000373901676933297,
          0.012590206105991708,
          0.012571937860825222,
          2.220446049250313e-16,
          0.008660503613225679,
          0.013629707637599409,
          0.023960393842080707,
          0.008425663052128551,
          0.004270544177097491,
          2.220446049250313e-16,
          0.010881637626946494,
          0.021644766558229445,
          2.220446049250313e-16,
          0.007098727512070968,
          0.0030809130888977965,
          0.0019191951348364045,
          2.220446049250313e-16,
          0.022458244249825232,
          2.220446049250313e-16,
          2.220446049250313e-16,
          2.220446049250313e-16,
          0.007460260173359434,
          0.00889650583675794,
          0.05933526171640224,
          0.0032195977921760655,
          0.09780241975258552,
          0.1051418851412792,
          0.006190822349537273,
          0.0018874859786878195,
          0.11122804952203014,
          0.023490155175660665,
          0.02920819269586228,
          0.0021359426795792835,
          0.0035643235009164,
          0.0010905666851620532,
          0.002859588026087656,
          2.220446049250313e-16,
          2.220446049250313e-16,
          2.220446049250313e-16,
          0.055548329296500665,
          0.006307913644708063,
          0.016828982232319545,
          0.008973964609275131,
          0.005164997701066265,
          2.220446049250313e-16,
          0.0037004513221946533,
          2.220446049250313e-16,
          2.220446049250313e-16,
          2.220446049250313e-16,
          0.0256959258608197,
          0.0022982906258238733,
          0.0021818645123077296,
          0.021876933700291312,
          2.220446049250313e-16,
          2.220446049250313e-16,
          0.036627481604336154,
          2.220446049250313e-16,
          0.15299219146473586,
          0.006776377506450104,
          0.06959160718290847,
          0.04969344818546684,
          0.006419678574663634,
          0.22165404751592133,
          0.032774438468564204,
          2.220446049250313e-16,
          2.220446049250313e-16,
          2.220446049250313e-16,
          2.220446049250313e-16,
          2.220446049250313e-16,
          0.031548048508196924,
          0.11630549671840029,
          2.220446049250313e-16,
          0.001731603030756368,
          0.024820629946989747,
          2.220446049250313e-16,
          2.220446049250313e-16,
          0.0022982906258238733,
          2.220446049250313e-16,
          0.0018264855429677151,
          0.03360769784043571,
          0,
          2.220446049250313e-16,
          0.00010069608129881225,
          0.019008684033824164,
          0.0036496350364965124,
          0.07351847741398987,
          0.010756347490773144,
          0.01181701985872241,
          2.220446049250313e-16,
          0.0027138659039258606,
          2.220446049250313e-16,
          2.220446049250313e-16,
          0.17645029007975233,
          0.022646918256964965,
          2.220446049250313e-16,
          0.21085771027029598,
          0.20044005661655617,
          2.220446049250313e-16,
          0.0018264855429677151,
          0.023960393842080707,
          0.01937431548520885,
          2.220446049250313e-16,
          0.001471619424082804,
          0.02148414612696692,
          0.041279675468515964,
          2.220446049250313e-16,
          2.220446049250313e-16,
          0.0009438416449406573,
          0.023571983957674236,
          2.220446049250313e-16,
          0.002889168964552824,
          2.220446049250313e-16,
          0.023960393842080707,
          0.019194804782254993,
          2.220446049250313e-16,
          2.220446049250313e-16,
          0.0154240531388119,
          0.040655641703072676,
          2.220446049250313e-16,
          0.003369906296176506,
          0.011179905065571316,
          0.026418621779327855,
          0.0028438321963514257,
          0.00987298772014844,
          0.0027936994945589877,
          0.16817950489417888,
          0.00014774751164603472,
          0.15823922642003907,
          0.04962024311654156,
          2.220446049250313e-16,
          0.0048007966307955785,
          2.220446049250313e-16,
          2.220446049250313e-16,
          0.03359371926112931,
          2.220446049250313e-16,
          0.00020091632721874753,
          0.028815128031438597,
          0.0009438416449406573,
          0.07998430670115408,
          2.220446049250313e-16,
          2.220446049250313e-16,
          2.220446049250313e-16,
          0.01278071265527081,
          2.220446049250313e-16,
          0.004408544612271359,
          0.2629657755133067,
          2.220446049250313e-16,
          0.07139703823474586,
          0.00028966523713447323,
          2.220446049250313e-16,
          0.0030023432313404097,
          0.03681362875357019,
          0.0012517793255855114,
          2.220446049250313e-16,
          0.005134843756422147,
          0.026017766187595437,
          2.220446049250313e-16,
          2.220446049250313e-16,
          0.0011141375086020089,
          0.021567604515801975,
          2.220446049250313e-16,
          0.0009276611952340197,
          2.220446049250313e-16,
          0.0051188954310218415,
          0.0053391888764950934,
          2.220446049250313e-16,
          0.006960744598200064,
          2.220446049250313e-16,
          2.220446049250313e-16,
          2.220446049250313e-16,
          0.006835162596206312,
          0.003268847031119404,
          2.220446049250313e-16,
          2.220446049250313e-16,
          0.021389992125446233,
          0.05252917873613239,
          2.220446049250313e-16,
          0.399368070080259,
          2.220446049250313e-16,
          0.02697383302423062,
          0.048435366836239946,
          2.220446049250313e-16,
          2.220446049250313e-16,
          2.220446049250313e-16,
          0.028423006089460023,
          2.220446049250313e-16,
          0.028360299905057396,
          0.017495826305983342,
          0.008248083838293119,
          0.005124501341389531,
          2.220446049250313e-16,
          0.023960393842080707,
          0.29294124087272044,
          0.21979204956381648,
          2.220446049250313e-16,
          2.220446049250313e-16,
          0.002832395568427404,
          0.03849602497144311,
          0.0030078849055966694,
          2.220446049250313e-16,
          0.007685348666484071,
          0.0009751343128597822,
          0.010471026798735128,
          2.220446049250313e-16,
          2.220446049250313e-16,
          0.002021630724962975,
          0.01269199807208976,
          0.038906607692569595,
          0.001731603030756368,
          0.059153783069191834,
          0.000632123647228422,
          0.004273344784647026,
          2.220446049250313e-16,
          2.220446049250313e-16,
          0.02186044101472806,
          0.19438686851675413,
          2.220446049250313e-16,
          2.220446049250313e-16,
          0.010240521918880141,
          0.00541593383133443,
          0.03618547745017342,
          0.0015996450131439133,
          2.220446049250313e-16,
          0.02631379806899703,
          0.030258198399495395,
          0.024169742295916063,
          0.0022180573200237808,
          0.0333243464266163,
          0.07138586165853256,
          2.220446049250313e-16,
          2.220446049250313e-16,
          0.01372913480253779,
          0.008008294100682822,
          2.220446049250313e-16,
          0.06637538256283981,
          0.005290139531415439,
          0.013253192311815876,
          0.4030078292813264,
          0.0037846552682208046,
          0.003982410849826201,
          0.1552890678528377,
          0.09014283385495137,
          2.220446049250313e-16,
          0.4481209293896039,
          0.014005722584624625,
          0.0011141375086020089,
          2.220446049250313e-16,
          0.1132645907872466,
          2.220446049250313e-16,
          2.220446049250313e-16,
          0.0012787093363311186,
          0.05144369590020326,
          2.220446049250313e-16,
          0.007315503622398745,
          0.000373901676933297,
          2.220446049250313e-16,
          2.220446049250313e-16,
          0.019570175334292284,
          2.220446049250313e-16,
          0.001968991439704637,
          0.0924490103228578
         ]
        },
        {
         "name": "non_uui_grey_score_pairs",
         "nbinsx": 100,
         "opacity": 0.75,
         "type": "histogram",
         "x": [
          2.220446049250313e-16,
          0.07099048948257569,
          0.026178523815990618,
          2.220446049250313e-16,
          0.0011314004234787012,
          2.220446049250313e-16,
          2.220446049250313e-16,
          2.220446049250313e-16,
          2.220446049250313e-16,
          2.220446049250313e-16,
          2.220446049250313e-16,
          0.01529652645784818,
          2.220446049250313e-16,
          0.07695036253188081,
          2.220446049250313e-16,
          2.220446049250313e-16,
          2.220446049250313e-16,
          0.015156071501827073,
          0.009163042029484703,
          0.007565552015781796,
          2.220446049250313e-16,
          2.220446049250313e-16,
          2.220446049250313e-16,
          0.003454241755120213,
          2.220446049250313e-16,
          0.003132344185174163,
          0.029331022977977517,
          2.220446049250313e-16,
          0.18945422798283873,
          2.220446049250313e-16,
          2.220446049250313e-16,
          0.009044939270347885,
          2.220446049250313e-16,
          0.009257595123478901,
          0.004339818998768785,
          0.004853326685733905,
          0.00044174346483583093,
          0.001622493866599073,
          8.537558855770122e-06,
          2.220446049250313e-16,
          2.220446049250313e-16,
          2.220446049250313e-16,
          2.220446049250313e-16,
          0.020356770740748487,
          0.0007990412782107326,
          2.220446049250313e-16,
          0.0011318622755623897,
          2.220446049250313e-16,
          0.0007990412782107326,
          2.220446049250313e-16,
          2.220446049250313e-16,
          2.220446049250313e-16,
          2.220446049250313e-16,
          2.220446049250313e-16,
          0.0001920188248205612,
          0,
          0.09213393029316597,
          2.220446049250313e-16,
          2.220446049250313e-16,
          0.03625014288994466,
          0.0032050612838417925,
          0.07314187209427525,
          2.220446049250313e-16,
          0.0011318622755623897,
          2.220446049250313e-16,
          2.220446049250313e-16,
          0.007805123793649393,
          2.220446049250313e-16,
          2.220446049250313e-16,
          2.220446049250313e-16,
          2.220446049250313e-16,
          0.06573687656371818,
          2.220446049250313e-16,
          0.0003691994340153659,
          0.04794921861296808,
          2.220446049250313e-16,
          2.220446049250313e-16,
          0.0021818645123077296,
          2.220446049250313e-16,
          2.220446049250313e-16,
          2.220446049250313e-16,
          2.220446049250313e-16,
          0.02527402527353817,
          0.021306840800363158,
          0.004052476877984601,
          2.220446049250313e-16,
          0.13699489820342703,
          2.220446049250313e-16,
          0.006173369776167892,
          2.220446049250313e-16,
          0.0024701560987338,
          0.010133542534372708,
          0.10389319360442983,
          0.01602000381098534,
          2.220446049250313e-16,
          2.220446049250313e-16,
          2.220446049250313e-16,
          2.220446049250313e-16,
          2.220446049250313e-16,
          0.007083786371831491,
          2.220446049250313e-16,
          2.220446049250313e-16,
          0.30081992683404435,
          0.0009438416449406573,
          2.220446049250313e-16,
          2.220446049250313e-16,
          2.220446049250313e-16,
          2.220446049250313e-16,
          2.220446049250313e-16,
          2.220446049250313e-16,
          2.220446049250313e-16,
          2.220446049250313e-16,
          2.220446049250313e-16,
          2.220446049250313e-16,
          0.0031764977717496645,
          0.06367082243095556,
          2.220446049250313e-16,
          2.220446049250313e-16,
          2.220446049250313e-16,
          2.220446049250313e-16,
          0.003475050803851909,
          2.220446049250313e-16,
          0.0023913944154723143,
          2.220446049250313e-16,
          2.220446049250313e-16,
          0.03182919377831517,
          2.220446049250313e-16,
          2.220446049250313e-16,
          0.055504311994874045,
          2.220446049250313e-16,
          2.220446049250313e-16,
          0.0006121499010006692,
          2.220446049250313e-16,
          2.220446049250313e-16,
          2.220446049250313e-16,
          2.220446049250313e-16,
          2.220446049250313e-16,
          2.220446049250313e-16,
          2.220446049250313e-16,
          0.026302609621702056,
          2.220446049250313e-16,
          2.220446049250313e-16,
          2.220446049250313e-16,
          8.537558855770122e-06,
          2.220446049250313e-16,
          0.05310498496848903,
          2.220446049250313e-16,
          2.220446049250313e-16,
          0.5380852632565021,
          0.00044174346483583093,
          0.002673810316643932,
          2.220446049250313e-16,
          2.220446049250313e-16,
          2.220446049250313e-16,
          2.220446049250313e-16,
          2.220446049250313e-16,
          2.220446049250313e-16,
          0.033776654501553094,
          2.220446049250313e-16,
          0.014127780045742333,
          2.220446049250313e-16,
          2.220446049250313e-16,
          2.220446049250313e-16,
          2.220446049250313e-16,
          8.537558855770122e-06,
          0.001731603030756368,
          0.03296462211393336,
          2.220446049250313e-16,
          0.0601617113096391,
          2.220446049250313e-16,
          2.220446049250313e-16,
          0.019467716838862836,
          2.220446049250313e-16,
          2.220446049250313e-16,
          2.220446049250313e-16,
          2.220446049250313e-16,
          2.220446049250313e-16,
          2.220446049250313e-16,
          2.220446049250313e-16,
          2.220446049250313e-16,
          2.220446049250313e-16,
          2.220446049250313e-16,
          2.220446049250313e-16,
          2.220446049250313e-16,
          -2.220446049250313e-16,
          2.220446049250313e-16,
          2.220446049250313e-16,
          0.008676437383167812,
          0.0073516039631270624,
          0.007602218188192622,
          2.220446049250313e-16,
          2.220446049250313e-16,
          2.220446049250313e-16,
          2.220446049250313e-16,
          2.220446049250313e-16,
          0.001755683019327603,
          0.0011141375086020089,
          2.220446049250313e-16,
          2.220446049250313e-16,
          2.220446049250313e-16,
          0.21464148256977245,
          0.016969321300542406,
          2.220446049250313e-16,
          0.0026703975631728882,
          2.220446049250313e-16,
          0.09167942839865995,
          0.03069704974843357,
          2.220446049250313e-16,
          2.220446049250313e-16,
          0.004287442184899848,
          0.004254061743849902,
          2.220446049250313e-16,
          0.19050848267789966,
          2.220446049250313e-16,
          0.14380189663503207,
          2.220446049250313e-16,
          2.220446049250313e-16,
          0.001622493866599073,
          2.220446049250313e-16,
          2.220446049250313e-16,
          0.030672682991584432,
          2.220446049250313e-16,
          0.006186376694875539,
          0.11431295191054547,
          2.220446049250313e-16,
          0.0036811269327621243,
          2.220446049250313e-16,
          2.220446049250313e-16,
          2.220446049250313e-16,
          0.000302520716244592,
          2.220446049250313e-16,
          0.003642999358526966,
          2.220446049250313e-16,
          2.220446049250313e-16,
          0.000555093020845554,
          2.220446049250313e-16,
          0.01457917226757477,
          0.02971894451130297,
          2.220446049250313e-16,
          0.007373504357672367,
          2.220446049250313e-16,
          2.220446049250313e-16,
          2.220446049250313e-16,
          2.220446049250313e-16,
          2.220446049250313e-16,
          0,
          2.220446049250313e-16,
          2.220446049250313e-16,
          0.012509817105066934,
          2.220446049250313e-16,
          2.220446049250313e-16,
          2.220446049250313e-16,
          -2.220446049250313e-16,
          2.220446049250313e-16,
          0.03764699351618517,
          2.220446049250313e-16,
          0.027679558630967493,
          0.007509199297123903,
          2.220446049250313e-16,
          0.0023913944154723143,
          0.5263450001045047,
          2.220446049250313e-16,
          0.03067543691034702,
          0.004081309539376687,
          0.005302791834788656,
          0.34064118704381474,
          2.220446049250313e-16,
          2.220446049250313e-16,
          0.004719671123413316,
          0.002204616148675065,
          0.038180379302532375,
          2.220446049250313e-16,
          0.03296174255045892,
          2.220446049250313e-16,
          2.220446049250313e-16,
          2.220446049250313e-16,
          0.10446652881100993,
          2.220446049250313e-16,
          2.220446049250313e-16,
          2.220446049250313e-16,
          0.2797994120453986,
          2.220446049250313e-16,
          2.220446049250313e-16,
          2.220446049250313e-16,
          2.220446049250313e-16,
          2.220446049250313e-16,
          2.220446049250313e-16,
          0.03304044245709814,
          0.06836916906876456,
          2.220446049250313e-16,
          0.020512114227418388,
          2.220446049250313e-16,
          0.008554155103871475,
          2.220446049250313e-16,
          2.220446049250313e-16,
          2.220446049250313e-16,
          2.220446049250313e-16,
          2.220446049250313e-16,
          0.020391681365688474,
          2.220446049250313e-16,
          2.220446049250313e-16,
          2.220446049250313e-16,
          2.220446049250313e-16,
          0.002059734421668291,
          2.220446049250313e-16,
          2.220446049250313e-16,
          2.220446049250313e-16,
          0.002490663892367073,
          2.220446049250313e-16,
          2.220446049250313e-16,
          2.220446049250313e-16,
          2.220446049250313e-16,
          2.220446049250313e-16,
          2.220446049250313e-16,
          0.06668300267502292,
          2.220446049250313e-16,
          0.021976781780178145,
          0.016229338055616438,
          2.220446049250313e-16,
          2.220446049250313e-16,
          0.016353108497936586,
          0.014539884255652002,
          0.06668300267502292,
          2.220446049250313e-16,
          0.1042764028249219,
          2.220446049250313e-16,
          2.220446049250313e-16,
          0.005130646632265146,
          2.220446049250313e-16
         ]
        },
        {
         "name": "uui_low_score_pairs",
         "nbinsx": 100,
         "opacity": 0.75,
         "type": "histogram",
         "x": [
          0.388681464472147,
          2.220446049250313e-16,
          2.220446049250313e-16,
          2.220446049250313e-16,
          0.004106793532296038,
          2.220446049250313e-16,
          0.287649920259603,
          0.2531949331264597,
          0.015245554308234155,
          0.5135273152807949,
          0.24976222965102146,
          0.26473813597140405,
          2.220446049250313e-16,
          2.220446049250313e-16,
          0.049583826275259035,
          0.051846870994085026,
          0.09310625498946257,
          0.013081957653250043,
          0.0016763471420316867,
          0.07456563551472872,
          0.01544264765120229,
          0.004106793532296038,
          0.06959160718290847,
          2.220446049250313e-16,
          0.000628784157752138,
          0.23448212639028898,
          0.4963363760748275,
          2.220446049250313e-16,
          0.022976766846886543,
          0.0015572290787123633,
          0.000542012743338427,
          0.09437957598731095,
          0.011055667100034139,
          2.220446049250313e-16,
          2.220446049250313e-16,
          2.220446049250313e-16,
          0.06661055899691082,
          0.013423066565994679,
          0.07876745655618966,
          0.18759615953640385,
          0.2516450028714228,
          0.006902941517882288,
          0.15153513586751455,
          2.220446049250313e-16,
          0.11007897250289322,
          0.053169960651026194,
          0.08246111493203823,
          0.03609383964340429,
          0.09403322200097286,
          2.220446049250313e-16,
          0.19366029043935873,
          2.220446049250313e-16,
          0.001374571096476096,
          0.10605115815722754,
          0.007840140408201579,
          0.26857930657147877,
          0.012204533335593348,
          0.06959160718290847,
          0.18507626566304625,
          0.12743459971843196,
          0.10841029516345702,
          0.06323642826842124,
          0.00028720842517149237,
          0.0011318622755623897,
          0.0016885289565943262,
          0.20343027474875452,
          0.0037073187715616074,
          0.014790369042656737,
          2.220446049250313e-16,
          0.003018439094095049,
          0.07272273618093328,
          2.220446049250313e-16,
          0.5311093468362114,
          2.220446049250313e-16,
          0.0023481892072402255,
          0.010812605498461192,
          2.220446049250313e-16,
          0.002795891714005516,
          0.25771719044587227,
          0.11803317767151111,
          2.220446049250313e-16,
          2.220446049250313e-16,
          0.06220393378412714,
          0.06959160718290847,
          0.10253131322624698,
          2.220446049250313e-16,
          0.06959160718290847,
          0.14055676757009983,
          0.054385028106033184,
          0.004768494110411137,
          0.12310984344565745,
          2.220446049250313e-16,
          0.23469807184509428,
          0.004106793532296038,
          0.005063323673818121,
          0.039286401011204286,
          0.08516482713100859,
          2.220446049250313e-16,
          0.09432325829979027,
          0.18948598653454785,
          0.012402778800455483,
          0.09350322081026974,
          0.25079305056623946,
          2.220446049250313e-16,
          0.0018100804382121805,
          0.1491908720394206,
          0.11743454477343884,
          0.06959160718290847,
          0.06033535000925505,
          2.220446049250313e-16,
          0.0028256680595702965,
          0.530000881341284,
          0.023205031719978675,
          0.04293313423669287,
          0.0011318622755623897,
          0.5293263945340585,
          0.2550832019362588,
          2.220446049250313e-16,
          0.2328735559411298,
          0.1581061763191367,
          0.21462046870673313,
          0.06959160718290847,
          0.059868877821530164,
          0.11010269391671501,
          0.20178459202520915,
          0.04992935140881394,
          0.0010413149430701374,
          2.220446049250313e-16,
          0.050110038261947265,
          0.004106793532296038,
          0.18585991643984345,
          0.0017473517982427023,
          0.07547802057525044,
          0.06424129288619851,
          2.220446049250313e-16,
          0.02925383094375933,
          0.12100896098781322,
          0.004106793532296038,
          0.07273212487543146,
          2.220446049250313e-16,
          0.010609118067847922,
          0.11261242076430589,
          0.18874736781542067,
          0.5178646673642185,
          0.0034175133774536626,
          0.03105704832747036,
          2.220446049250313e-16,
          0.0012275323569247432,
          0.2490524122399722,
          0.17224615793472908,
          0.06959160718290847,
          0.020761262509167988,
          2.220446049250313e-16,
          0.06427387559017339,
          0.0012447784080408253,
          0.03604605229581059,
          0.3889354048804503,
          0.001450206295573686,
          0.08148185980925526,
          0.24188720263550278,
          0.251206538026415,
          0.21227193251041276,
          0.027986662373829407,
          0.17545812261788973,
          0.005692806700735797,
          2.220446049250313e-16,
          0.0049743252559170115,
          0.04074574452904123,
          0.0073168637731265695,
          0.031927129336757565,
          0.5200311440492434,
          0.08579434331794744,
          2.220446049250313e-16,
          0.12858130619052954,
          0.2475500426708762,
          0.1039254707924534,
          2.220446049250313e-16,
          0.0729843942803381,
          0.18439913397641194,
          0.004106793532296038,
          0.11993363168233084,
          0.10387284670185992,
          0.5345643938355649,
          0.012483383520961233,
          0.07068252210333903,
          0.0010285998115753259,
          0.09997148500504216,
          0.06959160718290847,
          0.3080102123888466,
          0.0009350829348422351,
          0.001646432103901474,
          0.021357117770348766,
          0.08237960661710098,
          0.12987930211789278,
          0.06959160718290847,
          0.11471536491696721,
          0.03554819109305596,
          2.220446049250313e-16,
          0.010006389870635957,
          0.039294538243084376,
          0,
          0.003524520090948391,
          0.2010671196011834,
          0.002384301329662053,
          0.1703853726647584,
          0.06172063872007594,
          2.220446049250313e-16,
          0.1023525978733919,
          0.01301010217405496,
          0.0028300025578261723,
          2.220446049250313e-16,
          0.012221990237426317,
          0.06959160718290847,
          0.10057370313120273,
          0.16260669422978136,
          0.17337869239613046,
          0.27592028756436326,
          0.11610346983931297,
          2.220446049250313e-16,
          2.220446049250313e-16,
          2.220446049250313e-16,
          0.06959160718290847,
          0.0011318622755623897,
          0.17083734986099774,
          0.24062307605511057,
          2.220446049250313e-16,
          0.002970381555711943,
          2.220446049250313e-16,
          2.220446049250313e-16,
          0.2444301490993671,
          0.041472418562049085,
          0.001050393061419741,
          2.220446049250313e-16,
          2.220446049250313e-16,
          0.00688006597762425,
          0.11539559793660925,
          0.003790580123629539,
          2.220446049250313e-16,
          0.1087861974019888,
          0.00010434348102905666,
          0.09279049118240501,
          0.0980402682529341,
          0.10679998325249951,
          0.0066956021867126125,
          0.26213384034692666,
          0.04169605241075969,
          2.220446049250313e-16,
          0.00485742563485303,
          0.0011318622755623897,
          0.003195903335904249,
          2.220446049250313e-16,
          0.0017949122470309886,
          2.220446049250313e-16,
          0.005802273081518594,
          0.004106793532296038,
          0.0011318622755623897,
          0.026701079033467745,
          2.220446049250313e-16,
          2.220446049250313e-16,
          2.220446049250313e-16,
          0.15900299180673572,
          0.014650380964662313,
          0.026081912977344746,
          0.5286318041157646,
          0.06959160718290847,
          0.1171281589397013,
          0.004487060172206125,
          2.220446049250313e-16,
          0.3416837624934036,
          0.010650467633798066,
          0.012370075099272015,
          0.24095105766153435,
          0.25139984966381657,
          0.05213265933565081,
          2.220446049250313e-16,
          0.23905045769216982,
          0.22820682669535897,
          0.019863541321096023,
          0.053329165112289356,
          0.017794500202670704,
          0.02196552440714772,
          0.003641088555123906,
          0.19436669527083217,
          0.035243003661061034,
          2.220446049250313e-16,
          0.0044314328133857606,
          0.060320489644655306,
          0.23702819551416887,
          0.012103863655743119,
          0.06959160718290847,
          2.220446049250313e-16,
          0.06959160718290847,
          0.12124849411940719,
          2.220446049250313e-16,
          0.0885244957902489,
          2.220446049250313e-16,
          0.0656252787568774,
          0.03053437565741912,
          0.02339501602478322,
          0.0010161703245813447,
          2.220446049250313e-16,
          2.220446049250313e-16,
          0.3066383500845601,
          0.00786163522012584,
          0.03848934185229025,
          0.0005690965469276055,
          0.3931035589373022,
          0.0019288588406980445,
          0.0436487981041328,
          0.06969341167046883,
          0.20281066826456962,
          2.220446049250313e-16,
          0.0585311283087282,
          0.010188860113017562,
          0.0016425892823141997,
          0.0011318622755623897,
          0.2730982397771212,
          0.24631484042223017,
          2.220446049250313e-16,
          2.220446049250313e-16,
          0.12369865067671293,
          0.2264222253914201,
          0.000694134707789118,
          0.0013674886688954668,
          0.002508211653259762,
          0.01299720248796632,
          0.004106793532296038,
          0.10598525470789555,
          0.18688200933984023
         ]
        },
        {
         "name": "non_uui_low_score_pairs",
         "nbinsx": 100,
         "opacity": 0.75,
         "type": "histogram",
         "x": [
          0.17872374595293505,
          0.028188003527677252,
          0.7266028298612852,
          0.24580028884845417,
          0.1303657461210157,
          0.11516923885339747,
          0.1856435626868409,
          2.220446049250313e-16,
          0.362548525376415,
          0.004692658461794563,
          0.4851548081794905,
          0.8954815167252013,
          0.3924751280810822,
          0.645268259196285,
          0.055854910541338176,
          0.06042270483363932,
          0.4047862440761969,
          0.013700804247395615,
          0.4830969945386203,
          0.3794551551490347,
          0.3708311865645083,
          0.0020512842113268315,
          0.2701403578955123,
          0.058642551336716586,
          0.04983090104212495,
          0.062020999253543874,
          0.13389981032841702,
          2.220446049250313e-16,
          0.14850194283129015,
          0.4167976664019052,
          0.13803855765475925,
          0.026066648154741023,
          2.220446049250313e-16,
          0.216083946502993,
          0.17515576091788898,
          0.19209161548624576,
          2.220446049250313e-16,
          0.024222966722025174,
          0.007155229471507929,
          0.07180126972642153,
          0.2122809114312818,
          0.44215775781159383,
          0.510258989642941,
          0.009904130159914648,
          0.018091946109606183,
          0.003636644799457134,
          0.006994827247699398,
          0.40114608429078324,
          0.3165324651949143,
          0.010750061725072313,
          2.220446049250313e-16,
          0.29293715250519403,
          2.220446049250313e-16,
          2.220446049250313e-16,
          0.16272913089756824,
          0.06589638611555637,
          0.574169289100541,
          0.5011617499356911,
          0.058642551336716586,
          0.4727774149717575,
          0.320787819037187,
          0.16250388189133314,
          0.41286192338242156,
          0.2968956827145667,
          0.10455699130643625,
          0.02837182899938906,
          0.322546543213866,
          0.13829980866262925,
          0.4359426305630232,
          0.016967351995447744,
          0.49739791733585526,
          0.039713664370113255,
          2.220446049250313e-16,
          0.3253873152509714,
          2.220446049250313e-16,
          0.07279910885649299,
          0.1152247320837595,
          0.0029455144984184,
          2.220446049250313e-16,
          0.08987923491698646,
          0.31319439608856614,
          0.4580357897281804,
          0.32239084994732903,
          0.11604677870955216,
          0.19244459631254274,
          0.026527800591482076,
          2.220446049250313e-16,
          0.013364617729706652,
          0.21611953561528008,
          0.0510129774985959,
          0.002836984159900302,
          0.0007990412782107326,
          0.10704640922620068,
          0.7107847630446482,
          0.42366220337852334,
          0.23646746077815872,
          0.30859283929447523,
          0.4446790554166642,
          0.007732822944424678,
          0.4593044799979641,
          0.14765750491037555,
          0.18701613033563091,
          0.05637645460980345,
          0.09517515345149652,
          0.008685517852319968,
          0.4241340058224483,
          0.5949561647974162,
          2.220446049250313e-16,
          0.49063934370235185,
          0.12402095655651502,
          0.010096567372546938,
          0.2899243208284923,
          0.0012277309828275795,
          0.034138755242814844,
          0.47207460078653174,
          0.17281440883511268,
          2.220446049250313e-16,
          0.07682889020551364,
          0.022006760460648978,
          2.220446049250313e-16,
          0.4646443538276812,
          0.1128666614180911,
          0.5962956458218993,
          2.220446049250313e-16,
          0.03195717127856723,
          0.39134760719175365,
          0.24599892479933216,
          0.060206576511563026,
          0.004829428025860949,
          0.006833383406685489,
          0.07544080852578028,
          0.37640137890238323,
          0.18290523896723754,
          0.18629903476228893,
          0.24726683997580312,
          0.5556414780092099,
          0.07232103366130416,
          0.5914526166849841,
          0.4585275251058635,
          0.17867994177439328,
          0.041265010141570024,
          0.21335407792141325,
          0.464233756163537,
          0.48691013914314907,
          0.38099024597830944,
          0.08367574201454486,
          0.03405293245505159,
          0.15416357493225197,
          2.220446049250313e-16,
          0.44702297955116344,
          0.23825295610355768,
          0.008063702013089147,
          0.2904251248131009,
          0.6128458550175233,
          0.14759413618966855,
          0.532469625859957,
          0.1522051445279955,
          0.3138746702715296,
          0.2452143536104373,
          0.09169342547059955,
          0.2586137556762861,
          0.04156936738464334,
          0.016697362077057853,
          2.220446049250313e-16,
          0.21463079090701997,
          0.06372118920018754,
          0.24213284017658854,
          0.22831295706505106,
          0.15643452001900815,
          0.12164044908185723,
          0.15906588820548173,
          0.4037098210811916,
          0.8499461311355408,
          0.6804920256137466,
          0.4122335234258415,
          0.09072272954260108,
          0.1669048999415138,
          0.06265614246501106,
          0.16210207374925678,
          0.3092134526441179,
          0.5464103447851788,
          0.39629244669512775,
          0.24548822909545542,
          0.04328189407619232,
          0.04597004230833501,
          0.18739760408160755,
          0.4356130355617387,
          0.199266082216364,
          0.10288457025320397,
          0.09507710333067121,
          0.16532730965021492,
          0.17123618489346382,
          0.26825333872536217,
          0.17049746410193833,
          0.0011318622755623897,
          0.028334379422483513,
          2.220446049250313e-16,
          2.220446049250313e-16,
          0.34660567453985236,
          0.27784924713749104,
          2.220446049250313e-16,
          0.07190522056115167,
          0.004692658461794563,
          0.10012690015415682,
          2.220446049250313e-16,
          0.8277192381508296,
          0.05455422481421446,
          0.15136061768859155,
          0.232961681361191,
          0.5527428852287006,
          0.0425560309376638,
          2.220446049250313e-16,
          0.13670930248897106,
          0.09447460086051196,
          0.11902019616560655,
          0.12337478419809156,
          0.10182257372185621,
          0.21775749758671592,
          2.220446049250313e-16,
          0.08961272083436767,
          0.09680898547094408,
          0.08226269800784447,
          0.11070270820011252,
          0.1298603284984371,
          0.24696915595426505,
          0.19002432541359282,
          0.10420718090996206,
          2.220446049250313e-16,
          0.004766795954444514,
          0.41121653473814146,
          0.16835663497985365,
          0.0817377417573496,
          0.4313142761417902,
          2.220446049250313e-16,
          0.43508268193233146,
          0.1790735046936075,
          0.17278335447160487,
          0.1468386411742152,
          0.3758399383003508,
          0.002319709506609091,
          2.220446049250313e-16,
          0.041913890670904896,
          0.12285994236662579,
          0.5334043208384678,
          0.38962378614544135,
          2.220446049250313e-16,
          0.7176821750135538,
          0.10845504377078963,
          0.060206576511563026,
          0.19017554176757612,
          2.220446049250313e-16,
          0.3057067065248349,
          0.033601430540931565,
          2.220446049250313e-16,
          0.3880393847407261,
          0.14094494121277457,
          2.220446049250313e-16,
          0.1685779639941113,
          0.02623312608679751,
          0.47495531273136515,
          0.18706293246991346,
          0.21694491002826088,
          0.4028191752354461,
          2.220446049250313e-16,
          0.014428654281575581,
          0.0274428848894418,
          0.10746543849188162,
          0.312975159152899,
          0.5833833060363615,
          0.7837974172083887,
          0.13611634852940724,
          0.3871337263645628,
          0.41815630886787813,
          0.006447576719460946,
          0.5358935734949205,
          0.23277523968615066,
          0.5737018313295101,
          2.220446049250313e-16,
          0.1826821543449444,
          0.004909254336438407,
          2.220446049250313e-16,
          0.09570973771668612,
          0.03772582678434577,
          0.2567037867998663,
          0.3225606500656294,
          0.9184261257600657,
          0.06787523606037449,
          0.04189936027656549,
          0.3223560013628921,
          0.04398365139771554,
          0.16875920263591637,
          0.03748203414743134,
          0.27450277809147805,
          0.5073883839846414,
          0.08475040432102121,
          0.7660775034988716,
          0.3119600194913633,
          0.09363066758759753,
          0.30357876182194354,
          0.510319625564383,
          0.029475265287620345,
          0.5898123172162351,
          0.13981286779886548,
          0.5354434559226837,
          0.014414485860840265,
          0.6066914051880661,
          2.220446049250313e-16,
          0.07703528877515131,
          0.6051231710502067,
          0.04376557767559841,
          0.3687136799756351,
          0.10685745346589937,
          0.6217236040841361,
          0.09507710333067121,
          0.10543039005973631,
          0.21899030999080615,
          2.220446049250313e-16,
          0.1715180165441712,
          0.08342862323338063,
          0.021201785733510836,
          2.220446049250313e-16,
          0.18360416138149593,
          0.4048806420109916,
          0.6579442510236788,
          0.5567124310917422,
          0.7518462715903277,
          0.003454241755120213,
          0.2820350609806531,
          0.13309906261036586
         ]
        }
       ],
       "layout": {
        "barmode": "overlay",
        "template": {
         "data": {
          "bar": [
           {
            "error_x": {
             "color": "#2a3f5f"
            },
            "error_y": {
             "color": "#2a3f5f"
            },
            "marker": {
             "line": {
              "color": "#E5ECF6",
              "width": 0.5
             }
            },
            "type": "bar"
           }
          ],
          "barpolar": [
           {
            "marker": {
             "line": {
              "color": "#E5ECF6",
              "width": 0.5
             }
            },
            "type": "barpolar"
           }
          ],
          "carpet": [
           {
            "aaxis": {
             "endlinecolor": "#2a3f5f",
             "gridcolor": "white",
             "linecolor": "white",
             "minorgridcolor": "white",
             "startlinecolor": "#2a3f5f"
            },
            "baxis": {
             "endlinecolor": "#2a3f5f",
             "gridcolor": "white",
             "linecolor": "white",
             "minorgridcolor": "white",
             "startlinecolor": "#2a3f5f"
            },
            "type": "carpet"
           }
          ],
          "choropleth": [
           {
            "colorbar": {
             "outlinewidth": 0,
             "ticks": ""
            },
            "type": "choropleth"
           }
          ],
          "contour": [
           {
            "colorbar": {
             "outlinewidth": 0,
             "ticks": ""
            },
            "colorscale": [
             [
              0,
              "#0d0887"
             ],
             [
              0.1111111111111111,
              "#46039f"
             ],
             [
              0.2222222222222222,
              "#7201a8"
             ],
             [
              0.3333333333333333,
              "#9c179e"
             ],
             [
              0.4444444444444444,
              "#bd3786"
             ],
             [
              0.5555555555555556,
              "#d8576b"
             ],
             [
              0.6666666666666666,
              "#ed7953"
             ],
             [
              0.7777777777777778,
              "#fb9f3a"
             ],
             [
              0.8888888888888888,
              "#fdca26"
             ],
             [
              1,
              "#f0f921"
             ]
            ],
            "type": "contour"
           }
          ],
          "contourcarpet": [
           {
            "colorbar": {
             "outlinewidth": 0,
             "ticks": ""
            },
            "type": "contourcarpet"
           }
          ],
          "heatmap": [
           {
            "colorbar": {
             "outlinewidth": 0,
             "ticks": ""
            },
            "colorscale": [
             [
              0,
              "#0d0887"
             ],
             [
              0.1111111111111111,
              "#46039f"
             ],
             [
              0.2222222222222222,
              "#7201a8"
             ],
             [
              0.3333333333333333,
              "#9c179e"
             ],
             [
              0.4444444444444444,
              "#bd3786"
             ],
             [
              0.5555555555555556,
              "#d8576b"
             ],
             [
              0.6666666666666666,
              "#ed7953"
             ],
             [
              0.7777777777777778,
              "#fb9f3a"
             ],
             [
              0.8888888888888888,
              "#fdca26"
             ],
             [
              1,
              "#f0f921"
             ]
            ],
            "type": "heatmap"
           }
          ],
          "heatmapgl": [
           {
            "colorbar": {
             "outlinewidth": 0,
             "ticks": ""
            },
            "colorscale": [
             [
              0,
              "#0d0887"
             ],
             [
              0.1111111111111111,
              "#46039f"
             ],
             [
              0.2222222222222222,
              "#7201a8"
             ],
             [
              0.3333333333333333,
              "#9c179e"
             ],
             [
              0.4444444444444444,
              "#bd3786"
             ],
             [
              0.5555555555555556,
              "#d8576b"
             ],
             [
              0.6666666666666666,
              "#ed7953"
             ],
             [
              0.7777777777777778,
              "#fb9f3a"
             ],
             [
              0.8888888888888888,
              "#fdca26"
             ],
             [
              1,
              "#f0f921"
             ]
            ],
            "type": "heatmapgl"
           }
          ],
          "histogram": [
           {
            "marker": {
             "colorbar": {
              "outlinewidth": 0,
              "ticks": ""
             }
            },
            "type": "histogram"
           }
          ],
          "histogram2d": [
           {
            "colorbar": {
             "outlinewidth": 0,
             "ticks": ""
            },
            "colorscale": [
             [
              0,
              "#0d0887"
             ],
             [
              0.1111111111111111,
              "#46039f"
             ],
             [
              0.2222222222222222,
              "#7201a8"
             ],
             [
              0.3333333333333333,
              "#9c179e"
             ],
             [
              0.4444444444444444,
              "#bd3786"
             ],
             [
              0.5555555555555556,
              "#d8576b"
             ],
             [
              0.6666666666666666,
              "#ed7953"
             ],
             [
              0.7777777777777778,
              "#fb9f3a"
             ],
             [
              0.8888888888888888,
              "#fdca26"
             ],
             [
              1,
              "#f0f921"
             ]
            ],
            "type": "histogram2d"
           }
          ],
          "histogram2dcontour": [
           {
            "colorbar": {
             "outlinewidth": 0,
             "ticks": ""
            },
            "colorscale": [
             [
              0,
              "#0d0887"
             ],
             [
              0.1111111111111111,
              "#46039f"
             ],
             [
              0.2222222222222222,
              "#7201a8"
             ],
             [
              0.3333333333333333,
              "#9c179e"
             ],
             [
              0.4444444444444444,
              "#bd3786"
             ],
             [
              0.5555555555555556,
              "#d8576b"
             ],
             [
              0.6666666666666666,
              "#ed7953"
             ],
             [
              0.7777777777777778,
              "#fb9f3a"
             ],
             [
              0.8888888888888888,
              "#fdca26"
             ],
             [
              1,
              "#f0f921"
             ]
            ],
            "type": "histogram2dcontour"
           }
          ],
          "mesh3d": [
           {
            "colorbar": {
             "outlinewidth": 0,
             "ticks": ""
            },
            "type": "mesh3d"
           }
          ],
          "parcoords": [
           {
            "line": {
             "colorbar": {
              "outlinewidth": 0,
              "ticks": ""
             }
            },
            "type": "parcoords"
           }
          ],
          "scatter": [
           {
            "marker": {
             "colorbar": {
              "outlinewidth": 0,
              "ticks": ""
             }
            },
            "type": "scatter"
           }
          ],
          "scatter3d": [
           {
            "line": {
             "colorbar": {
              "outlinewidth": 0,
              "ticks": ""
             }
            },
            "marker": {
             "colorbar": {
              "outlinewidth": 0,
              "ticks": ""
             }
            },
            "type": "scatter3d"
           }
          ],
          "scattercarpet": [
           {
            "marker": {
             "colorbar": {
              "outlinewidth": 0,
              "ticks": ""
             }
            },
            "type": "scattercarpet"
           }
          ],
          "scattergeo": [
           {
            "marker": {
             "colorbar": {
              "outlinewidth": 0,
              "ticks": ""
             }
            },
            "type": "scattergeo"
           }
          ],
          "scattergl": [
           {
            "marker": {
             "colorbar": {
              "outlinewidth": 0,
              "ticks": ""
             }
            },
            "type": "scattergl"
           }
          ],
          "scattermapbox": [
           {
            "marker": {
             "colorbar": {
              "outlinewidth": 0,
              "ticks": ""
             }
            },
            "type": "scattermapbox"
           }
          ],
          "scatterpolar": [
           {
            "marker": {
             "colorbar": {
              "outlinewidth": 0,
              "ticks": ""
             }
            },
            "type": "scatterpolar"
           }
          ],
          "scatterpolargl": [
           {
            "marker": {
             "colorbar": {
              "outlinewidth": 0,
              "ticks": ""
             }
            },
            "type": "scatterpolargl"
           }
          ],
          "scatterternary": [
           {
            "marker": {
             "colorbar": {
              "outlinewidth": 0,
              "ticks": ""
             }
            },
            "type": "scatterternary"
           }
          ],
          "surface": [
           {
            "colorbar": {
             "outlinewidth": 0,
             "ticks": ""
            },
            "colorscale": [
             [
              0,
              "#0d0887"
             ],
             [
              0.1111111111111111,
              "#46039f"
             ],
             [
              0.2222222222222222,
              "#7201a8"
             ],
             [
              0.3333333333333333,
              "#9c179e"
             ],
             [
              0.4444444444444444,
              "#bd3786"
             ],
             [
              0.5555555555555556,
              "#d8576b"
             ],
             [
              0.6666666666666666,
              "#ed7953"
             ],
             [
              0.7777777777777778,
              "#fb9f3a"
             ],
             [
              0.8888888888888888,
              "#fdca26"
             ],
             [
              1,
              "#f0f921"
             ]
            ],
            "type": "surface"
           }
          ],
          "table": [
           {
            "cells": {
             "fill": {
              "color": "#EBF0F8"
             },
             "line": {
              "color": "white"
             }
            },
            "header": {
             "fill": {
              "color": "#C8D4E3"
             },
             "line": {
              "color": "white"
             }
            },
            "type": "table"
           }
          ]
         },
         "layout": {
          "annotationdefaults": {
           "arrowcolor": "#2a3f5f",
           "arrowhead": 0,
           "arrowwidth": 1
          },
          "colorscale": {
           "diverging": [
            [
             0,
             "#8e0152"
            ],
            [
             0.1,
             "#c51b7d"
            ],
            [
             0.2,
             "#de77ae"
            ],
            [
             0.3,
             "#f1b6da"
            ],
            [
             0.4,
             "#fde0ef"
            ],
            [
             0.5,
             "#f7f7f7"
            ],
            [
             0.6,
             "#e6f5d0"
            ],
            [
             0.7,
             "#b8e186"
            ],
            [
             0.8,
             "#7fbc41"
            ],
            [
             0.9,
             "#4d9221"
            ],
            [
             1,
             "#276419"
            ]
           ],
           "sequential": [
            [
             0,
             "#0d0887"
            ],
            [
             0.1111111111111111,
             "#46039f"
            ],
            [
             0.2222222222222222,
             "#7201a8"
            ],
            [
             0.3333333333333333,
             "#9c179e"
            ],
            [
             0.4444444444444444,
             "#bd3786"
            ],
            [
             0.5555555555555556,
             "#d8576b"
            ],
            [
             0.6666666666666666,
             "#ed7953"
            ],
            [
             0.7777777777777778,
             "#fb9f3a"
            ],
            [
             0.8888888888888888,
             "#fdca26"
            ],
            [
             1,
             "#f0f921"
            ]
           ],
           "sequentialminus": [
            [
             0,
             "#0d0887"
            ],
            [
             0.1111111111111111,
             "#46039f"
            ],
            [
             0.2222222222222222,
             "#7201a8"
            ],
            [
             0.3333333333333333,
             "#9c179e"
            ],
            [
             0.4444444444444444,
             "#bd3786"
            ],
            [
             0.5555555555555556,
             "#d8576b"
            ],
            [
             0.6666666666666666,
             "#ed7953"
            ],
            [
             0.7777777777777778,
             "#fb9f3a"
            ],
            [
             0.8888888888888888,
             "#fdca26"
            ],
            [
             1,
             "#f0f921"
            ]
           ]
          },
          "colorway": [
           "#636efa",
           "#EF553B",
           "#00cc96",
           "#ab63fa",
           "#FFA15A",
           "#19d3f3",
           "#FF6692",
           "#B6E880",
           "#FF97FF",
           "#FECB52"
          ],
          "font": {
           "color": "#2a3f5f"
          },
          "geo": {
           "bgcolor": "white",
           "lakecolor": "white",
           "landcolor": "#E5ECF6",
           "showlakes": true,
           "showland": true,
           "subunitcolor": "white"
          },
          "hoverlabel": {
           "align": "left"
          },
          "hovermode": "closest",
          "mapbox": {
           "style": "light"
          },
          "paper_bgcolor": "white",
          "plot_bgcolor": "#E5ECF6",
          "polar": {
           "angularaxis": {
            "gridcolor": "white",
            "linecolor": "white",
            "ticks": ""
           },
           "bgcolor": "#E5ECF6",
           "radialaxis": {
            "gridcolor": "white",
            "linecolor": "white",
            "ticks": ""
           }
          },
          "scene": {
           "xaxis": {
            "backgroundcolor": "#E5ECF6",
            "gridcolor": "white",
            "gridwidth": 2,
            "linecolor": "white",
            "showbackground": true,
            "ticks": "",
            "zerolinecolor": "white"
           },
           "yaxis": {
            "backgroundcolor": "#E5ECF6",
            "gridcolor": "white",
            "gridwidth": 2,
            "linecolor": "white",
            "showbackground": true,
            "ticks": "",
            "zerolinecolor": "white"
           },
           "zaxis": {
            "backgroundcolor": "#E5ECF6",
            "gridcolor": "white",
            "gridwidth": 2,
            "linecolor": "white",
            "showbackground": true,
            "ticks": "",
            "zerolinecolor": "white"
           }
          },
          "shapedefaults": {
           "line": {
            "color": "#2a3f5f"
           }
          },
          "ternary": {
           "aaxis": {
            "gridcolor": "white",
            "linecolor": "white",
            "ticks": ""
           },
           "baxis": {
            "gridcolor": "white",
            "linecolor": "white",
            "ticks": ""
           },
           "bgcolor": "#E5ECF6",
           "caxis": {
            "gridcolor": "white",
            "linecolor": "white",
            "ticks": ""
           }
          },
          "title": {
           "x": 0.05
          },
          "xaxis": {
           "automargin": true,
           "gridcolor": "white",
           "linecolor": "white",
           "ticks": "",
           "zerolinecolor": "white",
           "zerolinewidth": 2
          },
          "yaxis": {
           "automargin": true,
           "gridcolor": "white",
           "linecolor": "white",
           "ticks": "",
           "zerolinecolor": "white",
           "zerolinewidth": 2
          }
         }
        },
        "yaxis": {
         "type": "log"
        }
       }
      },
      "text/html": [
       "<div>\n",
       "        \n",
       "        \n",
       "            <div id=\"6e6f5f92-86cc-4686-a2e6-c5101ca80e6e\" class=\"plotly-graph-div\" style=\"height:525px; width:100%;\"></div>\n",
       "            <script type=\"text/javascript\">\n",
       "                require([\"plotly\"], function(Plotly) {\n",
       "                    window.PLOTLYENV=window.PLOTLYENV || {};\n",
       "                    \n",
       "                if (document.getElementById(\"6e6f5f92-86cc-4686-a2e6-c5101ca80e6e\")) {\n",
       "                    Plotly.newPlot(\n",
       "                        '6e6f5f92-86cc-4686-a2e6-c5101ca80e6e',\n",
       "                        [{\"name\": \"uui_high_score_pairs\", \"nbinsx\": 100, \"opacity\": 0.75, \"type\": \"histogram\", \"x\": [2.220446049250313e-16, 2.220446049250313e-16, 0.0009276611952340197, 2.220446049250313e-16, 2.220446049250313e-16, 0.04196183344361615, 2.220446049250313e-16, 0.18644316742758693, 0.008140366362662133, 0.010114584945322691, 2.220446049250313e-16, 0.03278581766263944, 2.220446049250313e-16, 2.220446049250313e-16, 0.017357217934972802, 2.220446049250313e-16, 0.06329494229100208, 2.220446049250313e-16, 0.0009438416449406573, 2.220446049250313e-16, 2.220446049250313e-16, 0.017346251628466258, 2.220446049250313e-16, 0.007896651977578495, 0.0, 2.220446049250313e-16, 2.220446049250313e-16, 2.220446049250313e-16, 2.220446049250313e-16, 2.220446049250313e-16, 2.220446049250313e-16, 0.08385715140681782, 0.0016460916509671852, 0.06685962268600043, 0.0, 2.220446049250313e-16, 2.220446049250313e-16, 0.0005857975760960032, 0.020391681365688474, 0.09461778213929362, 2.220446049250313e-16, 0.018665867623056664, 2.220446049250313e-16, 0.0011318622755623897, 2.220446049250313e-16, 0.007010935413030439, 2.220446049250313e-16, 2.220446049250313e-16, 2.220446049250313e-16, 0.008152838528878603, 0.005119878247577758, 2.220446049250313e-16, 0.0025919229687244583, 0.006129140218862128, 2.220446049250313e-16, 2.220446049250313e-16, 0.01077207914201106, 0.08276446791707459, 2.220446049250313e-16, 0.006192010000093395, 2.220446049250313e-16, 0.3779784112196676, 0.0014760155646610373, 0.005564298869893292, 0.07307108729756051, 2.220446049250313e-16, 0.04634333380703748, 2.220446049250313e-16, -2.220446049250313e-16, 2.220446049250313e-16, 2.220446049250313e-16, 0.0009824150126764852, 0.049620607043042386, 0.23531186826324357, 8.537558855770122e-06, 2.220446049250313e-16, 2.220446049250313e-16, 0.007206431103126021, 0.04588139201134844, 2.220446049250313e-16, 2.220446049250313e-16, 0.011240225119801495, 0.04218224072994048, 0.0029018098567524797, 0.002059734421668291, 0.0030809130888977965, 0.21331339891019985, 2.220446049250313e-16, 0.19236424106634664, 2.220446049250313e-16, 2.220446049250313e-16, 0.054883160502892325, 0.0018674152616708906, 0.156678151090768, 2.220446049250313e-16, 0.0009896042543099393, 0.06941609774365487, 2.220446049250313e-16, 0.0, 2.220446049250313e-16, 0.014806540910301313, 0.023690970298455682, 0.000625939933782238, 0.01984316169922029, 0.0009438416449406573, 0.007370480297308135, 0.06707387861768943, 2.220446049250313e-16, 0.06834370424775871, 2.220446049250313e-16, 0.004276364268637534, 0.002059734421668291, 0.023007192723292103, 2.220446049250313e-16, 0.023960393842080707, 0.0009438416449406573, 2.220446049250313e-16, 0.043012308806896216, 2.785225774470934e-05, 0.011508117026346354, 2.220446049250313e-16, 2.220446049250313e-16, 0.03991875199445538, 5.600433110064529e-05, 0.004106793532296038, 0.007843258350778481, 0.004449301825231289, 2.220446049250313e-16, 2.220446049250313e-16, 2.220446049250313e-16, 2.220446049250313e-16, 2.220446049250313e-16, 0.0004237171501352277, 0.0007875580093000822, 2.220446049250313e-16, 2.220446049250313e-16, 2.220446049250313e-16, 2.220446049250313e-16, 2.220446049250313e-16, 0.011552429920615115, 0.0, 0.0347803279281369, 2.220446049250313e-16, 0.0012322863584305344, 2.220446049250313e-16, 0.022881156450098805, 0.0621491371907853, 2.220446049250313e-16, 2.220446049250313e-16, 2.220446049250313e-16, 2.220446049250313e-16, 0.003628088662499085, 2.220446049250313e-16, 2.220446049250313e-16, 2.220446049250313e-16, 2.220446049250313e-16, 2.220446049250313e-16, 2.220446049250313e-16, 0.06896662922727159, 0.003121780022098064, 2.220446049250313e-16, 2.220446049250313e-16, 0.0016279026365777494, 2.220446049250313e-16, 2.220446049250313e-16, 0.035808840897221916, 2.220446049250313e-16, 0.0027808738308143788, 2.220446049250313e-16, 2.220446049250313e-16, 2.220446049250313e-16, 2.220446049250313e-16, 0.022070543631219075, 2.220446049250313e-16, 8.537558855770122e-06, 0.01722367331473129, 0.006318908805437395, 0.008552554674660873, 2.220446049250313e-16, 0.029734365907063243, 0.0, 2.220446049250313e-16, 2.220446049250313e-16, 2.220446049250313e-16, 2.220446049250313e-16, 2.220446049250313e-16, 0.5021997471286743, 2.220446049250313e-16, 0.0009568094039693609, 3.596856956433747e-05, 0.00044174346483583093, 0.03028906097177031, 2.220446049250313e-16, -2.220446049250313e-16, 2.220446049250313e-16, 0.007072429065795527, 2.220446049250313e-16, 2.220446049250313e-16, 0.003705187572141111, 2.220446049250313e-16, 8.537558855770122e-06, 2.220446049250313e-16, 0.19005118010050748, 0.0136469171039737, 0.07383994733437282, 2.220446049250313e-16, 2.220446049250313e-16, 2.220446049250313e-16, 0.038954913826282356, 0.015678559596586816, 0.003742175295635919, 2.220446049250313e-16, 0.03624595201653713, 0.011417934179345113, 0.07503785622373382, 0.0014248745096443471, 0.0006851662332328923, 2.220446049250313e-16, 0.12617923022240063, 2.220446049250313e-16, 2.220446049250313e-16, 2.220446049250313e-16, 0.008447038884517921, 2.220446049250313e-16, 2.220446049250313e-16, 2.220446049250313e-16, 2.220446049250313e-16, 0.007273123825890737, 2.220446049250313e-16, 0.006930450219571838, 2.220446049250313e-16, 2.220446049250313e-16, 0.004848985099123904, 2.220446049250313e-16, 0.0009276611952340197, 2.220446049250313e-16, 2.220446049250313e-16, 2.220446049250313e-16, 0.0, 2.220446049250313e-16, 0.032501936819029686, 2.220446049250313e-16, 0.005046289566172701, 2.220446049250313e-16, 2.220446049250313e-16, 0.0009438416449406573, 2.220446049250313e-16, 0.03359048088407812, 2.220446049250313e-16, 0.10527456911812716, 2.220446049250313e-16, 0.0005933354212037667, 2.220446049250313e-16, 0.0009438416449406573, 2.220446049250313e-16, 0.057024560811157254, 2.220446049250313e-16, 0.03290434546438992, 0.10910801976084361, 2.220446049250313e-16, 2.220446049250313e-16, 2.220446049250313e-16, 7.120489928680307e-05, 0.11283584093057097, 2.220446049250313e-16, 2.220446049250313e-16, 2.220446049250313e-16, 0.0006851662332328923, 0.0692229921478098, 0.00219470784945186, 2.220446049250313e-16, 0.07087447365276722, 2.220446049250313e-16, 0.00036216268412825325, 2.220446049250313e-16, 2.220446049250313e-16, 0.0009276611952340197, 0.052296444656208196, 2.220446049250313e-16, 2.220446049250313e-16, 2.220446049250313e-16, 2.220446049250313e-16, 0.0, 2.220446049250313e-16, 2.220446049250313e-16, 2.220446049250313e-16, 0.05262815387283648, 0.02459810674252083, 0.05480422311267408, 2.220446049250313e-16, 2.220446049250313e-16, 0.06893806102669608, 2.220446049250313e-16, 2.220446049250313e-16, 0.007226680898292259, 0.025397040683735272, 2.220446049250313e-16, 2.220446049250313e-16, 2.220446049250313e-16, 0.33419325599271443, 2.220446049250313e-16, 0.3374469918942976, 0.0032767475302218907, 2.220446049250313e-16, 2.220446049250313e-16, 0.02816404421209806, 2.220446049250313e-16, 2.220446049250313e-16, 2.220446049250313e-16, 2.8913433187005566e-05, 2.220446049250313e-16, 2.220446049250313e-16, 0.019712421930261237, 0.004520729489208897, 0.0015637226142070082, 0.10379623000154947, 0.008509056029021744, 0.008829848760269043, 0.0009751343128597822, 2.220446049250313e-16, 0.21012657827149483, 2.220446049250313e-16, 2.220446049250313e-16, 2.220446049250313e-16, 2.220446049250313e-16, -2.220446049250313e-16, 0.009928350992211232, 0.0051951470167383995, 0.017239013102141265]}, {\"name\": \"uui_grey_score_pairs\", \"nbinsx\": 100, \"opacity\": 0.75, \"type\": \"histogram\", \"x\": [0.0863797448527509, 2.220446049250313e-16, 2.220446049250313e-16, 0.0014200405947800698, 0.026949765866369657, 2.220446049250313e-16, 0.004244715627291895, 2.220446049250313e-16, 2.220446049250313e-16, 0.24656843205031553, 0.00019564364128532574, 0.17404827462478045, 0.0022202040805259227, 0.002863090985052441, 2.220446049250313e-16, 0.06906018322590035, -2.220446049250313e-16, 0.04731506961216181, 0.030334298674515647, 2.220446049250313e-16, 2.220446049250313e-16, 0.07345007343974319, 0.03341983530000847, 0.016534181874445997, 2.220446049250313e-16, 2.220446049250313e-16, 0.005536500850234272, 0.01012151306210618, 0.00035602925162137034, 2.220446049250313e-16, 2.220446049250313e-16, 2.220446049250313e-16, 2.220446049250313e-16, 0.0019191951348364045, 0.00015401025156336345, 0.17186312005711035, 2.220446049250313e-16, 0.004609978395888725, 0.12518740367754067, 0.22950814208247872, 2.220446049250313e-16, 2.220446049250313e-16, 0.058415019981062355, 0.014050143858490238, 0.012742591175162854, 0.019912247334976207, 2.220446049250313e-16, 2.220446049250313e-16, 0.020912964494811503, 2.220446049250313e-16, 0.008191776735434253, 2.220446049250313e-16, 0.41357964908474987, 0.01419920818215159, 0.0011318622755623897, 2.220446049250313e-16, 0.0033877887886255564, 2.220446049250313e-16, 2.220446049250313e-16, 0.035165925740936355, 2.220446049250313e-16, 0.0293469421343312, 0.0009438416449406573, 0.3930314027926245, 2.220446049250313e-16, 0.05039042678428307, 0.005413455322318628, 0.39306389439132594, 0.000373901676933297, 0.012590206105991708, 0.012571937860825222, 2.220446049250313e-16, 0.008660503613225679, 0.013629707637599409, 0.023960393842080707, 0.008425663052128551, 0.004270544177097491, 2.220446049250313e-16, 0.010881637626946494, 0.021644766558229445, 2.220446049250313e-16, 0.007098727512070968, 0.0030809130888977965, 0.0019191951348364045, 2.220446049250313e-16, 0.022458244249825232, 2.220446049250313e-16, 2.220446049250313e-16, 2.220446049250313e-16, 0.007460260173359434, 0.00889650583675794, 0.05933526171640224, 0.0032195977921760655, 0.09780241975258552, 0.1051418851412792, 0.006190822349537273, 0.0018874859786878195, 0.11122804952203014, 0.023490155175660665, 0.02920819269586228, 0.0021359426795792835, 0.0035643235009164, 0.0010905666851620532, 0.002859588026087656, 2.220446049250313e-16, 2.220446049250313e-16, 2.220446049250313e-16, 0.055548329296500665, 0.006307913644708063, 0.016828982232319545, 0.008973964609275131, 0.005164997701066265, 2.220446049250313e-16, 0.0037004513221946533, 2.220446049250313e-16, 2.220446049250313e-16, 2.220446049250313e-16, 0.0256959258608197, 0.0022982906258238733, 0.0021818645123077296, 0.021876933700291312, 2.220446049250313e-16, 2.220446049250313e-16, 0.036627481604336154, 2.220446049250313e-16, 0.15299219146473586, 0.006776377506450104, 0.06959160718290847, 0.04969344818546684, 0.006419678574663634, 0.22165404751592133, 0.032774438468564204, 2.220446049250313e-16, 2.220446049250313e-16, 2.220446049250313e-16, 2.220446049250313e-16, 2.220446049250313e-16, 0.031548048508196924, 0.11630549671840029, 2.220446049250313e-16, 0.001731603030756368, 0.024820629946989747, 2.220446049250313e-16, 2.220446049250313e-16, 0.0022982906258238733, 2.220446049250313e-16, 0.0018264855429677151, 0.03360769784043571, 0.0, 2.220446049250313e-16, 0.00010069608129881225, 0.019008684033824164, 0.0036496350364965124, 0.07351847741398987, 0.010756347490773144, 0.01181701985872241, 2.220446049250313e-16, 0.0027138659039258606, 2.220446049250313e-16, 2.220446049250313e-16, 0.17645029007975233, 0.022646918256964965, 2.220446049250313e-16, 0.21085771027029598, 0.20044005661655617, 2.220446049250313e-16, 0.0018264855429677151, 0.023960393842080707, 0.01937431548520885, 2.220446049250313e-16, 0.001471619424082804, 0.02148414612696692, 0.041279675468515964, 2.220446049250313e-16, 2.220446049250313e-16, 0.0009438416449406573, 0.023571983957674236, 2.220446049250313e-16, 0.002889168964552824, 2.220446049250313e-16, 0.023960393842080707, 0.019194804782254993, 2.220446049250313e-16, 2.220446049250313e-16, 0.0154240531388119, 0.040655641703072676, 2.220446049250313e-16, 0.003369906296176506, 0.011179905065571316, 0.026418621779327855, 0.0028438321963514257, 0.00987298772014844, 0.0027936994945589877, 0.16817950489417888, 0.00014774751164603472, 0.15823922642003907, 0.04962024311654156, 2.220446049250313e-16, 0.0048007966307955785, 2.220446049250313e-16, 2.220446049250313e-16, 0.03359371926112931, 2.220446049250313e-16, 0.00020091632721874753, 0.028815128031438597, 0.0009438416449406573, 0.07998430670115408, 2.220446049250313e-16, 2.220446049250313e-16, 2.220446049250313e-16, 0.01278071265527081, 2.220446049250313e-16, 0.004408544612271359, 0.2629657755133067, 2.220446049250313e-16, 0.07139703823474586, 0.00028966523713447323, 2.220446049250313e-16, 0.0030023432313404097, 0.03681362875357019, 0.0012517793255855114, 2.220446049250313e-16, 0.005134843756422147, 0.026017766187595437, 2.220446049250313e-16, 2.220446049250313e-16, 0.0011141375086020089, 0.021567604515801975, 2.220446049250313e-16, 0.0009276611952340197, 2.220446049250313e-16, 0.0051188954310218415, 0.0053391888764950934, 2.220446049250313e-16, 0.006960744598200064, 2.220446049250313e-16, 2.220446049250313e-16, 2.220446049250313e-16, 0.006835162596206312, 0.003268847031119404, 2.220446049250313e-16, 2.220446049250313e-16, 0.021389992125446233, 0.05252917873613239, 2.220446049250313e-16, 0.399368070080259, 2.220446049250313e-16, 0.02697383302423062, 0.048435366836239946, 2.220446049250313e-16, 2.220446049250313e-16, 2.220446049250313e-16, 0.028423006089460023, 2.220446049250313e-16, 0.028360299905057396, 0.017495826305983342, 0.008248083838293119, 0.005124501341389531, 2.220446049250313e-16, 0.023960393842080707, 0.29294124087272044, 0.21979204956381648, 2.220446049250313e-16, 2.220446049250313e-16, 0.002832395568427404, 0.03849602497144311, 0.0030078849055966694, 2.220446049250313e-16, 0.007685348666484071, 0.0009751343128597822, 0.010471026798735128, 2.220446049250313e-16, 2.220446049250313e-16, 0.002021630724962975, 0.01269199807208976, 0.038906607692569595, 0.001731603030756368, 0.059153783069191834, 0.000632123647228422, 0.004273344784647026, 2.220446049250313e-16, 2.220446049250313e-16, 0.02186044101472806, 0.19438686851675413, 2.220446049250313e-16, 2.220446049250313e-16, 0.010240521918880141, 0.00541593383133443, 0.03618547745017342, 0.0015996450131439133, 2.220446049250313e-16, 0.02631379806899703, 0.030258198399495395, 0.024169742295916063, 0.0022180573200237808, 0.0333243464266163, 0.07138586165853256, 2.220446049250313e-16, 2.220446049250313e-16, 0.01372913480253779, 0.008008294100682822, 2.220446049250313e-16, 0.06637538256283981, 0.005290139531415439, 0.013253192311815876, 0.4030078292813264, 0.0037846552682208046, 0.003982410849826201, 0.1552890678528377, 0.09014283385495137, 2.220446049250313e-16, 0.4481209293896039, 0.014005722584624625, 0.0011141375086020089, 2.220446049250313e-16, 0.1132645907872466, 2.220446049250313e-16, 2.220446049250313e-16, 0.0012787093363311186, 0.05144369590020326, 2.220446049250313e-16, 0.007315503622398745, 0.000373901676933297, 2.220446049250313e-16, 2.220446049250313e-16, 0.019570175334292284, 2.220446049250313e-16, 0.001968991439704637, 0.0924490103228578]}, {\"name\": \"non_uui_grey_score_pairs\", \"nbinsx\": 100, \"opacity\": 0.75, \"type\": \"histogram\", \"x\": [2.220446049250313e-16, 0.07099048948257569, 0.026178523815990618, 2.220446049250313e-16, 0.0011314004234787012, 2.220446049250313e-16, 2.220446049250313e-16, 2.220446049250313e-16, 2.220446049250313e-16, 2.220446049250313e-16, 2.220446049250313e-16, 0.01529652645784818, 2.220446049250313e-16, 0.07695036253188081, 2.220446049250313e-16, 2.220446049250313e-16, 2.220446049250313e-16, 0.015156071501827073, 0.009163042029484703, 0.007565552015781796, 2.220446049250313e-16, 2.220446049250313e-16, 2.220446049250313e-16, 0.003454241755120213, 2.220446049250313e-16, 0.003132344185174163, 0.029331022977977517, 2.220446049250313e-16, 0.18945422798283873, 2.220446049250313e-16, 2.220446049250313e-16, 0.009044939270347885, 2.220446049250313e-16, 0.009257595123478901, 0.004339818998768785, 0.004853326685733905, 0.00044174346483583093, 0.001622493866599073, 8.537558855770122e-06, 2.220446049250313e-16, 2.220446049250313e-16, 2.220446049250313e-16, 2.220446049250313e-16, 0.020356770740748487, 0.0007990412782107326, 2.220446049250313e-16, 0.0011318622755623897, 2.220446049250313e-16, 0.0007990412782107326, 2.220446049250313e-16, 2.220446049250313e-16, 2.220446049250313e-16, 2.220446049250313e-16, 2.220446049250313e-16, 0.0001920188248205612, 0.0, 0.09213393029316597, 2.220446049250313e-16, 2.220446049250313e-16, 0.03625014288994466, 0.0032050612838417925, 0.07314187209427525, 2.220446049250313e-16, 0.0011318622755623897, 2.220446049250313e-16, 2.220446049250313e-16, 0.007805123793649393, 2.220446049250313e-16, 2.220446049250313e-16, 2.220446049250313e-16, 2.220446049250313e-16, 0.06573687656371818, 2.220446049250313e-16, 0.0003691994340153659, 0.04794921861296808, 2.220446049250313e-16, 2.220446049250313e-16, 0.0021818645123077296, 2.220446049250313e-16, 2.220446049250313e-16, 2.220446049250313e-16, 2.220446049250313e-16, 0.02527402527353817, 0.021306840800363158, 0.004052476877984601, 2.220446049250313e-16, 0.13699489820342703, 2.220446049250313e-16, 0.006173369776167892, 2.220446049250313e-16, 0.0024701560987338, 0.010133542534372708, 0.10389319360442983, 0.01602000381098534, 2.220446049250313e-16, 2.220446049250313e-16, 2.220446049250313e-16, 2.220446049250313e-16, 2.220446049250313e-16, 0.007083786371831491, 2.220446049250313e-16, 2.220446049250313e-16, 0.30081992683404435, 0.0009438416449406573, 2.220446049250313e-16, 2.220446049250313e-16, 2.220446049250313e-16, 2.220446049250313e-16, 2.220446049250313e-16, 2.220446049250313e-16, 2.220446049250313e-16, 2.220446049250313e-16, 2.220446049250313e-16, 2.220446049250313e-16, 0.0031764977717496645, 0.06367082243095556, 2.220446049250313e-16, 2.220446049250313e-16, 2.220446049250313e-16, 2.220446049250313e-16, 0.003475050803851909, 2.220446049250313e-16, 0.0023913944154723143, 2.220446049250313e-16, 2.220446049250313e-16, 0.03182919377831517, 2.220446049250313e-16, 2.220446049250313e-16, 0.055504311994874045, 2.220446049250313e-16, 2.220446049250313e-16, 0.0006121499010006692, 2.220446049250313e-16, 2.220446049250313e-16, 2.220446049250313e-16, 2.220446049250313e-16, 2.220446049250313e-16, 2.220446049250313e-16, 2.220446049250313e-16, 0.026302609621702056, 2.220446049250313e-16, 2.220446049250313e-16, 2.220446049250313e-16, 8.537558855770122e-06, 2.220446049250313e-16, 0.05310498496848903, 2.220446049250313e-16, 2.220446049250313e-16, 0.5380852632565021, 0.00044174346483583093, 0.002673810316643932, 2.220446049250313e-16, 2.220446049250313e-16, 2.220446049250313e-16, 2.220446049250313e-16, 2.220446049250313e-16, 2.220446049250313e-16, 0.033776654501553094, 2.220446049250313e-16, 0.014127780045742333, 2.220446049250313e-16, 2.220446049250313e-16, 2.220446049250313e-16, 2.220446049250313e-16, 8.537558855770122e-06, 0.001731603030756368, 0.03296462211393336, 2.220446049250313e-16, 0.0601617113096391, 2.220446049250313e-16, 2.220446049250313e-16, 0.019467716838862836, 2.220446049250313e-16, 2.220446049250313e-16, 2.220446049250313e-16, 2.220446049250313e-16, 2.220446049250313e-16, 2.220446049250313e-16, 2.220446049250313e-16, 2.220446049250313e-16, 2.220446049250313e-16, 2.220446049250313e-16, 2.220446049250313e-16, 2.220446049250313e-16, -2.220446049250313e-16, 2.220446049250313e-16, 2.220446049250313e-16, 0.008676437383167812, 0.0073516039631270624, 0.007602218188192622, 2.220446049250313e-16, 2.220446049250313e-16, 2.220446049250313e-16, 2.220446049250313e-16, 2.220446049250313e-16, 0.001755683019327603, 0.0011141375086020089, 2.220446049250313e-16, 2.220446049250313e-16, 2.220446049250313e-16, 0.21464148256977245, 0.016969321300542406, 2.220446049250313e-16, 0.0026703975631728882, 2.220446049250313e-16, 0.09167942839865995, 0.03069704974843357, 2.220446049250313e-16, 2.220446049250313e-16, 0.004287442184899848, 0.004254061743849902, 2.220446049250313e-16, 0.19050848267789966, 2.220446049250313e-16, 0.14380189663503207, 2.220446049250313e-16, 2.220446049250313e-16, 0.001622493866599073, 2.220446049250313e-16, 2.220446049250313e-16, 0.030672682991584432, 2.220446049250313e-16, 0.006186376694875539, 0.11431295191054547, 2.220446049250313e-16, 0.0036811269327621243, 2.220446049250313e-16, 2.220446049250313e-16, 2.220446049250313e-16, 0.000302520716244592, 2.220446049250313e-16, 0.003642999358526966, 2.220446049250313e-16, 2.220446049250313e-16, 0.000555093020845554, 2.220446049250313e-16, 0.01457917226757477, 0.02971894451130297, 2.220446049250313e-16, 0.007373504357672367, 2.220446049250313e-16, 2.220446049250313e-16, 2.220446049250313e-16, 2.220446049250313e-16, 2.220446049250313e-16, 0.0, 2.220446049250313e-16, 2.220446049250313e-16, 0.012509817105066934, 2.220446049250313e-16, 2.220446049250313e-16, 2.220446049250313e-16, -2.220446049250313e-16, 2.220446049250313e-16, 0.03764699351618517, 2.220446049250313e-16, 0.027679558630967493, 0.007509199297123903, 2.220446049250313e-16, 0.0023913944154723143, 0.5263450001045047, 2.220446049250313e-16, 0.03067543691034702, 0.004081309539376687, 0.005302791834788656, 0.34064118704381474, 2.220446049250313e-16, 2.220446049250313e-16, 0.004719671123413316, 0.002204616148675065, 0.038180379302532375, 2.220446049250313e-16, 0.03296174255045892, 2.220446049250313e-16, 2.220446049250313e-16, 2.220446049250313e-16, 0.10446652881100993, 2.220446049250313e-16, 2.220446049250313e-16, 2.220446049250313e-16, 0.2797994120453986, 2.220446049250313e-16, 2.220446049250313e-16, 2.220446049250313e-16, 2.220446049250313e-16, 2.220446049250313e-16, 2.220446049250313e-16, 0.03304044245709814, 0.06836916906876456, 2.220446049250313e-16, 0.020512114227418388, 2.220446049250313e-16, 0.008554155103871475, 2.220446049250313e-16, 2.220446049250313e-16, 2.220446049250313e-16, 2.220446049250313e-16, 2.220446049250313e-16, 0.020391681365688474, 2.220446049250313e-16, 2.220446049250313e-16, 2.220446049250313e-16, 2.220446049250313e-16, 0.002059734421668291, 2.220446049250313e-16, 2.220446049250313e-16, 2.220446049250313e-16, 0.002490663892367073, 2.220446049250313e-16, 2.220446049250313e-16, 2.220446049250313e-16, 2.220446049250313e-16, 2.220446049250313e-16, 2.220446049250313e-16, 0.06668300267502292, 2.220446049250313e-16, 0.021976781780178145, 0.016229338055616438, 2.220446049250313e-16, 2.220446049250313e-16, 0.016353108497936586, 0.014539884255652002, 0.06668300267502292, 2.220446049250313e-16, 0.1042764028249219, 2.220446049250313e-16, 2.220446049250313e-16, 0.005130646632265146, 2.220446049250313e-16]}, {\"name\": \"uui_low_score_pairs\", \"nbinsx\": 100, \"opacity\": 0.75, \"type\": \"histogram\", \"x\": [0.388681464472147, 2.220446049250313e-16, 2.220446049250313e-16, 2.220446049250313e-16, 0.004106793532296038, 2.220446049250313e-16, 0.287649920259603, 0.2531949331264597, 0.015245554308234155, 0.5135273152807949, 0.24976222965102146, 0.26473813597140405, 2.220446049250313e-16, 2.220446049250313e-16, 0.049583826275259035, 0.051846870994085026, 0.09310625498946257, 0.013081957653250043, 0.0016763471420316867, 0.07456563551472872, 0.01544264765120229, 0.004106793532296038, 0.06959160718290847, 2.220446049250313e-16, 0.000628784157752138, 0.23448212639028898, 0.4963363760748275, 2.220446049250313e-16, 0.022976766846886543, 0.0015572290787123633, 0.000542012743338427, 0.09437957598731095, 0.011055667100034139, 2.220446049250313e-16, 2.220446049250313e-16, 2.220446049250313e-16, 0.06661055899691082, 0.013423066565994679, 0.07876745655618966, 0.18759615953640385, 0.2516450028714228, 0.006902941517882288, 0.15153513586751455, 2.220446049250313e-16, 0.11007897250289322, 0.053169960651026194, 0.08246111493203823, 0.03609383964340429, 0.09403322200097286, 2.220446049250313e-16, 0.19366029043935873, 2.220446049250313e-16, 0.001374571096476096, 0.10605115815722754, 0.007840140408201579, 0.26857930657147877, 0.012204533335593348, 0.06959160718290847, 0.18507626566304625, 0.12743459971843196, 0.10841029516345702, 0.06323642826842124, 0.00028720842517149237, 0.0011318622755623897, 0.0016885289565943262, 0.20343027474875452, 0.0037073187715616074, 0.014790369042656737, 2.220446049250313e-16, 0.003018439094095049, 0.07272273618093328, 2.220446049250313e-16, 0.5311093468362114, 2.220446049250313e-16, 0.0023481892072402255, 0.010812605498461192, 2.220446049250313e-16, 0.002795891714005516, 0.25771719044587227, 0.11803317767151111, 2.220446049250313e-16, 2.220446049250313e-16, 0.06220393378412714, 0.06959160718290847, 0.10253131322624698, 2.220446049250313e-16, 0.06959160718290847, 0.14055676757009983, 0.054385028106033184, 0.004768494110411137, 0.12310984344565745, 2.220446049250313e-16, 0.23469807184509428, 0.004106793532296038, 0.005063323673818121, 0.039286401011204286, 0.08516482713100859, 2.220446049250313e-16, 0.09432325829979027, 0.18948598653454785, 0.012402778800455483, 0.09350322081026974, 0.25079305056623946, 2.220446049250313e-16, 0.0018100804382121805, 0.1491908720394206, 0.11743454477343884, 0.06959160718290847, 0.06033535000925505, 2.220446049250313e-16, 0.0028256680595702965, 0.530000881341284, 0.023205031719978675, 0.04293313423669287, 0.0011318622755623897, 0.5293263945340585, 0.2550832019362588, 2.220446049250313e-16, 0.2328735559411298, 0.1581061763191367, 0.21462046870673313, 0.06959160718290847, 0.059868877821530164, 0.11010269391671501, 0.20178459202520915, 0.04992935140881394, 0.0010413149430701374, 2.220446049250313e-16, 0.050110038261947265, 0.004106793532296038, 0.18585991643984345, 0.0017473517982427023, 0.07547802057525044, 0.06424129288619851, 2.220446049250313e-16, 0.02925383094375933, 0.12100896098781322, 0.004106793532296038, 0.07273212487543146, 2.220446049250313e-16, 0.010609118067847922, 0.11261242076430589, 0.18874736781542067, 0.5178646673642185, 0.0034175133774536626, 0.03105704832747036, 2.220446049250313e-16, 0.0012275323569247432, 0.2490524122399722, 0.17224615793472908, 0.06959160718290847, 0.020761262509167988, 2.220446049250313e-16, 0.06427387559017339, 0.0012447784080408253, 0.03604605229581059, 0.3889354048804503, 0.001450206295573686, 0.08148185980925526, 0.24188720263550278, 0.251206538026415, 0.21227193251041276, 0.027986662373829407, 0.17545812261788973, 0.005692806700735797, 2.220446049250313e-16, 0.0049743252559170115, 0.04074574452904123, 0.0073168637731265695, 0.031927129336757565, 0.5200311440492434, 0.08579434331794744, 2.220446049250313e-16, 0.12858130619052954, 0.2475500426708762, 0.1039254707924534, 2.220446049250313e-16, 0.0729843942803381, 0.18439913397641194, 0.004106793532296038, 0.11993363168233084, 0.10387284670185992, 0.5345643938355649, 0.012483383520961233, 0.07068252210333903, 0.0010285998115753259, 0.09997148500504216, 0.06959160718290847, 0.3080102123888466, 0.0009350829348422351, 0.001646432103901474, 0.021357117770348766, 0.08237960661710098, 0.12987930211789278, 0.06959160718290847, 0.11471536491696721, 0.03554819109305596, 2.220446049250313e-16, 0.010006389870635957, 0.039294538243084376, 0.0, 0.003524520090948391, 0.2010671196011834, 0.002384301329662053, 0.1703853726647584, 0.06172063872007594, 2.220446049250313e-16, 0.1023525978733919, 0.01301010217405496, 0.0028300025578261723, 2.220446049250313e-16, 0.012221990237426317, 0.06959160718290847, 0.10057370313120273, 0.16260669422978136, 0.17337869239613046, 0.27592028756436326, 0.11610346983931297, 2.220446049250313e-16, 2.220446049250313e-16, 2.220446049250313e-16, 0.06959160718290847, 0.0011318622755623897, 0.17083734986099774, 0.24062307605511057, 2.220446049250313e-16, 0.002970381555711943, 2.220446049250313e-16, 2.220446049250313e-16, 0.2444301490993671, 0.041472418562049085, 0.001050393061419741, 2.220446049250313e-16, 2.220446049250313e-16, 0.00688006597762425, 0.11539559793660925, 0.003790580123629539, 2.220446049250313e-16, 0.1087861974019888, 0.00010434348102905666, 0.09279049118240501, 0.0980402682529341, 0.10679998325249951, 0.0066956021867126125, 0.26213384034692666, 0.04169605241075969, 2.220446049250313e-16, 0.00485742563485303, 0.0011318622755623897, 0.003195903335904249, 2.220446049250313e-16, 0.0017949122470309886, 2.220446049250313e-16, 0.005802273081518594, 0.004106793532296038, 0.0011318622755623897, 0.026701079033467745, 2.220446049250313e-16, 2.220446049250313e-16, 2.220446049250313e-16, 0.15900299180673572, 0.014650380964662313, 0.026081912977344746, 0.5286318041157646, 0.06959160718290847, 0.1171281589397013, 0.004487060172206125, 2.220446049250313e-16, 0.3416837624934036, 0.010650467633798066, 0.012370075099272015, 0.24095105766153435, 0.25139984966381657, 0.05213265933565081, 2.220446049250313e-16, 0.23905045769216982, 0.22820682669535897, 0.019863541321096023, 0.053329165112289356, 0.017794500202670704, 0.02196552440714772, 0.003641088555123906, 0.19436669527083217, 0.035243003661061034, 2.220446049250313e-16, 0.0044314328133857606, 0.060320489644655306, 0.23702819551416887, 0.012103863655743119, 0.06959160718290847, 2.220446049250313e-16, 0.06959160718290847, 0.12124849411940719, 2.220446049250313e-16, 0.0885244957902489, 2.220446049250313e-16, 0.0656252787568774, 0.03053437565741912, 0.02339501602478322, 0.0010161703245813447, 2.220446049250313e-16, 2.220446049250313e-16, 0.3066383500845601, 0.00786163522012584, 0.03848934185229025, 0.0005690965469276055, 0.3931035589373022, 0.0019288588406980445, 0.0436487981041328, 0.06969341167046883, 0.20281066826456962, 2.220446049250313e-16, 0.0585311283087282, 0.010188860113017562, 0.0016425892823141997, 0.0011318622755623897, 0.2730982397771212, 0.24631484042223017, 2.220446049250313e-16, 2.220446049250313e-16, 0.12369865067671293, 0.2264222253914201, 0.000694134707789118, 0.0013674886688954668, 0.002508211653259762, 0.01299720248796632, 0.004106793532296038, 0.10598525470789555, 0.18688200933984023]}, {\"name\": \"non_uui_low_score_pairs\", \"nbinsx\": 100, \"opacity\": 0.75, \"type\": \"histogram\", \"x\": [0.17872374595293505, 0.028188003527677252, 0.7266028298612852, 0.24580028884845417, 0.1303657461210157, 0.11516923885339747, 0.1856435626868409, 2.220446049250313e-16, 0.362548525376415, 0.004692658461794563, 0.4851548081794905, 0.8954815167252013, 0.3924751280810822, 0.645268259196285, 0.055854910541338176, 0.06042270483363932, 0.4047862440761969, 0.013700804247395615, 0.4830969945386203, 0.3794551551490347, 0.3708311865645083, 0.0020512842113268315, 0.2701403578955123, 0.058642551336716586, 0.04983090104212495, 0.062020999253543874, 0.13389981032841702, 2.220446049250313e-16, 0.14850194283129015, 0.4167976664019052, 0.13803855765475925, 0.026066648154741023, 2.220446049250313e-16, 0.216083946502993, 0.17515576091788898, 0.19209161548624576, 2.220446049250313e-16, 0.024222966722025174, 0.007155229471507929, 0.07180126972642153, 0.2122809114312818, 0.44215775781159383, 0.510258989642941, 0.009904130159914648, 0.018091946109606183, 0.003636644799457134, 0.006994827247699398, 0.40114608429078324, 0.3165324651949143, 0.010750061725072313, 2.220446049250313e-16, 0.29293715250519403, 2.220446049250313e-16, 2.220446049250313e-16, 0.16272913089756824, 0.06589638611555637, 0.574169289100541, 0.5011617499356911, 0.058642551336716586, 0.4727774149717575, 0.320787819037187, 0.16250388189133314, 0.41286192338242156, 0.2968956827145667, 0.10455699130643625, 0.02837182899938906, 0.322546543213866, 0.13829980866262925, 0.4359426305630232, 0.016967351995447744, 0.49739791733585526, 0.039713664370113255, 2.220446049250313e-16, 0.3253873152509714, 2.220446049250313e-16, 0.07279910885649299, 0.1152247320837595, 0.0029455144984184, 2.220446049250313e-16, 0.08987923491698646, 0.31319439608856614, 0.4580357897281804, 0.32239084994732903, 0.11604677870955216, 0.19244459631254274, 0.026527800591482076, 2.220446049250313e-16, 0.013364617729706652, 0.21611953561528008, 0.0510129774985959, 0.002836984159900302, 0.0007990412782107326, 0.10704640922620068, 0.7107847630446482, 0.42366220337852334, 0.23646746077815872, 0.30859283929447523, 0.4446790554166642, 0.007732822944424678, 0.4593044799979641, 0.14765750491037555, 0.18701613033563091, 0.05637645460980345, 0.09517515345149652, 0.008685517852319968, 0.4241340058224483, 0.5949561647974162, 2.220446049250313e-16, 0.49063934370235185, 0.12402095655651502, 0.010096567372546938, 0.2899243208284923, 0.0012277309828275795, 0.034138755242814844, 0.47207460078653174, 0.17281440883511268, 2.220446049250313e-16, 0.07682889020551364, 0.022006760460648978, 2.220446049250313e-16, 0.4646443538276812, 0.1128666614180911, 0.5962956458218993, 2.220446049250313e-16, 0.03195717127856723, 0.39134760719175365, 0.24599892479933216, 0.060206576511563026, 0.004829428025860949, 0.006833383406685489, 0.07544080852578028, 0.37640137890238323, 0.18290523896723754, 0.18629903476228893, 0.24726683997580312, 0.5556414780092099, 0.07232103366130416, 0.5914526166849841, 0.4585275251058635, 0.17867994177439328, 0.041265010141570024, 0.21335407792141325, 0.464233756163537, 0.48691013914314907, 0.38099024597830944, 0.08367574201454486, 0.03405293245505159, 0.15416357493225197, 2.220446049250313e-16, 0.44702297955116344, 0.23825295610355768, 0.008063702013089147, 0.2904251248131009, 0.6128458550175233, 0.14759413618966855, 0.532469625859957, 0.1522051445279955, 0.3138746702715296, 0.2452143536104373, 0.09169342547059955, 0.2586137556762861, 0.04156936738464334, 0.016697362077057853, 2.220446049250313e-16, 0.21463079090701997, 0.06372118920018754, 0.24213284017658854, 0.22831295706505106, 0.15643452001900815, 0.12164044908185723, 0.15906588820548173, 0.4037098210811916, 0.8499461311355408, 0.6804920256137466, 0.4122335234258415, 0.09072272954260108, 0.1669048999415138, 0.06265614246501106, 0.16210207374925678, 0.3092134526441179, 0.5464103447851788, 0.39629244669512775, 0.24548822909545542, 0.04328189407619232, 0.04597004230833501, 0.18739760408160755, 0.4356130355617387, 0.199266082216364, 0.10288457025320397, 0.09507710333067121, 0.16532730965021492, 0.17123618489346382, 0.26825333872536217, 0.17049746410193833, 0.0011318622755623897, 0.028334379422483513, 2.220446049250313e-16, 2.220446049250313e-16, 0.34660567453985236, 0.27784924713749104, 2.220446049250313e-16, 0.07190522056115167, 0.004692658461794563, 0.10012690015415682, 2.220446049250313e-16, 0.8277192381508296, 0.05455422481421446, 0.15136061768859155, 0.232961681361191, 0.5527428852287006, 0.0425560309376638, 2.220446049250313e-16, 0.13670930248897106, 0.09447460086051196, 0.11902019616560655, 0.12337478419809156, 0.10182257372185621, 0.21775749758671592, 2.220446049250313e-16, 0.08961272083436767, 0.09680898547094408, 0.08226269800784447, 0.11070270820011252, 0.1298603284984371, 0.24696915595426505, 0.19002432541359282, 0.10420718090996206, 2.220446049250313e-16, 0.004766795954444514, 0.41121653473814146, 0.16835663497985365, 0.0817377417573496, 0.4313142761417902, 2.220446049250313e-16, 0.43508268193233146, 0.1790735046936075, 0.17278335447160487, 0.1468386411742152, 0.3758399383003508, 0.002319709506609091, 2.220446049250313e-16, 0.041913890670904896, 0.12285994236662579, 0.5334043208384678, 0.38962378614544135, 2.220446049250313e-16, 0.7176821750135538, 0.10845504377078963, 0.060206576511563026, 0.19017554176757612, 2.220446049250313e-16, 0.3057067065248349, 0.033601430540931565, 2.220446049250313e-16, 0.3880393847407261, 0.14094494121277457, 2.220446049250313e-16, 0.1685779639941113, 0.02623312608679751, 0.47495531273136515, 0.18706293246991346, 0.21694491002826088, 0.4028191752354461, 2.220446049250313e-16, 0.014428654281575581, 0.0274428848894418, 0.10746543849188162, 0.312975159152899, 0.5833833060363615, 0.7837974172083887, 0.13611634852940724, 0.3871337263645628, 0.41815630886787813, 0.006447576719460946, 0.5358935734949205, 0.23277523968615066, 0.5737018313295101, 2.220446049250313e-16, 0.1826821543449444, 0.004909254336438407, 2.220446049250313e-16, 0.09570973771668612, 0.03772582678434577, 0.2567037867998663, 0.3225606500656294, 0.9184261257600657, 0.06787523606037449, 0.04189936027656549, 0.3223560013628921, 0.04398365139771554, 0.16875920263591637, 0.03748203414743134, 0.27450277809147805, 0.5073883839846414, 0.08475040432102121, 0.7660775034988716, 0.3119600194913633, 0.09363066758759753, 0.30357876182194354, 0.510319625564383, 0.029475265287620345, 0.5898123172162351, 0.13981286779886548, 0.5354434559226837, 0.014414485860840265, 0.6066914051880661, 2.220446049250313e-16, 0.07703528877515131, 0.6051231710502067, 0.04376557767559841, 0.3687136799756351, 0.10685745346589937, 0.6217236040841361, 0.09507710333067121, 0.10543039005973631, 0.21899030999080615, 2.220446049250313e-16, 0.1715180165441712, 0.08342862323338063, 0.021201785733510836, 2.220446049250313e-16, 0.18360416138149593, 0.4048806420109916, 0.6579442510236788, 0.5567124310917422, 0.7518462715903277, 0.003454241755120213, 0.2820350609806531, 0.13309906261036586]}],\n",
       "                        {\"barmode\": \"overlay\", \"template\": {\"data\": {\"bar\": [{\"error_x\": {\"color\": \"#2a3f5f\"}, \"error_y\": {\"color\": \"#2a3f5f\"}, \"marker\": {\"line\": {\"color\": \"#E5ECF6\", \"width\": 0.5}}, \"type\": \"bar\"}], \"barpolar\": [{\"marker\": {\"line\": {\"color\": \"#E5ECF6\", \"width\": 0.5}}, \"type\": \"barpolar\"}], \"carpet\": [{\"aaxis\": {\"endlinecolor\": \"#2a3f5f\", \"gridcolor\": \"white\", \"linecolor\": \"white\", \"minorgridcolor\": \"white\", \"startlinecolor\": \"#2a3f5f\"}, \"baxis\": {\"endlinecolor\": \"#2a3f5f\", \"gridcolor\": \"white\", \"linecolor\": \"white\", \"minorgridcolor\": \"white\", \"startlinecolor\": \"#2a3f5f\"}, \"type\": \"carpet\"}], \"choropleth\": [{\"colorbar\": {\"outlinewidth\": 0, \"ticks\": \"\"}, \"type\": \"choropleth\"}], \"contour\": [{\"colorbar\": {\"outlinewidth\": 0, \"ticks\": \"\"}, \"colorscale\": [[0.0, \"#0d0887\"], [0.1111111111111111, \"#46039f\"], [0.2222222222222222, \"#7201a8\"], [0.3333333333333333, \"#9c179e\"], [0.4444444444444444, \"#bd3786\"], [0.5555555555555556, \"#d8576b\"], [0.6666666666666666, \"#ed7953\"], [0.7777777777777778, \"#fb9f3a\"], [0.8888888888888888, \"#fdca26\"], [1.0, \"#f0f921\"]], \"type\": \"contour\"}], \"contourcarpet\": [{\"colorbar\": {\"outlinewidth\": 0, \"ticks\": \"\"}, \"type\": \"contourcarpet\"}], \"heatmap\": [{\"colorbar\": {\"outlinewidth\": 0, \"ticks\": \"\"}, \"colorscale\": [[0.0, \"#0d0887\"], [0.1111111111111111, \"#46039f\"], [0.2222222222222222, \"#7201a8\"], [0.3333333333333333, \"#9c179e\"], [0.4444444444444444, \"#bd3786\"], [0.5555555555555556, \"#d8576b\"], [0.6666666666666666, \"#ed7953\"], [0.7777777777777778, \"#fb9f3a\"], [0.8888888888888888, \"#fdca26\"], [1.0, \"#f0f921\"]], \"type\": \"heatmap\"}], \"heatmapgl\": [{\"colorbar\": {\"outlinewidth\": 0, \"ticks\": \"\"}, \"colorscale\": [[0.0, \"#0d0887\"], [0.1111111111111111, \"#46039f\"], [0.2222222222222222, \"#7201a8\"], [0.3333333333333333, \"#9c179e\"], [0.4444444444444444, \"#bd3786\"], [0.5555555555555556, \"#d8576b\"], [0.6666666666666666, \"#ed7953\"], [0.7777777777777778, \"#fb9f3a\"], [0.8888888888888888, \"#fdca26\"], [1.0, \"#f0f921\"]], \"type\": \"heatmapgl\"}], \"histogram\": [{\"marker\": {\"colorbar\": {\"outlinewidth\": 0, \"ticks\": \"\"}}, \"type\": \"histogram\"}], \"histogram2d\": [{\"colorbar\": {\"outlinewidth\": 0, \"ticks\": \"\"}, \"colorscale\": [[0.0, \"#0d0887\"], [0.1111111111111111, \"#46039f\"], [0.2222222222222222, \"#7201a8\"], [0.3333333333333333, \"#9c179e\"], [0.4444444444444444, \"#bd3786\"], [0.5555555555555556, \"#d8576b\"], [0.6666666666666666, \"#ed7953\"], [0.7777777777777778, \"#fb9f3a\"], [0.8888888888888888, \"#fdca26\"], [1.0, \"#f0f921\"]], \"type\": \"histogram2d\"}], \"histogram2dcontour\": [{\"colorbar\": {\"outlinewidth\": 0, \"ticks\": \"\"}, \"colorscale\": [[0.0, \"#0d0887\"], [0.1111111111111111, \"#46039f\"], [0.2222222222222222, \"#7201a8\"], [0.3333333333333333, \"#9c179e\"], [0.4444444444444444, \"#bd3786\"], [0.5555555555555556, \"#d8576b\"], [0.6666666666666666, \"#ed7953\"], [0.7777777777777778, \"#fb9f3a\"], [0.8888888888888888, \"#fdca26\"], [1.0, \"#f0f921\"]], \"type\": \"histogram2dcontour\"}], \"mesh3d\": [{\"colorbar\": {\"outlinewidth\": 0, \"ticks\": \"\"}, \"type\": \"mesh3d\"}], \"parcoords\": [{\"line\": {\"colorbar\": {\"outlinewidth\": 0, \"ticks\": \"\"}}, \"type\": \"parcoords\"}], \"scatter\": [{\"marker\": {\"colorbar\": {\"outlinewidth\": 0, \"ticks\": \"\"}}, \"type\": \"scatter\"}], \"scatter3d\": [{\"line\": {\"colorbar\": {\"outlinewidth\": 0, \"ticks\": \"\"}}, \"marker\": {\"colorbar\": {\"outlinewidth\": 0, \"ticks\": \"\"}}, \"type\": \"scatter3d\"}], \"scattercarpet\": [{\"marker\": {\"colorbar\": {\"outlinewidth\": 0, \"ticks\": \"\"}}, \"type\": \"scattercarpet\"}], \"scattergeo\": [{\"marker\": {\"colorbar\": {\"outlinewidth\": 0, \"ticks\": \"\"}}, \"type\": \"scattergeo\"}], \"scattergl\": [{\"marker\": {\"colorbar\": {\"outlinewidth\": 0, \"ticks\": \"\"}}, \"type\": \"scattergl\"}], \"scattermapbox\": [{\"marker\": {\"colorbar\": {\"outlinewidth\": 0, \"ticks\": \"\"}}, \"type\": \"scattermapbox\"}], \"scatterpolar\": [{\"marker\": {\"colorbar\": {\"outlinewidth\": 0, \"ticks\": \"\"}}, \"type\": \"scatterpolar\"}], \"scatterpolargl\": [{\"marker\": {\"colorbar\": {\"outlinewidth\": 0, \"ticks\": \"\"}}, \"type\": \"scatterpolargl\"}], \"scatterternary\": [{\"marker\": {\"colorbar\": {\"outlinewidth\": 0, \"ticks\": \"\"}}, \"type\": \"scatterternary\"}], \"surface\": [{\"colorbar\": {\"outlinewidth\": 0, \"ticks\": \"\"}, \"colorscale\": [[0.0, \"#0d0887\"], [0.1111111111111111, \"#46039f\"], [0.2222222222222222, \"#7201a8\"], [0.3333333333333333, \"#9c179e\"], [0.4444444444444444, \"#bd3786\"], [0.5555555555555556, \"#d8576b\"], [0.6666666666666666, \"#ed7953\"], [0.7777777777777778, \"#fb9f3a\"], [0.8888888888888888, \"#fdca26\"], [1.0, \"#f0f921\"]], \"type\": \"surface\"}], \"table\": [{\"cells\": {\"fill\": {\"color\": \"#EBF0F8\"}, \"line\": {\"color\": \"white\"}}, \"header\": {\"fill\": {\"color\": \"#C8D4E3\"}, \"line\": {\"color\": \"white\"}}, \"type\": \"table\"}]}, \"layout\": {\"annotationdefaults\": {\"arrowcolor\": \"#2a3f5f\", \"arrowhead\": 0, \"arrowwidth\": 1}, \"colorscale\": {\"diverging\": [[0, \"#8e0152\"], [0.1, \"#c51b7d\"], [0.2, \"#de77ae\"], [0.3, \"#f1b6da\"], [0.4, \"#fde0ef\"], [0.5, \"#f7f7f7\"], [0.6, \"#e6f5d0\"], [0.7, \"#b8e186\"], [0.8, \"#7fbc41\"], [0.9, \"#4d9221\"], [1, \"#276419\"]], \"sequential\": [[0.0, \"#0d0887\"], [0.1111111111111111, \"#46039f\"], [0.2222222222222222, \"#7201a8\"], [0.3333333333333333, \"#9c179e\"], [0.4444444444444444, \"#bd3786\"], [0.5555555555555556, \"#d8576b\"], [0.6666666666666666, \"#ed7953\"], [0.7777777777777778, \"#fb9f3a\"], [0.8888888888888888, \"#fdca26\"], [1.0, \"#f0f921\"]], \"sequentialminus\": [[0.0, \"#0d0887\"], [0.1111111111111111, \"#46039f\"], [0.2222222222222222, \"#7201a8\"], [0.3333333333333333, \"#9c179e\"], [0.4444444444444444, \"#bd3786\"], [0.5555555555555556, \"#d8576b\"], [0.6666666666666666, \"#ed7953\"], [0.7777777777777778, \"#fb9f3a\"], [0.8888888888888888, \"#fdca26\"], [1.0, \"#f0f921\"]]}, \"colorway\": [\"#636efa\", \"#EF553B\", \"#00cc96\", \"#ab63fa\", \"#FFA15A\", \"#19d3f3\", \"#FF6692\", \"#B6E880\", \"#FF97FF\", \"#FECB52\"], \"font\": {\"color\": \"#2a3f5f\"}, \"geo\": {\"bgcolor\": \"white\", \"lakecolor\": \"white\", \"landcolor\": \"#E5ECF6\", \"showlakes\": true, \"showland\": true, \"subunitcolor\": \"white\"}, \"hoverlabel\": {\"align\": \"left\"}, \"hovermode\": \"closest\", \"mapbox\": {\"style\": \"light\"}, \"paper_bgcolor\": \"white\", \"plot_bgcolor\": \"#E5ECF6\", \"polar\": {\"angularaxis\": {\"gridcolor\": \"white\", \"linecolor\": \"white\", \"ticks\": \"\"}, \"bgcolor\": \"#E5ECF6\", \"radialaxis\": {\"gridcolor\": \"white\", \"linecolor\": \"white\", \"ticks\": \"\"}}, \"scene\": {\"xaxis\": {\"backgroundcolor\": \"#E5ECF6\", \"gridcolor\": \"white\", \"gridwidth\": 2, \"linecolor\": \"white\", \"showbackground\": true, \"ticks\": \"\", \"zerolinecolor\": \"white\"}, \"yaxis\": {\"backgroundcolor\": \"#E5ECF6\", \"gridcolor\": \"white\", \"gridwidth\": 2, \"linecolor\": \"white\", \"showbackground\": true, \"ticks\": \"\", \"zerolinecolor\": \"white\"}, \"zaxis\": {\"backgroundcolor\": \"#E5ECF6\", \"gridcolor\": \"white\", \"gridwidth\": 2, \"linecolor\": \"white\", \"showbackground\": true, \"ticks\": \"\", \"zerolinecolor\": \"white\"}}, \"shapedefaults\": {\"line\": {\"color\": \"#2a3f5f\"}}, \"ternary\": {\"aaxis\": {\"gridcolor\": \"white\", \"linecolor\": \"white\", \"ticks\": \"\"}, \"baxis\": {\"gridcolor\": \"white\", \"linecolor\": \"white\", \"ticks\": \"\"}, \"bgcolor\": \"#E5ECF6\", \"caxis\": {\"gridcolor\": \"white\", \"linecolor\": \"white\", \"ticks\": \"\"}}, \"title\": {\"x\": 0.05}, \"xaxis\": {\"automargin\": true, \"gridcolor\": \"white\", \"linecolor\": \"white\", \"ticks\": \"\", \"zerolinecolor\": \"white\", \"zerolinewidth\": 2}, \"yaxis\": {\"automargin\": true, \"gridcolor\": \"white\", \"linecolor\": \"white\", \"ticks\": \"\", \"zerolinecolor\": \"white\", \"zerolinewidth\": 2}}}, \"yaxis\": {\"type\": \"log\"}},\n",
       "                        {\"responsive\": true}\n",
       "                    ).then(function(){\n",
       "                            \n",
       "var gd = document.getElementById('6e6f5f92-86cc-4686-a2e6-c5101ca80e6e');\n",
       "var x = new MutationObserver(function (mutations, observer) {{\n",
       "        var display = window.getComputedStyle(gd).display;\n",
       "        if (!display || display === 'none') {{\n",
       "            console.log([gd, 'removed!']);\n",
       "            Plotly.purge(gd);\n",
       "            observer.disconnect();\n",
       "        }}\n",
       "}});\n",
       "\n",
       "// Listen for the removal of the full notebook cells\n",
       "var notebookContainer = gd.closest('#notebook-container');\n",
       "if (notebookContainer) {{\n",
       "    x.observe(notebookContainer, {childList: true});\n",
       "}}\n",
       "\n",
       "// Listen for the clearing of the current output cell\n",
       "var outputEl = gd.closest('.output');\n",
       "if (outputEl) {{\n",
       "    x.observe(outputEl, {childList: true});\n",
       "}}\n",
       "\n",
       "                        })\n",
       "                };\n",
       "                });\n",
       "            </script>\n",
       "        </div>"
      ]
     },
     "metadata": {},
     "output_type": "display_data"
    }
   ],
   "source": [
    "axis = 'action_normalise_cos_dis'\n",
    "bins = 100\n",
    "\n",
    "x1=sample_df[sample_df['label']=='uui_high_score_pairs'][axis].values\n",
    "x2=sample_df[sample_df['label']=='uui_grey_score_pairs'][axis].values\n",
    "x3=sample_df[sample_df['label']=='non_uui_grey_score_pairs'][axis].values\n",
    "x4=sample_df[sample_df['label']=='uui_low_score_pairs'][axis].values\n",
    "x5=sample_df[sample_df['label']=='non_uui_low_score_pairs'][axis].values\n",
    "\n",
    "fig = go.Figure()\n",
    "fig.add_trace(go.Histogram(x=x1, nbinsx=bins, name=\"uui_high_score_pairs\"))\n",
    "fig.add_trace(go.Histogram(x=x2, nbinsx=bins, name=\"uui_grey_score_pairs\"))\n",
    "fig.add_trace(go.Histogram(x=x3, nbinsx=bins, name=\"non_uui_grey_score_pairs\"))\n",
    "fig.add_trace(go.Histogram(x=x4, nbinsx=bins, name=\"uui_low_score_pairs\"))\n",
    "fig.add_trace(go.Histogram(x=x5, nbinsx=bins, name=\"non_uui_low_score_pairs\"))\n",
    "\n",
    "# Overlay both histograms\n",
    "fig.update_layout(barmode='overlay',  yaxis_type=\"log\")\n",
    "\n",
    "# Reduce opacity to see both histograms\n",
    "fig.update_traces(opacity=0.75)\n",
    "fig.show()"
   ]
  },
  {
   "cell_type": "code",
   "execution_count": 36,
   "metadata": {},
   "outputs": [
    {
     "data": {
      "application/vnd.plotly.v1+json": {
       "config": {
        "plotlyServerURL": "https://plot.ly"
       },
       "data": [
        {
         "name": "uui_high_score_pairs",
         "nbinsx": 100,
         "opacity": 0.75,
         "type": "histogram",
         "x": [
          2.220446049250313e-16,
          2.220446049250313e-16,
          0.0027282202852028092,
          2.220446049250313e-16,
          2.220446049250313e-16,
          0.34092996098437645,
          2.220446049250313e-16,
          0.4029244870941635,
          0.3818074812220599,
          0.33230935616060275,
          2.220446049250313e-16,
          0.5290202110004868,
          2.220446049250313e-16,
          2.220446049250313e-16,
          0.17381275528920492,
          2.220446049250313e-16,
          0.46260986837276696,
          2.220446049250313e-16,
          0.0028235350472619603,
          2.220446049250313e-16,
          2.220446049250313e-16,
          0.1263892955849899,
          2.220446049250313e-16,
          0.42380690827325984,
          -2.220446049250313e-16,
          2.220446049250313e-16,
          2.220446049250313e-16,
          2.220446049250313e-16,
          2.220446049250313e-16,
          2.220446049250313e-16,
          2.220446049250313e-16,
          0.3308748348729974,
          0.22229744766734982,
          0.2506821510234438,
          -2.220446049250313e-16,
          2.220446049250313e-16,
          2.220446049250313e-16,
          0.12777647173446216,
          0.08184594349812502,
          0.5216920351007586,
          2.220446049250313e-16,
          0.22037187503266908,
          2.220446049250313e-16,
          0.003384104459876025,
          2.220446049250313e-16,
          0.15128079817643225,
          2.220446049250313e-16,
          2.220446049250313e-16,
          2.220446049250313e-16,
          0.2848169667475017,
          0.11342629827628348,
          2.220446049250313e-16,
          0.352768773456014,
          0.19025248367159997,
          2.220446049250313e-16,
          2.220446049250313e-16,
          0.12187071999213783,
          0.34082634937022904,
          2.220446049250313e-16,
          0.1648387736492989,
          2.220446049250313e-16,
          0.409893409309374,
          0.1956381848902664,
          0.1031242583514943,
          0.37109657911632743,
          2.220446049250313e-16,
          0.5575090787054303,
          2.220446049250313e-16,
          -2.220446049250313e-16,
          2.220446049250313e-16,
          2.220446049250313e-16,
          0.0059683381203418095,
          0.3192903050514744,
          0.27077530270397754,
          2.540166381292952e-05,
          2.220446049250313e-16,
          2.220446049250313e-16,
          0.2900053077944341,
          0.16709541888194535,
          2.220446049250313e-16,
          2.220446049250313e-16,
          0.028410478995075428,
          0.578493240750664,
          0.005451175311719236,
          0.1982162742627268,
          0.43303304209657767,
          0.4424558840520262,
          2.220446049250313e-16,
          0.4748673084195042,
          2.220446049250313e-16,
          2.220446049250313e-16,
          0.2602787423409675,
          0.1107117837302658,
          0.5290367337858037,
          2.220446049250313e-16,
          0.10722419906739611,
          0.718769787855576,
          2.220446049250313e-16,
          -2.220446049250313e-16,
          2.220446049250313e-16,
          0.3738354430091385,
          0.2698299100680682,
          0.2251047724468762,
          0.23211550070442177,
          0.0028235350472619603,
          0.14770238119033308,
          0.41284302263756334,
          2.220446049250313e-16,
          0.3220935177691171,
          2.220446049250313e-16,
          0.07668268428714287,
          0.1982162742627268,
          0.47831643308491245,
          2.220446049250313e-16,
          0.295773217456599,
          0.0028235350472619603,
          2.220446049250313e-16,
          0.0994411089358449,
          0.33524910307528155,
          0.24484620714429606,
          2.220446049250313e-16,
          2.220446049250313e-16,
          0.44280298418746955,
          0.4243328885294322,
          0.012170838852737953,
          0.3860593864850794,
          0.2814364034445156,
          2.220446049250313e-16,
          2.220446049250313e-16,
          2.220446049250313e-16,
          2.220446049250313e-16,
          2.220446049250313e-16,
          0.417750781036456,
          0.002323552601637635,
          2.220446049250313e-16,
          2.220446049250313e-16,
          2.220446049250313e-16,
          2.220446049250313e-16,
          2.220446049250313e-16,
          0.02512706568887424,
          -2.220446049250313e-16,
          0.40743201406106866,
          2.220446049250313e-16,
          0.019155704373468807,
          2.220446049250313e-16,
          0.05206191990179532,
          0.24661935554766645,
          2.220446049250313e-16,
          2.220446049250313e-16,
          2.220446049250313e-16,
          2.220446049250313e-16,
          0.041946344834911886,
          2.220446049250313e-16,
          2.220446049250313e-16,
          2.220446049250313e-16,
          2.220446049250313e-16,
          2.220446049250313e-16,
          2.220446049250313e-16,
          0.25632652103035736,
          0.4773271000984465,
          2.220446049250313e-16,
          2.220446049250313e-16,
          0.017058466203584532,
          2.220446049250313e-16,
          2.220446049250313e-16,
          0.4383179338436034,
          2.220446049250313e-16,
          0.23340089275249276,
          2.220446049250313e-16,
          2.220446049250313e-16,
          2.220446049250313e-16,
          2.220446049250313e-16,
          0.5602007251674159,
          2.220446049250313e-16,
          2.540166381292952e-05,
          0.38600665807944945,
          0.11976594978613242,
          0.4674276569899988,
          2.220446049250313e-16,
          0.266184613515262,
          -2.220446049250313e-16,
          2.220446049250313e-16,
          2.220446049250313e-16,
          2.220446049250313e-16,
          2.220446049250313e-16,
          2.220446049250313e-16,
          0.43692349903622696,
          2.220446049250313e-16,
          0.35270623188609707,
          0.21027383431930846,
          3.1682930428100775e-05,
          0.3795942163447873,
          2.220446049250313e-16,
          0,
          2.220446049250313e-16,
          0.15969054215859602,
          2.220446049250313e-16,
          2.220446049250313e-16,
          0.12024007198343911,
          2.220446049250313e-16,
          2.540166381292952e-05,
          2.220446049250313e-16,
          0.44527651697399306,
          0.16022972227260424,
          0.2970023414736841,
          2.220446049250313e-16,
          2.220446049250313e-16,
          2.220446049250313e-16,
          0.06217498633069407,
          0.052867781691250726,
          0.26798316614308804,
          2.220446049250313e-16,
          0.12164590294958721,
          0.3034326538329245,
          0.4986939984781784,
          0.14633834498759712,
          0.0020512842113268315,
          2.220446049250313e-16,
          0.34126877846738035,
          2.220446049250313e-16,
          2.220446049250313e-16,
          2.220446049250313e-16,
          0.24998923211197244,
          2.220446049250313e-16,
          2.220446049250313e-16,
          2.220446049250313e-16,
          2.220446049250313e-16,
          0.4484013367029994,
          2.220446049250313e-16,
          0.15673018362561686,
          2.220446049250313e-16,
          2.220446049250313e-16,
          0.14391305198660487,
          2.220446049250313e-16,
          0.0027282202852028092,
          2.220446049250313e-16,
          2.220446049250313e-16,
          2.220446049250313e-16,
          0,
          2.220446049250313e-16,
          0.1786484237088436,
          2.220446049250313e-16,
          0.19184451229256572,
          2.220446049250313e-16,
          2.220446049250313e-16,
          0.0028235350472619603,
          2.220446049250313e-16,
          0.47284963509579203,
          2.220446049250313e-16,
          0.3263464312858204,
          2.220446049250313e-16,
          0.3916133157620363,
          2.220446049250313e-16,
          0.0028235350472619603,
          2.220446049250313e-16,
          0.1866512518053698,
          2.220446049250313e-16,
          0.047068513430531866,
          0.21425552079266796,
          2.220446049250313e-16,
          2.220446049250313e-16,
          2.220446049250313e-16,
          0.37238654468522847,
          0.45351948702292266,
          2.220446049250313e-16,
          2.220446049250313e-16,
          2.220446049250313e-16,
          0.0020512842113268315,
          0.5228770104313765,
          0.11474679955937439,
          2.220446049250313e-16,
          0.4347869432520065,
          2.220446049250313e-16,
          0.001723561837866261,
          2.220446049250313e-16,
          2.220446049250313e-16,
          0.0027282202852028092,
          0.3099621661298462,
          2.220446049250313e-16,
          2.220446049250313e-16,
          2.220446049250313e-16,
          2.220446049250313e-16,
          -2.220446049250313e-16,
          2.220446049250313e-16,
          2.220446049250313e-16,
          2.220446049250313e-16,
          0.46261212449397093,
          0.35075619327014096,
          0.5182435865320483,
          2.220446049250313e-16,
          2.220446049250313e-16,
          0.307614444292197,
          2.220446049250313e-16,
          2.220446049250313e-16,
          0.41956224866548264,
          0.2023644924180379,
          2.220446049250313e-16,
          2.220446049250313e-16,
          2.220446049250313e-16,
          0.4870211318451736,
          2.220446049250313e-16,
          0.17683138661979247,
          0.17659584398706718,
          2.220446049250313e-16,
          2.220446049250313e-16,
          0.06703454159697908,
          2.220446049250313e-16,
          2.220446049250313e-16,
          2.220446049250313e-16,
          8.607703910912257e-05,
          2.220446049250313e-16,
          2.220446049250313e-16,
          0.25197660014185264,
          0.41324841281723623,
          0.14864433677680533,
          0.6061932507153982,
          0.20044064118832072,
          0.12642284188150887,
          0.19310223024220197,
          2.220446049250313e-16,
          0.6931541199367071,
          2.220446049250313e-16,
          2.220446049250313e-16,
          2.220446049250313e-16,
          2.220446049250313e-16,
          -2.220446049250313e-16,
          0.2856349015353986,
          0.007370131657042145,
          0.2759089787522948
         ]
        },
        {
         "name": "uui_grey_score_pairs",
         "nbinsx": 100,
         "opacity": 0.75,
         "type": "histogram",
         "x": [
          0.6198618114243004,
          2.220446049250313e-16,
          2.220446049250313e-16,
          0.059989172122462464,
          0.3611056051616892,
          2.220446049250313e-16,
          0.16577022664831764,
          2.220446049250313e-16,
          2.220446049250313e-16,
          0.8050791003518798,
          0.3395245492018554,
          0.4718603272461883,
          0.11344744026376374,
          0.03160052647398959,
          2.220446049250313e-16,
          0.11028737810265576,
          -2.220446049250313e-16,
          0.11469515397133268,
          0.23028307474361398,
          2.220446049250313e-16,
          2.220446049250313e-16,
          0.27733147710931516,
          0.23880527021508546,
          0.29749949949340215,
          2.220446049250313e-16,
          2.220446049250313e-16,
          0.4923302894288998,
          0.28741190701976727,
          6.035635086731883e-05,
          2.220446049250313e-16,
          2.220446049250313e-16,
          2.220446049250313e-16,
          2.220446049250313e-16,
          0.22933959101469836,
          0.07841118046554973,
          0.5982974745064573,
          2.220446049250313e-16,
          0.08131444980598812,
          0.17541540127072397,
          0.4517004729713022,
          0.27910136052956525,
          2.220446049250313e-16,
          0.19779121447401482,
          0.26063072977800006,
          0.10089137034151341,
          0.024275959544606596,
          2.220446049250313e-16,
          2.220446049250313e-16,
          0.12750843709049287,
          2.220446049250313e-16,
          0.14820733261236252,
          2.220446049250313e-16,
          0.8961612905104863,
          0.4151255449724208,
          0.003384104459876025,
          2.220446049250313e-16,
          0.0731101087122743,
          2.220446049250313e-16,
          2.220446049250313e-16,
          0.28423895696743373,
          2.220446049250313e-16,
          0.23189193989073043,
          0.0028235350472619603,
          0.7317574889952356,
          2.220446049250313e-16,
          0.24830045166798198,
          0.08458401529929205,
          0.407574120319928,
          3.5906317268907806e-05,
          0.21204861767323746,
          0.3884609219177906,
          2.220446049250313e-16,
          0.11009052337001324,
          0.3552758057586173,
          0.4285423122723123,
          0.3241521189980834,
          0.01186626351754827,
          2.220446049250313e-16,
          0.32520920002398923,
          0.3470017922789178,
          2.220446049250313e-16,
          0.20804726949123908,
          0.11736134390703223,
          0.1387809807775684,
          2.220446049250313e-16,
          0.028425012494379565,
          2.220446049250313e-16,
          2.220446049250313e-16,
          2.220446049250313e-16,
          0.15765663325045776,
          0.5237140172603052,
          0.7258580396765191,
          0.4089746986771544,
          0.4185265706255893,
          0.315771854683232,
          0.22400233138039516,
          0.20844218409086934,
          0.5010174343200127,
          0.1376676830833995,
          0.09793450496404843,
          0.17841536185314055,
          0.20257514590816472,
          0.0019594089854371166,
          0.1523617509990549,
          2.220446049250313e-16,
          2.220446049250313e-16,
          2.220446049250313e-16,
          0.205243761569727,
          0.24013243165626108,
          0.09384856912830652,
          0.30627755650601185,
          0.21416922218811763,
          2.220446049250313e-16,
          0.10829857717605484,
          2.220446049250313e-16,
          2.220446049250313e-16,
          2.220446049250313e-16,
          0.6147051359055757,
          0.14590206493940527,
          0.1400774550981052,
          0.19452296271755332,
          2.220446049250313e-16,
          2.220446049250313e-16,
          0.18580685445494227,
          2.220446049250313e-16,
          0.6106244532980052,
          0.3551325699073815,
          0.17396681236909795,
          0.33001512172129177,
          0.017353281337119664,
          0.7264716506853911,
          0.0885623237459594,
          2.220446049250313e-16,
          2.220446049250313e-16,
          2.220446049250313e-16,
          2.220446049250313e-16,
          2.220446049250313e-16,
          0.33682882357487587,
          0.5810582105641218,
          2.220446049250313e-16,
          0.19680515986498515,
          0.07774970215481736,
          2.220446049250313e-16,
          2.220446049250313e-16,
          0.14590206493940527,
          2.220446049250313e-16,
          0.2579280089768138,
          0.2628739094062258,
          -2.220446049250313e-16,
          2.220446049250313e-16,
          0.22589213028353472,
          0.1683449200935857,
          0.3769822132732058,
          0.24403561297932996,
          0.47260530298773606,
          0.16140390339355126,
          2.220446049250313e-16,
          0.15096576236970416,
          2.220446049250313e-16,
          2.220446049250313e-16,
          0.4896534393784253,
          0.057809393184257485,
          2.220446049250313e-16,
          0.3594009443295165,
          0.7456931794206395,
          2.220446049250313e-16,
          0.25156027111967927,
          0.4285423122723123,
          0.1702044961008955,
          2.220446049250313e-16,
          0.07873178747775289,
          0.2297756143721028,
          0.24898643016480704,
          2.220446049250313e-16,
          2.220446049250313e-16,
          0.0028235350472619603,
          0.1806391586640097,
          2.220446049250313e-16,
          0.26216628655167484,
          2.220446049250313e-16,
          0.295773217456599,
          0.28310908945309854,
          2.220446049250313e-16,
          2.220446049250313e-16,
          0.21804259534850134,
          0.20937890742654253,
          2.220446049250313e-16,
          0.00976967544716656,
          0.4217850295612846,
          0.2821001276122135,
          0.19839798912742002,
          0.3291919776215766,
          0.004597232300149745,
          0.6094779480785728,
          0.3300608144368231,
          0.35105503007642747,
          0.4809370970784682,
          2.220446049250313e-16,
          0.06783531575597612,
          2.220446049250313e-16,
          2.220446049250313e-16,
          0.3660919124744506,
          2.220446049250313e-16,
          0.387099891982712,
          0.543985770819877,
          0.0028235350472619603,
          0.18107913360890815,
          2.220446049250313e-16,
          2.220446049250313e-16,
          2.220446049250313e-16,
          0.3023183786759175,
          2.220446049250313e-16,
          0.22328779249849995,
          0.4592857273883736,
          2.220446049250313e-16,
          0.3647471053223993,
          0.007231232097135387,
          2.220446049250313e-16,
          0.21151977292946833,
          0.22175975860504993,
          0.1777114654659796,
          2.220446049250313e-16,
          0.28285489044778134,
          0.2232518316095411,
          2.220446049250313e-16,
          2.220446049250313e-16,
          0.0032796930124342483,
          0.13103137598174097,
          2.220446049250313e-16,
          0.0027282202852028092,
          2.220446049250313e-16,
          0.21744339946612135,
          0.35699848136050805,
          2.220446049250313e-16,
          0.3756041297549654,
          2.220446049250313e-16,
          2.220446049250313e-16,
          2.220446049250313e-16,
          0.15248966429190824,
          0.24598427551193713,
          2.220446049250313e-16,
          2.220446049250313e-16,
          0.22843602772384608,
          0.2353104285620089,
          2.220446049250313e-16,
          0.47985448595309477,
          2.220446049250313e-16,
          0.1195888270554627,
          0.16866133032580954,
          2.220446049250313e-16,
          2.220446049250313e-16,
          2.220446049250313e-16,
          0.2605002038960872,
          2.220446049250313e-16,
          0.24024430567567345,
          0.16028096005168513,
          0.5350118942300064,
          0.1619409314624074,
          2.220446049250313e-16,
          0.295773217456599,
          0.7483383035253994,
          0.5910551164639006,
          2.220446049250313e-16,
          2.220446049250313e-16,
          0.26300470066910775,
          0.2932103123408215,
          0.5901976424081012,
          2.220446049250313e-16,
          0.1962647531321433,
          0.19310223024220197,
          0.156204981458266,
          2.220446049250313e-16,
          2.220446049250313e-16,
          0.21605193805795753,
          0.21706420491475664,
          0.11352384416428551,
          0.19680515986498515,
          0.27318780156424916,
          0.0018632913603306989,
          0.26863893035107034,
          2.220446049250313e-16,
          2.220446049250313e-16,
          0.4131716564484993,
          0.8316339096940648,
          2.220446049250313e-16,
          2.220446049250313e-16,
          0.10289792304763268,
          0.40654700365907814,
          0.29041779202195117,
          0.2061224606593649,
          2.220446049250313e-16,
          0.45845961189891304,
          0.08496736153028772,
          0.15301330386412382,
          0.24297774838769481,
          0.41672435385996787,
          0.18638845857365727,
          2.220446049250313e-16,
          2.220446049250313e-16,
          0.17722399728364824,
          0.3855851271502684,
          2.220446049250313e-16,
          0.25528279396351683,
          0.10648506300870975,
          0.20803136142934264,
          0.6970740800913913,
          0.09674884324879385,
          0.09505193830217062,
          0.3648899891790913,
          0.38126479783504885,
          2.220446049250313e-16,
          0.6676327636669278,
          0.36177312523840033,
          0.0032796930124342483,
          2.220446049250313e-16,
          0.609816810656802,
          2.220446049250313e-16,
          2.220446049250313e-16,
          0.48473464289840007,
          0.14628768358719657,
          2.220446049250313e-16,
          0.08965781239421078,
          3.5906317268907806e-05,
          2.220446049250313e-16,
          2.220446049250313e-16,
          0.24576085519931667,
          2.220446049250313e-16,
          0.06861809743776603,
          0.5343048329874883
         ]
        },
        {
         "name": "non_uui_grey_score_pairs",
         "nbinsx": 100,
         "opacity": 0.75,
         "type": "histogram",
         "x": [
          2.220446049250313e-16,
          0.5369629400467535,
          0.2813751330607823,
          2.220446049250313e-16,
          0.005830903790087438,
          2.220446049250313e-16,
          2.220446049250313e-16,
          2.220446049250313e-16,
          2.220446049250313e-16,
          2.220446049250313e-16,
          2.220446049250313e-16,
          0.45584305665555147,
          2.220446049250313e-16,
          0.5273226260945121,
          2.220446049250313e-16,
          2.220446049250313e-16,
          2.220446049250313e-16,
          0.28957191147940786,
          0.06814282566839991,
          0.1876170817833851,
          2.220446049250313e-16,
          2.220446049250313e-16,
          2.220446049250313e-16,
          0.010256681389212985,
          2.220446049250313e-16,
          0.2900569577823706,
          0.34176400233293613,
          2.220446049250313e-16,
          0.2305522769618683,
          2.220446049250313e-16,
          2.220446049250313e-16,
          0.01635017332733324,
          2.220446049250313e-16,
          0.2779539245929409,
          0.21459529527509347,
          0.1546658242103901,
          0.21496256692176963,
          0.20602511198153628,
          2.540166381292952e-05,
          2.220446049250313e-16,
          2.220446049250313e-16,
          2.220446049250313e-16,
          2.220446049250313e-16,
          0.10635425748937344,
          0.0023913944154723143,
          2.220446049250313e-16,
          0.003384104459876025,
          2.220446049250313e-16,
          0.0023913944154723143,
          2.220446049250313e-16,
          2.220446049250313e-16,
          2.220446049250313e-16,
          2.220446049250313e-16,
          2.220446049250313e-16,
          0.06567922916933522,
          -2.220446049250313e-16,
          0.11668475213472951,
          2.220446049250313e-16,
          2.220446049250313e-16,
          0.43543946185037774,
          0.023535085160185987,
          0.6401599585265834,
          2.220446049250313e-16,
          0.003384104459876025,
          2.220446049250313e-16,
          2.220446049250313e-16,
          0.1615043654155346,
          2.220446049250313e-16,
          2.220446049250313e-16,
          2.220446049250313e-16,
          2.220446049250313e-16,
          0.3908622519685333,
          2.220446049250313e-16,
          4.5845558413137866e-05,
          0.5364491512186172,
          2.220446049250313e-16,
          2.220446049250313e-16,
          0.1500417390438079,
          2.220446049250313e-16,
          2.220446049250313e-16,
          2.220446049250313e-16,
          2.220446049250313e-16,
          0.3835461245122993,
          0.30914293221631395,
          0.3171689589815664,
          2.220446049250313e-16,
          0.46536216717336487,
          2.220446049250313e-16,
          0.20479831475621457,
          2.220446049250313e-16,
          0.29189765847930405,
          0.2900704653114923,
          0.20490353567913167,
          0.07039286207049622,
          2.220446049250313e-16,
          2.220446049250313e-16,
          2.220446049250313e-16,
          2.220446049250313e-16,
          2.220446049250313e-16,
          0.15681312893662425,
          2.220446049250313e-16,
          2.220446049250313e-16,
          0.36816229859341976,
          0.0028235350472619603,
          2.220446049250313e-16,
          2.220446049250313e-16,
          2.220446049250313e-16,
          2.220446049250313e-16,
          2.220446049250313e-16,
          2.220446049250313e-16,
          2.220446049250313e-16,
          2.220446049250313e-16,
          2.220446049250313e-16,
          2.220446049250313e-16,
          0.26822542584575937,
          0.16137213062246536,
          2.220446049250313e-16,
          2.220446049250313e-16,
          2.220446049250313e-16,
          2.220446049250313e-16,
          0.24182752981311062,
          2.220446049250313e-16,
          0.2249922755043502,
          2.220446049250313e-16,
          2.220446049250313e-16,
          0.5872478132153074,
          2.220446049250313e-16,
          2.220446049250313e-16,
          0.5909613019284994,
          2.220446049250313e-16,
          2.220446049250313e-16,
          0.0003259768544096042,
          2.220446049250313e-16,
          2.220446049250313e-16,
          2.220446049250313e-16,
          2.220446049250313e-16,
          2.220446049250313e-16,
          2.220446049250313e-16,
          2.220446049250313e-16,
          0.440730585647528,
          2.220446049250313e-16,
          2.220446049250313e-16,
          2.220446049250313e-16,
          2.540166381292952e-05,
          2.220446049250313e-16,
          0.3462421593555093,
          2.220446049250313e-16,
          2.220446049250313e-16,
          0.4773604779715611,
          0.21496256692176974,
          0.1975589689646875,
          2.220446049250313e-16,
          2.220446049250313e-16,
          2.220446049250313e-16,
          2.220446049250313e-16,
          2.220446049250313e-16,
          2.220446049250313e-16,
          0.27102495019658945,
          2.220446049250313e-16,
          0.19555473955284308,
          2.220446049250313e-16,
          2.220446049250313e-16,
          2.220446049250313e-16,
          2.220446049250313e-16,
          2.540166381292952e-05,
          0.19680515986498515,
          0.3167066601851293,
          2.220446049250313e-16,
          0.4087627065822165,
          2.220446049250313e-16,
          2.220446049250313e-16,
          0.07254001782343833,
          2.220446049250313e-16,
          2.220446049250313e-16,
          2.220446049250313e-16,
          2.220446049250313e-16,
          2.220446049250313e-16,
          2.220446049250313e-16,
          2.220446049250313e-16,
          2.220446049250313e-16,
          2.220446049250313e-16,
          2.220446049250313e-16,
          2.220446049250313e-16,
          2.220446049250313e-16,
          -2.220446049250313e-16,
          2.220446049250313e-16,
          2.220446049250313e-16,
          0.1865155455374864,
          0.4495171642375806,
          0.1932848777104499,
          2.220446049250313e-16,
          2.220446049250313e-16,
          2.220446049250313e-16,
          2.220446049250313e-16,
          2.220446049250313e-16,
          0.3397606894491755,
          0.0032796930124342483,
          2.220446049250313e-16,
          2.220446049250313e-16,
          2.220446049250313e-16,
          0.21799789576692796,
          0.0572552468137133,
          2.220446049250313e-16,
          0.037651235721471665,
          2.220446049250313e-16,
          0.5623745162171812,
          0.4040929546155597,
          2.220446049250313e-16,
          2.220446049250313e-16,
          0.3883707201381663,
          0.26975737983512593,
          2.220446049250313e-16,
          0.40270819236946975,
          2.220446049250313e-16,
          0.18238155484789542,
          2.220446049250313e-16,
          2.220446049250313e-16,
          0.21972394952306784,
          2.220446049250313e-16,
          2.220446049250313e-16,
          0.32669051440709174,
          2.220446049250313e-16,
          0.18700605840136808,
          0.35131680744537774,
          2.220446049250313e-16,
          0.273074619256638,
          2.220446049250313e-16,
          2.220446049250313e-16,
          2.220446049250313e-16,
          4.276863912722195e-05,
          2.220446049250313e-16,
          0.24381751232469473,
          2.220446049250313e-16,
          2.220446049250313e-16,
          0.0016406184144959202,
          2.220446049250313e-16,
          0.2680791680057284,
          0.4594758656501945,
          2.220446049250313e-16,
          0.437519721027845,
          2.220446049250313e-16,
          2.220446049250313e-16,
          2.220446049250313e-16,
          2.220446049250313e-16,
          2.220446049250313e-16,
          -2.220446049250313e-16,
          2.220446049250313e-16,
          2.220446049250313e-16,
          0.2678548592600135,
          2.220446049250313e-16,
          2.220446049250313e-16,
          2.220446049250313e-16,
          0.02433683699046385,
          2.220446049250313e-16,
          0.5764518165536103,
          2.220446049250313e-16,
          0.43593825161061706,
          0.2764765070962608,
          2.220446049250313e-16,
          0.2249922755043502,
          0.45343442129250633,
          2.220446049250313e-16,
          0.47841299980343643,
          0.45560026866262204,
          0.018442738806987546,
          0.735960723248976,
          2.220446049250313e-16,
          2.220446049250313e-16,
          0.1481519411782546,
          0.08567989643705554,
          0.4594048110445754,
          2.220446049250313e-16,
          0.35774297110554376,
          2.220446049250313e-16,
          2.220446049250313e-16,
          2.220446049250313e-16,
          0.1348237990422746,
          2.220446049250313e-16,
          2.220446049250313e-16,
          2.220446049250313e-16,
          0.7846396884438601,
          2.220446049250313e-16,
          2.220446049250313e-16,
          2.220446049250313e-16,
          2.220446049250313e-16,
          2.220446049250313e-16,
          2.220446049250313e-16,
          0.5651329625532721,
          0.42573678444329566,
          2.220446049250313e-16,
          0.6404667876524129,
          2.220446049250313e-16,
          0.3676896237059041,
          2.220446049250313e-16,
          2.220446049250313e-16,
          2.220446049250313e-16,
          2.220446049250313e-16,
          2.220446049250313e-16,
          0.08184594349812502,
          2.220446049250313e-16,
          2.220446049250313e-16,
          2.220446049250313e-16,
          2.220446049250313e-16,
          0.1982162742627268,
          2.220446049250313e-16,
          2.220446049250313e-16,
          2.220446049250313e-16,
          0.1999556749868071,
          2.220446049250313e-16,
          2.220446049250313e-16,
          2.220446049250313e-16,
          2.220446049250313e-16,
          2.220446049250313e-16,
          2.220446049250313e-16,
          0.24830063593861884,
          2.220446049250313e-16,
          0.17448102606627214,
          0.2600858951491547,
          2.220446049250313e-16,
          2.220446049250313e-16,
          0.5824081010662141,
          0.04181302934011977,
          0.5170882456033317,
          2.220446049250313e-16,
          0.5838316325077633,
          2.220446049250313e-16,
          2.220446049250313e-16,
          0.15537907416743257,
          2.220446049250313e-16
         ]
        },
        {
         "name": "uui_low_score_pairs",
         "nbinsx": 100,
         "opacity": 0.75,
         "type": "histogram",
         "x": [
          0.6919623818025498,
          2.220446049250313e-16,
          2.220446049250313e-16,
          2.220446049250313e-16,
          0.012170838852737953,
          2.220446049250313e-16,
          0.6521687788322885,
          0.42992268689918756,
          0.44343163457279444,
          0.5448876200904296,
          0.5919163529685376,
          0.7709655240613846,
          2.220446049250313e-16,
          2.220446049250313e-16,
          0.09333999439392726,
          0.3440279277371663,
          0.6407034792637551,
          0.1722268408295985,
          0.38529454327638113,
          0.32626615708321405,
          0.01230516340437493,
          0.012170838852737953,
          0.17396681236909795,
          2.220446049250313e-16,
          0.001332376818492076,
          0.3763402778086885,
          0.7111178450629313,
          2.220446049250313e-16,
          0.22810812445345896,
          0.19310223024220197,
          0.17829283056990597,
          0.6759184518834673,
          0.11932732763487441,
          2.220446049250313e-16,
          2.220446049250313e-16,
          2.220446049250313e-16,
          0.48711757349754004,
          0.3383517585047897,
          0.4231826253675838,
          0.7265670781632196,
          0.7745376476198087,
          0.24082872471678962,
          0.5985549243467598,
          2.220446049250313e-16,
          0.4105177834223155,
          0.29271196085568385,
          0.5738250189958453,
          0.5635921350166252,
          0.4209876429611207,
          2.220446049250313e-16,
          0.6198127360700667,
          2.220446049250313e-16,
          0.19247550601654595,
          0.4306631571654954,
          0.15356733532289635,
          0.39232793855048265,
          0.12361446339970239,
          0.17396681236909795,
          0.6023077524431919,
          0.22606570261154413,
          0.5639102203438888,
          0.5873096757507413,
          0.13647373079036218,
          0.003384104459876025,
          0.1462350848188324,
          0.8462496973725206,
          0.026665437309709716,
          0.29664887910184046,
          2.220446049250313e-16,
          0.097417104995007,
          0.584666041326142,
          2.220446049250313e-16,
          0.7705260256508163,
          2.220446049250313e-16,
          0.004745924714045779,
          0.18326034018161397,
          2.220446049250313e-16,
          0.2011358809088043,
          0.7264613690200741,
          0.25311699849686997,
          2.220446049250313e-16,
          2.220446049250313e-16,
          0.5107326600068474,
          0.17396681236909795,
          0.3005938143733662,
          2.220446049250313e-16,
          0.17396681236909795,
          0.6692108718069436,
          0.3246212692009901,
          0.05954051592491927,
          0.4607691211652275,
          2.220446049250313e-16,
          0.7667515657848037,
          0.012170838852737953,
          0.3192967063431589,
          0.2445696544025454,
          0.2122952230917423,
          2.220446049250313e-16,
          0.6930730030689048,
          0.24353861558735268,
          0.407732054381298,
          0.37511926593786693,
          0.7096236643748624,
          2.220446049250313e-16,
          0.2394467508754975,
          0.5001448195959938,
          0.559695500775085,
          0.17396681236909795,
          0.3540423452853344,
          2.220446049250313e-16,
          0.41783481850534,
          0.7488173406650844,
          0.4147327722953178,
          0.2716558835331754,
          0.003384104459876025,
          0.8124160389639821,
          0.7963026485752516,
          2.220446049250313e-16,
          0.7795074948629953,
          0.5389565339453859,
          0.5896644569330243,
          0.17396681236909795,
          0.13260363760662686,
          0.31426068231460436,
          0.8543102358588657,
          0.39732590832490267,
          0.126738846571252,
          2.220446049250313e-16,
          0.5762428179028998,
          0.012170838852737953,
          0.27246648620258285,
          0.2383643786741645,
          0.38783882639559863,
          0.44135922285385576,
          2.220446049250313e-16,
          0.10144906785940733,
          0.2303403774229611,
          0.012170838852737953,
          0.5229184090062691,
          2.220446049250313e-16,
          0.1931046312887985,
          0.2533480711600863,
          0.7397846510097538,
          0.6182676780469293,
          0.11921058735231249,
          0.3435118432126968,
          2.220446049250313e-16,
          0.11389621555780538,
          0.5731020393967418,
          0.68233295528949,
          0.17396681236909795,
          0.282675916884389,
          2.220446049250313e-16,
          0.5248603084199149,
          0.0567563137875674,
          0.22440078074189407,
          0.7298315956111917,
          0.062438446603859554,
          0.2830603605432689,
          0.7484649071198175,
          0.7098807272363017,
          0.7705596673369026,
          0.48624455652353316,
          0.7546249074247225,
          0.06411267254431197,
          2.220446049250313e-16,
          0.34443950039152704,
          0.08423753045216076,
          0.011367052998983551,
          0.19835774052908983,
          0.6860360718814831,
          0.4596131836130525,
          2.220446049250313e-16,
          0.36704006394203226,
          0.6406131481559441,
          0.32556481264837134,
          2.220446049250313e-16,
          0.6775846627379604,
          0.454025197725629,
          0.012170838852737953,
          0.3446167052234046,
          0.5390957761012565,
          0.6969200471620073,
          0.37059590524144814,
          0.21297441047448595,
          0.04300106686132266,
          0.6421136371500673,
          0.17396681236909795,
          0.7259269465866991,
          0.20595364677637928,
          0.11572573172787015,
          0.13858365969783104,
          0.385355370209838,
          0.4281616270722096,
          0.17396681236909795,
          0.32673754586828174,
          0.1948760835444876,
          2.220446049250313e-16,
          0.24401451097998206,
          0.4154022440562086,
          -2.220446049250313e-16,
          0.3598048764616245,
          0.7955748925659605,
          0.2069586141844325,
          0.47727977864792415,
          0.5324775125232605,
          2.220446049250313e-16,
          0.3268224063198185,
          0.2021775195375205,
          0.241813619417523,
          2.220446049250313e-16,
          0.0959825553791227,
          0.17396681236909795,
          0.5437337238649967,
          0.6308561632359619,
          0.5875270492353799,
          0.6435452850910681,
          0.33082416022045535,
          2.220446049250313e-16,
          2.220446049250313e-16,
          2.220446049250313e-16,
          0.17396681236909795,
          0.003384104459876025,
          0.5049457321790844,
          0.6129246364670067,
          2.220446049250313e-16,
          0.11942881978472786,
          2.220446049250313e-16,
          2.220446049250313e-16,
          0.6430298314825447,
          0.31250613556764195,
          0.11212061220122727,
          2.220446049250313e-16,
          2.220446049250313e-16,
          0.2395024361026219,
          0.32980064274502296,
          0.21241512580641464,
          2.220446049250313e-16,
          0.3722325939647534,
          0.20820232803892835,
          0.7220099545908918,
          0.6644829081319179,
          0.42546674647357785,
          0.12175850825128054,
          0.7721221516565575,
          0.2548232972474884,
          2.220446049250313e-16,
          0.25457290413640643,
          0.003384104459876025,
          0.1270748349870955,
          2.220446049250313e-16,
          0.3408249226874095,
          2.220446049250313e-16,
          0.05969446247623167,
          0.012170838852737953,
          0.003384104459876025,
          0.17530749283791414,
          2.220446049250313e-16,
          2.220446049250313e-16,
          2.220446049250313e-16,
          0.6568987290132724,
          0.2710259808634947,
          0.4998137165208325,
          0.7746839754677217,
          0.17396681236909795,
          0.35373890098904515,
          0.0934941415985241,
          2.220446049250313e-16,
          0.4711878988459537,
          0.1330749112020282,
          0.22008316989788468,
          0.73173615825326,
          0.8133982143352138,
          0.44314524707176717,
          2.220446049250313e-16,
          0.5177802512522267,
          0.7739877730142621,
          0.017170018060924108,
          0.33154826586443276,
          0.1519867844424586,
          0.38692678534329183,
          0.2926447172422918,
          0.6231942108419238,
          0.29012845709629687,
          2.220446049250313e-16,
          0.24337191823487814,
          0.32016737746139556,
          0.6465897559266339,
          0.03332969238556438,
          0.17396681236909795,
          2.220446049250313e-16,
          0.17396681236909795,
          0.29779852467505497,
          2.220446049250313e-16,
          0.7773114172168698,
          2.220446049250313e-16,
          0.32676361253990605,
          0.20587986940761482,
          0.24848286550629073,
          0.38410416013339876,
          2.220446049250313e-16,
          2.220446049250313e-16,
          0.3789730310422499,
          0.5646974607154966,
          0.10704181941133761,
          0.06837140069630232,
          0.47441951421803996,
          0.15030015819262432,
          0.04341319744280836,
          0.24316791730718734,
          0.4591754718348804,
          2.220446049250313e-16,
          0.2772779206660245,
          0.05903334933593052,
          0.07193815960730299,
          0.003384104459876025,
          0.6827505399983818,
          0.634312892939874,
          2.220446049250313e-16,
          2.220446049250313e-16,
          0.33300650205718063,
          0.7848872104668114,
          0.0037574112817999605,
          0.05508168192245089,
          0.14324976856194593,
          0.12221171067779701,
          0.012170838852737953,
          0.2065780238540712,
          0.8200635934837099
         ]
        },
        {
         "name": "non_uui_low_score_pairs",
         "nbinsx": 100,
         "opacity": 0.75,
         "type": "histogram",
         "x": [
          0.39911232528447893,
          0.22331011696483816,
          0.45292216586751277,
          0.44692966649809074,
          0.391319469792645,
          0.29217776527918893,
          0.7080225671318281,
          2.220446049250313e-16,
          0.6133121785562049,
          0.3090319666549739,
          0.7398139688577647,
          0.6518636663699635,
          0.6219261831860463,
          0.7923456622009282,
          0.30514718044980826,
          0.2580024077749947,
          0.6059874490012598,
          0.062286902505809705,
          0.542238558007312,
          0.5227771878006362,
          0.5603368587577395,
          0.2073760108953998,
          0.508143017288623,
          0.3344922871644621,
          0.5009948527682799,
          0.33933010387355456,
          0.36869953441966774,
          2.220446049250313e-16,
          0.3694377916835503,
          0.5472954456610288,
          0.41260354503497865,
          0.27008649202899515,
          2.220446049250313e-16,
          0.5041493722340282,
          0.3674573398901395,
          0.3549564624038336,
          2.220446049250313e-16,
          0.39546815359751375,
          0.30764211085911564,
          0.34341638758017945,
          0.4054835776266119,
          0.6505118220601618,
          0.5698861650549842,
          0.20557178290420752,
          0.3703714499794414,
          0.3466477678398856,
          0.37371485549760775,
          0.4563399283276214,
          0.38620822126320453,
          0.48046829946781233,
          2.220446049250313e-16,
          0.5014819073238446,
          2.220446049250313e-16,
          2.220446049250313e-16,
          0.45711913171931107,
          0.41528281212861495,
          0.7606905698664266,
          0.5966744608178086,
          0.37332838237269483,
          0.6023044596573147,
          0.4874795649740076,
          0.47307787000528434,
          0.4975983202456262,
          0.6462458375633997,
          0.34911817223032116,
          0.07795542060715654,
          0.42062880223123733,
          0.14929456626624238,
          0.5723582928633019,
          0.4762296080749957,
          0.5096926783427191,
          0.3621045452004019,
          2.220446049250313e-16,
          0.3795157564080651,
          2.220446049250313e-16,
          0.27065283286501896,
          0.4243627341998957,
          0.008759292838069754,
          2.220446049250313e-16,
          0.25881306983496843,
          0.49756317639659464,
          0.6388935301457555,
          0.4668216294545168,
          0.4043043022207593,
          0.36507003403256577,
          0.40240805476328523,
          2.220446049250313e-16,
          0.39349789574601624,
          0.5050414419278044,
          0.38509876474904003,
          0.02657779708135677,
          0.0023913944154723143,
          0.42981110632160113,
          0.7557321529894812,
          0.6654815103143401,
          0.4555367401249727,
          0.5145146170211257,
          0.5606020473443795,
          0.19614229542263018,
          0.43481195562841046,
          0.5487368506739057,
          0.4413740328768747,
          0.25335885620785104,
          0.5043739713823214,
          0.273394189627993,
          0.5535031125422396,
          0.5703532296230482,
          2.220446049250313e-16,
          0.5281445544257884,
          0.47161577140175404,
          0.18702396103010144,
          0.44838092439314625,
          0.3046041220559319,
          0.32427822772006554,
          0.6181771209312207,
          0.6914294550990475,
          2.220446049250313e-16,
          0.4889823892607643,
          0.3470276057451731,
          2.220446049250313e-16,
          0.45710743322284475,
          0.303836416495496,
          0.6209488196131332,
          2.220446049250313e-16,
          0.3572132425425788,
          0.5226068338693515,
          0.5497920659928457,
          0.37843672418353747,
          0.5639187913895688,
          0.16266040168656493,
          0.36953312330918375,
          0.3247201708788403,
          0.6101346852285356,
          0.6604402161242597,
          0.5300584500465912,
          0.32871949545156676,
          0.3956350572455086,
          0.7931667579798237,
          0.5521151920501419,
          0.44108629717413106,
          0.24943345166754127,
          0.37450935431766297,
          0.6790635134829626,
          0.43993890605598285,
          0.46086915615964075,
          0.3666552763448805,
          0.510834434777308,
          0.5402381636918506,
          2.220446049250313e-16,
          0.17202009174474742,
          0.6143919789379023,
          0.5397686983565382,
          0.5254151330767338,
          0.3988335415772303,
          0.5761279256013592,
          0.5149040395540541,
          0.3062613732097277,
          0.16963711495358613,
          0.5528859816307291,
          0.1755984136066675,
          0.38441099765723774,
          0.2806375165659326,
          0.40506512318467736,
          2.220446049250313e-16,
          0.4173861113208188,
          0.36080927572479216,
          0.4263561374452456,
          0.5331401911359663,
          0.45579806134759615,
          0.3782775935160607,
          0.26510349211933026,
          0.5305116437168722,
          0.6951579511692481,
          0.441147500075342,
          0.5729981014849912,
          0.4629035184778143,
          0.6222428724544781,
          0.32120243286284844,
          0.5049906581207969,
          0.35986706699019466,
          0.6242357780457773,
          0.5194492630638232,
          0.5706899336313976,
          0.17529734082571014,
          0.4165888548982418,
          0.4346503890789901,
          0.6123864073374397,
          0.35898041390455815,
          0.5504566092238049,
          0.2861370037255122,
          0.5084552484811469,
          0.4804018779940944,
          0.2789630740923602,
          0.49122976759990933,
          0.003384104459876025,
          0.24200026977416156,
          2.220446049250313e-16,
          2.220446049250313e-16,
          0.35592806884633,
          0.3930584655826409,
          2.220446049250313e-16,
          0.34140894015111434,
          0.3090319666549739,
          0.24825413545714625,
          2.220446049250313e-16,
          0.7481874077779691,
          0.26303061967047303,
          0.43979596874073046,
          0.4115920763524735,
          0.6693183991339169,
          0.1845637341335582,
          2.220446049250313e-16,
          0.4005970482735829,
          0.41181848099802054,
          0.33080733752698444,
          0.298274445058926,
          0.4229364992995456,
          0.3008157415894952,
          2.220446049250313e-16,
          0.36043507193539903,
          0.5546613034301906,
          0.2503615071669445,
          0.387443865198678,
          0.36397547488990023,
          0.5550691806170303,
          0.5357170552401322,
          0.3046267526837122,
          2.220446049250313e-16,
          0.38187746223089936,
          0.441759150699375,
          0.4430908598096944,
          0.4007530179040292,
          0.5572579471460899,
          2.220446049250313e-16,
          0.6280615585865494,
          0.30904649778087345,
          0.47433980564905387,
          0.5351708553026182,
          0.43138306713708374,
          0.0029696040638971244,
          2.220446049250313e-16,
          0.247296298288339,
          0.5636286316025927,
          0.5805199758078488,
          0.3834257814292613,
          2.220446049250313e-16,
          0.6198241025461553,
          0.36684721475757576,
          0.37843672418353747,
          0.28173437324906436,
          2.220446049250313e-16,
          0.5014471854123035,
          0.5277791582262967,
          2.220446049250313e-16,
          0.4845368939156117,
          0.2760869914612294,
          2.220446049250313e-16,
          0.28132249304817636,
          0.23398802984443567,
          0.5315334653122927,
          0.579638593704334,
          0.5141649367579589,
          0.6643049776337913,
          2.220446049250313e-16,
          0.5754013668852387,
          0.16960889671455381,
          0.4766695668389822,
          0.4420417415681066,
          0.49349589415902706,
          0.7094313674044147,
          0.4714370996989663,
          0.4722797775287887,
          0.7243219319264333,
          0.6142950820455138,
          0.6560530412024778,
          0.2957583292206416,
          0.7755085787582768,
          2.220446049250313e-16,
          0.43610818254924255,
          0.35739994479009396,
          2.220446049250313e-16,
          0.41633756406395295,
          0.5816868952087058,
          0.43047407733775134,
          0.5218941376236685,
          0.691300310058523,
          0.45948905836600284,
          0.36282868965560333,
          0.4489457704108414,
          0.4922201731522956,
          0.42137347783077783,
          0.3861309620044676,
          0.2946730572756511,
          0.5107893766220314,
          0.34750936241511055,
          0.4752709536786298,
          0.4444696507746365,
          0.3420913889437659,
          0.38701666422155534,
          0.5071895098557102,
          0.405224456649797,
          0.5740043218406374,
          0.3001568966434035,
          0.562882006963558,
          0.16233040249910735,
          0.7358189081284238,
          2.220446049250313e-16,
          0.5566079124409897,
          0.5912029425712648,
          0.5563943270279061,
          0.48977354226796366,
          0.3159115783055827,
          0.7954271316535683,
          0.3958738388037636,
          0.5108631343033305,
          0.433599787985277,
          2.220446049250313e-16,
          0.35690032316517684,
          0.44043371759359184,
          0.21744503194905784,
          2.220446049250313e-16,
          0.4464032109448587,
          0.3371855170121165,
          0.7795511285338619,
          0.5446883700152683,
          0.7720435330383134,
          0.010256681389212985,
          0.4834831020354379,
          0.46289108847836524
         ]
        }
       ],
       "layout": {
        "barmode": "overlay",
        "template": {
         "data": {
          "bar": [
           {
            "error_x": {
             "color": "#2a3f5f"
            },
            "error_y": {
             "color": "#2a3f5f"
            },
            "marker": {
             "line": {
              "color": "#E5ECF6",
              "width": 0.5
             }
            },
            "type": "bar"
           }
          ],
          "barpolar": [
           {
            "marker": {
             "line": {
              "color": "#E5ECF6",
              "width": 0.5
             }
            },
            "type": "barpolar"
           }
          ],
          "carpet": [
           {
            "aaxis": {
             "endlinecolor": "#2a3f5f",
             "gridcolor": "white",
             "linecolor": "white",
             "minorgridcolor": "white",
             "startlinecolor": "#2a3f5f"
            },
            "baxis": {
             "endlinecolor": "#2a3f5f",
             "gridcolor": "white",
             "linecolor": "white",
             "minorgridcolor": "white",
             "startlinecolor": "#2a3f5f"
            },
            "type": "carpet"
           }
          ],
          "choropleth": [
           {
            "colorbar": {
             "outlinewidth": 0,
             "ticks": ""
            },
            "type": "choropleth"
           }
          ],
          "contour": [
           {
            "colorbar": {
             "outlinewidth": 0,
             "ticks": ""
            },
            "colorscale": [
             [
              0,
              "#0d0887"
             ],
             [
              0.1111111111111111,
              "#46039f"
             ],
             [
              0.2222222222222222,
              "#7201a8"
             ],
             [
              0.3333333333333333,
              "#9c179e"
             ],
             [
              0.4444444444444444,
              "#bd3786"
             ],
             [
              0.5555555555555556,
              "#d8576b"
             ],
             [
              0.6666666666666666,
              "#ed7953"
             ],
             [
              0.7777777777777778,
              "#fb9f3a"
             ],
             [
              0.8888888888888888,
              "#fdca26"
             ],
             [
              1,
              "#f0f921"
             ]
            ],
            "type": "contour"
           }
          ],
          "contourcarpet": [
           {
            "colorbar": {
             "outlinewidth": 0,
             "ticks": ""
            },
            "type": "contourcarpet"
           }
          ],
          "heatmap": [
           {
            "colorbar": {
             "outlinewidth": 0,
             "ticks": ""
            },
            "colorscale": [
             [
              0,
              "#0d0887"
             ],
             [
              0.1111111111111111,
              "#46039f"
             ],
             [
              0.2222222222222222,
              "#7201a8"
             ],
             [
              0.3333333333333333,
              "#9c179e"
             ],
             [
              0.4444444444444444,
              "#bd3786"
             ],
             [
              0.5555555555555556,
              "#d8576b"
             ],
             [
              0.6666666666666666,
              "#ed7953"
             ],
             [
              0.7777777777777778,
              "#fb9f3a"
             ],
             [
              0.8888888888888888,
              "#fdca26"
             ],
             [
              1,
              "#f0f921"
             ]
            ],
            "type": "heatmap"
           }
          ],
          "heatmapgl": [
           {
            "colorbar": {
             "outlinewidth": 0,
             "ticks": ""
            },
            "colorscale": [
             [
              0,
              "#0d0887"
             ],
             [
              0.1111111111111111,
              "#46039f"
             ],
             [
              0.2222222222222222,
              "#7201a8"
             ],
             [
              0.3333333333333333,
              "#9c179e"
             ],
             [
              0.4444444444444444,
              "#bd3786"
             ],
             [
              0.5555555555555556,
              "#d8576b"
             ],
             [
              0.6666666666666666,
              "#ed7953"
             ],
             [
              0.7777777777777778,
              "#fb9f3a"
             ],
             [
              0.8888888888888888,
              "#fdca26"
             ],
             [
              1,
              "#f0f921"
             ]
            ],
            "type": "heatmapgl"
           }
          ],
          "histogram": [
           {
            "marker": {
             "colorbar": {
              "outlinewidth": 0,
              "ticks": ""
             }
            },
            "type": "histogram"
           }
          ],
          "histogram2d": [
           {
            "colorbar": {
             "outlinewidth": 0,
             "ticks": ""
            },
            "colorscale": [
             [
              0,
              "#0d0887"
             ],
             [
              0.1111111111111111,
              "#46039f"
             ],
             [
              0.2222222222222222,
              "#7201a8"
             ],
             [
              0.3333333333333333,
              "#9c179e"
             ],
             [
              0.4444444444444444,
              "#bd3786"
             ],
             [
              0.5555555555555556,
              "#d8576b"
             ],
             [
              0.6666666666666666,
              "#ed7953"
             ],
             [
              0.7777777777777778,
              "#fb9f3a"
             ],
             [
              0.8888888888888888,
              "#fdca26"
             ],
             [
              1,
              "#f0f921"
             ]
            ],
            "type": "histogram2d"
           }
          ],
          "histogram2dcontour": [
           {
            "colorbar": {
             "outlinewidth": 0,
             "ticks": ""
            },
            "colorscale": [
             [
              0,
              "#0d0887"
             ],
             [
              0.1111111111111111,
              "#46039f"
             ],
             [
              0.2222222222222222,
              "#7201a8"
             ],
             [
              0.3333333333333333,
              "#9c179e"
             ],
             [
              0.4444444444444444,
              "#bd3786"
             ],
             [
              0.5555555555555556,
              "#d8576b"
             ],
             [
              0.6666666666666666,
              "#ed7953"
             ],
             [
              0.7777777777777778,
              "#fb9f3a"
             ],
             [
              0.8888888888888888,
              "#fdca26"
             ],
             [
              1,
              "#f0f921"
             ]
            ],
            "type": "histogram2dcontour"
           }
          ],
          "mesh3d": [
           {
            "colorbar": {
             "outlinewidth": 0,
             "ticks": ""
            },
            "type": "mesh3d"
           }
          ],
          "parcoords": [
           {
            "line": {
             "colorbar": {
              "outlinewidth": 0,
              "ticks": ""
             }
            },
            "type": "parcoords"
           }
          ],
          "scatter": [
           {
            "marker": {
             "colorbar": {
              "outlinewidth": 0,
              "ticks": ""
             }
            },
            "type": "scatter"
           }
          ],
          "scatter3d": [
           {
            "line": {
             "colorbar": {
              "outlinewidth": 0,
              "ticks": ""
             }
            },
            "marker": {
             "colorbar": {
              "outlinewidth": 0,
              "ticks": ""
             }
            },
            "type": "scatter3d"
           }
          ],
          "scattercarpet": [
           {
            "marker": {
             "colorbar": {
              "outlinewidth": 0,
              "ticks": ""
             }
            },
            "type": "scattercarpet"
           }
          ],
          "scattergeo": [
           {
            "marker": {
             "colorbar": {
              "outlinewidth": 0,
              "ticks": ""
             }
            },
            "type": "scattergeo"
           }
          ],
          "scattergl": [
           {
            "marker": {
             "colorbar": {
              "outlinewidth": 0,
              "ticks": ""
             }
            },
            "type": "scattergl"
           }
          ],
          "scattermapbox": [
           {
            "marker": {
             "colorbar": {
              "outlinewidth": 0,
              "ticks": ""
             }
            },
            "type": "scattermapbox"
           }
          ],
          "scatterpolar": [
           {
            "marker": {
             "colorbar": {
              "outlinewidth": 0,
              "ticks": ""
             }
            },
            "type": "scatterpolar"
           }
          ],
          "scatterpolargl": [
           {
            "marker": {
             "colorbar": {
              "outlinewidth": 0,
              "ticks": ""
             }
            },
            "type": "scatterpolargl"
           }
          ],
          "scatterternary": [
           {
            "marker": {
             "colorbar": {
              "outlinewidth": 0,
              "ticks": ""
             }
            },
            "type": "scatterternary"
           }
          ],
          "surface": [
           {
            "colorbar": {
             "outlinewidth": 0,
             "ticks": ""
            },
            "colorscale": [
             [
              0,
              "#0d0887"
             ],
             [
              0.1111111111111111,
              "#46039f"
             ],
             [
              0.2222222222222222,
              "#7201a8"
             ],
             [
              0.3333333333333333,
              "#9c179e"
             ],
             [
              0.4444444444444444,
              "#bd3786"
             ],
             [
              0.5555555555555556,
              "#d8576b"
             ],
             [
              0.6666666666666666,
              "#ed7953"
             ],
             [
              0.7777777777777778,
              "#fb9f3a"
             ],
             [
              0.8888888888888888,
              "#fdca26"
             ],
             [
              1,
              "#f0f921"
             ]
            ],
            "type": "surface"
           }
          ],
          "table": [
           {
            "cells": {
             "fill": {
              "color": "#EBF0F8"
             },
             "line": {
              "color": "white"
             }
            },
            "header": {
             "fill": {
              "color": "#C8D4E3"
             },
             "line": {
              "color": "white"
             }
            },
            "type": "table"
           }
          ]
         },
         "layout": {
          "annotationdefaults": {
           "arrowcolor": "#2a3f5f",
           "arrowhead": 0,
           "arrowwidth": 1
          },
          "colorscale": {
           "diverging": [
            [
             0,
             "#8e0152"
            ],
            [
             0.1,
             "#c51b7d"
            ],
            [
             0.2,
             "#de77ae"
            ],
            [
             0.3,
             "#f1b6da"
            ],
            [
             0.4,
             "#fde0ef"
            ],
            [
             0.5,
             "#f7f7f7"
            ],
            [
             0.6,
             "#e6f5d0"
            ],
            [
             0.7,
             "#b8e186"
            ],
            [
             0.8,
             "#7fbc41"
            ],
            [
             0.9,
             "#4d9221"
            ],
            [
             1,
             "#276419"
            ]
           ],
           "sequential": [
            [
             0,
             "#0d0887"
            ],
            [
             0.1111111111111111,
             "#46039f"
            ],
            [
             0.2222222222222222,
             "#7201a8"
            ],
            [
             0.3333333333333333,
             "#9c179e"
            ],
            [
             0.4444444444444444,
             "#bd3786"
            ],
            [
             0.5555555555555556,
             "#d8576b"
            ],
            [
             0.6666666666666666,
             "#ed7953"
            ],
            [
             0.7777777777777778,
             "#fb9f3a"
            ],
            [
             0.8888888888888888,
             "#fdca26"
            ],
            [
             1,
             "#f0f921"
            ]
           ],
           "sequentialminus": [
            [
             0,
             "#0d0887"
            ],
            [
             0.1111111111111111,
             "#46039f"
            ],
            [
             0.2222222222222222,
             "#7201a8"
            ],
            [
             0.3333333333333333,
             "#9c179e"
            ],
            [
             0.4444444444444444,
             "#bd3786"
            ],
            [
             0.5555555555555556,
             "#d8576b"
            ],
            [
             0.6666666666666666,
             "#ed7953"
            ],
            [
             0.7777777777777778,
             "#fb9f3a"
            ],
            [
             0.8888888888888888,
             "#fdca26"
            ],
            [
             1,
             "#f0f921"
            ]
           ]
          },
          "colorway": [
           "#636efa",
           "#EF553B",
           "#00cc96",
           "#ab63fa",
           "#FFA15A",
           "#19d3f3",
           "#FF6692",
           "#B6E880",
           "#FF97FF",
           "#FECB52"
          ],
          "font": {
           "color": "#2a3f5f"
          },
          "geo": {
           "bgcolor": "white",
           "lakecolor": "white",
           "landcolor": "#E5ECF6",
           "showlakes": true,
           "showland": true,
           "subunitcolor": "white"
          },
          "hoverlabel": {
           "align": "left"
          },
          "hovermode": "closest",
          "mapbox": {
           "style": "light"
          },
          "paper_bgcolor": "white",
          "plot_bgcolor": "#E5ECF6",
          "polar": {
           "angularaxis": {
            "gridcolor": "white",
            "linecolor": "white",
            "ticks": ""
           },
           "bgcolor": "#E5ECF6",
           "radialaxis": {
            "gridcolor": "white",
            "linecolor": "white",
            "ticks": ""
           }
          },
          "scene": {
           "xaxis": {
            "backgroundcolor": "#E5ECF6",
            "gridcolor": "white",
            "gridwidth": 2,
            "linecolor": "white",
            "showbackground": true,
            "ticks": "",
            "zerolinecolor": "white"
           },
           "yaxis": {
            "backgroundcolor": "#E5ECF6",
            "gridcolor": "white",
            "gridwidth": 2,
            "linecolor": "white",
            "showbackground": true,
            "ticks": "",
            "zerolinecolor": "white"
           },
           "zaxis": {
            "backgroundcolor": "#E5ECF6",
            "gridcolor": "white",
            "gridwidth": 2,
            "linecolor": "white",
            "showbackground": true,
            "ticks": "",
            "zerolinecolor": "white"
           }
          },
          "shapedefaults": {
           "line": {
            "color": "#2a3f5f"
           }
          },
          "ternary": {
           "aaxis": {
            "gridcolor": "white",
            "linecolor": "white",
            "ticks": ""
           },
           "baxis": {
            "gridcolor": "white",
            "linecolor": "white",
            "ticks": ""
           },
           "bgcolor": "#E5ECF6",
           "caxis": {
            "gridcolor": "white",
            "linecolor": "white",
            "ticks": ""
           }
          },
          "title": {
           "x": 0.05
          },
          "xaxis": {
           "automargin": true,
           "gridcolor": "white",
           "linecolor": "white",
           "ticks": "",
           "zerolinecolor": "white",
           "zerolinewidth": 2
          },
          "yaxis": {
           "automargin": true,
           "gridcolor": "white",
           "linecolor": "white",
           "ticks": "",
           "zerolinecolor": "white",
           "zerolinewidth": 2
          }
         }
        },
        "yaxis": {
         "type": "log"
        }
       }
      },
      "text/html": [
       "<div>\n",
       "        \n",
       "        \n",
       "            <div id=\"c8302c86-efc3-4ad5-a4ba-e26921e568c5\" class=\"plotly-graph-div\" style=\"height:525px; width:100%;\"></div>\n",
       "            <script type=\"text/javascript\">\n",
       "                require([\"plotly\"], function(Plotly) {\n",
       "                    window.PLOTLYENV=window.PLOTLYENV || {};\n",
       "                    \n",
       "                if (document.getElementById(\"c8302c86-efc3-4ad5-a4ba-e26921e568c5\")) {\n",
       "                    Plotly.newPlot(\n",
       "                        'c8302c86-efc3-4ad5-a4ba-e26921e568c5',\n",
       "                        [{\"name\": \"uui_high_score_pairs\", \"nbinsx\": 100, \"opacity\": 0.75, \"type\": \"histogram\", \"x\": [2.220446049250313e-16, 2.220446049250313e-16, 0.0027282202852028092, 2.220446049250313e-16, 2.220446049250313e-16, 0.34092996098437645, 2.220446049250313e-16, 0.4029244870941635, 0.3818074812220599, 0.33230935616060275, 2.220446049250313e-16, 0.5290202110004868, 2.220446049250313e-16, 2.220446049250313e-16, 0.17381275528920492, 2.220446049250313e-16, 0.46260986837276696, 2.220446049250313e-16, 0.0028235350472619603, 2.220446049250313e-16, 2.220446049250313e-16, 0.1263892955849899, 2.220446049250313e-16, 0.42380690827325984, -2.220446049250313e-16, 2.220446049250313e-16, 2.220446049250313e-16, 2.220446049250313e-16, 2.220446049250313e-16, 2.220446049250313e-16, 2.220446049250313e-16, 0.3308748348729974, 0.22229744766734982, 0.2506821510234438, -2.220446049250313e-16, 2.220446049250313e-16, 2.220446049250313e-16, 0.12777647173446216, 0.08184594349812502, 0.5216920351007586, 2.220446049250313e-16, 0.22037187503266908, 2.220446049250313e-16, 0.003384104459876025, 2.220446049250313e-16, 0.15128079817643225, 2.220446049250313e-16, 2.220446049250313e-16, 2.220446049250313e-16, 0.2848169667475017, 0.11342629827628348, 2.220446049250313e-16, 0.352768773456014, 0.19025248367159997, 2.220446049250313e-16, 2.220446049250313e-16, 0.12187071999213783, 0.34082634937022904, 2.220446049250313e-16, 0.1648387736492989, 2.220446049250313e-16, 0.409893409309374, 0.1956381848902664, 0.1031242583514943, 0.37109657911632743, 2.220446049250313e-16, 0.5575090787054303, 2.220446049250313e-16, -2.220446049250313e-16, 2.220446049250313e-16, 2.220446049250313e-16, 0.0059683381203418095, 0.3192903050514744, 0.27077530270397754, 2.540166381292952e-05, 2.220446049250313e-16, 2.220446049250313e-16, 0.2900053077944341, 0.16709541888194535, 2.220446049250313e-16, 2.220446049250313e-16, 0.028410478995075428, 0.578493240750664, 0.005451175311719236, 0.1982162742627268, 0.43303304209657767, 0.4424558840520262, 2.220446049250313e-16, 0.4748673084195042, 2.220446049250313e-16, 2.220446049250313e-16, 0.2602787423409675, 0.1107117837302658, 0.5290367337858037, 2.220446049250313e-16, 0.10722419906739611, 0.718769787855576, 2.220446049250313e-16, -2.220446049250313e-16, 2.220446049250313e-16, 0.3738354430091385, 0.2698299100680682, 0.2251047724468762, 0.23211550070442177, 0.0028235350472619603, 0.14770238119033308, 0.41284302263756334, 2.220446049250313e-16, 0.3220935177691171, 2.220446049250313e-16, 0.07668268428714287, 0.1982162742627268, 0.47831643308491245, 2.220446049250313e-16, 0.295773217456599, 0.0028235350472619603, 2.220446049250313e-16, 0.0994411089358449, 0.33524910307528155, 0.24484620714429606, 2.220446049250313e-16, 2.220446049250313e-16, 0.44280298418746955, 0.4243328885294322, 0.012170838852737953, 0.3860593864850794, 0.2814364034445156, 2.220446049250313e-16, 2.220446049250313e-16, 2.220446049250313e-16, 2.220446049250313e-16, 2.220446049250313e-16, 0.417750781036456, 0.002323552601637635, 2.220446049250313e-16, 2.220446049250313e-16, 2.220446049250313e-16, 2.220446049250313e-16, 2.220446049250313e-16, 0.02512706568887424, -2.220446049250313e-16, 0.40743201406106866, 2.220446049250313e-16, 0.019155704373468807, 2.220446049250313e-16, 0.05206191990179532, 0.24661935554766645, 2.220446049250313e-16, 2.220446049250313e-16, 2.220446049250313e-16, 2.220446049250313e-16, 0.041946344834911886, 2.220446049250313e-16, 2.220446049250313e-16, 2.220446049250313e-16, 2.220446049250313e-16, 2.220446049250313e-16, 2.220446049250313e-16, 0.25632652103035736, 0.4773271000984465, 2.220446049250313e-16, 2.220446049250313e-16, 0.017058466203584532, 2.220446049250313e-16, 2.220446049250313e-16, 0.4383179338436034, 2.220446049250313e-16, 0.23340089275249276, 2.220446049250313e-16, 2.220446049250313e-16, 2.220446049250313e-16, 2.220446049250313e-16, 0.5602007251674159, 2.220446049250313e-16, 2.540166381292952e-05, 0.38600665807944945, 0.11976594978613242, 0.4674276569899988, 2.220446049250313e-16, 0.266184613515262, -2.220446049250313e-16, 2.220446049250313e-16, 2.220446049250313e-16, 2.220446049250313e-16, 2.220446049250313e-16, 2.220446049250313e-16, 0.43692349903622696, 2.220446049250313e-16, 0.35270623188609707, 0.21027383431930846, 3.1682930428100775e-05, 0.3795942163447873, 2.220446049250313e-16, 0.0, 2.220446049250313e-16, 0.15969054215859602, 2.220446049250313e-16, 2.220446049250313e-16, 0.12024007198343911, 2.220446049250313e-16, 2.540166381292952e-05, 2.220446049250313e-16, 0.44527651697399306, 0.16022972227260424, 0.2970023414736841, 2.220446049250313e-16, 2.220446049250313e-16, 2.220446049250313e-16, 0.06217498633069407, 0.052867781691250726, 0.26798316614308804, 2.220446049250313e-16, 0.12164590294958721, 0.3034326538329245, 0.4986939984781784, 0.14633834498759712, 0.0020512842113268315, 2.220446049250313e-16, 0.34126877846738035, 2.220446049250313e-16, 2.220446049250313e-16, 2.220446049250313e-16, 0.24998923211197244, 2.220446049250313e-16, 2.220446049250313e-16, 2.220446049250313e-16, 2.220446049250313e-16, 0.4484013367029994, 2.220446049250313e-16, 0.15673018362561686, 2.220446049250313e-16, 2.220446049250313e-16, 0.14391305198660487, 2.220446049250313e-16, 0.0027282202852028092, 2.220446049250313e-16, 2.220446049250313e-16, 2.220446049250313e-16, 0.0, 2.220446049250313e-16, 0.1786484237088436, 2.220446049250313e-16, 0.19184451229256572, 2.220446049250313e-16, 2.220446049250313e-16, 0.0028235350472619603, 2.220446049250313e-16, 0.47284963509579203, 2.220446049250313e-16, 0.3263464312858204, 2.220446049250313e-16, 0.3916133157620363, 2.220446049250313e-16, 0.0028235350472619603, 2.220446049250313e-16, 0.1866512518053698, 2.220446049250313e-16, 0.047068513430531866, 0.21425552079266796, 2.220446049250313e-16, 2.220446049250313e-16, 2.220446049250313e-16, 0.37238654468522847, 0.45351948702292266, 2.220446049250313e-16, 2.220446049250313e-16, 2.220446049250313e-16, 0.0020512842113268315, 0.5228770104313765, 0.11474679955937439, 2.220446049250313e-16, 0.4347869432520065, 2.220446049250313e-16, 0.001723561837866261, 2.220446049250313e-16, 2.220446049250313e-16, 0.0027282202852028092, 0.3099621661298462, 2.220446049250313e-16, 2.220446049250313e-16, 2.220446049250313e-16, 2.220446049250313e-16, -2.220446049250313e-16, 2.220446049250313e-16, 2.220446049250313e-16, 2.220446049250313e-16, 0.46261212449397093, 0.35075619327014096, 0.5182435865320483, 2.220446049250313e-16, 2.220446049250313e-16, 0.307614444292197, 2.220446049250313e-16, 2.220446049250313e-16, 0.41956224866548264, 0.2023644924180379, 2.220446049250313e-16, 2.220446049250313e-16, 2.220446049250313e-16, 0.4870211318451736, 2.220446049250313e-16, 0.17683138661979247, 0.17659584398706718, 2.220446049250313e-16, 2.220446049250313e-16, 0.06703454159697908, 2.220446049250313e-16, 2.220446049250313e-16, 2.220446049250313e-16, 8.607703910912257e-05, 2.220446049250313e-16, 2.220446049250313e-16, 0.25197660014185264, 0.41324841281723623, 0.14864433677680533, 0.6061932507153982, 0.20044064118832072, 0.12642284188150887, 0.19310223024220197, 2.220446049250313e-16, 0.6931541199367071, 2.220446049250313e-16, 2.220446049250313e-16, 2.220446049250313e-16, 2.220446049250313e-16, -2.220446049250313e-16, 0.2856349015353986, 0.007370131657042145, 0.2759089787522948]}, {\"name\": \"uui_grey_score_pairs\", \"nbinsx\": 100, \"opacity\": 0.75, \"type\": \"histogram\", \"x\": [0.6198618114243004, 2.220446049250313e-16, 2.220446049250313e-16, 0.059989172122462464, 0.3611056051616892, 2.220446049250313e-16, 0.16577022664831764, 2.220446049250313e-16, 2.220446049250313e-16, 0.8050791003518798, 0.3395245492018554, 0.4718603272461883, 0.11344744026376374, 0.03160052647398959, 2.220446049250313e-16, 0.11028737810265576, -2.220446049250313e-16, 0.11469515397133268, 0.23028307474361398, 2.220446049250313e-16, 2.220446049250313e-16, 0.27733147710931516, 0.23880527021508546, 0.29749949949340215, 2.220446049250313e-16, 2.220446049250313e-16, 0.4923302894288998, 0.28741190701976727, 6.035635086731883e-05, 2.220446049250313e-16, 2.220446049250313e-16, 2.220446049250313e-16, 2.220446049250313e-16, 0.22933959101469836, 0.07841118046554973, 0.5982974745064573, 2.220446049250313e-16, 0.08131444980598812, 0.17541540127072397, 0.4517004729713022, 0.27910136052956525, 2.220446049250313e-16, 0.19779121447401482, 0.26063072977800006, 0.10089137034151341, 0.024275959544606596, 2.220446049250313e-16, 2.220446049250313e-16, 0.12750843709049287, 2.220446049250313e-16, 0.14820733261236252, 2.220446049250313e-16, 0.8961612905104863, 0.4151255449724208, 0.003384104459876025, 2.220446049250313e-16, 0.0731101087122743, 2.220446049250313e-16, 2.220446049250313e-16, 0.28423895696743373, 2.220446049250313e-16, 0.23189193989073043, 0.0028235350472619603, 0.7317574889952356, 2.220446049250313e-16, 0.24830045166798198, 0.08458401529929205, 0.407574120319928, 3.5906317268907806e-05, 0.21204861767323746, 0.3884609219177906, 2.220446049250313e-16, 0.11009052337001324, 0.3552758057586173, 0.4285423122723123, 0.3241521189980834, 0.01186626351754827, 2.220446049250313e-16, 0.32520920002398923, 0.3470017922789178, 2.220446049250313e-16, 0.20804726949123908, 0.11736134390703223, 0.1387809807775684, 2.220446049250313e-16, 0.028425012494379565, 2.220446049250313e-16, 2.220446049250313e-16, 2.220446049250313e-16, 0.15765663325045776, 0.5237140172603052, 0.7258580396765191, 0.4089746986771544, 0.4185265706255893, 0.315771854683232, 0.22400233138039516, 0.20844218409086934, 0.5010174343200127, 0.1376676830833995, 0.09793450496404843, 0.17841536185314055, 0.20257514590816472, 0.0019594089854371166, 0.1523617509990549, 2.220446049250313e-16, 2.220446049250313e-16, 2.220446049250313e-16, 0.205243761569727, 0.24013243165626108, 0.09384856912830652, 0.30627755650601185, 0.21416922218811763, 2.220446049250313e-16, 0.10829857717605484, 2.220446049250313e-16, 2.220446049250313e-16, 2.220446049250313e-16, 0.6147051359055757, 0.14590206493940527, 0.1400774550981052, 0.19452296271755332, 2.220446049250313e-16, 2.220446049250313e-16, 0.18580685445494227, 2.220446049250313e-16, 0.6106244532980052, 0.3551325699073815, 0.17396681236909795, 0.33001512172129177, 0.017353281337119664, 0.7264716506853911, 0.0885623237459594, 2.220446049250313e-16, 2.220446049250313e-16, 2.220446049250313e-16, 2.220446049250313e-16, 2.220446049250313e-16, 0.33682882357487587, 0.5810582105641218, 2.220446049250313e-16, 0.19680515986498515, 0.07774970215481736, 2.220446049250313e-16, 2.220446049250313e-16, 0.14590206493940527, 2.220446049250313e-16, 0.2579280089768138, 0.2628739094062258, -2.220446049250313e-16, 2.220446049250313e-16, 0.22589213028353472, 0.1683449200935857, 0.3769822132732058, 0.24403561297932996, 0.47260530298773606, 0.16140390339355126, 2.220446049250313e-16, 0.15096576236970416, 2.220446049250313e-16, 2.220446049250313e-16, 0.4896534393784253, 0.057809393184257485, 2.220446049250313e-16, 0.3594009443295165, 0.7456931794206395, 2.220446049250313e-16, 0.25156027111967927, 0.4285423122723123, 0.1702044961008955, 2.220446049250313e-16, 0.07873178747775289, 0.2297756143721028, 0.24898643016480704, 2.220446049250313e-16, 2.220446049250313e-16, 0.0028235350472619603, 0.1806391586640097, 2.220446049250313e-16, 0.26216628655167484, 2.220446049250313e-16, 0.295773217456599, 0.28310908945309854, 2.220446049250313e-16, 2.220446049250313e-16, 0.21804259534850134, 0.20937890742654253, 2.220446049250313e-16, 0.00976967544716656, 0.4217850295612846, 0.2821001276122135, 0.19839798912742002, 0.3291919776215766, 0.004597232300149745, 0.6094779480785728, 0.3300608144368231, 0.35105503007642747, 0.4809370970784682, 2.220446049250313e-16, 0.06783531575597612, 2.220446049250313e-16, 2.220446049250313e-16, 0.3660919124744506, 2.220446049250313e-16, 0.387099891982712, 0.543985770819877, 0.0028235350472619603, 0.18107913360890815, 2.220446049250313e-16, 2.220446049250313e-16, 2.220446049250313e-16, 0.3023183786759175, 2.220446049250313e-16, 0.22328779249849995, 0.4592857273883736, 2.220446049250313e-16, 0.3647471053223993, 0.007231232097135387, 2.220446049250313e-16, 0.21151977292946833, 0.22175975860504993, 0.1777114654659796, 2.220446049250313e-16, 0.28285489044778134, 0.2232518316095411, 2.220446049250313e-16, 2.220446049250313e-16, 0.0032796930124342483, 0.13103137598174097, 2.220446049250313e-16, 0.0027282202852028092, 2.220446049250313e-16, 0.21744339946612135, 0.35699848136050805, 2.220446049250313e-16, 0.3756041297549654, 2.220446049250313e-16, 2.220446049250313e-16, 2.220446049250313e-16, 0.15248966429190824, 0.24598427551193713, 2.220446049250313e-16, 2.220446049250313e-16, 0.22843602772384608, 0.2353104285620089, 2.220446049250313e-16, 0.47985448595309477, 2.220446049250313e-16, 0.1195888270554627, 0.16866133032580954, 2.220446049250313e-16, 2.220446049250313e-16, 2.220446049250313e-16, 0.2605002038960872, 2.220446049250313e-16, 0.24024430567567345, 0.16028096005168513, 0.5350118942300064, 0.1619409314624074, 2.220446049250313e-16, 0.295773217456599, 0.7483383035253994, 0.5910551164639006, 2.220446049250313e-16, 2.220446049250313e-16, 0.26300470066910775, 0.2932103123408215, 0.5901976424081012, 2.220446049250313e-16, 0.1962647531321433, 0.19310223024220197, 0.156204981458266, 2.220446049250313e-16, 2.220446049250313e-16, 0.21605193805795753, 0.21706420491475664, 0.11352384416428551, 0.19680515986498515, 0.27318780156424916, 0.0018632913603306989, 0.26863893035107034, 2.220446049250313e-16, 2.220446049250313e-16, 0.4131716564484993, 0.8316339096940648, 2.220446049250313e-16, 2.220446049250313e-16, 0.10289792304763268, 0.40654700365907814, 0.29041779202195117, 0.2061224606593649, 2.220446049250313e-16, 0.45845961189891304, 0.08496736153028772, 0.15301330386412382, 0.24297774838769481, 0.41672435385996787, 0.18638845857365727, 2.220446049250313e-16, 2.220446049250313e-16, 0.17722399728364824, 0.3855851271502684, 2.220446049250313e-16, 0.25528279396351683, 0.10648506300870975, 0.20803136142934264, 0.6970740800913913, 0.09674884324879385, 0.09505193830217062, 0.3648899891790913, 0.38126479783504885, 2.220446049250313e-16, 0.6676327636669278, 0.36177312523840033, 0.0032796930124342483, 2.220446049250313e-16, 0.609816810656802, 2.220446049250313e-16, 2.220446049250313e-16, 0.48473464289840007, 0.14628768358719657, 2.220446049250313e-16, 0.08965781239421078, 3.5906317268907806e-05, 2.220446049250313e-16, 2.220446049250313e-16, 0.24576085519931667, 2.220446049250313e-16, 0.06861809743776603, 0.5343048329874883]}, {\"name\": \"non_uui_grey_score_pairs\", \"nbinsx\": 100, \"opacity\": 0.75, \"type\": \"histogram\", \"x\": [2.220446049250313e-16, 0.5369629400467535, 0.2813751330607823, 2.220446049250313e-16, 0.005830903790087438, 2.220446049250313e-16, 2.220446049250313e-16, 2.220446049250313e-16, 2.220446049250313e-16, 2.220446049250313e-16, 2.220446049250313e-16, 0.45584305665555147, 2.220446049250313e-16, 0.5273226260945121, 2.220446049250313e-16, 2.220446049250313e-16, 2.220446049250313e-16, 0.28957191147940786, 0.06814282566839991, 0.1876170817833851, 2.220446049250313e-16, 2.220446049250313e-16, 2.220446049250313e-16, 0.010256681389212985, 2.220446049250313e-16, 0.2900569577823706, 0.34176400233293613, 2.220446049250313e-16, 0.2305522769618683, 2.220446049250313e-16, 2.220446049250313e-16, 0.01635017332733324, 2.220446049250313e-16, 0.2779539245929409, 0.21459529527509347, 0.1546658242103901, 0.21496256692176963, 0.20602511198153628, 2.540166381292952e-05, 2.220446049250313e-16, 2.220446049250313e-16, 2.220446049250313e-16, 2.220446049250313e-16, 0.10635425748937344, 0.0023913944154723143, 2.220446049250313e-16, 0.003384104459876025, 2.220446049250313e-16, 0.0023913944154723143, 2.220446049250313e-16, 2.220446049250313e-16, 2.220446049250313e-16, 2.220446049250313e-16, 2.220446049250313e-16, 0.06567922916933522, -2.220446049250313e-16, 0.11668475213472951, 2.220446049250313e-16, 2.220446049250313e-16, 0.43543946185037774, 0.023535085160185987, 0.6401599585265834, 2.220446049250313e-16, 0.003384104459876025, 2.220446049250313e-16, 2.220446049250313e-16, 0.1615043654155346, 2.220446049250313e-16, 2.220446049250313e-16, 2.220446049250313e-16, 2.220446049250313e-16, 0.3908622519685333, 2.220446049250313e-16, 4.5845558413137866e-05, 0.5364491512186172, 2.220446049250313e-16, 2.220446049250313e-16, 0.1500417390438079, 2.220446049250313e-16, 2.220446049250313e-16, 2.220446049250313e-16, 2.220446049250313e-16, 0.3835461245122993, 0.30914293221631395, 0.3171689589815664, 2.220446049250313e-16, 0.46536216717336487, 2.220446049250313e-16, 0.20479831475621457, 2.220446049250313e-16, 0.29189765847930405, 0.2900704653114923, 0.20490353567913167, 0.07039286207049622, 2.220446049250313e-16, 2.220446049250313e-16, 2.220446049250313e-16, 2.220446049250313e-16, 2.220446049250313e-16, 0.15681312893662425, 2.220446049250313e-16, 2.220446049250313e-16, 0.36816229859341976, 0.0028235350472619603, 2.220446049250313e-16, 2.220446049250313e-16, 2.220446049250313e-16, 2.220446049250313e-16, 2.220446049250313e-16, 2.220446049250313e-16, 2.220446049250313e-16, 2.220446049250313e-16, 2.220446049250313e-16, 2.220446049250313e-16, 0.26822542584575937, 0.16137213062246536, 2.220446049250313e-16, 2.220446049250313e-16, 2.220446049250313e-16, 2.220446049250313e-16, 0.24182752981311062, 2.220446049250313e-16, 0.2249922755043502, 2.220446049250313e-16, 2.220446049250313e-16, 0.5872478132153074, 2.220446049250313e-16, 2.220446049250313e-16, 0.5909613019284994, 2.220446049250313e-16, 2.220446049250313e-16, 0.0003259768544096042, 2.220446049250313e-16, 2.220446049250313e-16, 2.220446049250313e-16, 2.220446049250313e-16, 2.220446049250313e-16, 2.220446049250313e-16, 2.220446049250313e-16, 0.440730585647528, 2.220446049250313e-16, 2.220446049250313e-16, 2.220446049250313e-16, 2.540166381292952e-05, 2.220446049250313e-16, 0.3462421593555093, 2.220446049250313e-16, 2.220446049250313e-16, 0.4773604779715611, 0.21496256692176974, 0.1975589689646875, 2.220446049250313e-16, 2.220446049250313e-16, 2.220446049250313e-16, 2.220446049250313e-16, 2.220446049250313e-16, 2.220446049250313e-16, 0.27102495019658945, 2.220446049250313e-16, 0.19555473955284308, 2.220446049250313e-16, 2.220446049250313e-16, 2.220446049250313e-16, 2.220446049250313e-16, 2.540166381292952e-05, 0.19680515986498515, 0.3167066601851293, 2.220446049250313e-16, 0.4087627065822165, 2.220446049250313e-16, 2.220446049250313e-16, 0.07254001782343833, 2.220446049250313e-16, 2.220446049250313e-16, 2.220446049250313e-16, 2.220446049250313e-16, 2.220446049250313e-16, 2.220446049250313e-16, 2.220446049250313e-16, 2.220446049250313e-16, 2.220446049250313e-16, 2.220446049250313e-16, 2.220446049250313e-16, 2.220446049250313e-16, -2.220446049250313e-16, 2.220446049250313e-16, 2.220446049250313e-16, 0.1865155455374864, 0.4495171642375806, 0.1932848777104499, 2.220446049250313e-16, 2.220446049250313e-16, 2.220446049250313e-16, 2.220446049250313e-16, 2.220446049250313e-16, 0.3397606894491755, 0.0032796930124342483, 2.220446049250313e-16, 2.220446049250313e-16, 2.220446049250313e-16, 0.21799789576692796, 0.0572552468137133, 2.220446049250313e-16, 0.037651235721471665, 2.220446049250313e-16, 0.5623745162171812, 0.4040929546155597, 2.220446049250313e-16, 2.220446049250313e-16, 0.3883707201381663, 0.26975737983512593, 2.220446049250313e-16, 0.40270819236946975, 2.220446049250313e-16, 0.18238155484789542, 2.220446049250313e-16, 2.220446049250313e-16, 0.21972394952306784, 2.220446049250313e-16, 2.220446049250313e-16, 0.32669051440709174, 2.220446049250313e-16, 0.18700605840136808, 0.35131680744537774, 2.220446049250313e-16, 0.273074619256638, 2.220446049250313e-16, 2.220446049250313e-16, 2.220446049250313e-16, 4.276863912722195e-05, 2.220446049250313e-16, 0.24381751232469473, 2.220446049250313e-16, 2.220446049250313e-16, 0.0016406184144959202, 2.220446049250313e-16, 0.2680791680057284, 0.4594758656501945, 2.220446049250313e-16, 0.437519721027845, 2.220446049250313e-16, 2.220446049250313e-16, 2.220446049250313e-16, 2.220446049250313e-16, 2.220446049250313e-16, -2.220446049250313e-16, 2.220446049250313e-16, 2.220446049250313e-16, 0.2678548592600135, 2.220446049250313e-16, 2.220446049250313e-16, 2.220446049250313e-16, 0.02433683699046385, 2.220446049250313e-16, 0.5764518165536103, 2.220446049250313e-16, 0.43593825161061706, 0.2764765070962608, 2.220446049250313e-16, 0.2249922755043502, 0.45343442129250633, 2.220446049250313e-16, 0.47841299980343643, 0.45560026866262204, 0.018442738806987546, 0.735960723248976, 2.220446049250313e-16, 2.220446049250313e-16, 0.1481519411782546, 0.08567989643705554, 0.4594048110445754, 2.220446049250313e-16, 0.35774297110554376, 2.220446049250313e-16, 2.220446049250313e-16, 2.220446049250313e-16, 0.1348237990422746, 2.220446049250313e-16, 2.220446049250313e-16, 2.220446049250313e-16, 0.7846396884438601, 2.220446049250313e-16, 2.220446049250313e-16, 2.220446049250313e-16, 2.220446049250313e-16, 2.220446049250313e-16, 2.220446049250313e-16, 0.5651329625532721, 0.42573678444329566, 2.220446049250313e-16, 0.6404667876524129, 2.220446049250313e-16, 0.3676896237059041, 2.220446049250313e-16, 2.220446049250313e-16, 2.220446049250313e-16, 2.220446049250313e-16, 2.220446049250313e-16, 0.08184594349812502, 2.220446049250313e-16, 2.220446049250313e-16, 2.220446049250313e-16, 2.220446049250313e-16, 0.1982162742627268, 2.220446049250313e-16, 2.220446049250313e-16, 2.220446049250313e-16, 0.1999556749868071, 2.220446049250313e-16, 2.220446049250313e-16, 2.220446049250313e-16, 2.220446049250313e-16, 2.220446049250313e-16, 2.220446049250313e-16, 0.24830063593861884, 2.220446049250313e-16, 0.17448102606627214, 0.2600858951491547, 2.220446049250313e-16, 2.220446049250313e-16, 0.5824081010662141, 0.04181302934011977, 0.5170882456033317, 2.220446049250313e-16, 0.5838316325077633, 2.220446049250313e-16, 2.220446049250313e-16, 0.15537907416743257, 2.220446049250313e-16]}, {\"name\": \"uui_low_score_pairs\", \"nbinsx\": 100, \"opacity\": 0.75, \"type\": \"histogram\", \"x\": [0.6919623818025498, 2.220446049250313e-16, 2.220446049250313e-16, 2.220446049250313e-16, 0.012170838852737953, 2.220446049250313e-16, 0.6521687788322885, 0.42992268689918756, 0.44343163457279444, 0.5448876200904296, 0.5919163529685376, 0.7709655240613846, 2.220446049250313e-16, 2.220446049250313e-16, 0.09333999439392726, 0.3440279277371663, 0.6407034792637551, 0.1722268408295985, 0.38529454327638113, 0.32626615708321405, 0.01230516340437493, 0.012170838852737953, 0.17396681236909795, 2.220446049250313e-16, 0.001332376818492076, 0.3763402778086885, 0.7111178450629313, 2.220446049250313e-16, 0.22810812445345896, 0.19310223024220197, 0.17829283056990597, 0.6759184518834673, 0.11932732763487441, 2.220446049250313e-16, 2.220446049250313e-16, 2.220446049250313e-16, 0.48711757349754004, 0.3383517585047897, 0.4231826253675838, 0.7265670781632196, 0.7745376476198087, 0.24082872471678962, 0.5985549243467598, 2.220446049250313e-16, 0.4105177834223155, 0.29271196085568385, 0.5738250189958453, 0.5635921350166252, 0.4209876429611207, 2.220446049250313e-16, 0.6198127360700667, 2.220446049250313e-16, 0.19247550601654595, 0.4306631571654954, 0.15356733532289635, 0.39232793855048265, 0.12361446339970239, 0.17396681236909795, 0.6023077524431919, 0.22606570261154413, 0.5639102203438888, 0.5873096757507413, 0.13647373079036218, 0.003384104459876025, 0.1462350848188324, 0.8462496973725206, 0.026665437309709716, 0.29664887910184046, 2.220446049250313e-16, 0.097417104995007, 0.584666041326142, 2.220446049250313e-16, 0.7705260256508163, 2.220446049250313e-16, 0.004745924714045779, 0.18326034018161397, 2.220446049250313e-16, 0.2011358809088043, 0.7264613690200741, 0.25311699849686997, 2.220446049250313e-16, 2.220446049250313e-16, 0.5107326600068474, 0.17396681236909795, 0.3005938143733662, 2.220446049250313e-16, 0.17396681236909795, 0.6692108718069436, 0.3246212692009901, 0.05954051592491927, 0.4607691211652275, 2.220446049250313e-16, 0.7667515657848037, 0.012170838852737953, 0.3192967063431589, 0.2445696544025454, 0.2122952230917423, 2.220446049250313e-16, 0.6930730030689048, 0.24353861558735268, 0.407732054381298, 0.37511926593786693, 0.7096236643748624, 2.220446049250313e-16, 0.2394467508754975, 0.5001448195959938, 0.559695500775085, 0.17396681236909795, 0.3540423452853344, 2.220446049250313e-16, 0.41783481850534, 0.7488173406650844, 0.4147327722953178, 0.2716558835331754, 0.003384104459876025, 0.8124160389639821, 0.7963026485752516, 2.220446049250313e-16, 0.7795074948629953, 0.5389565339453859, 0.5896644569330243, 0.17396681236909795, 0.13260363760662686, 0.31426068231460436, 0.8543102358588657, 0.39732590832490267, 0.126738846571252, 2.220446049250313e-16, 0.5762428179028998, 0.012170838852737953, 0.27246648620258285, 0.2383643786741645, 0.38783882639559863, 0.44135922285385576, 2.220446049250313e-16, 0.10144906785940733, 0.2303403774229611, 0.012170838852737953, 0.5229184090062691, 2.220446049250313e-16, 0.1931046312887985, 0.2533480711600863, 0.7397846510097538, 0.6182676780469293, 0.11921058735231249, 0.3435118432126968, 2.220446049250313e-16, 0.11389621555780538, 0.5731020393967418, 0.68233295528949, 0.17396681236909795, 0.282675916884389, 2.220446049250313e-16, 0.5248603084199149, 0.0567563137875674, 0.22440078074189407, 0.7298315956111917, 0.062438446603859554, 0.2830603605432689, 0.7484649071198175, 0.7098807272363017, 0.7705596673369026, 0.48624455652353316, 0.7546249074247225, 0.06411267254431197, 2.220446049250313e-16, 0.34443950039152704, 0.08423753045216076, 0.011367052998983551, 0.19835774052908983, 0.6860360718814831, 0.4596131836130525, 2.220446049250313e-16, 0.36704006394203226, 0.6406131481559441, 0.32556481264837134, 2.220446049250313e-16, 0.6775846627379604, 0.454025197725629, 0.012170838852737953, 0.3446167052234046, 0.5390957761012565, 0.6969200471620073, 0.37059590524144814, 0.21297441047448595, 0.04300106686132266, 0.6421136371500673, 0.17396681236909795, 0.7259269465866991, 0.20595364677637928, 0.11572573172787015, 0.13858365969783104, 0.385355370209838, 0.4281616270722096, 0.17396681236909795, 0.32673754586828174, 0.1948760835444876, 2.220446049250313e-16, 0.24401451097998206, 0.4154022440562086, -2.220446049250313e-16, 0.3598048764616245, 0.7955748925659605, 0.2069586141844325, 0.47727977864792415, 0.5324775125232605, 2.220446049250313e-16, 0.3268224063198185, 0.2021775195375205, 0.241813619417523, 2.220446049250313e-16, 0.0959825553791227, 0.17396681236909795, 0.5437337238649967, 0.6308561632359619, 0.5875270492353799, 0.6435452850910681, 0.33082416022045535, 2.220446049250313e-16, 2.220446049250313e-16, 2.220446049250313e-16, 0.17396681236909795, 0.003384104459876025, 0.5049457321790844, 0.6129246364670067, 2.220446049250313e-16, 0.11942881978472786, 2.220446049250313e-16, 2.220446049250313e-16, 0.6430298314825447, 0.31250613556764195, 0.11212061220122727, 2.220446049250313e-16, 2.220446049250313e-16, 0.2395024361026219, 0.32980064274502296, 0.21241512580641464, 2.220446049250313e-16, 0.3722325939647534, 0.20820232803892835, 0.7220099545908918, 0.6644829081319179, 0.42546674647357785, 0.12175850825128054, 0.7721221516565575, 0.2548232972474884, 2.220446049250313e-16, 0.25457290413640643, 0.003384104459876025, 0.1270748349870955, 2.220446049250313e-16, 0.3408249226874095, 2.220446049250313e-16, 0.05969446247623167, 0.012170838852737953, 0.003384104459876025, 0.17530749283791414, 2.220446049250313e-16, 2.220446049250313e-16, 2.220446049250313e-16, 0.6568987290132724, 0.2710259808634947, 0.4998137165208325, 0.7746839754677217, 0.17396681236909795, 0.35373890098904515, 0.0934941415985241, 2.220446049250313e-16, 0.4711878988459537, 0.1330749112020282, 0.22008316989788468, 0.73173615825326, 0.8133982143352138, 0.44314524707176717, 2.220446049250313e-16, 0.5177802512522267, 0.7739877730142621, 0.017170018060924108, 0.33154826586443276, 0.1519867844424586, 0.38692678534329183, 0.2926447172422918, 0.6231942108419238, 0.29012845709629687, 2.220446049250313e-16, 0.24337191823487814, 0.32016737746139556, 0.6465897559266339, 0.03332969238556438, 0.17396681236909795, 2.220446049250313e-16, 0.17396681236909795, 0.29779852467505497, 2.220446049250313e-16, 0.7773114172168698, 2.220446049250313e-16, 0.32676361253990605, 0.20587986940761482, 0.24848286550629073, 0.38410416013339876, 2.220446049250313e-16, 2.220446049250313e-16, 0.3789730310422499, 0.5646974607154966, 0.10704181941133761, 0.06837140069630232, 0.47441951421803996, 0.15030015819262432, 0.04341319744280836, 0.24316791730718734, 0.4591754718348804, 2.220446049250313e-16, 0.2772779206660245, 0.05903334933593052, 0.07193815960730299, 0.003384104459876025, 0.6827505399983818, 0.634312892939874, 2.220446049250313e-16, 2.220446049250313e-16, 0.33300650205718063, 0.7848872104668114, 0.0037574112817999605, 0.05508168192245089, 0.14324976856194593, 0.12221171067779701, 0.012170838852737953, 0.2065780238540712, 0.8200635934837099]}, {\"name\": \"non_uui_low_score_pairs\", \"nbinsx\": 100, \"opacity\": 0.75, \"type\": \"histogram\", \"x\": [0.39911232528447893, 0.22331011696483816, 0.45292216586751277, 0.44692966649809074, 0.391319469792645, 0.29217776527918893, 0.7080225671318281, 2.220446049250313e-16, 0.6133121785562049, 0.3090319666549739, 0.7398139688577647, 0.6518636663699635, 0.6219261831860463, 0.7923456622009282, 0.30514718044980826, 0.2580024077749947, 0.6059874490012598, 0.062286902505809705, 0.542238558007312, 0.5227771878006362, 0.5603368587577395, 0.2073760108953998, 0.508143017288623, 0.3344922871644621, 0.5009948527682799, 0.33933010387355456, 0.36869953441966774, 2.220446049250313e-16, 0.3694377916835503, 0.5472954456610288, 0.41260354503497865, 0.27008649202899515, 2.220446049250313e-16, 0.5041493722340282, 0.3674573398901395, 0.3549564624038336, 2.220446049250313e-16, 0.39546815359751375, 0.30764211085911564, 0.34341638758017945, 0.4054835776266119, 0.6505118220601618, 0.5698861650549842, 0.20557178290420752, 0.3703714499794414, 0.3466477678398856, 0.37371485549760775, 0.4563399283276214, 0.38620822126320453, 0.48046829946781233, 2.220446049250313e-16, 0.5014819073238446, 2.220446049250313e-16, 2.220446049250313e-16, 0.45711913171931107, 0.41528281212861495, 0.7606905698664266, 0.5966744608178086, 0.37332838237269483, 0.6023044596573147, 0.4874795649740076, 0.47307787000528434, 0.4975983202456262, 0.6462458375633997, 0.34911817223032116, 0.07795542060715654, 0.42062880223123733, 0.14929456626624238, 0.5723582928633019, 0.4762296080749957, 0.5096926783427191, 0.3621045452004019, 2.220446049250313e-16, 0.3795157564080651, 2.220446049250313e-16, 0.27065283286501896, 0.4243627341998957, 0.008759292838069754, 2.220446049250313e-16, 0.25881306983496843, 0.49756317639659464, 0.6388935301457555, 0.4668216294545168, 0.4043043022207593, 0.36507003403256577, 0.40240805476328523, 2.220446049250313e-16, 0.39349789574601624, 0.5050414419278044, 0.38509876474904003, 0.02657779708135677, 0.0023913944154723143, 0.42981110632160113, 0.7557321529894812, 0.6654815103143401, 0.4555367401249727, 0.5145146170211257, 0.5606020473443795, 0.19614229542263018, 0.43481195562841046, 0.5487368506739057, 0.4413740328768747, 0.25335885620785104, 0.5043739713823214, 0.273394189627993, 0.5535031125422396, 0.5703532296230482, 2.220446049250313e-16, 0.5281445544257884, 0.47161577140175404, 0.18702396103010144, 0.44838092439314625, 0.3046041220559319, 0.32427822772006554, 0.6181771209312207, 0.6914294550990475, 2.220446049250313e-16, 0.4889823892607643, 0.3470276057451731, 2.220446049250313e-16, 0.45710743322284475, 0.303836416495496, 0.6209488196131332, 2.220446049250313e-16, 0.3572132425425788, 0.5226068338693515, 0.5497920659928457, 0.37843672418353747, 0.5639187913895688, 0.16266040168656493, 0.36953312330918375, 0.3247201708788403, 0.6101346852285356, 0.6604402161242597, 0.5300584500465912, 0.32871949545156676, 0.3956350572455086, 0.7931667579798237, 0.5521151920501419, 0.44108629717413106, 0.24943345166754127, 0.37450935431766297, 0.6790635134829626, 0.43993890605598285, 0.46086915615964075, 0.3666552763448805, 0.510834434777308, 0.5402381636918506, 2.220446049250313e-16, 0.17202009174474742, 0.6143919789379023, 0.5397686983565382, 0.5254151330767338, 0.3988335415772303, 0.5761279256013592, 0.5149040395540541, 0.3062613732097277, 0.16963711495358613, 0.5528859816307291, 0.1755984136066675, 0.38441099765723774, 0.2806375165659326, 0.40506512318467736, 2.220446049250313e-16, 0.4173861113208188, 0.36080927572479216, 0.4263561374452456, 0.5331401911359663, 0.45579806134759615, 0.3782775935160607, 0.26510349211933026, 0.5305116437168722, 0.6951579511692481, 0.441147500075342, 0.5729981014849912, 0.4629035184778143, 0.6222428724544781, 0.32120243286284844, 0.5049906581207969, 0.35986706699019466, 0.6242357780457773, 0.5194492630638232, 0.5706899336313976, 0.17529734082571014, 0.4165888548982418, 0.4346503890789901, 0.6123864073374397, 0.35898041390455815, 0.5504566092238049, 0.2861370037255122, 0.5084552484811469, 0.4804018779940944, 0.2789630740923602, 0.49122976759990933, 0.003384104459876025, 0.24200026977416156, 2.220446049250313e-16, 2.220446049250313e-16, 0.35592806884633, 0.3930584655826409, 2.220446049250313e-16, 0.34140894015111434, 0.3090319666549739, 0.24825413545714625, 2.220446049250313e-16, 0.7481874077779691, 0.26303061967047303, 0.43979596874073046, 0.4115920763524735, 0.6693183991339169, 0.1845637341335582, 2.220446049250313e-16, 0.4005970482735829, 0.41181848099802054, 0.33080733752698444, 0.298274445058926, 0.4229364992995456, 0.3008157415894952, 2.220446049250313e-16, 0.36043507193539903, 0.5546613034301906, 0.2503615071669445, 0.387443865198678, 0.36397547488990023, 0.5550691806170303, 0.5357170552401322, 0.3046267526837122, 2.220446049250313e-16, 0.38187746223089936, 0.441759150699375, 0.4430908598096944, 0.4007530179040292, 0.5572579471460899, 2.220446049250313e-16, 0.6280615585865494, 0.30904649778087345, 0.47433980564905387, 0.5351708553026182, 0.43138306713708374, 0.0029696040638971244, 2.220446049250313e-16, 0.247296298288339, 0.5636286316025927, 0.5805199758078488, 0.3834257814292613, 2.220446049250313e-16, 0.6198241025461553, 0.36684721475757576, 0.37843672418353747, 0.28173437324906436, 2.220446049250313e-16, 0.5014471854123035, 0.5277791582262967, 2.220446049250313e-16, 0.4845368939156117, 0.2760869914612294, 2.220446049250313e-16, 0.28132249304817636, 0.23398802984443567, 0.5315334653122927, 0.579638593704334, 0.5141649367579589, 0.6643049776337913, 2.220446049250313e-16, 0.5754013668852387, 0.16960889671455381, 0.4766695668389822, 0.4420417415681066, 0.49349589415902706, 0.7094313674044147, 0.4714370996989663, 0.4722797775287887, 0.7243219319264333, 0.6142950820455138, 0.6560530412024778, 0.2957583292206416, 0.7755085787582768, 2.220446049250313e-16, 0.43610818254924255, 0.35739994479009396, 2.220446049250313e-16, 0.41633756406395295, 0.5816868952087058, 0.43047407733775134, 0.5218941376236685, 0.691300310058523, 0.45948905836600284, 0.36282868965560333, 0.4489457704108414, 0.4922201731522956, 0.42137347783077783, 0.3861309620044676, 0.2946730572756511, 0.5107893766220314, 0.34750936241511055, 0.4752709536786298, 0.4444696507746365, 0.3420913889437659, 0.38701666422155534, 0.5071895098557102, 0.405224456649797, 0.5740043218406374, 0.3001568966434035, 0.562882006963558, 0.16233040249910735, 0.7358189081284238, 2.220446049250313e-16, 0.5566079124409897, 0.5912029425712648, 0.5563943270279061, 0.48977354226796366, 0.3159115783055827, 0.7954271316535683, 0.3958738388037636, 0.5108631343033305, 0.433599787985277, 2.220446049250313e-16, 0.35690032316517684, 0.44043371759359184, 0.21744503194905784, 2.220446049250313e-16, 0.4464032109448587, 0.3371855170121165, 0.7795511285338619, 0.5446883700152683, 0.7720435330383134, 0.010256681389212985, 0.4834831020354379, 0.46289108847836524]}],\n",
       "                        {\"barmode\": \"overlay\", \"template\": {\"data\": {\"bar\": [{\"error_x\": {\"color\": \"#2a3f5f\"}, \"error_y\": {\"color\": \"#2a3f5f\"}, \"marker\": {\"line\": {\"color\": \"#E5ECF6\", \"width\": 0.5}}, \"type\": \"bar\"}], \"barpolar\": [{\"marker\": {\"line\": {\"color\": \"#E5ECF6\", \"width\": 0.5}}, \"type\": \"barpolar\"}], \"carpet\": [{\"aaxis\": {\"endlinecolor\": \"#2a3f5f\", \"gridcolor\": \"white\", \"linecolor\": \"white\", \"minorgridcolor\": \"white\", \"startlinecolor\": \"#2a3f5f\"}, \"baxis\": {\"endlinecolor\": \"#2a3f5f\", \"gridcolor\": \"white\", \"linecolor\": \"white\", \"minorgridcolor\": \"white\", \"startlinecolor\": \"#2a3f5f\"}, \"type\": \"carpet\"}], \"choropleth\": [{\"colorbar\": {\"outlinewidth\": 0, \"ticks\": \"\"}, \"type\": \"choropleth\"}], \"contour\": [{\"colorbar\": {\"outlinewidth\": 0, \"ticks\": \"\"}, \"colorscale\": [[0.0, \"#0d0887\"], [0.1111111111111111, \"#46039f\"], [0.2222222222222222, \"#7201a8\"], [0.3333333333333333, \"#9c179e\"], [0.4444444444444444, \"#bd3786\"], [0.5555555555555556, \"#d8576b\"], [0.6666666666666666, \"#ed7953\"], [0.7777777777777778, \"#fb9f3a\"], [0.8888888888888888, \"#fdca26\"], [1.0, \"#f0f921\"]], \"type\": \"contour\"}], \"contourcarpet\": [{\"colorbar\": {\"outlinewidth\": 0, \"ticks\": \"\"}, \"type\": \"contourcarpet\"}], \"heatmap\": [{\"colorbar\": {\"outlinewidth\": 0, \"ticks\": \"\"}, \"colorscale\": [[0.0, \"#0d0887\"], [0.1111111111111111, \"#46039f\"], [0.2222222222222222, \"#7201a8\"], [0.3333333333333333, \"#9c179e\"], [0.4444444444444444, \"#bd3786\"], [0.5555555555555556, \"#d8576b\"], [0.6666666666666666, \"#ed7953\"], [0.7777777777777778, \"#fb9f3a\"], [0.8888888888888888, \"#fdca26\"], [1.0, \"#f0f921\"]], \"type\": \"heatmap\"}], \"heatmapgl\": [{\"colorbar\": {\"outlinewidth\": 0, \"ticks\": \"\"}, \"colorscale\": [[0.0, \"#0d0887\"], [0.1111111111111111, \"#46039f\"], [0.2222222222222222, \"#7201a8\"], [0.3333333333333333, \"#9c179e\"], [0.4444444444444444, \"#bd3786\"], [0.5555555555555556, \"#d8576b\"], [0.6666666666666666, \"#ed7953\"], [0.7777777777777778, \"#fb9f3a\"], [0.8888888888888888, \"#fdca26\"], [1.0, \"#f0f921\"]], \"type\": \"heatmapgl\"}], \"histogram\": [{\"marker\": {\"colorbar\": {\"outlinewidth\": 0, \"ticks\": \"\"}}, \"type\": \"histogram\"}], \"histogram2d\": [{\"colorbar\": {\"outlinewidth\": 0, \"ticks\": \"\"}, \"colorscale\": [[0.0, \"#0d0887\"], [0.1111111111111111, \"#46039f\"], [0.2222222222222222, \"#7201a8\"], [0.3333333333333333, \"#9c179e\"], [0.4444444444444444, \"#bd3786\"], [0.5555555555555556, \"#d8576b\"], [0.6666666666666666, \"#ed7953\"], [0.7777777777777778, \"#fb9f3a\"], [0.8888888888888888, \"#fdca26\"], [1.0, \"#f0f921\"]], \"type\": \"histogram2d\"}], \"histogram2dcontour\": [{\"colorbar\": {\"outlinewidth\": 0, \"ticks\": \"\"}, \"colorscale\": [[0.0, \"#0d0887\"], [0.1111111111111111, \"#46039f\"], [0.2222222222222222, \"#7201a8\"], [0.3333333333333333, \"#9c179e\"], [0.4444444444444444, \"#bd3786\"], [0.5555555555555556, \"#d8576b\"], [0.6666666666666666, \"#ed7953\"], [0.7777777777777778, \"#fb9f3a\"], [0.8888888888888888, \"#fdca26\"], [1.0, \"#f0f921\"]], \"type\": \"histogram2dcontour\"}], \"mesh3d\": [{\"colorbar\": {\"outlinewidth\": 0, \"ticks\": \"\"}, \"type\": \"mesh3d\"}], \"parcoords\": [{\"line\": {\"colorbar\": {\"outlinewidth\": 0, \"ticks\": \"\"}}, \"type\": \"parcoords\"}], \"scatter\": [{\"marker\": {\"colorbar\": {\"outlinewidth\": 0, \"ticks\": \"\"}}, \"type\": \"scatter\"}], \"scatter3d\": [{\"line\": {\"colorbar\": {\"outlinewidth\": 0, \"ticks\": \"\"}}, \"marker\": {\"colorbar\": {\"outlinewidth\": 0, \"ticks\": \"\"}}, \"type\": \"scatter3d\"}], \"scattercarpet\": [{\"marker\": {\"colorbar\": {\"outlinewidth\": 0, \"ticks\": \"\"}}, \"type\": \"scattercarpet\"}], \"scattergeo\": [{\"marker\": {\"colorbar\": {\"outlinewidth\": 0, \"ticks\": \"\"}}, \"type\": \"scattergeo\"}], \"scattergl\": [{\"marker\": {\"colorbar\": {\"outlinewidth\": 0, \"ticks\": \"\"}}, \"type\": \"scattergl\"}], \"scattermapbox\": [{\"marker\": {\"colorbar\": {\"outlinewidth\": 0, \"ticks\": \"\"}}, \"type\": \"scattermapbox\"}], \"scatterpolar\": [{\"marker\": {\"colorbar\": {\"outlinewidth\": 0, \"ticks\": \"\"}}, \"type\": \"scatterpolar\"}], \"scatterpolargl\": [{\"marker\": {\"colorbar\": {\"outlinewidth\": 0, \"ticks\": \"\"}}, \"type\": \"scatterpolargl\"}], \"scatterternary\": [{\"marker\": {\"colorbar\": {\"outlinewidth\": 0, \"ticks\": \"\"}}, \"type\": \"scatterternary\"}], \"surface\": [{\"colorbar\": {\"outlinewidth\": 0, \"ticks\": \"\"}, \"colorscale\": [[0.0, \"#0d0887\"], [0.1111111111111111, \"#46039f\"], [0.2222222222222222, \"#7201a8\"], [0.3333333333333333, \"#9c179e\"], [0.4444444444444444, \"#bd3786\"], [0.5555555555555556, \"#d8576b\"], [0.6666666666666666, \"#ed7953\"], [0.7777777777777778, \"#fb9f3a\"], [0.8888888888888888, \"#fdca26\"], [1.0, \"#f0f921\"]], \"type\": \"surface\"}], \"table\": [{\"cells\": {\"fill\": {\"color\": \"#EBF0F8\"}, \"line\": {\"color\": \"white\"}}, \"header\": {\"fill\": {\"color\": \"#C8D4E3\"}, \"line\": {\"color\": \"white\"}}, \"type\": \"table\"}]}, \"layout\": {\"annotationdefaults\": {\"arrowcolor\": \"#2a3f5f\", \"arrowhead\": 0, \"arrowwidth\": 1}, \"colorscale\": {\"diverging\": [[0, \"#8e0152\"], [0.1, \"#c51b7d\"], [0.2, \"#de77ae\"], [0.3, \"#f1b6da\"], [0.4, \"#fde0ef\"], [0.5, \"#f7f7f7\"], [0.6, \"#e6f5d0\"], [0.7, \"#b8e186\"], [0.8, \"#7fbc41\"], [0.9, \"#4d9221\"], [1, \"#276419\"]], \"sequential\": [[0.0, \"#0d0887\"], [0.1111111111111111, \"#46039f\"], [0.2222222222222222, \"#7201a8\"], [0.3333333333333333, \"#9c179e\"], [0.4444444444444444, \"#bd3786\"], [0.5555555555555556, \"#d8576b\"], [0.6666666666666666, \"#ed7953\"], [0.7777777777777778, \"#fb9f3a\"], [0.8888888888888888, \"#fdca26\"], [1.0, \"#f0f921\"]], \"sequentialminus\": [[0.0, \"#0d0887\"], [0.1111111111111111, \"#46039f\"], [0.2222222222222222, \"#7201a8\"], [0.3333333333333333, \"#9c179e\"], [0.4444444444444444, \"#bd3786\"], [0.5555555555555556, \"#d8576b\"], [0.6666666666666666, \"#ed7953\"], [0.7777777777777778, \"#fb9f3a\"], [0.8888888888888888, \"#fdca26\"], [1.0, \"#f0f921\"]]}, \"colorway\": [\"#636efa\", \"#EF553B\", \"#00cc96\", \"#ab63fa\", \"#FFA15A\", \"#19d3f3\", \"#FF6692\", \"#B6E880\", \"#FF97FF\", \"#FECB52\"], \"font\": {\"color\": \"#2a3f5f\"}, \"geo\": {\"bgcolor\": \"white\", \"lakecolor\": \"white\", \"landcolor\": \"#E5ECF6\", \"showlakes\": true, \"showland\": true, \"subunitcolor\": \"white\"}, \"hoverlabel\": {\"align\": \"left\"}, \"hovermode\": \"closest\", \"mapbox\": {\"style\": \"light\"}, \"paper_bgcolor\": \"white\", \"plot_bgcolor\": \"#E5ECF6\", \"polar\": {\"angularaxis\": {\"gridcolor\": \"white\", \"linecolor\": \"white\", \"ticks\": \"\"}, \"bgcolor\": \"#E5ECF6\", \"radialaxis\": {\"gridcolor\": \"white\", \"linecolor\": \"white\", \"ticks\": \"\"}}, \"scene\": {\"xaxis\": {\"backgroundcolor\": \"#E5ECF6\", \"gridcolor\": \"white\", \"gridwidth\": 2, \"linecolor\": \"white\", \"showbackground\": true, \"ticks\": \"\", \"zerolinecolor\": \"white\"}, \"yaxis\": {\"backgroundcolor\": \"#E5ECF6\", \"gridcolor\": \"white\", \"gridwidth\": 2, \"linecolor\": \"white\", \"showbackground\": true, \"ticks\": \"\", \"zerolinecolor\": \"white\"}, \"zaxis\": {\"backgroundcolor\": \"#E5ECF6\", \"gridcolor\": \"white\", \"gridwidth\": 2, \"linecolor\": \"white\", \"showbackground\": true, \"ticks\": \"\", \"zerolinecolor\": \"white\"}}, \"shapedefaults\": {\"line\": {\"color\": \"#2a3f5f\"}}, \"ternary\": {\"aaxis\": {\"gridcolor\": \"white\", \"linecolor\": \"white\", \"ticks\": \"\"}, \"baxis\": {\"gridcolor\": \"white\", \"linecolor\": \"white\", \"ticks\": \"\"}, \"bgcolor\": \"#E5ECF6\", \"caxis\": {\"gridcolor\": \"white\", \"linecolor\": \"white\", \"ticks\": \"\"}}, \"title\": {\"x\": 0.05}, \"xaxis\": {\"automargin\": true, \"gridcolor\": \"white\", \"linecolor\": \"white\", \"ticks\": \"\", \"zerolinecolor\": \"white\", \"zerolinewidth\": 2}, \"yaxis\": {\"automargin\": true, \"gridcolor\": \"white\", \"linecolor\": \"white\", \"ticks\": \"\", \"zerolinecolor\": \"white\", \"zerolinewidth\": 2}}}, \"yaxis\": {\"type\": \"log\"}},\n",
       "                        {\"responsive\": true}\n",
       "                    ).then(function(){\n",
       "                            \n",
       "var gd = document.getElementById('c8302c86-efc3-4ad5-a4ba-e26921e568c5');\n",
       "var x = new MutationObserver(function (mutations, observer) {{\n",
       "        var display = window.getComputedStyle(gd).display;\n",
       "        if (!display || display === 'none') {{\n",
       "            console.log([gd, 'removed!']);\n",
       "            Plotly.purge(gd);\n",
       "            observer.disconnect();\n",
       "        }}\n",
       "}});\n",
       "\n",
       "// Listen for the removal of the full notebook cells\n",
       "var notebookContainer = gd.closest('#notebook-container');\n",
       "if (notebookContainer) {{\n",
       "    x.observe(notebookContainer, {childList: true});\n",
       "}}\n",
       "\n",
       "// Listen for the clearing of the current output cell\n",
       "var outputEl = gd.closest('.output');\n",
       "if (outputEl) {{\n",
       "    x.observe(outputEl, {childList: true});\n",
       "}}\n",
       "\n",
       "                        })\n",
       "                };\n",
       "                });\n",
       "            </script>\n",
       "        </div>"
      ]
     },
     "metadata": {},
     "output_type": "display_data"
    }
   ],
   "source": [
    "axis = 'markov_cos_dis'\n",
    "bins = 100\n",
    "\n",
    "x1=sample_df[sample_df['label']=='uui_high_score_pairs'][axis].values\n",
    "x2=sample_df[sample_df['label']=='uui_grey_score_pairs'][axis].values\n",
    "x3=sample_df[sample_df['label']=='non_uui_grey_score_pairs'][axis].values\n",
    "x4=sample_df[sample_df['label']=='uui_low_score_pairs'][axis].values\n",
    "x5=sample_df[sample_df['label']=='non_uui_low_score_pairs'][axis].values\n",
    "\n",
    "fig = go.Figure()\n",
    "fig.add_trace(go.Histogram(x=x1, nbinsx=bins, name=\"uui_high_score_pairs\"))\n",
    "fig.add_trace(go.Histogram(x=x2, nbinsx=bins, name=\"uui_grey_score_pairs\"))\n",
    "fig.add_trace(go.Histogram(x=x3, nbinsx=bins, name=\"non_uui_grey_score_pairs\"))\n",
    "fig.add_trace(go.Histogram(x=x4, nbinsx=bins, name=\"uui_low_score_pairs\"))\n",
    "fig.add_trace(go.Histogram(x=x5, nbinsx=bins, name=\"non_uui_low_score_pairs\"))\n",
    "\n",
    "# Overlay both histograms\n",
    "fig.update_layout(barmode='overlay',  yaxis_type=\"log\")\n",
    "\n",
    "# Reduce opacity to see both histograms\n",
    "fig.update_traces(opacity=0.75)\n",
    "fig.show()"
   ]
  },
  {
   "cell_type": "code",
   "execution_count": 37,
   "metadata": {},
   "outputs": [
    {
     "data": {
      "application/vnd.plotly.v1+json": {
       "config": {
        "plotlyServerURL": "https://plot.ly"
       },
       "data": [
        {
         "name": "uui_high_score_pairs",
         "nbinsx": 100,
         "opacity": 0.75,
         "type": "histogram",
         "x": [
          2.220446049250313e-16,
          -2.220446049250313e-16,
          1.2254960706226115e-06,
          1.8762769116165146e-14,
          -2.220446049250313e-16,
          0.18438062616858109,
          -2.220446049250313e-16,
          0.7221741662666001,
          0.06971315773483189,
          0.04291385887127808,
          8.393286066166183e-14,
          0.0720337916673961,
          0,
          0,
          0.0735750839056063,
          0,
          0.14283536936588548,
          0,
          5.589857043908353e-07,
          0,
          0,
          0.2873816474910822,
          1.1102230246251565e-16,
          0.6003099494694693,
          5.188607964390357e-07,
          1.8762769116165146e-14,
          1.8762769116165146e-14,
          0,
          7.438494264988549e-14,
          0,
          -2.220446049250313e-16,
          0.15243584092078988,
          2.3457989343222962e-06,
          0.2948536170807422,
          2.9571831317021235e-08,
          8.881784197001252e-16,
          2.220446049250313e-16,
          0.591781744859537,
          0.000910525831154918,
          0.031400509798215404,
          1.865174681370263e-14,
          0.26662858631037867,
          1.765254609153999e-14,
          5.039852070298778e-05,
          3.987731459487165e-07,
          0.000753761918484197,
          1.1102230246251565e-16,
          -2.220446049250313e-16,
          -2.220446049250313e-16,
          0.21367334308365382,
          0.27503730700254414,
          0,
          0.03761435851957362,
          0.015561841927889342,
          1.674216321134736e-13,
          4.873879078104437e-14,
          0.2905140254100931,
          0.17683182118547147,
          1.8540724511240114e-14,
          0.049086258291359486,
          7.438494264988549e-14,
          0.7796324456023696,
          6.557589063538316e-06,
          0.332977498728,
          0.20187751579100766,
          1.0802470029602773e-13,
          0.5917932268233957,
          1.865174681370263e-14,
          8.548717289613705e-15,
          0,
          4.873879078104437e-14,
          0.7796278400907118,
          0.16593230937910075,
          0.5115074927754459,
          2.6703309585762725e-07,
          2.4868995751603507e-14,
          0,
          0.5809443117442314,
          0.19615521003058967,
          1.865174681370263e-14,
          0,
          0.011907784598681914,
          0.8959562627953669,
          0.20323122708432273,
          1.0070144718099527e-10,
          0.0038079070641934276,
          0.31394923088984983,
          3.708144902248023e-14,
          0.585000463106029,
          0,
          1.865174681370263e-14,
          0.39527320040504565,
          1.1080392939177841e-05,
          0.9111597318084911,
          1.6431300764452317e-14,
          0.050171170500066475,
          0.6920107658705796,
          0,
          2.8292990172928967e-10,
          1.8540724511240114e-14,
          0.16106237096407394,
          0.3630140905730873,
          0.996622330636754,
          0.14839311088770135,
          5.589857046128799e-07,
          0.10724993707668751,
          0.027890408797844657,
          1.8540724511240114e-14,
          0.027750148022438248,
          7.216449660063518e-14,
          0.29330919248894805,
          0.1871980490803763,
          0.30739538087709495,
          0,
          0.0014912962849275013,
          3.196874726030252e-05,
          0,
          0.20111667575473435,
          0.28673814991902946,
          0.39571192187676496,
          1.865174681370263e-14,
          1.8762769116165146e-14,
          0.6425876428542745,
          0.2765997235427682,
          1.2637293886896828e-06,
          1.985859232611631e-08,
          0.0677317898953419,
          1.4876988529977098e-14,
          1.8540724511240114e-14,
          0,
          0,
          1.6542323066914832e-14,
          0.04526166127757281,
          1.3624130861256134e-06,
          0,
          0,
          0,
          7.4495964952348e-14,
          0,
          0.13539142841011098,
          1.1431012802987084e-09,
          0.32211400951726443,
          0,
          0.004538247907357684,
          1.8540724511240114e-14,
          0.3745519374378059,
          0.4433845418335234,
          3.219646771412954e-15,
          1.1102230246251565e-16,
          1.1102230246251565e-16,
          1.5210055437364645e-13,
          0.019663182895998665,
          1.5765166949677223e-14,
          0,
          0,
          1.7541523789077473e-14,
          1.509903313490213e-14,
          1.5765166949677223e-14,
          0.020807240192552423,
          0.07498329298324291,
          1.1102230246251565e-16,
          7.427392034742297e-14,
          0.09129705817294742,
          1.8762769116165146e-14,
          1.1102230246251565e-16,
          0.16603816397611115,
          -2.220446049250313e-16,
          0.7359963752263579,
          0,
          1.1102230246251565e-16,
          1.6986412276764895e-14,
          1.7319479184152442e-14,
          0.10908606136184518,
          1.8762769116165146e-14,
          6.374207057735504e-07,
          0.3817729023740528,
          1.2729800547006676e-09,
          0.20221157456367844,
          1.1102230246251565e-16,
          0.31339992484986345,
          1.538080662832897e-09,
          1.887379141862766e-14,
          0,
          0,
          0,
          0,
          0.3234744356910163,
          3.141931159689193e-14,
          0.41522615533420404,
          0.6941177932074597,
          0.0005948390755668997,
          0.12789028870835117,
          7.438494264988549e-14,
          8.844477639158299e-08,
          0,
          5.447170910999333e-07,
          2.0872192862952943e-14,
          0,
          0.4413096765598621,
          3.68594044175552e-14,
          3.4035388274400447e-07,
          0,
          0.35891911991886594,
          0.27467055888309855,
          0.2857779517550245,
          0,
          7.438494264988549e-14,
          1.787459069646502e-14,
          0.23508768429392857,
          0.04547523412588195,
          5.570284778888546e-05,
          0,
          0.000728873327953572,
          0.014801938182005925,
          0.09092975017422078,
          0.030913336391404145,
          2.9156392222784433e-07,
          1.6986412276764895e-14,
          0.30058022416530317,
          0,
          0,
          7.438494264988549e-14,
          0.12763841567004763,
          1.6986412276764895e-14,
          1.7319479184152442e-14,
          1.1102230246251565e-16,
          -2.220446049250313e-16,
          0.43295414326747306,
          1.6986412276764895e-14,
          0.06183437883234777,
          0,
          0,
          0.0010781541210875822,
          1.8540724511240114e-14,
          6.926061738576905e-07,
          1.865174681370263e-14,
          0,
          1.1102230246251565e-16,
          1.44944332536312e-07,
          0,
          0.6561821380987378,
          1.1102230246251565e-16,
          4.240856679382787e-06,
          1.4988010832439613e-14,
          1.1102230246251565e-16,
          6.837157172923103e-05,
          8.881784197001252e-15,
          0.43446657683874934,
          0,
          0.10202550565570634,
          0,
          0.9615372665401956,
          1.1102230246251565e-16,
          1.539225407909406e-05,
          0,
          0.35235503733406315,
          1.8762769116165146e-14,
          0.05998026854227223,
          0.5636233288406411,
          0,
          2.220446049250313e-16,
          -2.220446049250313e-16,
          0.05703211455077506,
          0.2936523815569032,
          -2.220446049250313e-16,
          1.8540724511240114e-14,
          1.7763568394002505e-14,
          9.865948299259131e-05,
          0.2589150773151173,
          0.30312577294385334,
          -2.220446049250313e-16,
          0.039947102905763865,
          1.8540724511240114e-14,
          1.2435536729249463e-05,
          1.865174681370263e-14,
          -2.220446049250313e-16,
          4.918808784726281e-06,
          0.7371178124650348,
          0,
          1.865174681370263e-14,
          0,
          0,
          2.5996912333958733e-07,
          1.865174681370263e-14,
          0,
          0,
          0.0754407343333483,
          0.04915704941982002,
          0.019233992897140895,
          0,
          0,
          0.15441150218766853,
          1.8762769116165146e-14,
          0,
          0.14090528290089277,
          0.14576488842422153,
          0,
          1.4765966227514582e-14,
          0,
          0.8407626220941935,
          -2.220446049250313e-16,
          0.17036211480252728,
          0.13518041185900365,
          0,
          1.865174681370263e-14,
          0.7726076022962495,
          2.220446049250313e-16,
          1.6753265441593612e-13,
          3.219646771412954e-15,
          1.723056664015843e-08,
          1.509903313490213e-14,
          1.8540724511240114e-14,
          0.42987026417279894,
          0.30733282855875643,
          0.00020431706299983698,
          0.6791686557696168,
          0.4004029963925174,
          0.12625933291369207,
          2.3276924832060786e-10,
          1.1102230246251565e-16,
          0.37130024250728144,
          1.8540724511240114e-14,
          0,
          0,
          0,
          1.2615756439515735e-08,
          0.17903184655919813,
          0.002022469255006598,
          0.0007243826181084767
         ]
        },
        {
         "name": "uui_grey_score_pairs",
         "nbinsx": 100,
         "opacity": 0.75,
         "type": "histogram",
         "x": [
          0.46702788333914247,
          0,
          1.8540724511240114e-14,
          0.5276964221560227,
          0.6034875598970808,
          2.020605904817785e-14,
          3.3270270014984504e-05,
          1.8762769116165146e-14,
          0,
          0.32408550146321224,
          0.9615340817128509,
          0.6291690147355964,
          0.1297092406942052,
          0.002178315633812211,
          1.865174681370263e-14,
          0.22262112947968304,
          2.0578601411802566e-07,
          0.132553064712282,
          1.1112965924042761e-05,
          1.865174681370263e-14,
          7.438494264988549e-14,
          0.29211807319126015,
          0.20166634718934817,
          0.4725049306729133,
          1.8540724511240114e-14,
          0,
          0.36030843170156124,
          0.04694973047087614,
          4.8787051416421257e-05,
          1.787459069646502e-14,
          0,
          1.865174681370263e-14,
          -2.220446049250313e-16,
          2.3679209672278212e-05,
          0.07786776135262974,
          0.6845418604653921,
          7.4495964952348e-14,
          3.526249591767616e-06,
          0.6518451824749477,
          0.7909520947277067,
          6.577226465687147e-07,
          7.4495964952348e-14,
          0.3000118670526394,
          0.11414735617410876,
          0.02030487729136654,
          0.1212208158503274,
          0,
          1.1102230246251565e-16,
          0.7129057601520018,
          0,
          0.0023899598783092557,
          1.673106098110111e-13,
          0.9999909270736599,
          0.27866372844919474,
          4.517889126021135e-05,
          0,
          0.0703690077671768,
          1.8540724511240114e-14,
          2.220446049250313e-16,
          0.1871561987905378,
          9.325873406851315e-15,
          0.07567005104367541,
          1.536872393503863e-05,
          0.9999638203347578,
          0,
          0.10818666508553121,
          0.02143694052518097,
          0.9298187738434259,
          0.0012469817800687677,
          0.21915152548309735,
          0.001317476932349182,
          7.460698725481052e-14,
          2.6999195001042864e-05,
          0.09478478030193171,
          0.0017915486388031532,
          0.0008263894512148262,
          8.134271034521134e-12,
          1.865174681370263e-14,
          1.6624359399086686e-05,
          0.21944058136622258,
          0,
          0.3192665095683772,
          0.0038467703115856455,
          0.004155547078474098,
          -2.220446049250313e-16,
          0.2485712310827154,
          1.1102230246251565e-16,
          2.220446049250313e-16,
          2.21589188109661e-08,
          0.003219289371685141,
          0.04109066827497054,
          0.36953344350245054,
          0.026735546535882726,
          0.29476640204973725,
          0.20638464918650334,
          0.1590110083336458,
          1.0989081555834446e-07,
          0.5206865763837751,
          0.7584959302428063,
          0.21612669161468567,
          0.17358699806242328,
          0.004304758318831703,
          0.00813568184658231,
          0.05251789584290223,
          -2.220446049250313e-16,
          7.471800955727304e-14,
          1.865174681370263e-14,
          0.4148938523943715,
          0.06481487057522817,
          0.2543685821717566,
          0.003352162531200298,
          0.27573479103651866,
          1.765254609153999e-14,
          0.4104471754939145,
          -2.220446049250313e-16,
          0,
          1.8540724511240114e-14,
          0.05029777821292525,
          0.33519311456248735,
          2.686372410143356e-05,
          0.2016381280307573,
          -2.220446049250313e-16,
          0,
          0.00041908972137727485,
          0,
          0.23547054780171406,
          0.16590354814348263,
          1.8477729850752134e-05,
          0.46666398173225765,
          0.002403954552290588,
          0.21600708971532834,
          0.3176639888213527,
          1.8540724511240114e-14,
          1.8762769116165146e-14,
          7.651657085716579e-13,
          9.992007221626409e-16,
          7.4495964952348e-14,
          0.7130720993760096,
          0.5896267890886442,
          0,
          2.1484458656573224e-10,
          0.11125737776995903,
          7.605027718682322e-14,
          1.7319479184152442e-14,
          0.03986056098440305,
          1.8762769116165146e-14,
          7.362680460754056e-06,
          0.13655598703485683,
          2.1087996631141692e-06,
          0,
          0.6280857669578537,
          0.03510100232837354,
          1.401706282266879e-06,
          0.07486457473455876,
          0.8768003515257594,
          0.00035249993749242314,
          1.5765166949677223e-14,
          0.0012932223469785953,
          0,
          1.709743457922741e-14,
          0.6057793050338081,
          0.2757828690477291,
          1.865174681370263e-14,
          0.7901329601160119,
          0.19101294919658607,
          1.1102230246251565e-16,
          5.221413077016734e-06,
          0.0014823956903432522,
          0.11314060049766805,
          0,
          5.125728217425518e-07,
          0.47949805840320014,
          0.0055275293262800895,
          1.8762769116165146e-14,
          7.4495964952348e-14,
          3.145247226754577e-05,
          0.16621581747414726,
          1.8762769116165146e-14,
          0.27546053306053553,
          1.84297022087776e-14,
          0.001541802005684878,
          0.29603617904651935,
          1.865174681370263e-14,
          1.6775469902086115e-13,
          0.3422230453743106,
          0.009086839626547882,
          1.5765166949677223e-14,
          2.378304505556983e-07,
          0.45250318653399657,
          0.2311844513236352,
          0.05266039219047525,
          0.28855030388163483,
          0.003455664827376359,
          0.6906516942296429,
          0.11762127566698855,
          0.5179075949437156,
          0.1692837114963064,
          0,
          0.6884468962273155,
          2.220446049250313e-16,
          0,
          0.5635714506465979,
          1.674216321134736e-13,
          0.9616720741261446,
          0.32033142544366644,
          5.328496195744492e-05,
          0.6391486213463913,
          1.8762769116165146e-14,
          7.438494264988549e-14,
          0,
          0.001058645041222439,
          0,
          4.1783474376000385e-05,
          0.06525687729625818,
          7.438494264988549e-14,
          0.4127806486256449,
          0.00010347941198696198,
          1.8762769116165146e-14,
          0.5048881492588052,
          0.046225617614610526,
          0.24455988747717627,
          0,
          0.14718098442724536,
          0.08951998766451585,
          1.8540724511240114e-14,
          7.460698725481052e-14,
          4.3330396637397683e-07,
          0.22374985162723104,
          1.8318679906315083e-14,
          3.730368791643457e-09,
          -2.220446049250313e-16,
          0.27817777189810944,
          0.22411271845517033,
          1.6986412276764895e-14,
          0.3639597621545575,
          -2.220446049250313e-16,
          2.220446049250313e-16,
          -2.220446049250313e-16,
          0.00017471004947711144,
          0.21465209968849508,
          -2.220446049250313e-16,
          2.220446049250313e-16,
          0.2683167742912552,
          0.0782179525535468,
          0,
          0.9092708481221065,
          7.427392034742297e-14,
          0.07180226513385202,
          0.0584412814837022,
          1.8762769116165146e-14,
          0,
          1.8540724511240114e-14,
          2.3957679326946923e-05,
          7.4495964952348e-14,
          0.2843628329890897,
          2.6488015994807768e-05,
          0.8757664301114847,
          0.20695225033197728,
          0,
          0.0015185460408490004,
          0.06484860017250316,
          0.8639100581080796,
          1.787459069646502e-14,
          3.2784885917180873e-13,
          0.029614829300247836,
          0.21047334802732132,
          0.22191813330319676,
          -2.220446049250313e-16,
          0.2443021880311137,
          2.3282931138624008e-10,
          0.3849454549869764,
          1.1102230246251565e-16,
          -2.220446049250313e-16,
          3.25715255511394e-06,
          0.3310879001379172,
          1.5949329815745372e-05,
          1.184297104828147e-10,
          0.18131347992466695,
          1.3571207250540063e-05,
          0.0021472943095377506,
          1.6986412276764895e-14,
          0,
          0.0841049573398327,
          0.4473013289426018,
          1.8540724511240114e-14,
          0,
          0.001269932607607438,
          0.025953239716953402,
          0.29921038769696073,
          1.2987679058884538e-06,
          1.865174681370263e-14,
          0.022478656081461712,
          0.0038576625956964206,
          0.0699947681882428,
          0.02565553113012664,
          0.5545943929726125,
          0.1658393590551005,
          1.8751666885918894e-13,
          1.8540724511240114e-14,
          0.6553959912222806,
          0.0012449383621646604,
          1.7319479184152442e-14,
          0.3481789816122993,
          0.015621686799283885,
          0.0005256872442166438,
          0.983300286955372,
          0.03236627524080182,
          0.13456647045749537,
          0.6532118571137561,
          0.4285695436912216,
          1.865174681370263e-14,
          0.7806141080786178,
          0.26997095193416765,
          2.153271777549648e-07,
          0,
          0.0310807795827599,
          1.8540724511240114e-14,
          1.8740564655672642e-13,
          0.05892322197420807,
          0.3080896913145713,
          1.554312234475219e-14,
          0.16473336728353905,
          0.0008136378212447726,
          0,
          1.865174681370263e-14,
          0.2637395533596346,
          0,
          0.25599054578015057,
          0.4661253110582171
         ]
        },
        {
         "name": "non_uui_grey_score_pairs",
         "nbinsx": 100,
         "opacity": 0.75,
         "type": "histogram",
         "x": [
          1.1102230246251565e-16,
          0.18171564872787005,
          0.021662690426091924,
          1.673106098110111e-13,
          0.03607275509864871,
          0,
          -2.220446049250313e-16,
          1.3877787807814457e-14,
          1.1102230246251565e-16,
          1.8762769116165146e-14,
          1.865174681370263e-14,
          0.017660501910497284,
          1.1102230246251565e-16,
          0.1349966616154673,
          0,
          1.887379141862766e-14,
          1.1324274851176597e-14,
          0.0466199515301724,
          0.05216056534353042,
          0.18461572163120155,
          1.8762769116165146e-14,
          1.6753265441593612e-13,
          6.661338147750939e-15,
          2.543322299652928e-05,
          1.6753265441593612e-13,
          0.000522260691022236,
          0.0445741626002063,
          1.865174681370263e-14,
          0.006099310770077637,
          2.220446049250313e-16,
          1.865174681370263e-14,
          0.12091097005131579,
          1.8540724511240114e-14,
          0.2386634970834427,
          0.1070622670049809,
          1.4050530835474362e-05,
          0.17125758708258587,
          3.259829783885948e-08,
          1.4906889939103607e-06,
          1.8762769116165146e-14,
          3.3306690738754696e-16,
          1.8762769116165146e-14,
          -2.220446049250313e-16,
          0.4420237751632027,
          3.4636384243613705e-05,
          7.438494264988549e-14,
          4.915700872443196e-05,
          4.943823128655822e-13,
          7.81826465279245e-05,
          7.460698725481052e-14,
          1.887379141862766e-14,
          1.865174681370263e-14,
          2.220446049250313e-16,
          7.438494264988549e-14,
          0.5276654580891151,
          1.1378947697426867e-06,
          0.0009660111845706254,
          7.438494264988549e-14,
          1.9539925233402755e-14,
          0.06374430117027297,
          0.01169080633884556,
          0.05880135214141935,
          5.784261958297066e-14,
          5.299696058003178e-05,
          -2.220446049250313e-16,
          0,
          0.010665027179316833,
          1.6719958750854857e-13,
          9.2148511043888e-15,
          1.673106098110111e-13,
          6.328271240363392e-14,
          0.5829274228229946,
          1.865174681370263e-14,
          8.458237427677595e-06,
          0.668350382140614,
          1.865174681370263e-14,
          2.220446049250313e-16,
          0.0032322420836081722,
          7.4495964952348e-14,
          0,
          0,
          0,
          0.03629436266811559,
          0.19908785710242538,
          0.0002759941387777687,
          0,
          0.2814796839977387,
          1.5765166949677223e-14,
          0.3946596393179911,
          0,
          0.07217084682512742,
          0.0024616125558283297,
          0.6402688543967279,
          0.2484526080253212,
          1.865174681370263e-14,
          1.787459069646502e-14,
          1.8762769116165146e-14,
          0,
          6.072919944699606e-14,
          0.004578542818356457,
          1.8318679906315083e-14,
          3.3306690738754696e-16,
          0.19279777973793588,
          6.565193278262882e-05,
          1.8540724511240114e-14,
          1.38222766565832e-13,
          1.9761969838327786e-14,
          7.438494264988549e-14,
          2.97761815204467e-13,
          0,
          6.250555628639631e-14,
          2.220446049250313e-16,
          7.438494264988549e-14,
          7.438494264988549e-14,
          6.04573759086513e-05,
          2.8221102222780736e-05,
          -2.220446049250313e-16,
          3.618216837253385e-13,
          9.992007221626409e-16,
          1.8762769116165146e-14,
          0.0005528472803955076,
          2.831068712794149e-13,
          0.05306322989915302,
          7.4495964952348e-14,
          7.438494264988549e-14,
          0.05523930257667364,
          0,
          2.220446049250313e-16,
          0.05819140991090366,
          1.8540724511240114e-14,
          2.220446049250313e-16,
          0.00017901572049738856,
          1.1102230246251565e-16,
          1.1435297153639112e-14,
          2.0872192862952943e-14,
          7.4495964952348e-14,
          4.141131881851834e-14,
          7.460698725481052e-14,
          1.84297022087776e-14,
          0.19711237809063276,
          2.9753977059954195e-13,
          3.658184866139891e-13,
          0,
          5.786491055204124e-07,
          1.7763568394002505e-14,
          0.03520681478567955,
          -2.220446049250313e-16,
          1.865174681370263e-14,
          0.0037197168073446196,
          0.16467728951336413,
          6.914863835305596e-05,
          -2.220446049250313e-16,
          2.5479618415147343e-13,
          2.8321789358187743e-13,
          1.609823385706477e-14,
          1.8540724511240114e-14,
          1.1102230246251565e-16,
          0.02069038835562864,
          1.0220713164699191e-12,
          0.06391661868069765,
          1.6719958750854857e-13,
          0,
          7.4495964952348e-14,
          9.769962616701378e-15,
          4.445617482584652e-06,
          1.1126388699267409e-10,
          0.8551675549147127,
          1.8540724511240114e-14,
          0.001286342042492561,
          1.6753265441593612e-13,
          7.438494264988549e-14,
          0.6795044684608043,
          3.5282887722587475e-13,
          2.220446049250313e-16,
          1.8540724511240114e-14,
          1.1102230246251565e-16,
          1.865174681370263e-14,
          1.0212941603526815e-12,
          1.8540724511240114e-14,
          1.865174681370263e-14,
          1.6753265441593612e-13,
          7.4495964952348e-14,
          0,
          1.84297022087776e-14,
          1.4158512584572236e-08,
          2.220446049250313e-16,
          1.865174681370263e-14,
          0.014612546736300858,
          0.7153591342252876,
          0.23866248310559113,
          1.7763568394002505e-14,
          6.150635556423367e-14,
          4.654054919228656e-13,
          1.84297022087776e-14,
          -2.220446049250313e-16,
          0.09416318223654108,
          5.1783628756130184e-06,
          1.8540724511240114e-14,
          4.3853809472693683e-14,
          1.4932499681208355e-13,
          0.24922704067030343,
          0.00206846620307799,
          1.6753265441593612e-13,
          0.002893620923543838,
          0,
          0.6264938355904673,
          0.04442240875025116,
          4.440892098500626e-16,
          7.471800955727304e-14,
          0.10636335517256679,
          0.2176128899332671,
          1.865174681370263e-14,
          0.6041070659244245,
          1.8540724511240114e-14,
          0.45972561970788683,
          0,
          0,
          0.05303618178106573,
          1.84297022087776e-14,
          1.021405182655144e-14,
          0.012534277787490722,
          7.4495964952348e-14,
          0.024280877597826378,
          0.0007352169132065489,
          -2.220446049250313e-16,
          0.01155078161915113,
          2.0650148258027912e-14,
          6.461498003318411e-14,
          1.5765166949677223e-14,
          9.737805717768833e-05,
          -2.220446049250313e-16,
          0.00010049215310792281,
          1.8540724511240114e-14,
          1.1102230246251565e-16,
          2.17101598409819e-06,
          1.84297022087776e-14,
          0.6386186911287138,
          0.39636911773484695,
          0,
          0.16409969664172708,
          1.865174681370263e-14,
          0,
          7.471800955727304e-14,
          1.8540724511240114e-14,
          7.4495964952348e-14,
          1.05990093590691e-07,
          1.8540724511240114e-14,
          1.8762769116165146e-14,
          0.11975812102208516,
          -2.220446049250313e-16,
          -2.220446049250313e-16,
          2.0539125955565396e-14,
          0.00022499123158892242,
          -2.220446049250313e-16,
          0.022860911232349568,
          1.787459069646502e-14,
          0.11568970969997294,
          0.005028944103287469,
          1.8540724511240114e-14,
          0.05306322989913026,
          0.25629720018847124,
          1.6753265441593612e-13,
          0.0004876430472680049,
          0.0025482749191066967,
          0.00010103649688331107,
          0.16272867053917395,
          1.7763568394002505e-14,
          7.438494264988549e-14,
          0.00014448825874080473,
          0.6459489964112959,
          0.015899000753188397,
          1.8762769116165146e-14,
          0.008390000106517692,
          1.84297022087776e-14,
          3.730349362740526e-14,
          9.769962616701378e-15,
          0.06124740940057727,
          7.438494264988549e-14,
          1.8762769116165146e-14,
          5.084821452783217e-14,
          0.9999928340594352,
          1.8540724511240114e-14,
          1.5765166949677223e-14,
          1.887379141862766e-14,
          9.992007221626409e-15,
          1.1102230246251565e-16,
          0,
          0.7959271941533237,
          0.20897353066312585,
          2.9753977059954195e-13,
          0.024241824227110076,
          0,
          0.5752738320469971,
          7.482903185973555e-14,
          1.5765166949677223e-14,
          1.532107773982716e-14,
          0,
          1.5765166949677223e-14,
          0.0005645541195954396,
          1.5987211554602254e-14,
          0,
          1.887379141862766e-14,
          0,
          1.3419671929248977e-08,
          1.8762769116165146e-14,
          1.865174681370263e-14,
          0,
          0.3835150258847817,
          6.339373470609644e-14,
          1.9984014443252818e-14,
          1.674216321134736e-13,
          4.650724250154781e-13,
          1.8540724511240114e-14,
          7.460698725481052e-14,
          0.19990906512704987,
          1.6764367671839864e-13,
          0.037537651399230376,
          0.046834426023908526,
          0,
          1.7763568394002505e-14,
          0.023586764447469544,
          3.632802233588528e-06,
          0.20010343677534193,
          0,
          0.09053437975212608,
          1.5987211554602254e-14,
          1.84297022087776e-14,
          0.02501127972865036,
          2.220446049250313e-16
         ]
        },
        {
         "name": "uui_low_score_pairs",
         "nbinsx": 100,
         "opacity": 0.75,
         "type": "histogram",
         "x": [
          0.16856566531032757,
          3.2807090377673376e-13,
          7.460698725481052e-14,
          2.978728375069295e-13,
          2.3237398432129908e-06,
          -2.220446049250313e-16,
          0.5849879015041627,
          0.6819253638045966,
          0.23688398234985553,
          0.6855715404767435,
          0.7089100132602173,
          0.2968390827347265,
          7.438494264988549e-14,
          1.8540724511240114e-14,
          0.3129377512473249,
          0.017995824873033195,
          0.6946438653348013,
          0.5745021690385909,
          0.39355329482043466,
          0.3346192060402031,
          0.0888727577500682,
          2.3237398432129908e-06,
          1.8477729560872902e-05,
          0,
          0.05360588912056008,
          0.2951138629273705,
          0.6796151804127452,
          1.8540724511240114e-14,
          0.1856991315765536,
          0.9007756051696261,
          0.04333401953922322,
          0.4413238036117193,
          0.44990400114485496,
          7.405187574249794e-14,
          1.8762769116165146e-14,
          7.460698725481052e-14,
          0.5993118433519289,
          0.027432733740306414,
          0.31051444520797544,
          0.21758971825390905,
          0.27537708074562706,
          0.08600097747749336,
          0.6793526607293214,
          0,
          0.2954577550311085,
          0.6353681010296209,
          0.05403057214867468,
          0.4638209080812953,
          0.5911794605847116,
          2.97983859809392e-13,
          0.577289659634986,
          1.2156942119645464e-13,
          0.7005584997524874,
          0.017755976594032385,
          0.2001638274866624,
          0.4054844812440619,
          0.44905520518218367,
          1.8477729560650857e-05,
          0.3620971566544665,
          0.7521905341573527,
          0.5387771293088165,
          0.589615697269374,
          0.2885066673555624,
          1.5321446333871336e-08,
          0.33014795340049696,
          0.2459360484882399,
          0.22245283666539217,
          0.23394013024585725,
          5.025979632478084e-13,
          0.41759609693090705,
          0.45365735261210116,
          7.471800955727304e-14,
          0.6860174043301182,
          1.6753265441593612e-13,
          0.07231915125364197,
          0.5600657204393957,
          0,
          0.23524539761001673,
          0.32496171905928184,
          0.3501500594069705,
          -2.220446049250313e-16,
          7.438494264988549e-14,
          0.2934123200185911,
          1.8477729560650857e-05,
          0.5097243148855088,
          1.887379141862766e-14,
          1.847772968710526e-05,
          0.3949984349190875,
          0.18634424090091972,
          0.09500237308253623,
          0.1933684535160427,
          3.276268145668837e-13,
          0.49532898545459947,
          2.323739852871931e-06,
          0.8977684533283812,
          0.034604325047825846,
          0.014108111290716763,
          1.8540724511240114e-14,
          0.43925535485501754,
          0.3398114331483104,
          0.33453341046995877,
          0.3789213085030845,
          0.8642452340372424,
          1.6764367671839864e-13,
          0.4779593339207181,
          0.007418092011141186,
          0.12055035831703187,
          1.8477729686994238e-05,
          0.5683907728203281,
          1.865174681370263e-14,
          0.1803432510893309,
          0.6863674959962422,
          0.7786214409949637,
          0.17859377227895956,
          1.532143656390872e-08,
          0.6828936820963599,
          0.30765523467432054,
          0,
          0.29926657921000466,
          0.5059327534251654,
          0.6271143492871875,
          1.8477729471388926e-05,
          0.3520274933567,
          0.49033445299271705,
          0.9999929173136816,
          0.0633529636672262,
          0.38956345936456704,
          2.9765079290200447e-13,
          0.6098948127471392,
          2.323739843324013e-06,
          0.8595098493951046,
          0.14191056056403228,
          0.07794201278452251,
          0.04159214370149045,
          1.8540724511240114e-14,
          0.129894066068306,
          0.692714028291926,
          2.3237398432129908e-06,
          0.29019038242991324,
          7.427392034742297e-14,
          0.507913295250719,
          0.6260498117246998,
          0.5465241968572006,
          0.7468977215446136,
          0.17349540186946089,
          0.18211614005501475,
          -2.220446049250313e-16,
          0.46495791198723846,
          0.1306205745071024,
          0.26343282679889557,
          1.8477729687216282e-05,
          0.5228233345283657,
          1.6753265441593612e-13,
          0.775326100742996,
          0.45593827182970714,
          0.6232220411240162,
          0.7739975128650897,
          0.44326236139742714,
          0.40228299979257576,
          0.32281102661906624,
          0.07331776348672381,
          0.2664605162388528,
          0.11379836176187874,
          0.06112534018024207,
          0.06753268938744184,
          1.8540724511240114e-14,
          0.16981019798591757,
          0.012984479394334225,
          0.08104542001945603,
          0.011994044258362702,
          0.8682470817894147,
          0.009141112708220822,
          1.8540724511240114e-14,
          0.016549479260399735,
          0.44473449481938376,
          0.2607890363849068,
          0,
          0.4907956286948303,
          0.7689095036514401,
          2.3237398265596454e-06,
          0.5972548424729889,
          0.6456562323008004,
          0.6794740542351909,
          0.4607254987466246,
          0.8005257813123048,
          0.368477121956572,
          0.4801073510980377,
          1.8477729687216282e-05,
          0.8146442977334679,
          0.4584001618172586,
          0.03727614163592763,
          0.5714582454261758,
          0.2926639866994798,
          0.22901826451603602,
          1.847772947116688e-05,
          0.5887778529711472,
          0.16266890004349688,
          -2.220446049250313e-16,
          0.4592257109127209,
          0.19648393269494802,
          1.2569054441691208e-07,
          0.003336829946967712,
          0.4231549982190762,
          0.4438374927566032,
          0.3472156246159781,
          0.09494097072396257,
          1.8762769116165146e-14,
          0.4568273850902469,
          0.02211023261641809,
          0.4493154838749983,
          1.84297022087776e-14,
          0.11895709336183635,
          1.847772956076188e-05,
          0.33214965929645235,
          0.7044754387754759,
          0.4463203284220758,
          0.6097696791451656,
          0.3392429023415341,
          1.865174681370263e-14,
          9.00390872971002e-14,
          1.8540724511240114e-14,
          1.847772947116688e-05,
          1.5321446222849033e-08,
          0.16787135856725943,
          0.714541960296325,
          1.8540724511240114e-14,
          0.07844736167884803,
          1.8540724511240114e-14,
          7.460698725481052e-14,
          0.2521669745781008,
          0.05155126985403036,
          0.4585578833009698,
          1.6775469902086115e-13,
          1.8762769116165146e-14,
          0.46751319920911016,
          0.226833583274078,
          0.36836333055471737,
          1.8540724511240114e-14,
          0.2803731946205418,
          0.021119737181225173,
          0.6831822030700776,
          0.49820453128306785,
          0.3405904820414346,
          0.047446860680309344,
          0.6323620587241149,
          0.18633045946511007,
          1.8540724511240114e-14,
          0.5244686087329249,
          1.5321436785953324e-08,
          0.03423060807600764,
          7.427392034742297e-14,
          0.03458367820680763,
          1.270095140171179e-13,
          0.047695470738035595,
          2.3237398527609088e-06,
          1.532143656390872e-08,
          0.1277392732385486,
          7.438494264988549e-14,
          5.025979632478084e-13,
          0,
          0.3982514974420851,
          0.6116910896708587,
          0.09742931377792463,
          0.7712389782106479,
          1.8477729687216282e-05,
          0.3179029409275209,
          0.06532387610283719,
          1.84297022087776e-14,
          0.375561493641546,
          0.45048316162616775,
          0.26172170915243287,
          0.30917804183585895,
          0.49225092061350184,
          0.43840394738678623,
          1.6753265441593612e-13,
          0.30512009913275484,
          0.2500354864954256,
          0.2024920748131659,
          0.4213480655038483,
          0.27726769129547824,
          0.6192202407151589,
          0.5295255096277404,
          0.4380708061968607,
          0.180588514605732,
          1.6764367671839864e-13,
          0.3491914304408533,
          0.440589533505121,
          0.4669594648253199,
          0.5412125813726416,
          1.84777298510852e-05,
          1.84297022087776e-14,
          1.8477729687216282e-05,
          0.24142919373030136,
          1.6764367671839864e-13,
          0.40643436605996064,
          7.460698725481052e-14,
          0.3154045395576279,
          0.4127017402428259,
          0.287390711829249,
          0.25529013822981994,
          7.460698725481052e-14,
          7.471800955727304e-14,
          0.6190289293665621,
          0.5070047917029585,
          0.30369136109927064,
          0.03176823802645745,
          0.9317362518826547,
          0.014257138257317448,
          0.3009074717957487,
          0.225804715020263,
          0.31817879974610896,
          1.6786572132332367e-13,
          0.1993861806284858,
          0.21271456088265628,
          0.012836096996108881,
          1.532143656390872e-08,
          0.2615627688738079,
          0.89044735721282,
          7.771561172376096e-16,
          -2.220446049250313e-16,
          0.37059221341081394,
          0.999998335132672,
          0.023607583776618313,
          0.1558217516764362,
          0.5007768981080707,
          0.22005513146755096,
          2.3237398527609088e-06,
          0.9063800156121751,
          0.36896599112718065
         ]
        },
        {
         "name": "non_uui_low_score_pairs",
         "nbinsx": 100,
         "opacity": 0.75,
         "type": "histogram",
         "x": [
          0.24043974701489723,
          0.000993380265818189,
          0.36300011306607627,
          0.06492109708018967,
          0.07112265806613349,
          0.4548402339741815,
          0.8839803648486128,
          3.7636560534792807e-14,
          0.7178923579381624,
          2.2624051410069512e-08,
          0.8622629221915296,
          0.41066764391510135,
          0.09146719161200256,
          0.08865375048966306,
          0.15485007882369584,
          0.11861546033780723,
          0.3559477425474482,
          0.6315956407153163,
          0.04639261098352654,
          0.4704432042881943,
          0.5382483233808923,
          6.694719780875324e-05,
          0.7097029837982073,
          0.02847525539528939,
          0.0011401707472997735,
          0.7371704726134813,
          0.11346810224784531,
          9.103828801926284e-15,
          0.45001089334963285,
          0.3676059360151157,
          0.3104027046965975,
          0.5119030841231871,
          3.2163161023390785e-13,
          0.268797151399369,
          0.4522027118069456,
          0.23574183353516642,
          0,
          0.005050107554075756,
          0.017308130823182055,
          0.5427617025586133,
          0.31016929860764286,
          0.681108971547682,
          0.2759856685233205,
          0.2022635178239609,
          0.1183486231398283,
          0.26805706864448386,
          0.18709032139810788,
          0.8628212419412042,
          0.18311673077878943,
          0.11847807867228699,
          4.107825191113079e-15,
          0.12688201797648624,
          3.219646771412954e-15,
          1.7530421558831222e-13,
          0.39906526752324445,
          0.2919557441426639,
          0.22104792069111745,
          0.005382193884698405,
          0.1767002477527877,
          0.14688164437127427,
          0.4974722621296511,
          0.1820176899040835,
          0.1463750673804981,
          0.4672258202159042,
          0.02654516471721946,
          0.0023576075255677953,
          0.6821007292352773,
          0.149267091015982,
          0.43745590561657677,
          0.07735125442469115,
          0.4402793997629233,
          0.09546239447260929,
          7.042144645197368e-13,
          0.2360670204548746,
          2.220446049250313e-16,
          0.08184175661362958,
          0.579861330523724,
          3.1979552561733904e-05,
          1.6286971771251046e-13,
          0.5995976482630431,
          0.8437899344632398,
          0.18060521415522013,
          0.9893455374668667,
          0.806182811939606,
          0.7948216035676856,
          0.08714575146579207,
          1.673106098110111e-13,
          6.899921364489359e-06,
          0.5606893391843283,
          0.0510669952661551,
          0.06282646116072255,
          7.21238131953239e-05,
          0.0829107870173188,
          0.13597107535649233,
          0.35391675990824356,
          0.03530693082446934,
          0.3034878031150907,
          0.1262403988580424,
          0.09212180932601377,
          0.5716189032106633,
          0.31532257048667933,
          0.5983999725189382,
          0.08769973263750652,
          0.09596010799747434,
          4.1841531946973376e-05,
          0.8792766273538238,
          0.5982993361024306,
          2.970956813896919e-13,
          0.8946727769445116,
          0.7330819866549669,
          0.07363094671603843,
          0.2193783768090557,
          0.00023028904782085302,
          0.0313882403744713,
          0.09801270456235223,
          0.1443536404774144,
          -2.220446049250313e-16,
          0.07216144867577312,
          6.632370064352244e-05,
          1.532107773982716e-14,
          0.24841975725012366,
          0.1713327087797092,
          0.006386327295750394,
          2.4877877535800508e-12,
          0.08311885449462841,
          0.887706568730485,
          0.2960144728087517,
          0.004184923091168025,
          1.6500489542492502e-05,
          0.004456564621601156,
          0.029782630364233786,
          0.2602573161998466,
          0.782284424230646,
          0.7525348782342619,
          0.8261938354513461,
          0.1381205948248797,
          0.5959811003313313,
          0.08082605757587513,
          0.5488228039558976,
          0.21840124530397265,
          0.01411680843524532,
          0.33465034423421525,
          0.027308197850431593,
          0.16245780717555225,
          0.2881173509375021,
          0.0024012621237967657,
          0.2336134059520546,
          0.7591356688600858,
          6.713518629908322e-13,
          0.3029109858403122,
          0.6236317299258471,
          0.6434042107738547,
          0.05358916767446498,
          0.3059677858151105,
          0.002327348789356698,
          0.5378981702147129,
          0.7724290852460944,
          0.41637162647575676,
          0.4935691412164164,
          0.0004021367586433122,
          0.8746755696546458,
          0.49716091799498496,
          0.37845399128140733,
          4.318767565791859e-14,
          0.6542709987205175,
          0.2652745846398028,
          0.5369082740151997,
          0.29665547347040166,
          0.8308821941584683,
          0.2739268222251108,
          0.20749566872395442,
          0.1886659361370614,
          0.8046026427155468,
          0.6954284703714821,
          0.4121864427633296,
          0.21837480059716619,
          0.3682289305696608,
          0.0003791413556702983,
          0.5620109873255117,
          0.5712903972238148,
          0.5093662387282338,
          0.05786947661819186,
          0.6146903109187045,
          0.0005621148168531986,
          0.5485055849315733,
          0.7812506794719905,
          0.18611790634726555,
          0.11376693348563438,
          0.20484510175551618,
          0.04202936963475179,
          0.43641622657142753,
          0.4687719580778842,
          0.18721188324294535,
          0.8510205976023327,
          4.414939061536671e-05,
          0.00021418656395078006,
          6.994405055138486e-15,
          1.7985612998927536e-14,
          0.7082151470349831,
          0.624041054733514,
          7.460698725481052e-14,
          0.5147148484882088,
          1.777157798699136e-08,
          0.7668389120152229,
          1.0880185641326534e-14,
          0.4130468465949122,
          0.013998971640598823,
          0.06430591633613303,
          0.34377525916510876,
          0.030576671011943057,
          0.04097646244590891,
          3.9968028886505635e-14,
          0.007746874920253499,
          0.19316659418916904,
          0.1338372218666366,
          0.0074590056198513555,
          0.08128199804309777,
          0.46164173699552513,
          3.785860513971784e-14,
          0.8772204849089286,
          0.5085782368086738,
          0.05816196589379219,
          0.01706812792061585,
          0.37887790173089475,
          0.07965060629487197,
          0.24692327936836944,
          0.11447370298795112,
          2.0017321133991572e-13,
          5.344221650105396e-06,
          0.08522212319448508,
          0.9073071439809302,
          0.07017293555944915,
          0.03175481005557479,
          0,
          0.08839182938627321,
          0.01582545374147848,
          0.5514526004763476,
          0.3433578667338426,
          0.2743619010692975,
          0.14750556521990354,
          4.596323321948148e-14,
          0.2724194030070667,
          0.05663802220614578,
          0.8264215808885716,
          0.45741022626215255,
          9.836575998178887e-14,
          0.8389977580239651,
          0.4625248673407919,
          0.0020260882024887295,
          0.18745779317311362,
          1.554312234475219e-14,
          0.5143558897262713,
          0.023987550242857925,
          3.5638159090467525e-14,
          0.32507464680001374,
          0.18990511983744862,
          4.620748228489902e-13,
          0.08533964686715745,
          0.13571803304452879,
          0.13883387591281138,
          0.5491286819860475,
          0.4127274188534531,
          0.8351312208732118,
          1.1401990462900358e-12,
          0.6772031632425122,
          0.08531920390061276,
          0.2646405775884608,
          0.16381916382575068,
          0.5098167758913537,
          0.21129727610999205,
          0.7739089737364956,
          0.3212390765278115,
          0.30454762191476725,
          0.1538034738925197,
          0.4193515342875287,
          0.5156194619894654,
          0.16146993180512748,
          0,
          0.2901289157067821,
          0.3203603411876077,
          4.268807529683727e-13,
          0.21250922430058095,
          0.49021715225983276,
          0.09155933022368334,
          0.6262638644391094,
          0.4012746977582291,
          0.26601363818876733,
          4.244595077307345e-06,
          0.05346070148041715,
          0.00010107811856918669,
          0.5306337209151613,
          0.12617256353930673,
          0.49704643353399103,
          0.03004850950361626,
          0.09312714017127832,
          0.28279063066949306,
          0.05787103251941772,
          0.7270346440535251,
          0.5085436091734912,
          0.1608416266949182,
          0.2750515460709707,
          0.06546748701044602,
          0.045024920470926655,
          0.7573044507229356,
          0.12002684431836541,
          0.5245661641277782,
          9.992007221626409e-15,
          0.48987037737419525,
          0.401159797311164,
          0.006295054164243474,
          0.5421405147084707,
          0.4645041884754777,
          0.996431530935926,
          0.022011249524971244,
          0.028668301565987098,
          0.7391724305795955,
          7.271960811294775e-14,
          0.06896450579634605,
          0.32681257228355254,
          0.04051132351816367,
          1.606381694330139e-12,
          0.7871592620537149,
          0.5050531944994249,
          0.05836401728766183,
          0.534512306368816,
          0.026181042488621853,
          2.5433223010740136e-05,
          0.46593471709814593,
          0.4428101797633539
         ]
        }
       ],
       "layout": {
        "barmode": "overlay",
        "template": {
         "data": {
          "bar": [
           {
            "error_x": {
             "color": "#2a3f5f"
            },
            "error_y": {
             "color": "#2a3f5f"
            },
            "marker": {
             "line": {
              "color": "#E5ECF6",
              "width": 0.5
             }
            },
            "type": "bar"
           }
          ],
          "barpolar": [
           {
            "marker": {
             "line": {
              "color": "#E5ECF6",
              "width": 0.5
             }
            },
            "type": "barpolar"
           }
          ],
          "carpet": [
           {
            "aaxis": {
             "endlinecolor": "#2a3f5f",
             "gridcolor": "white",
             "linecolor": "white",
             "minorgridcolor": "white",
             "startlinecolor": "#2a3f5f"
            },
            "baxis": {
             "endlinecolor": "#2a3f5f",
             "gridcolor": "white",
             "linecolor": "white",
             "minorgridcolor": "white",
             "startlinecolor": "#2a3f5f"
            },
            "type": "carpet"
           }
          ],
          "choropleth": [
           {
            "colorbar": {
             "outlinewidth": 0,
             "ticks": ""
            },
            "type": "choropleth"
           }
          ],
          "contour": [
           {
            "colorbar": {
             "outlinewidth": 0,
             "ticks": ""
            },
            "colorscale": [
             [
              0,
              "#0d0887"
             ],
             [
              0.1111111111111111,
              "#46039f"
             ],
             [
              0.2222222222222222,
              "#7201a8"
             ],
             [
              0.3333333333333333,
              "#9c179e"
             ],
             [
              0.4444444444444444,
              "#bd3786"
             ],
             [
              0.5555555555555556,
              "#d8576b"
             ],
             [
              0.6666666666666666,
              "#ed7953"
             ],
             [
              0.7777777777777778,
              "#fb9f3a"
             ],
             [
              0.8888888888888888,
              "#fdca26"
             ],
             [
              1,
              "#f0f921"
             ]
            ],
            "type": "contour"
           }
          ],
          "contourcarpet": [
           {
            "colorbar": {
             "outlinewidth": 0,
             "ticks": ""
            },
            "type": "contourcarpet"
           }
          ],
          "heatmap": [
           {
            "colorbar": {
             "outlinewidth": 0,
             "ticks": ""
            },
            "colorscale": [
             [
              0,
              "#0d0887"
             ],
             [
              0.1111111111111111,
              "#46039f"
             ],
             [
              0.2222222222222222,
              "#7201a8"
             ],
             [
              0.3333333333333333,
              "#9c179e"
             ],
             [
              0.4444444444444444,
              "#bd3786"
             ],
             [
              0.5555555555555556,
              "#d8576b"
             ],
             [
              0.6666666666666666,
              "#ed7953"
             ],
             [
              0.7777777777777778,
              "#fb9f3a"
             ],
             [
              0.8888888888888888,
              "#fdca26"
             ],
             [
              1,
              "#f0f921"
             ]
            ],
            "type": "heatmap"
           }
          ],
          "heatmapgl": [
           {
            "colorbar": {
             "outlinewidth": 0,
             "ticks": ""
            },
            "colorscale": [
             [
              0,
              "#0d0887"
             ],
             [
              0.1111111111111111,
              "#46039f"
             ],
             [
              0.2222222222222222,
              "#7201a8"
             ],
             [
              0.3333333333333333,
              "#9c179e"
             ],
             [
              0.4444444444444444,
              "#bd3786"
             ],
             [
              0.5555555555555556,
              "#d8576b"
             ],
             [
              0.6666666666666666,
              "#ed7953"
             ],
             [
              0.7777777777777778,
              "#fb9f3a"
             ],
             [
              0.8888888888888888,
              "#fdca26"
             ],
             [
              1,
              "#f0f921"
             ]
            ],
            "type": "heatmapgl"
           }
          ],
          "histogram": [
           {
            "marker": {
             "colorbar": {
              "outlinewidth": 0,
              "ticks": ""
             }
            },
            "type": "histogram"
           }
          ],
          "histogram2d": [
           {
            "colorbar": {
             "outlinewidth": 0,
             "ticks": ""
            },
            "colorscale": [
             [
              0,
              "#0d0887"
             ],
             [
              0.1111111111111111,
              "#46039f"
             ],
             [
              0.2222222222222222,
              "#7201a8"
             ],
             [
              0.3333333333333333,
              "#9c179e"
             ],
             [
              0.4444444444444444,
              "#bd3786"
             ],
             [
              0.5555555555555556,
              "#d8576b"
             ],
             [
              0.6666666666666666,
              "#ed7953"
             ],
             [
              0.7777777777777778,
              "#fb9f3a"
             ],
             [
              0.8888888888888888,
              "#fdca26"
             ],
             [
              1,
              "#f0f921"
             ]
            ],
            "type": "histogram2d"
           }
          ],
          "histogram2dcontour": [
           {
            "colorbar": {
             "outlinewidth": 0,
             "ticks": ""
            },
            "colorscale": [
             [
              0,
              "#0d0887"
             ],
             [
              0.1111111111111111,
              "#46039f"
             ],
             [
              0.2222222222222222,
              "#7201a8"
             ],
             [
              0.3333333333333333,
              "#9c179e"
             ],
             [
              0.4444444444444444,
              "#bd3786"
             ],
             [
              0.5555555555555556,
              "#d8576b"
             ],
             [
              0.6666666666666666,
              "#ed7953"
             ],
             [
              0.7777777777777778,
              "#fb9f3a"
             ],
             [
              0.8888888888888888,
              "#fdca26"
             ],
             [
              1,
              "#f0f921"
             ]
            ],
            "type": "histogram2dcontour"
           }
          ],
          "mesh3d": [
           {
            "colorbar": {
             "outlinewidth": 0,
             "ticks": ""
            },
            "type": "mesh3d"
           }
          ],
          "parcoords": [
           {
            "line": {
             "colorbar": {
              "outlinewidth": 0,
              "ticks": ""
             }
            },
            "type": "parcoords"
           }
          ],
          "scatter": [
           {
            "marker": {
             "colorbar": {
              "outlinewidth": 0,
              "ticks": ""
             }
            },
            "type": "scatter"
           }
          ],
          "scatter3d": [
           {
            "line": {
             "colorbar": {
              "outlinewidth": 0,
              "ticks": ""
             }
            },
            "marker": {
             "colorbar": {
              "outlinewidth": 0,
              "ticks": ""
             }
            },
            "type": "scatter3d"
           }
          ],
          "scattercarpet": [
           {
            "marker": {
             "colorbar": {
              "outlinewidth": 0,
              "ticks": ""
             }
            },
            "type": "scattercarpet"
           }
          ],
          "scattergeo": [
           {
            "marker": {
             "colorbar": {
              "outlinewidth": 0,
              "ticks": ""
             }
            },
            "type": "scattergeo"
           }
          ],
          "scattergl": [
           {
            "marker": {
             "colorbar": {
              "outlinewidth": 0,
              "ticks": ""
             }
            },
            "type": "scattergl"
           }
          ],
          "scattermapbox": [
           {
            "marker": {
             "colorbar": {
              "outlinewidth": 0,
              "ticks": ""
             }
            },
            "type": "scattermapbox"
           }
          ],
          "scatterpolar": [
           {
            "marker": {
             "colorbar": {
              "outlinewidth": 0,
              "ticks": ""
             }
            },
            "type": "scatterpolar"
           }
          ],
          "scatterpolargl": [
           {
            "marker": {
             "colorbar": {
              "outlinewidth": 0,
              "ticks": ""
             }
            },
            "type": "scatterpolargl"
           }
          ],
          "scatterternary": [
           {
            "marker": {
             "colorbar": {
              "outlinewidth": 0,
              "ticks": ""
             }
            },
            "type": "scatterternary"
           }
          ],
          "surface": [
           {
            "colorbar": {
             "outlinewidth": 0,
             "ticks": ""
            },
            "colorscale": [
             [
              0,
              "#0d0887"
             ],
             [
              0.1111111111111111,
              "#46039f"
             ],
             [
              0.2222222222222222,
              "#7201a8"
             ],
             [
              0.3333333333333333,
              "#9c179e"
             ],
             [
              0.4444444444444444,
              "#bd3786"
             ],
             [
              0.5555555555555556,
              "#d8576b"
             ],
             [
              0.6666666666666666,
              "#ed7953"
             ],
             [
              0.7777777777777778,
              "#fb9f3a"
             ],
             [
              0.8888888888888888,
              "#fdca26"
             ],
             [
              1,
              "#f0f921"
             ]
            ],
            "type": "surface"
           }
          ],
          "table": [
           {
            "cells": {
             "fill": {
              "color": "#EBF0F8"
             },
             "line": {
              "color": "white"
             }
            },
            "header": {
             "fill": {
              "color": "#C8D4E3"
             },
             "line": {
              "color": "white"
             }
            },
            "type": "table"
           }
          ]
         },
         "layout": {
          "annotationdefaults": {
           "arrowcolor": "#2a3f5f",
           "arrowhead": 0,
           "arrowwidth": 1
          },
          "colorscale": {
           "diverging": [
            [
             0,
             "#8e0152"
            ],
            [
             0.1,
             "#c51b7d"
            ],
            [
             0.2,
             "#de77ae"
            ],
            [
             0.3,
             "#f1b6da"
            ],
            [
             0.4,
             "#fde0ef"
            ],
            [
             0.5,
             "#f7f7f7"
            ],
            [
             0.6,
             "#e6f5d0"
            ],
            [
             0.7,
             "#b8e186"
            ],
            [
             0.8,
             "#7fbc41"
            ],
            [
             0.9,
             "#4d9221"
            ],
            [
             1,
             "#276419"
            ]
           ],
           "sequential": [
            [
             0,
             "#0d0887"
            ],
            [
             0.1111111111111111,
             "#46039f"
            ],
            [
             0.2222222222222222,
             "#7201a8"
            ],
            [
             0.3333333333333333,
             "#9c179e"
            ],
            [
             0.4444444444444444,
             "#bd3786"
            ],
            [
             0.5555555555555556,
             "#d8576b"
            ],
            [
             0.6666666666666666,
             "#ed7953"
            ],
            [
             0.7777777777777778,
             "#fb9f3a"
            ],
            [
             0.8888888888888888,
             "#fdca26"
            ],
            [
             1,
             "#f0f921"
            ]
           ],
           "sequentialminus": [
            [
             0,
             "#0d0887"
            ],
            [
             0.1111111111111111,
             "#46039f"
            ],
            [
             0.2222222222222222,
             "#7201a8"
            ],
            [
             0.3333333333333333,
             "#9c179e"
            ],
            [
             0.4444444444444444,
             "#bd3786"
            ],
            [
             0.5555555555555556,
             "#d8576b"
            ],
            [
             0.6666666666666666,
             "#ed7953"
            ],
            [
             0.7777777777777778,
             "#fb9f3a"
            ],
            [
             0.8888888888888888,
             "#fdca26"
            ],
            [
             1,
             "#f0f921"
            ]
           ]
          },
          "colorway": [
           "#636efa",
           "#EF553B",
           "#00cc96",
           "#ab63fa",
           "#FFA15A",
           "#19d3f3",
           "#FF6692",
           "#B6E880",
           "#FF97FF",
           "#FECB52"
          ],
          "font": {
           "color": "#2a3f5f"
          },
          "geo": {
           "bgcolor": "white",
           "lakecolor": "white",
           "landcolor": "#E5ECF6",
           "showlakes": true,
           "showland": true,
           "subunitcolor": "white"
          },
          "hoverlabel": {
           "align": "left"
          },
          "hovermode": "closest",
          "mapbox": {
           "style": "light"
          },
          "paper_bgcolor": "white",
          "plot_bgcolor": "#E5ECF6",
          "polar": {
           "angularaxis": {
            "gridcolor": "white",
            "linecolor": "white",
            "ticks": ""
           },
           "bgcolor": "#E5ECF6",
           "radialaxis": {
            "gridcolor": "white",
            "linecolor": "white",
            "ticks": ""
           }
          },
          "scene": {
           "xaxis": {
            "backgroundcolor": "#E5ECF6",
            "gridcolor": "white",
            "gridwidth": 2,
            "linecolor": "white",
            "showbackground": true,
            "ticks": "",
            "zerolinecolor": "white"
           },
           "yaxis": {
            "backgroundcolor": "#E5ECF6",
            "gridcolor": "white",
            "gridwidth": 2,
            "linecolor": "white",
            "showbackground": true,
            "ticks": "",
            "zerolinecolor": "white"
           },
           "zaxis": {
            "backgroundcolor": "#E5ECF6",
            "gridcolor": "white",
            "gridwidth": 2,
            "linecolor": "white",
            "showbackground": true,
            "ticks": "",
            "zerolinecolor": "white"
           }
          },
          "shapedefaults": {
           "line": {
            "color": "#2a3f5f"
           }
          },
          "ternary": {
           "aaxis": {
            "gridcolor": "white",
            "linecolor": "white",
            "ticks": ""
           },
           "baxis": {
            "gridcolor": "white",
            "linecolor": "white",
            "ticks": ""
           },
           "bgcolor": "#E5ECF6",
           "caxis": {
            "gridcolor": "white",
            "linecolor": "white",
            "ticks": ""
           }
          },
          "title": {
           "x": 0.05
          },
          "xaxis": {
           "automargin": true,
           "gridcolor": "white",
           "linecolor": "white",
           "ticks": "",
           "zerolinecolor": "white",
           "zerolinewidth": 2
          },
          "yaxis": {
           "automargin": true,
           "gridcolor": "white",
           "linecolor": "white",
           "ticks": "",
           "zerolinecolor": "white",
           "zerolinewidth": 2
          }
         }
        },
        "yaxis": {
         "type": "log"
        }
       }
      },
      "text/html": [
       "<div>\n",
       "        \n",
       "        \n",
       "            <div id=\"eb92978a-9a47-432c-9425-465fc8a726f6\" class=\"plotly-graph-div\" style=\"height:525px; width:100%;\"></div>\n",
       "            <script type=\"text/javascript\">\n",
       "                require([\"plotly\"], function(Plotly) {\n",
       "                    window.PLOTLYENV=window.PLOTLYENV || {};\n",
       "                    \n",
       "                if (document.getElementById(\"eb92978a-9a47-432c-9425-465fc8a726f6\")) {\n",
       "                    Plotly.newPlot(\n",
       "                        'eb92978a-9a47-432c-9425-465fc8a726f6',\n",
       "                        [{\"name\": \"uui_high_score_pairs\", \"nbinsx\": 100, \"opacity\": 0.75, \"type\": \"histogram\", \"x\": [2.220446049250313e-16, -2.220446049250313e-16, 1.2254960706226115e-06, 1.8762769116165146e-14, -2.220446049250313e-16, 0.18438062616858109, -2.220446049250313e-16, 0.7221741662666001, 0.06971315773483189, 0.04291385887127808, 8.393286066166183e-14, 0.0720337916673961, 0.0, 0.0, 0.0735750839056063, 0.0, 0.14283536936588548, 0.0, 5.589857043908353e-07, 0.0, 0.0, 0.2873816474910822, 1.1102230246251565e-16, 0.6003099494694693, 5.188607964390357e-07, 1.8762769116165146e-14, 1.8762769116165146e-14, 0.0, 7.438494264988549e-14, 0.0, -2.220446049250313e-16, 0.15243584092078988, 2.3457989343222962e-06, 0.2948536170807422, 2.9571831317021235e-08, 8.881784197001252e-16, 2.220446049250313e-16, 0.591781744859537, 0.000910525831154918, 0.031400509798215404, 1.865174681370263e-14, 0.26662858631037867, 1.765254609153999e-14, 5.039852070298778e-05, 3.987731459487165e-07, 0.000753761918484197, 1.1102230246251565e-16, -2.220446049250313e-16, -2.220446049250313e-16, 0.21367334308365382, 0.27503730700254414, 0.0, 0.03761435851957362, 0.015561841927889342, 1.674216321134736e-13, 4.873879078104437e-14, 0.2905140254100931, 0.17683182118547147, 1.8540724511240114e-14, 0.049086258291359486, 7.438494264988549e-14, 0.7796324456023696, 6.557589063538316e-06, 0.332977498728, 0.20187751579100766, 1.0802470029602773e-13, 0.5917932268233957, 1.865174681370263e-14, 8.548717289613705e-15, 0.0, 4.873879078104437e-14, 0.7796278400907118, 0.16593230937910075, 0.5115074927754459, 2.6703309585762725e-07, 2.4868995751603507e-14, 0.0, 0.5809443117442314, 0.19615521003058967, 1.865174681370263e-14, 0.0, 0.011907784598681914, 0.8959562627953669, 0.20323122708432273, 1.0070144718099527e-10, 0.0038079070641934276, 0.31394923088984983, 3.708144902248023e-14, 0.585000463106029, 0.0, 1.865174681370263e-14, 0.39527320040504565, 1.1080392939177841e-05, 0.9111597318084911, 1.6431300764452317e-14, 0.050171170500066475, 0.6920107658705796, 0.0, 2.8292990172928967e-10, 1.8540724511240114e-14, 0.16106237096407394, 0.3630140905730873, 0.996622330636754, 0.14839311088770135, 5.589857046128799e-07, 0.10724993707668751, 0.027890408797844657, 1.8540724511240114e-14, 0.027750148022438248, 7.216449660063518e-14, 0.29330919248894805, 0.1871980490803763, 0.30739538087709495, 0.0, 0.0014912962849275013, 3.196874726030252e-05, 0.0, 0.20111667575473435, 0.28673814991902946, 0.39571192187676496, 1.865174681370263e-14, 1.8762769116165146e-14, 0.6425876428542745, 0.2765997235427682, 1.2637293886896828e-06, 1.985859232611631e-08, 0.0677317898953419, 1.4876988529977098e-14, 1.8540724511240114e-14, 0.0, 0.0, 1.6542323066914832e-14, 0.04526166127757281, 1.3624130861256134e-06, 0.0, 0.0, 0.0, 7.4495964952348e-14, 0.0, 0.13539142841011098, 1.1431012802987084e-09, 0.32211400951726443, 0.0, 0.004538247907357684, 1.8540724511240114e-14, 0.3745519374378059, 0.4433845418335234, 3.219646771412954e-15, 1.1102230246251565e-16, 1.1102230246251565e-16, 1.5210055437364645e-13, 0.019663182895998665, 1.5765166949677223e-14, 0.0, 0.0, 1.7541523789077473e-14, 1.509903313490213e-14, 1.5765166949677223e-14, 0.020807240192552423, 0.07498329298324291, 1.1102230246251565e-16, 7.427392034742297e-14, 0.09129705817294742, 1.8762769116165146e-14, 1.1102230246251565e-16, 0.16603816397611115, -2.220446049250313e-16, 0.7359963752263579, 0.0, 1.1102230246251565e-16, 1.6986412276764895e-14, 1.7319479184152442e-14, 0.10908606136184518, 1.8762769116165146e-14, 6.374207057735504e-07, 0.3817729023740528, 1.2729800547006676e-09, 0.20221157456367844, 1.1102230246251565e-16, 0.31339992484986345, 1.538080662832897e-09, 1.887379141862766e-14, 0.0, 0.0, 0.0, 0.0, 0.3234744356910163, 3.141931159689193e-14, 0.41522615533420404, 0.6941177932074597, 0.0005948390755668997, 0.12789028870835117, 7.438494264988549e-14, 8.844477639158299e-08, 0.0, 5.447170910999333e-07, 2.0872192862952943e-14, 0.0, 0.4413096765598621, 3.68594044175552e-14, 3.4035388274400447e-07, 0.0, 0.35891911991886594, 0.27467055888309855, 0.2857779517550245, 0.0, 7.438494264988549e-14, 1.787459069646502e-14, 0.23508768429392857, 0.04547523412588195, 5.570284778888546e-05, 0.0, 0.000728873327953572, 0.014801938182005925, 0.09092975017422078, 0.030913336391404145, 2.9156392222784433e-07, 1.6986412276764895e-14, 0.30058022416530317, 0.0, 0.0, 7.438494264988549e-14, 0.12763841567004763, 1.6986412276764895e-14, 1.7319479184152442e-14, 1.1102230246251565e-16, -2.220446049250313e-16, 0.43295414326747306, 1.6986412276764895e-14, 0.06183437883234777, 0.0, 0.0, 0.0010781541210875822, 1.8540724511240114e-14, 6.926061738576905e-07, 1.865174681370263e-14, 0.0, 1.1102230246251565e-16, 1.44944332536312e-07, 0.0, 0.6561821380987378, 1.1102230246251565e-16, 4.240856679382787e-06, 1.4988010832439613e-14, 1.1102230246251565e-16, 6.837157172923103e-05, 8.881784197001252e-15, 0.43446657683874934, 0.0, 0.10202550565570634, 0.0, 0.9615372665401956, 1.1102230246251565e-16, 1.539225407909406e-05, 0.0, 0.35235503733406315, 1.8762769116165146e-14, 0.05998026854227223, 0.5636233288406411, 0.0, 2.220446049250313e-16, -2.220446049250313e-16, 0.05703211455077506, 0.2936523815569032, -2.220446049250313e-16, 1.8540724511240114e-14, 1.7763568394002505e-14, 9.865948299259131e-05, 0.2589150773151173, 0.30312577294385334, -2.220446049250313e-16, 0.039947102905763865, 1.8540724511240114e-14, 1.2435536729249463e-05, 1.865174681370263e-14, -2.220446049250313e-16, 4.918808784726281e-06, 0.7371178124650348, 0.0, 1.865174681370263e-14, 0.0, 0.0, 2.5996912333958733e-07, 1.865174681370263e-14, 0.0, 0.0, 0.0754407343333483, 0.04915704941982002, 0.019233992897140895, 0.0, 0.0, 0.15441150218766853, 1.8762769116165146e-14, 0.0, 0.14090528290089277, 0.14576488842422153, 0.0, 1.4765966227514582e-14, 0.0, 0.8407626220941935, -2.220446049250313e-16, 0.17036211480252728, 0.13518041185900365, 0.0, 1.865174681370263e-14, 0.7726076022962495, 2.220446049250313e-16, 1.6753265441593612e-13, 3.219646771412954e-15, 1.723056664015843e-08, 1.509903313490213e-14, 1.8540724511240114e-14, 0.42987026417279894, 0.30733282855875643, 0.00020431706299983698, 0.6791686557696168, 0.4004029963925174, 0.12625933291369207, 2.3276924832060786e-10, 1.1102230246251565e-16, 0.37130024250728144, 1.8540724511240114e-14, 0.0, 0.0, 0.0, 1.2615756439515735e-08, 0.17903184655919813, 0.002022469255006598, 0.0007243826181084767]}, {\"name\": \"uui_grey_score_pairs\", \"nbinsx\": 100, \"opacity\": 0.75, \"type\": \"histogram\", \"x\": [0.46702788333914247, 0.0, 1.8540724511240114e-14, 0.5276964221560227, 0.6034875598970808, 2.020605904817785e-14, 3.3270270014984504e-05, 1.8762769116165146e-14, 0.0, 0.32408550146321224, 0.9615340817128509, 0.6291690147355964, 0.1297092406942052, 0.002178315633812211, 1.865174681370263e-14, 0.22262112947968304, 2.0578601411802566e-07, 0.132553064712282, 1.1112965924042761e-05, 1.865174681370263e-14, 7.438494264988549e-14, 0.29211807319126015, 0.20166634718934817, 0.4725049306729133, 1.8540724511240114e-14, 0.0, 0.36030843170156124, 0.04694973047087614, 4.8787051416421257e-05, 1.787459069646502e-14, 0.0, 1.865174681370263e-14, -2.220446049250313e-16, 2.3679209672278212e-05, 0.07786776135262974, 0.6845418604653921, 7.4495964952348e-14, 3.526249591767616e-06, 0.6518451824749477, 0.7909520947277067, 6.577226465687147e-07, 7.4495964952348e-14, 0.3000118670526394, 0.11414735617410876, 0.02030487729136654, 0.1212208158503274, 0.0, 1.1102230246251565e-16, 0.7129057601520018, 0.0, 0.0023899598783092557, 1.673106098110111e-13, 0.9999909270736599, 0.27866372844919474, 4.517889126021135e-05, 0.0, 0.0703690077671768, 1.8540724511240114e-14, 2.220446049250313e-16, 0.1871561987905378, 9.325873406851315e-15, 0.07567005104367541, 1.536872393503863e-05, 0.9999638203347578, 0.0, 0.10818666508553121, 0.02143694052518097, 0.9298187738434259, 0.0012469817800687677, 0.21915152548309735, 0.001317476932349182, 7.460698725481052e-14, 2.6999195001042864e-05, 0.09478478030193171, 0.0017915486388031532, 0.0008263894512148262, 8.134271034521134e-12, 1.865174681370263e-14, 1.6624359399086686e-05, 0.21944058136622258, 0.0, 0.3192665095683772, 0.0038467703115856455, 0.004155547078474098, -2.220446049250313e-16, 0.2485712310827154, 1.1102230246251565e-16, 2.220446049250313e-16, 2.21589188109661e-08, 0.003219289371685141, 0.04109066827497054, 0.36953344350245054, 0.026735546535882726, 0.29476640204973725, 0.20638464918650334, 0.1590110083336458, 1.0989081555834446e-07, 0.5206865763837751, 0.7584959302428063, 0.21612669161468567, 0.17358699806242328, 0.004304758318831703, 0.00813568184658231, 0.05251789584290223, -2.220446049250313e-16, 7.471800955727304e-14, 1.865174681370263e-14, 0.4148938523943715, 0.06481487057522817, 0.2543685821717566, 0.003352162531200298, 0.27573479103651866, 1.765254609153999e-14, 0.4104471754939145, -2.220446049250313e-16, 0.0, 1.8540724511240114e-14, 0.05029777821292525, 0.33519311456248735, 2.686372410143356e-05, 0.2016381280307573, -2.220446049250313e-16, 0.0, 0.00041908972137727485, 0.0, 0.23547054780171406, 0.16590354814348263, 1.8477729850752134e-05, 0.46666398173225765, 0.002403954552290588, 0.21600708971532834, 0.3176639888213527, 1.8540724511240114e-14, 1.8762769116165146e-14, 7.651657085716579e-13, 9.992007221626409e-16, 7.4495964952348e-14, 0.7130720993760096, 0.5896267890886442, 0.0, 2.1484458656573224e-10, 0.11125737776995903, 7.605027718682322e-14, 1.7319479184152442e-14, 0.03986056098440305, 1.8762769116165146e-14, 7.362680460754056e-06, 0.13655598703485683, 2.1087996631141692e-06, 0.0, 0.6280857669578537, 0.03510100232837354, 1.401706282266879e-06, 0.07486457473455876, 0.8768003515257594, 0.00035249993749242314, 1.5765166949677223e-14, 0.0012932223469785953, 0.0, 1.709743457922741e-14, 0.6057793050338081, 0.2757828690477291, 1.865174681370263e-14, 0.7901329601160119, 0.19101294919658607, 1.1102230246251565e-16, 5.221413077016734e-06, 0.0014823956903432522, 0.11314060049766805, 0.0, 5.125728217425518e-07, 0.47949805840320014, 0.0055275293262800895, 1.8762769116165146e-14, 7.4495964952348e-14, 3.145247226754577e-05, 0.16621581747414726, 1.8762769116165146e-14, 0.27546053306053553, 1.84297022087776e-14, 0.001541802005684878, 0.29603617904651935, 1.865174681370263e-14, 1.6775469902086115e-13, 0.3422230453743106, 0.009086839626547882, 1.5765166949677223e-14, 2.378304505556983e-07, 0.45250318653399657, 0.2311844513236352, 0.05266039219047525, 0.28855030388163483, 0.003455664827376359, 0.6906516942296429, 0.11762127566698855, 0.5179075949437156, 0.1692837114963064, 0.0, 0.6884468962273155, 2.220446049250313e-16, 0.0, 0.5635714506465979, 1.674216321134736e-13, 0.9616720741261446, 0.32033142544366644, 5.328496195744492e-05, 0.6391486213463913, 1.8762769116165146e-14, 7.438494264988549e-14, 0.0, 0.001058645041222439, 0.0, 4.1783474376000385e-05, 0.06525687729625818, 7.438494264988549e-14, 0.4127806486256449, 0.00010347941198696198, 1.8762769116165146e-14, 0.5048881492588052, 0.046225617614610526, 0.24455988747717627, 0.0, 0.14718098442724536, 0.08951998766451585, 1.8540724511240114e-14, 7.460698725481052e-14, 4.3330396637397683e-07, 0.22374985162723104, 1.8318679906315083e-14, 3.730368791643457e-09, -2.220446049250313e-16, 0.27817777189810944, 0.22411271845517033, 1.6986412276764895e-14, 0.3639597621545575, -2.220446049250313e-16, 2.220446049250313e-16, -2.220446049250313e-16, 0.00017471004947711144, 0.21465209968849508, -2.220446049250313e-16, 2.220446049250313e-16, 0.2683167742912552, 0.0782179525535468, 0.0, 0.9092708481221065, 7.427392034742297e-14, 0.07180226513385202, 0.0584412814837022, 1.8762769116165146e-14, 0.0, 1.8540724511240114e-14, 2.3957679326946923e-05, 7.4495964952348e-14, 0.2843628329890897, 2.6488015994807768e-05, 0.8757664301114847, 0.20695225033197728, 0.0, 0.0015185460408490004, 0.06484860017250316, 0.8639100581080796, 1.787459069646502e-14, 3.2784885917180873e-13, 0.029614829300247836, 0.21047334802732132, 0.22191813330319676, -2.220446049250313e-16, 0.2443021880311137, 2.3282931138624008e-10, 0.3849454549869764, 1.1102230246251565e-16, -2.220446049250313e-16, 3.25715255511394e-06, 0.3310879001379172, 1.5949329815745372e-05, 1.184297104828147e-10, 0.18131347992466695, 1.3571207250540063e-05, 0.0021472943095377506, 1.6986412276764895e-14, 0.0, 0.0841049573398327, 0.4473013289426018, 1.8540724511240114e-14, 0.0, 0.001269932607607438, 0.025953239716953402, 0.29921038769696073, 1.2987679058884538e-06, 1.865174681370263e-14, 0.022478656081461712, 0.0038576625956964206, 0.0699947681882428, 0.02565553113012664, 0.5545943929726125, 0.1658393590551005, 1.8751666885918894e-13, 1.8540724511240114e-14, 0.6553959912222806, 0.0012449383621646604, 1.7319479184152442e-14, 0.3481789816122993, 0.015621686799283885, 0.0005256872442166438, 0.983300286955372, 0.03236627524080182, 0.13456647045749537, 0.6532118571137561, 0.4285695436912216, 1.865174681370263e-14, 0.7806141080786178, 0.26997095193416765, 2.153271777549648e-07, 0.0, 0.0310807795827599, 1.8540724511240114e-14, 1.8740564655672642e-13, 0.05892322197420807, 0.3080896913145713, 1.554312234475219e-14, 0.16473336728353905, 0.0008136378212447726, 0.0, 1.865174681370263e-14, 0.2637395533596346, 0.0, 0.25599054578015057, 0.4661253110582171]}, {\"name\": \"non_uui_grey_score_pairs\", \"nbinsx\": 100, \"opacity\": 0.75, \"type\": \"histogram\", \"x\": [1.1102230246251565e-16, 0.18171564872787005, 0.021662690426091924, 1.673106098110111e-13, 0.03607275509864871, 0.0, -2.220446049250313e-16, 1.3877787807814457e-14, 1.1102230246251565e-16, 1.8762769116165146e-14, 1.865174681370263e-14, 0.017660501910497284, 1.1102230246251565e-16, 0.1349966616154673, 0.0, 1.887379141862766e-14, 1.1324274851176597e-14, 0.0466199515301724, 0.05216056534353042, 0.18461572163120155, 1.8762769116165146e-14, 1.6753265441593612e-13, 6.661338147750939e-15, 2.543322299652928e-05, 1.6753265441593612e-13, 0.000522260691022236, 0.0445741626002063, 1.865174681370263e-14, 0.006099310770077637, 2.220446049250313e-16, 1.865174681370263e-14, 0.12091097005131579, 1.8540724511240114e-14, 0.2386634970834427, 0.1070622670049809, 1.4050530835474362e-05, 0.17125758708258587, 3.259829783885948e-08, 1.4906889939103607e-06, 1.8762769116165146e-14, 3.3306690738754696e-16, 1.8762769116165146e-14, -2.220446049250313e-16, 0.4420237751632027, 3.4636384243613705e-05, 7.438494264988549e-14, 4.915700872443196e-05, 4.943823128655822e-13, 7.81826465279245e-05, 7.460698725481052e-14, 1.887379141862766e-14, 1.865174681370263e-14, 2.220446049250313e-16, 7.438494264988549e-14, 0.5276654580891151, 1.1378947697426867e-06, 0.0009660111845706254, 7.438494264988549e-14, 1.9539925233402755e-14, 0.06374430117027297, 0.01169080633884556, 0.05880135214141935, 5.784261958297066e-14, 5.299696058003178e-05, -2.220446049250313e-16, 0.0, 0.010665027179316833, 1.6719958750854857e-13, 9.2148511043888e-15, 1.673106098110111e-13, 6.328271240363392e-14, 0.5829274228229946, 1.865174681370263e-14, 8.458237427677595e-06, 0.668350382140614, 1.865174681370263e-14, 2.220446049250313e-16, 0.0032322420836081722, 7.4495964952348e-14, 0.0, 0.0, 0.0, 0.03629436266811559, 0.19908785710242538, 0.0002759941387777687, 0.0, 0.2814796839977387, 1.5765166949677223e-14, 0.3946596393179911, 0.0, 0.07217084682512742, 0.0024616125558283297, 0.6402688543967279, 0.2484526080253212, 1.865174681370263e-14, 1.787459069646502e-14, 1.8762769116165146e-14, 0.0, 6.072919944699606e-14, 0.004578542818356457, 1.8318679906315083e-14, 3.3306690738754696e-16, 0.19279777973793588, 6.565193278262882e-05, 1.8540724511240114e-14, 1.38222766565832e-13, 1.9761969838327786e-14, 7.438494264988549e-14, 2.97761815204467e-13, 0.0, 6.250555628639631e-14, 2.220446049250313e-16, 7.438494264988549e-14, 7.438494264988549e-14, 6.04573759086513e-05, 2.8221102222780736e-05, -2.220446049250313e-16, 3.618216837253385e-13, 9.992007221626409e-16, 1.8762769116165146e-14, 0.0005528472803955076, 2.831068712794149e-13, 0.05306322989915302, 7.4495964952348e-14, 7.438494264988549e-14, 0.05523930257667364, 0.0, 2.220446049250313e-16, 0.05819140991090366, 1.8540724511240114e-14, 2.220446049250313e-16, 0.00017901572049738856, 1.1102230246251565e-16, 1.1435297153639112e-14, 2.0872192862952943e-14, 7.4495964952348e-14, 4.141131881851834e-14, 7.460698725481052e-14, 1.84297022087776e-14, 0.19711237809063276, 2.9753977059954195e-13, 3.658184866139891e-13, 0.0, 5.786491055204124e-07, 1.7763568394002505e-14, 0.03520681478567955, -2.220446049250313e-16, 1.865174681370263e-14, 0.0037197168073446196, 0.16467728951336413, 6.914863835305596e-05, -2.220446049250313e-16, 2.5479618415147343e-13, 2.8321789358187743e-13, 1.609823385706477e-14, 1.8540724511240114e-14, 1.1102230246251565e-16, 0.02069038835562864, 1.0220713164699191e-12, 0.06391661868069765, 1.6719958750854857e-13, 0.0, 7.4495964952348e-14, 9.769962616701378e-15, 4.445617482584652e-06, 1.1126388699267409e-10, 0.8551675549147127, 1.8540724511240114e-14, 0.001286342042492561, 1.6753265441593612e-13, 7.438494264988549e-14, 0.6795044684608043, 3.5282887722587475e-13, 2.220446049250313e-16, 1.8540724511240114e-14, 1.1102230246251565e-16, 1.865174681370263e-14, 1.0212941603526815e-12, 1.8540724511240114e-14, 1.865174681370263e-14, 1.6753265441593612e-13, 7.4495964952348e-14, 0.0, 1.84297022087776e-14, 1.4158512584572236e-08, 2.220446049250313e-16, 1.865174681370263e-14, 0.014612546736300858, 0.7153591342252876, 0.23866248310559113, 1.7763568394002505e-14, 6.150635556423367e-14, 4.654054919228656e-13, 1.84297022087776e-14, -2.220446049250313e-16, 0.09416318223654108, 5.1783628756130184e-06, 1.8540724511240114e-14, 4.3853809472693683e-14, 1.4932499681208355e-13, 0.24922704067030343, 0.00206846620307799, 1.6753265441593612e-13, 0.002893620923543838, 0.0, 0.6264938355904673, 0.04442240875025116, 4.440892098500626e-16, 7.471800955727304e-14, 0.10636335517256679, 0.2176128899332671, 1.865174681370263e-14, 0.6041070659244245, 1.8540724511240114e-14, 0.45972561970788683, 0.0, 0.0, 0.05303618178106573, 1.84297022087776e-14, 1.021405182655144e-14, 0.012534277787490722, 7.4495964952348e-14, 0.024280877597826378, 0.0007352169132065489, -2.220446049250313e-16, 0.01155078161915113, 2.0650148258027912e-14, 6.461498003318411e-14, 1.5765166949677223e-14, 9.737805717768833e-05, -2.220446049250313e-16, 0.00010049215310792281, 1.8540724511240114e-14, 1.1102230246251565e-16, 2.17101598409819e-06, 1.84297022087776e-14, 0.6386186911287138, 0.39636911773484695, 0.0, 0.16409969664172708, 1.865174681370263e-14, 0.0, 7.471800955727304e-14, 1.8540724511240114e-14, 7.4495964952348e-14, 1.05990093590691e-07, 1.8540724511240114e-14, 1.8762769116165146e-14, 0.11975812102208516, -2.220446049250313e-16, -2.220446049250313e-16, 2.0539125955565396e-14, 0.00022499123158892242, -2.220446049250313e-16, 0.022860911232349568, 1.787459069646502e-14, 0.11568970969997294, 0.005028944103287469, 1.8540724511240114e-14, 0.05306322989913026, 0.25629720018847124, 1.6753265441593612e-13, 0.0004876430472680049, 0.0025482749191066967, 0.00010103649688331107, 0.16272867053917395, 1.7763568394002505e-14, 7.438494264988549e-14, 0.00014448825874080473, 0.6459489964112959, 0.015899000753188397, 1.8762769116165146e-14, 0.008390000106517692, 1.84297022087776e-14, 3.730349362740526e-14, 9.769962616701378e-15, 0.06124740940057727, 7.438494264988549e-14, 1.8762769116165146e-14, 5.084821452783217e-14, 0.9999928340594352, 1.8540724511240114e-14, 1.5765166949677223e-14, 1.887379141862766e-14, 9.992007221626409e-15, 1.1102230246251565e-16, 0.0, 0.7959271941533237, 0.20897353066312585, 2.9753977059954195e-13, 0.024241824227110076, 0.0, 0.5752738320469971, 7.482903185973555e-14, 1.5765166949677223e-14, 1.532107773982716e-14, 0.0, 1.5765166949677223e-14, 0.0005645541195954396, 1.5987211554602254e-14, 0.0, 1.887379141862766e-14, 0.0, 1.3419671929248977e-08, 1.8762769116165146e-14, 1.865174681370263e-14, 0.0, 0.3835150258847817, 6.339373470609644e-14, 1.9984014443252818e-14, 1.674216321134736e-13, 4.650724250154781e-13, 1.8540724511240114e-14, 7.460698725481052e-14, 0.19990906512704987, 1.6764367671839864e-13, 0.037537651399230376, 0.046834426023908526, 0.0, 1.7763568394002505e-14, 0.023586764447469544, 3.632802233588528e-06, 0.20010343677534193, 0.0, 0.09053437975212608, 1.5987211554602254e-14, 1.84297022087776e-14, 0.02501127972865036, 2.220446049250313e-16]}, {\"name\": \"uui_low_score_pairs\", \"nbinsx\": 100, \"opacity\": 0.75, \"type\": \"histogram\", \"x\": [0.16856566531032757, 3.2807090377673376e-13, 7.460698725481052e-14, 2.978728375069295e-13, 2.3237398432129908e-06, -2.220446049250313e-16, 0.5849879015041627, 0.6819253638045966, 0.23688398234985553, 0.6855715404767435, 0.7089100132602173, 0.2968390827347265, 7.438494264988549e-14, 1.8540724511240114e-14, 0.3129377512473249, 0.017995824873033195, 0.6946438653348013, 0.5745021690385909, 0.39355329482043466, 0.3346192060402031, 0.0888727577500682, 2.3237398432129908e-06, 1.8477729560872902e-05, 0.0, 0.05360588912056008, 0.2951138629273705, 0.6796151804127452, 1.8540724511240114e-14, 0.1856991315765536, 0.9007756051696261, 0.04333401953922322, 0.4413238036117193, 0.44990400114485496, 7.405187574249794e-14, 1.8762769116165146e-14, 7.460698725481052e-14, 0.5993118433519289, 0.027432733740306414, 0.31051444520797544, 0.21758971825390905, 0.27537708074562706, 0.08600097747749336, 0.6793526607293214, 0.0, 0.2954577550311085, 0.6353681010296209, 0.05403057214867468, 0.4638209080812953, 0.5911794605847116, 2.97983859809392e-13, 0.577289659634986, 1.2156942119645464e-13, 0.7005584997524874, 0.017755976594032385, 0.2001638274866624, 0.4054844812440619, 0.44905520518218367, 1.8477729560650857e-05, 0.3620971566544665, 0.7521905341573527, 0.5387771293088165, 0.589615697269374, 0.2885066673555624, 1.5321446333871336e-08, 0.33014795340049696, 0.2459360484882399, 0.22245283666539217, 0.23394013024585725, 5.025979632478084e-13, 0.41759609693090705, 0.45365735261210116, 7.471800955727304e-14, 0.6860174043301182, 1.6753265441593612e-13, 0.07231915125364197, 0.5600657204393957, 0.0, 0.23524539761001673, 0.32496171905928184, 0.3501500594069705, -2.220446049250313e-16, 7.438494264988549e-14, 0.2934123200185911, 1.8477729560650857e-05, 0.5097243148855088, 1.887379141862766e-14, 1.847772968710526e-05, 0.3949984349190875, 0.18634424090091972, 0.09500237308253623, 0.1933684535160427, 3.276268145668837e-13, 0.49532898545459947, 2.323739852871931e-06, 0.8977684533283812, 0.034604325047825846, 0.014108111290716763, 1.8540724511240114e-14, 0.43925535485501754, 0.3398114331483104, 0.33453341046995877, 0.3789213085030845, 0.8642452340372424, 1.6764367671839864e-13, 0.4779593339207181, 0.007418092011141186, 0.12055035831703187, 1.8477729686994238e-05, 0.5683907728203281, 1.865174681370263e-14, 0.1803432510893309, 0.6863674959962422, 0.7786214409949637, 0.17859377227895956, 1.532143656390872e-08, 0.6828936820963599, 0.30765523467432054, 0.0, 0.29926657921000466, 0.5059327534251654, 0.6271143492871875, 1.8477729471388926e-05, 0.3520274933567, 0.49033445299271705, 0.9999929173136816, 0.0633529636672262, 0.38956345936456704, 2.9765079290200447e-13, 0.6098948127471392, 2.323739843324013e-06, 0.8595098493951046, 0.14191056056403228, 0.07794201278452251, 0.04159214370149045, 1.8540724511240114e-14, 0.129894066068306, 0.692714028291926, 2.3237398432129908e-06, 0.29019038242991324, 7.427392034742297e-14, 0.507913295250719, 0.6260498117246998, 0.5465241968572006, 0.7468977215446136, 0.17349540186946089, 0.18211614005501475, -2.220446049250313e-16, 0.46495791198723846, 0.1306205745071024, 0.26343282679889557, 1.8477729687216282e-05, 0.5228233345283657, 1.6753265441593612e-13, 0.775326100742996, 0.45593827182970714, 0.6232220411240162, 0.7739975128650897, 0.44326236139742714, 0.40228299979257576, 0.32281102661906624, 0.07331776348672381, 0.2664605162388528, 0.11379836176187874, 0.06112534018024207, 0.06753268938744184, 1.8540724511240114e-14, 0.16981019798591757, 0.012984479394334225, 0.08104542001945603, 0.011994044258362702, 0.8682470817894147, 0.009141112708220822, 1.8540724511240114e-14, 0.016549479260399735, 0.44473449481938376, 0.2607890363849068, 0.0, 0.4907956286948303, 0.7689095036514401, 2.3237398265596454e-06, 0.5972548424729889, 0.6456562323008004, 0.6794740542351909, 0.4607254987466246, 0.8005257813123048, 0.368477121956572, 0.4801073510980377, 1.8477729687216282e-05, 0.8146442977334679, 0.4584001618172586, 0.03727614163592763, 0.5714582454261758, 0.2926639866994798, 0.22901826451603602, 1.847772947116688e-05, 0.5887778529711472, 0.16266890004349688, -2.220446049250313e-16, 0.4592257109127209, 0.19648393269494802, 1.2569054441691208e-07, 0.003336829946967712, 0.4231549982190762, 0.4438374927566032, 0.3472156246159781, 0.09494097072396257, 1.8762769116165146e-14, 0.4568273850902469, 0.02211023261641809, 0.4493154838749983, 1.84297022087776e-14, 0.11895709336183635, 1.847772956076188e-05, 0.33214965929645235, 0.7044754387754759, 0.4463203284220758, 0.6097696791451656, 0.3392429023415341, 1.865174681370263e-14, 9.00390872971002e-14, 1.8540724511240114e-14, 1.847772947116688e-05, 1.5321446222849033e-08, 0.16787135856725943, 0.714541960296325, 1.8540724511240114e-14, 0.07844736167884803, 1.8540724511240114e-14, 7.460698725481052e-14, 0.2521669745781008, 0.05155126985403036, 0.4585578833009698, 1.6775469902086115e-13, 1.8762769116165146e-14, 0.46751319920911016, 0.226833583274078, 0.36836333055471737, 1.8540724511240114e-14, 0.2803731946205418, 0.021119737181225173, 0.6831822030700776, 0.49820453128306785, 0.3405904820414346, 0.047446860680309344, 0.6323620587241149, 0.18633045946511007, 1.8540724511240114e-14, 0.5244686087329249, 1.5321436785953324e-08, 0.03423060807600764, 7.427392034742297e-14, 0.03458367820680763, 1.270095140171179e-13, 0.047695470738035595, 2.3237398527609088e-06, 1.532143656390872e-08, 0.1277392732385486, 7.438494264988549e-14, 5.025979632478084e-13, 0.0, 0.3982514974420851, 0.6116910896708587, 0.09742931377792463, 0.7712389782106479, 1.8477729687216282e-05, 0.3179029409275209, 0.06532387610283719, 1.84297022087776e-14, 0.375561493641546, 0.45048316162616775, 0.26172170915243287, 0.30917804183585895, 0.49225092061350184, 0.43840394738678623, 1.6753265441593612e-13, 0.30512009913275484, 0.2500354864954256, 0.2024920748131659, 0.4213480655038483, 0.27726769129547824, 0.6192202407151589, 0.5295255096277404, 0.4380708061968607, 0.180588514605732, 1.6764367671839864e-13, 0.3491914304408533, 0.440589533505121, 0.4669594648253199, 0.5412125813726416, 1.84777298510852e-05, 1.84297022087776e-14, 1.8477729687216282e-05, 0.24142919373030136, 1.6764367671839864e-13, 0.40643436605996064, 7.460698725481052e-14, 0.3154045395576279, 0.4127017402428259, 0.287390711829249, 0.25529013822981994, 7.460698725481052e-14, 7.471800955727304e-14, 0.6190289293665621, 0.5070047917029585, 0.30369136109927064, 0.03176823802645745, 0.9317362518826547, 0.014257138257317448, 0.3009074717957487, 0.225804715020263, 0.31817879974610896, 1.6786572132332367e-13, 0.1993861806284858, 0.21271456088265628, 0.012836096996108881, 1.532143656390872e-08, 0.2615627688738079, 0.89044735721282, 7.771561172376096e-16, -2.220446049250313e-16, 0.37059221341081394, 0.999998335132672, 0.023607583776618313, 0.1558217516764362, 0.5007768981080707, 0.22005513146755096, 2.3237398527609088e-06, 0.9063800156121751, 0.36896599112718065]}, {\"name\": \"non_uui_low_score_pairs\", \"nbinsx\": 100, \"opacity\": 0.75, \"type\": \"histogram\", \"x\": [0.24043974701489723, 0.000993380265818189, 0.36300011306607627, 0.06492109708018967, 0.07112265806613349, 0.4548402339741815, 0.8839803648486128, 3.7636560534792807e-14, 0.7178923579381624, 2.2624051410069512e-08, 0.8622629221915296, 0.41066764391510135, 0.09146719161200256, 0.08865375048966306, 0.15485007882369584, 0.11861546033780723, 0.3559477425474482, 0.6315956407153163, 0.04639261098352654, 0.4704432042881943, 0.5382483233808923, 6.694719780875324e-05, 0.7097029837982073, 0.02847525539528939, 0.0011401707472997735, 0.7371704726134813, 0.11346810224784531, 9.103828801926284e-15, 0.45001089334963285, 0.3676059360151157, 0.3104027046965975, 0.5119030841231871, 3.2163161023390785e-13, 0.268797151399369, 0.4522027118069456, 0.23574183353516642, 0.0, 0.005050107554075756, 0.017308130823182055, 0.5427617025586133, 0.31016929860764286, 0.681108971547682, 0.2759856685233205, 0.2022635178239609, 0.1183486231398283, 0.26805706864448386, 0.18709032139810788, 0.8628212419412042, 0.18311673077878943, 0.11847807867228699, 4.107825191113079e-15, 0.12688201797648624, 3.219646771412954e-15, 1.7530421558831222e-13, 0.39906526752324445, 0.2919557441426639, 0.22104792069111745, 0.005382193884698405, 0.1767002477527877, 0.14688164437127427, 0.4974722621296511, 0.1820176899040835, 0.1463750673804981, 0.4672258202159042, 0.02654516471721946, 0.0023576075255677953, 0.6821007292352773, 0.149267091015982, 0.43745590561657677, 0.07735125442469115, 0.4402793997629233, 0.09546239447260929, 7.042144645197368e-13, 0.2360670204548746, 2.220446049250313e-16, 0.08184175661362958, 0.579861330523724, 3.1979552561733904e-05, 1.6286971771251046e-13, 0.5995976482630431, 0.8437899344632398, 0.18060521415522013, 0.9893455374668667, 0.806182811939606, 0.7948216035676856, 0.08714575146579207, 1.673106098110111e-13, 6.899921364489359e-06, 0.5606893391843283, 0.0510669952661551, 0.06282646116072255, 7.21238131953239e-05, 0.0829107870173188, 0.13597107535649233, 0.35391675990824356, 0.03530693082446934, 0.3034878031150907, 0.1262403988580424, 0.09212180932601377, 0.5716189032106633, 0.31532257048667933, 0.5983999725189382, 0.08769973263750652, 0.09596010799747434, 4.1841531946973376e-05, 0.8792766273538238, 0.5982993361024306, 2.970956813896919e-13, 0.8946727769445116, 0.7330819866549669, 0.07363094671603843, 0.2193783768090557, 0.00023028904782085302, 0.0313882403744713, 0.09801270456235223, 0.1443536404774144, -2.220446049250313e-16, 0.07216144867577312, 6.632370064352244e-05, 1.532107773982716e-14, 0.24841975725012366, 0.1713327087797092, 0.006386327295750394, 2.4877877535800508e-12, 0.08311885449462841, 0.887706568730485, 0.2960144728087517, 0.004184923091168025, 1.6500489542492502e-05, 0.004456564621601156, 0.029782630364233786, 0.2602573161998466, 0.782284424230646, 0.7525348782342619, 0.8261938354513461, 0.1381205948248797, 0.5959811003313313, 0.08082605757587513, 0.5488228039558976, 0.21840124530397265, 0.01411680843524532, 0.33465034423421525, 0.027308197850431593, 0.16245780717555225, 0.2881173509375021, 0.0024012621237967657, 0.2336134059520546, 0.7591356688600858, 6.713518629908322e-13, 0.3029109858403122, 0.6236317299258471, 0.6434042107738547, 0.05358916767446498, 0.3059677858151105, 0.002327348789356698, 0.5378981702147129, 0.7724290852460944, 0.41637162647575676, 0.4935691412164164, 0.0004021367586433122, 0.8746755696546458, 0.49716091799498496, 0.37845399128140733, 4.318767565791859e-14, 0.6542709987205175, 0.2652745846398028, 0.5369082740151997, 0.29665547347040166, 0.8308821941584683, 0.2739268222251108, 0.20749566872395442, 0.1886659361370614, 0.8046026427155468, 0.6954284703714821, 0.4121864427633296, 0.21837480059716619, 0.3682289305696608, 0.0003791413556702983, 0.5620109873255117, 0.5712903972238148, 0.5093662387282338, 0.05786947661819186, 0.6146903109187045, 0.0005621148168531986, 0.5485055849315733, 0.7812506794719905, 0.18611790634726555, 0.11376693348563438, 0.20484510175551618, 0.04202936963475179, 0.43641622657142753, 0.4687719580778842, 0.18721188324294535, 0.8510205976023327, 4.414939061536671e-05, 0.00021418656395078006, 6.994405055138486e-15, 1.7985612998927536e-14, 0.7082151470349831, 0.624041054733514, 7.460698725481052e-14, 0.5147148484882088, 1.777157798699136e-08, 0.7668389120152229, 1.0880185641326534e-14, 0.4130468465949122, 0.013998971640598823, 0.06430591633613303, 0.34377525916510876, 0.030576671011943057, 0.04097646244590891, 3.9968028886505635e-14, 0.007746874920253499, 0.19316659418916904, 0.1338372218666366, 0.0074590056198513555, 0.08128199804309777, 0.46164173699552513, 3.785860513971784e-14, 0.8772204849089286, 0.5085782368086738, 0.05816196589379219, 0.01706812792061585, 0.37887790173089475, 0.07965060629487197, 0.24692327936836944, 0.11447370298795112, 2.0017321133991572e-13, 5.344221650105396e-06, 0.08522212319448508, 0.9073071439809302, 0.07017293555944915, 0.03175481005557479, 0.0, 0.08839182938627321, 0.01582545374147848, 0.5514526004763476, 0.3433578667338426, 0.2743619010692975, 0.14750556521990354, 4.596323321948148e-14, 0.2724194030070667, 0.05663802220614578, 0.8264215808885716, 0.45741022626215255, 9.836575998178887e-14, 0.8389977580239651, 0.4625248673407919, 0.0020260882024887295, 0.18745779317311362, 1.554312234475219e-14, 0.5143558897262713, 0.023987550242857925, 3.5638159090467525e-14, 0.32507464680001374, 0.18990511983744862, 4.620748228489902e-13, 0.08533964686715745, 0.13571803304452879, 0.13883387591281138, 0.5491286819860475, 0.4127274188534531, 0.8351312208732118, 1.1401990462900358e-12, 0.6772031632425122, 0.08531920390061276, 0.2646405775884608, 0.16381916382575068, 0.5098167758913537, 0.21129727610999205, 0.7739089737364956, 0.3212390765278115, 0.30454762191476725, 0.1538034738925197, 0.4193515342875287, 0.5156194619894654, 0.16146993180512748, 0.0, 0.2901289157067821, 0.3203603411876077, 4.268807529683727e-13, 0.21250922430058095, 0.49021715225983276, 0.09155933022368334, 0.6262638644391094, 0.4012746977582291, 0.26601363818876733, 4.244595077307345e-06, 0.05346070148041715, 0.00010107811856918669, 0.5306337209151613, 0.12617256353930673, 0.49704643353399103, 0.03004850950361626, 0.09312714017127832, 0.28279063066949306, 0.05787103251941772, 0.7270346440535251, 0.5085436091734912, 0.1608416266949182, 0.2750515460709707, 0.06546748701044602, 0.045024920470926655, 0.7573044507229356, 0.12002684431836541, 0.5245661641277782, 9.992007221626409e-15, 0.48987037737419525, 0.401159797311164, 0.006295054164243474, 0.5421405147084707, 0.4645041884754777, 0.996431530935926, 0.022011249524971244, 0.028668301565987098, 0.7391724305795955, 7.271960811294775e-14, 0.06896450579634605, 0.32681257228355254, 0.04051132351816367, 1.606381694330139e-12, 0.7871592620537149, 0.5050531944994249, 0.05836401728766183, 0.534512306368816, 0.026181042488621853, 2.5433223010740136e-05, 0.46593471709814593, 0.4428101797633539]}],\n",
       "                        {\"barmode\": \"overlay\", \"template\": {\"data\": {\"bar\": [{\"error_x\": {\"color\": \"#2a3f5f\"}, \"error_y\": {\"color\": \"#2a3f5f\"}, \"marker\": {\"line\": {\"color\": \"#E5ECF6\", \"width\": 0.5}}, \"type\": \"bar\"}], \"barpolar\": [{\"marker\": {\"line\": {\"color\": \"#E5ECF6\", \"width\": 0.5}}, \"type\": \"barpolar\"}], \"carpet\": [{\"aaxis\": {\"endlinecolor\": \"#2a3f5f\", \"gridcolor\": \"white\", \"linecolor\": \"white\", \"minorgridcolor\": \"white\", \"startlinecolor\": \"#2a3f5f\"}, \"baxis\": {\"endlinecolor\": \"#2a3f5f\", \"gridcolor\": \"white\", \"linecolor\": \"white\", \"minorgridcolor\": \"white\", \"startlinecolor\": \"#2a3f5f\"}, \"type\": \"carpet\"}], \"choropleth\": [{\"colorbar\": {\"outlinewidth\": 0, \"ticks\": \"\"}, \"type\": \"choropleth\"}], \"contour\": [{\"colorbar\": {\"outlinewidth\": 0, \"ticks\": \"\"}, \"colorscale\": [[0.0, \"#0d0887\"], [0.1111111111111111, \"#46039f\"], [0.2222222222222222, \"#7201a8\"], [0.3333333333333333, \"#9c179e\"], [0.4444444444444444, \"#bd3786\"], [0.5555555555555556, \"#d8576b\"], [0.6666666666666666, \"#ed7953\"], [0.7777777777777778, \"#fb9f3a\"], [0.8888888888888888, \"#fdca26\"], [1.0, \"#f0f921\"]], \"type\": \"contour\"}], \"contourcarpet\": [{\"colorbar\": {\"outlinewidth\": 0, \"ticks\": \"\"}, \"type\": \"contourcarpet\"}], \"heatmap\": [{\"colorbar\": {\"outlinewidth\": 0, \"ticks\": \"\"}, \"colorscale\": [[0.0, \"#0d0887\"], [0.1111111111111111, \"#46039f\"], [0.2222222222222222, \"#7201a8\"], [0.3333333333333333, \"#9c179e\"], [0.4444444444444444, \"#bd3786\"], [0.5555555555555556, \"#d8576b\"], [0.6666666666666666, \"#ed7953\"], [0.7777777777777778, \"#fb9f3a\"], [0.8888888888888888, \"#fdca26\"], [1.0, \"#f0f921\"]], \"type\": \"heatmap\"}], \"heatmapgl\": [{\"colorbar\": {\"outlinewidth\": 0, \"ticks\": \"\"}, \"colorscale\": [[0.0, \"#0d0887\"], [0.1111111111111111, \"#46039f\"], [0.2222222222222222, \"#7201a8\"], [0.3333333333333333, \"#9c179e\"], [0.4444444444444444, \"#bd3786\"], [0.5555555555555556, \"#d8576b\"], [0.6666666666666666, \"#ed7953\"], [0.7777777777777778, \"#fb9f3a\"], [0.8888888888888888, \"#fdca26\"], [1.0, \"#f0f921\"]], \"type\": \"heatmapgl\"}], \"histogram\": [{\"marker\": {\"colorbar\": {\"outlinewidth\": 0, \"ticks\": \"\"}}, \"type\": \"histogram\"}], \"histogram2d\": [{\"colorbar\": {\"outlinewidth\": 0, \"ticks\": \"\"}, \"colorscale\": [[0.0, \"#0d0887\"], [0.1111111111111111, \"#46039f\"], [0.2222222222222222, \"#7201a8\"], [0.3333333333333333, \"#9c179e\"], [0.4444444444444444, \"#bd3786\"], [0.5555555555555556, \"#d8576b\"], [0.6666666666666666, \"#ed7953\"], [0.7777777777777778, \"#fb9f3a\"], [0.8888888888888888, \"#fdca26\"], [1.0, \"#f0f921\"]], \"type\": \"histogram2d\"}], \"histogram2dcontour\": [{\"colorbar\": {\"outlinewidth\": 0, \"ticks\": \"\"}, \"colorscale\": [[0.0, \"#0d0887\"], [0.1111111111111111, \"#46039f\"], [0.2222222222222222, \"#7201a8\"], [0.3333333333333333, \"#9c179e\"], [0.4444444444444444, \"#bd3786\"], [0.5555555555555556, \"#d8576b\"], [0.6666666666666666, \"#ed7953\"], [0.7777777777777778, \"#fb9f3a\"], [0.8888888888888888, \"#fdca26\"], [1.0, \"#f0f921\"]], \"type\": \"histogram2dcontour\"}], \"mesh3d\": [{\"colorbar\": {\"outlinewidth\": 0, \"ticks\": \"\"}, \"type\": \"mesh3d\"}], \"parcoords\": [{\"line\": {\"colorbar\": {\"outlinewidth\": 0, \"ticks\": \"\"}}, \"type\": \"parcoords\"}], \"scatter\": [{\"marker\": {\"colorbar\": {\"outlinewidth\": 0, \"ticks\": \"\"}}, \"type\": \"scatter\"}], \"scatter3d\": [{\"line\": {\"colorbar\": {\"outlinewidth\": 0, \"ticks\": \"\"}}, \"marker\": {\"colorbar\": {\"outlinewidth\": 0, \"ticks\": \"\"}}, \"type\": \"scatter3d\"}], \"scattercarpet\": [{\"marker\": {\"colorbar\": {\"outlinewidth\": 0, \"ticks\": \"\"}}, \"type\": \"scattercarpet\"}], \"scattergeo\": [{\"marker\": {\"colorbar\": {\"outlinewidth\": 0, \"ticks\": \"\"}}, \"type\": \"scattergeo\"}], \"scattergl\": [{\"marker\": {\"colorbar\": {\"outlinewidth\": 0, \"ticks\": \"\"}}, \"type\": \"scattergl\"}], \"scattermapbox\": [{\"marker\": {\"colorbar\": {\"outlinewidth\": 0, \"ticks\": \"\"}}, \"type\": \"scattermapbox\"}], \"scatterpolar\": [{\"marker\": {\"colorbar\": {\"outlinewidth\": 0, \"ticks\": \"\"}}, \"type\": \"scatterpolar\"}], \"scatterpolargl\": [{\"marker\": {\"colorbar\": {\"outlinewidth\": 0, \"ticks\": \"\"}}, \"type\": \"scatterpolargl\"}], \"scatterternary\": [{\"marker\": {\"colorbar\": {\"outlinewidth\": 0, \"ticks\": \"\"}}, \"type\": \"scatterternary\"}], \"surface\": [{\"colorbar\": {\"outlinewidth\": 0, \"ticks\": \"\"}, \"colorscale\": [[0.0, \"#0d0887\"], [0.1111111111111111, \"#46039f\"], [0.2222222222222222, \"#7201a8\"], [0.3333333333333333, \"#9c179e\"], [0.4444444444444444, \"#bd3786\"], [0.5555555555555556, \"#d8576b\"], [0.6666666666666666, \"#ed7953\"], [0.7777777777777778, \"#fb9f3a\"], [0.8888888888888888, \"#fdca26\"], [1.0, \"#f0f921\"]], \"type\": \"surface\"}], \"table\": [{\"cells\": {\"fill\": {\"color\": \"#EBF0F8\"}, \"line\": {\"color\": \"white\"}}, \"header\": {\"fill\": {\"color\": \"#C8D4E3\"}, \"line\": {\"color\": \"white\"}}, \"type\": \"table\"}]}, \"layout\": {\"annotationdefaults\": {\"arrowcolor\": \"#2a3f5f\", \"arrowhead\": 0, \"arrowwidth\": 1}, \"colorscale\": {\"diverging\": [[0, \"#8e0152\"], [0.1, \"#c51b7d\"], [0.2, \"#de77ae\"], [0.3, \"#f1b6da\"], [0.4, \"#fde0ef\"], [0.5, \"#f7f7f7\"], [0.6, \"#e6f5d0\"], [0.7, \"#b8e186\"], [0.8, \"#7fbc41\"], [0.9, \"#4d9221\"], [1, \"#276419\"]], \"sequential\": [[0.0, \"#0d0887\"], [0.1111111111111111, \"#46039f\"], [0.2222222222222222, \"#7201a8\"], [0.3333333333333333, \"#9c179e\"], [0.4444444444444444, \"#bd3786\"], [0.5555555555555556, \"#d8576b\"], [0.6666666666666666, \"#ed7953\"], [0.7777777777777778, \"#fb9f3a\"], [0.8888888888888888, \"#fdca26\"], [1.0, \"#f0f921\"]], \"sequentialminus\": [[0.0, \"#0d0887\"], [0.1111111111111111, \"#46039f\"], [0.2222222222222222, \"#7201a8\"], [0.3333333333333333, \"#9c179e\"], [0.4444444444444444, \"#bd3786\"], [0.5555555555555556, \"#d8576b\"], [0.6666666666666666, \"#ed7953\"], [0.7777777777777778, \"#fb9f3a\"], [0.8888888888888888, \"#fdca26\"], [1.0, \"#f0f921\"]]}, \"colorway\": [\"#636efa\", \"#EF553B\", \"#00cc96\", \"#ab63fa\", \"#FFA15A\", \"#19d3f3\", \"#FF6692\", \"#B6E880\", \"#FF97FF\", \"#FECB52\"], \"font\": {\"color\": \"#2a3f5f\"}, \"geo\": {\"bgcolor\": \"white\", \"lakecolor\": \"white\", \"landcolor\": \"#E5ECF6\", \"showlakes\": true, \"showland\": true, \"subunitcolor\": \"white\"}, \"hoverlabel\": {\"align\": \"left\"}, \"hovermode\": \"closest\", \"mapbox\": {\"style\": \"light\"}, \"paper_bgcolor\": \"white\", \"plot_bgcolor\": \"#E5ECF6\", \"polar\": {\"angularaxis\": {\"gridcolor\": \"white\", \"linecolor\": \"white\", \"ticks\": \"\"}, \"bgcolor\": \"#E5ECF6\", \"radialaxis\": {\"gridcolor\": \"white\", \"linecolor\": \"white\", \"ticks\": \"\"}}, \"scene\": {\"xaxis\": {\"backgroundcolor\": \"#E5ECF6\", \"gridcolor\": \"white\", \"gridwidth\": 2, \"linecolor\": \"white\", \"showbackground\": true, \"ticks\": \"\", \"zerolinecolor\": \"white\"}, \"yaxis\": {\"backgroundcolor\": \"#E5ECF6\", \"gridcolor\": \"white\", \"gridwidth\": 2, \"linecolor\": \"white\", \"showbackground\": true, \"ticks\": \"\", \"zerolinecolor\": \"white\"}, \"zaxis\": {\"backgroundcolor\": \"#E5ECF6\", \"gridcolor\": \"white\", \"gridwidth\": 2, \"linecolor\": \"white\", \"showbackground\": true, \"ticks\": \"\", \"zerolinecolor\": \"white\"}}, \"shapedefaults\": {\"line\": {\"color\": \"#2a3f5f\"}}, \"ternary\": {\"aaxis\": {\"gridcolor\": \"white\", \"linecolor\": \"white\", \"ticks\": \"\"}, \"baxis\": {\"gridcolor\": \"white\", \"linecolor\": \"white\", \"ticks\": \"\"}, \"bgcolor\": \"#E5ECF6\", \"caxis\": {\"gridcolor\": \"white\", \"linecolor\": \"white\", \"ticks\": \"\"}}, \"title\": {\"x\": 0.05}, \"xaxis\": {\"automargin\": true, \"gridcolor\": \"white\", \"linecolor\": \"white\", \"ticks\": \"\", \"zerolinecolor\": \"white\", \"zerolinewidth\": 2}, \"yaxis\": {\"automargin\": true, \"gridcolor\": \"white\", \"linecolor\": \"white\", \"ticks\": \"\", \"zerolinecolor\": \"white\", \"zerolinewidth\": 2}}}, \"yaxis\": {\"type\": \"log\"}},\n",
       "                        {\"responsive\": true}\n",
       "                    ).then(function(){\n",
       "                            \n",
       "var gd = document.getElementById('eb92978a-9a47-432c-9425-465fc8a726f6');\n",
       "var x = new MutationObserver(function (mutations, observer) {{\n",
       "        var display = window.getComputedStyle(gd).display;\n",
       "        if (!display || display === 'none') {{\n",
       "            console.log([gd, 'removed!']);\n",
       "            Plotly.purge(gd);\n",
       "            observer.disconnect();\n",
       "        }}\n",
       "}});\n",
       "\n",
       "// Listen for the removal of the full notebook cells\n",
       "var notebookContainer = gd.closest('#notebook-container');\n",
       "if (notebookContainer) {{\n",
       "    x.observe(notebookContainer, {childList: true});\n",
       "}}\n",
       "\n",
       "// Listen for the clearing of the current output cell\n",
       "var outputEl = gd.closest('.output');\n",
       "if (outputEl) {{\n",
       "    x.observe(outputEl, {childList: true});\n",
       "}}\n",
       "\n",
       "                        })\n",
       "                };\n",
       "                });\n",
       "            </script>\n",
       "        </div>"
      ]
     },
     "metadata": {},
     "output_type": "display_data"
    }
   ],
   "source": [
    "axis = 'interval_cos_dis'\n",
    "bins = 100\n",
    "\n",
    "x1=sample_df[sample_df['label']=='uui_high_score_pairs'][axis].values\n",
    "x2=sample_df[sample_df['label']=='uui_grey_score_pairs'][axis].values\n",
    "x3=sample_df[sample_df['label']=='non_uui_grey_score_pairs'][axis].values\n",
    "x4=sample_df[sample_df['label']=='uui_low_score_pairs'][axis].values\n",
    "x5=sample_df[sample_df['label']=='non_uui_low_score_pairs'][axis].values\n",
    "\n",
    "fig = go.Figure()\n",
    "fig.add_trace(go.Histogram(x=x1, nbinsx=bins, name=\"uui_high_score_pairs\"))\n",
    "fig.add_trace(go.Histogram(x=x2, nbinsx=bins, name=\"uui_grey_score_pairs\"))\n",
    "fig.add_trace(go.Histogram(x=x3, nbinsx=bins, name=\"non_uui_grey_score_pairs\"))\n",
    "fig.add_trace(go.Histogram(x=x4, nbinsx=bins, name=\"uui_low_score_pairs\"))\n",
    "fig.add_trace(go.Histogram(x=x5, nbinsx=bins, name=\"non_uui_low_score_pairs\"))\n",
    "\n",
    "# Overlay both histograms\n",
    "fig.update_layout(barmode='overlay',  yaxis_type=\"log\")\n",
    "\n",
    "# Reduce opacity to see both histograms\n",
    "fig.update_traces(opacity=0.75)\n",
    "fig.show()"
   ]
  },
  {
   "cell_type": "code",
   "execution_count": 38,
   "metadata": {},
   "outputs": [
    {
     "data": {
      "application/vnd.plotly.v1+json": {
       "config": {
        "plotlyServerURL": "https://plot.ly"
       },
       "data": [
        {
         "name": "uui_high_score_pairs",
         "nbinsx": 100,
         "opacity": 0.75,
         "type": "histogram",
         "x": [
          0,
          0.00608762388668127,
          0.0029455144984184,
          0.008262425151216224,
          0,
          0.07300669825054273,
          0,
          0.35703120188686166,
          0.064814965249963,
          0.04613485554863339,
          0.01801949393803426,
          0.13677072888229713,
          0,
          0,
          0.2791127048980071,
          0.03604205007950212,
          0.11644540621183563,
          0,
          0.006467327343595897,
          0.040833695337456066,
          0,
          0.22575492810371145,
          0.05981194358119357,
          0.0797443482195721,
          0.02593708480064083,
          0.12523295026370151,
          0.010250673350201467,
          0.01681766769210502,
          0.05982524420798685,
          0.014895890006095813,
          0,
          0.28594936632384016,
          0.0006838799584995003,
          0.153944607997773,
          0.025424978678125543,
          0.11050082000667871,
          -2.220446049250313e-16,
          0.2127566709273888,
          0.03477984474274498,
          0.5343154568214414,
          0.022532774528604582,
          0.10790121123610585,
          0.06658369264033648,
          0.10900090463637735,
          0,
          0.013462753911790082,
          0,
          1.1102230246251565e-16,
          0.014895890006095813,
          0.29039001003297393,
          0.06348176743325906,
          0.02219758592259058,
          0.04038773749786739,
          0.10349126184021562,
          0.01510126906159448,
          1.1102230246251565e-16,
          0.008880411621396966,
          0.46909952571679703,
          0.008262425151216335,
          0.38197675339090364,
          0.020088130122268177,
          0.4775761923794629,
          0.13652128585498058,
          0.0009918376899336057,
          0.26526879119912183,
          0.046179033523468194,
          0.11341477591010884,
          0.05324688359919605,
          1.1102230246251565e-16,
          0.02129095391133362,
          1.1102230246251565e-16,
          0.22627736000119292,
          0.3020044765882052,
          0.26815677030503104,
          0.06103565149803669,
          0.47183569889898,
          0,
          0.019555660792510032,
          0.2172447882115517,
          0.01045113144952936,
          -2.220446049250313e-16,
          0.09959892145818672,
          0.2606131863581468,
          0.10136769025332892,
          0.1214284157859159,
          0.016266710036847765,
          0.37181416407821744,
          0.03309615416453482,
          0.14876726795775053,
          -2.220446049250313e-16,
          0.0027586259451919393,
          0.21700545766825763,
          0.001779888684733999,
          0.41236198036236893,
          0.058642551336716586,
          0.24078771959993028,
          0.2676758106010475,
          0.02687631979809646,
          2.220446049250313e-16,
          0.03789760127051689,
          0.21621672792702007,
          0.12085574014418232,
          0.17208952805962296,
          0.012579636503907698,
          0.006467327343595897,
          0.0006838799584995003,
          0.10819085609785972,
          0.002543341244213959,
          0.10525894318470175,
          0.015690867224900318,
          0.0882499641083978,
          0.02875229215777464,
          0.09093245402204919,
          -2.220446049250313e-16,
          0.05767599657305744,
          0.024143847935080176,
          0,
          0.06447265168912475,
          0.4888935991402782,
          0.0028668207111659516,
          0.007205446408459992,
          0.03604205007950212,
          0.32045366324947266,
          0.05160816318464201,
          0.12712843905603044,
          0.09049140611375128,
          0.7644433073606703,
          0.005645883220826264,
          0.009319867815919536,
          0.021054989627439236,
          0,
          0.0161802835031708,
          0.09818029941164286,
          0.028140938500275214,
          2.220446049250313e-16,
          0.6247158321649042,
          1.1102230246251565e-16,
          0.01567586171191071,
          0,
          0.033244920046765825,
          1.1102230246251565e-16,
          0.09463166882806573,
          -2.220446049250313e-16,
          0.001121818454750012,
          0.032441106306206446,
          0.12484838463178305,
          0.10766194656155614,
          0.01109722788360512,
          0,
          0,
          0.2667644248932336,
          0.10491065885936968,
          0.028527369856689355,
          0,
          0.018518518518518268,
          0.009741324250093109,
          0.005645883220826264,
          0.007168551206053864,
          0.4740157631056886,
          0.06477892739038715,
          0.01833635384304777,
          0.009556533228894937,
          0.1831904086288486,
          0.009835603591558106,
          0.02127659574468077,
          0.4235841506827509,
          0,
          0.1202331510220579,
          -2.220446049250313e-16,
          0,
          0.017292370176009264,
          0.026671473215424735,
          0.40349872147733246,
          0.006287849528741063,
          0.06103565149803669,
          0.3634282559844595,
          0.04565100098558683,
          0.320904857353583,
          0,
          0.18447977080970135,
          1.1102230246251565e-16,
          0.08356028504212365,
          0.02127659574468077,
          0,
          0,
          0,
          0.39653995756853166,
          0.020088130122268177,
          0.9389566523920919,
          0.17382791708593615,
          0.0032663403846494576,
          0.2672171149745187,
          0.013696741540889623,
          0,
          0.021716126334426433,
          0.006141306804223645,
          0.009492730383673154,
          2.220446049250313e-16,
          0.0057665074550650175,
          0.01567306166543403,
          0.025003956956430762,
          0,
          0.07931927288861729,
          0.17102209306885108,
          0.26770177624913627,
          0,
          0.03923107716947727,
          0.01856701586856324,
          0.2606923489684442,
          0.15919572324392994,
          0.005506861356144754,
          -2.220446049250313e-16,
          0.01151263048358242,
          0.004453812125192025,
          0.10813348421187596,
          0.4413062302802192,
          0.003454241755120324,
          0.014861992201124163,
          0.051312211109087125,
          0.02353270812944097,
          0,
          0.01394668685530176,
          0.23663645965334357,
          0.014861992201124163,
          0.020869951347670446,
          0,
          -2.220446049250313e-16,
          0.024432448132167495,
          0.017292370176009264,
          0.1035484974559373,
          -2.220446049250313e-16,
          -2.220446049250313e-16,
          0.005227691796451994,
          0.008836092273149854,
          0.029565739213308406,
          0.011148620369176854,
          0,
          0.012286926231945494,
          -2.220446049250313e-16,
          0.04946094649711019,
          0.3549580176947382,
          0,
          0.0007861091131950992,
          0.16007894886838392,
          0,
          0.025823625905895264,
          0.0029455144984184,
          0.14213594554222286,
          1.1102230246251565e-16,
          0.5112541159629287,
          0.022727272727272596,
          0.050659014313312434,
          0.02127659574468077,
          0.023896635710245362,
          0.01759448612499015,
          0.16699372537725599,
          0.010250673350201467,
          0.10396550515424174,
          0.15497647906771017,
          0,
          2.220446049250313e-16,
          2.220446049250313e-16,
          0.0004105968313462549,
          0.3025709249977918,
          0,
          0.025165126648092118,
          0.024099927051466574,
          0.11511074078497618,
          0.18307565814236426,
          0.1314085915640646,
          1.1102230246251565e-16,
          0.08707217027587222,
          0.009319867815919536,
          0.004871199329818499,
          0.008968791034885126,
          1.1102230246251565e-16,
          0.0033330587693997105,
          0.7840176815702714,
          1.1102230246251565e-16,
          0.022532774528604582,
          0,
          0.014895890006095813,
          0,
          0.03469270083657716,
          0.02127659574468077,
          0,
          0.26698488734481163,
          0.034058203977514134,
          0.11790348176166421,
          0.035604062736925624,
          0,
          0.32800707755422287,
          0.010250673350201467,
          0,
          0.11684819277591196,
          0.09981266447410053,
          0.020813185249199506,
          0.007877860221563338,
          -2.220446049250313e-16,
          0.6434685223046492,
          0.018518518518518268,
          0.3991705014628435,
          0.05257546798499979,
          0,
          0.003933355477366396,
          0.08117535958872402,
          0,
          0.05935983417215951,
          0.009132611386275635,
          0.07909434419656425,
          0.005645883220826264,
          0.003384104459876358,
          0.09909454846154009,
          0.12152798063008363,
          0.044378554976805984,
          0.45641716778185915,
          0.1275905416933828,
          0.0007861091131948772,
          0.07101744618479522,
          0,
          0.33746084612862326,
          0.010451131449529583,
          0,
          0,
          0.036453917743640596,
          1.1102230246251565e-16,
          0.03256412576706247,
          0.0014658286753422844,
          0.011442573246776222
         ]
        },
        {
         "name": "uui_grey_score_pairs",
         "nbinsx": 100,
         "opacity": 0.75,
         "type": "histogram",
         "x": [
          0.33026497108293396,
          0.77433226653789,
          0.025416815895527578,
          0.11011735453637894,
          0.28803988172636386,
          0.1138137402574324,
          0.005364663733184893,
          0.0019522602700100533,
          0,
          0.25042136517509217,
          0.2996973725058615,
          0.23708805992721227,
          0.2598237051221106,
          0.4026581710780198,
          0.03152529077350341,
          0.4335916540849256,
          0.2228511107647363,
          0.2520289976043919,
          0.5228412343930987,
          0.019570194480861502,
          0.02129095391133351,
          0.1562149817689492,
          0.2528852515519586,
          0.3066308216360364,
          0.006683331190326158,
          0.022727272727272596,
          0.742988387771667,
          0.2687752232338908,
          0.0029609620349972943,
          0.040574086085232164,
          0.01433423418608415,
          0.05740899576300906,
          0.022727272727272596,
          0.0009194257871538714,
          0.10301903642312815,
          0.45957350439289546,
          0.00440854461227147,
          0.0011526839009096124,
          0.27872882470099036,
          0.29967662163120434,
          0.014440433212996484,
          0.028072607062205823,
          0.24645044572304808,
          0.20804794896558287,
          0.14146209596930082,
          0.02012559674525327,
          0.10434094358448842,
          0.10338326547657462,
          0.26382197578554956,
          0.022727272727272596,
          0.2992005861023552,
          0.008956190591035362,
          0.5497397087499365,
          0.30055559680348953,
          1.3563092114310393e-05,
          0,
          0.1801128785437952,
          0.0061883605943749975,
          -2.220446049250313e-16,
          0.30842798006510996,
          0.021980706156348506,
          0.22016333746352645,
          0.022105805172637383,
          0.610759281196176,
          0.5099019705901966,
          0.3357628036318241,
          0.0778968619890692,
          0.3221840631895637,
          0.007142948579625719,
          0.017057566599099072,
          0.3430790378579228,
          0.04040606878716002,
          0.008914654642507847,
          0.14579241039121804,
          0.05767599657305744,
          0.3649993649990476,
          0.05056717413207157,
          0.058445528556613224,
          0.0061680457848043435,
          0.013539148606414253,
          0.014895890006095813,
          0.11187008496657325,
          0.031171759884774275,
          0.016105300101781794,
          0.02219758592259069,
          0.36915797410699125,
          0.01759448612499015,
          0,
          0.014440433212996484,
          0.01367360544681151,
          0.05773449453657753,
          0.39306295008878633,
          0.1604241879823698,
          0.07914473774237774,
          0.24099815941830494,
          0.2808146928362064,
          0.02461870723373394,
          0.25951624889906966,
          0.22449438673920674,
          0.38819953226861525,
          0.09898409927831775,
          0.026753687625435063,
          0.16540610993971028,
          0.34262426486608355,
          0.023532708129441082,
          0.023014422659881184,
          0.018284571687785633,
          0.1200675015727235,
          0.20030786450678895,
          0.17605348411803923,
          0.0182425167164606,
          0.09014286552916373,
          0.006087623886681159,
          0.2822498701672217,
          0.02127659574468077,
          0.021054989627439236,
          0.027655130391204485,
          0.6846584550869359,
          0.15677908862721868,
          0.006057287059035965,
          0.10346625807207899,
          0.014895890006095813,
          1.1102230246251565e-16,
          0.5816632746651214,
          0.022727272727272596,
          0.6062319884628458,
          0.1828163783358574,
          0.5415536838329147,
          0.48782777359326246,
          0.3177187586429683,
          0.37305658395238717,
          0.13509129271456954,
          0.01678971198330692,
          0.028129707896426326,
          0.05438914231069991,
          0.4712294366475417,
          0.020869951347670668,
          0.35082894552686794,
          0.32042779603903604,
          1.1102230246251565e-16,
          0.056435804879503504,
          0.09271500271828592,
          0.09389695548865573,
          0.021980706156348506,
          0.5022042723061357,
          0.012533526637787396,
          0.0006805767780381222,
          0.46687914030295485,
          0.009521996157319523,
          0.7702481256797549,
          0.014527259822066152,
          0.23517741644103152,
          1.1102230246251565e-16,
          0.31974062671823433,
          0.2829043180736185,
          0.019761632745806113,
          0.028527369856689355,
          0.3243967828418233,
          0.015616732838948377,
          0.027694414671753376,
          0.11392703576681407,
          0.07338693455313439,
          0.0100325801028337,
          0.10797183990659309,
          0.3400725168997041,
          -2.220446049250313e-16,
          0.0009022638039117847,
          0.05767599657305744,
          0.09491009150142937,
          0,
          0.00044987630678960944,
          0.28525267992962144,
          0.3627914308933399,
          0.010250673350201467,
          0.009362827686917985,
          0.02506664355713506,
          0.35335246340455995,
          0.015411307389211815,
          0.17252775272086474,
          0.018693237074683622,
          0.05767599657305744,
          0.4958560766148309,
          0.033420885661611166,
          0.610166726358211,
          0.17849251579017322,
          0.5403166324086048,
          0.028527369856689355,
          0.2430080874075552,
          0.47226995013130324,
          0.33346404658785755,
          0.18581543219231678,
          0.3106962463438421,
          0.14104954234582368,
          0.37317754590930763,
          0.1017833633196148,
          0.19699082560585546,
          0.3959561031880142,
          0.77433226653789,
          0.13744138610907353,
          -2.220446049250313e-16,
          -2.220446049250313e-16,
          0.26595135413068405,
          0.043141942580860015,
          0.081325770721697,
          0.35910708589186435,
          0.005448312229360153,
          0.09352473349644408,
          0.008836092273149854,
          0.020869951347670668,
          0,
          0.4091361153358699,
          1.1102230246251565e-16,
          0.14752825587345042,
          0.19080368520568747,
          0.03583566193861898,
          0.32007346981522833,
          0.085340951559295,
          0.01941932430907989,
          0.1889525085052739,
          0.31557094579245615,
          0.1726792657997679,
          -2.220446049250313e-16,
          0.075762205169432,
          0.1320937049089217,
          0.025566045798650183,
          0.004922097153582716,
          3.265146197806157e-05,
          0.20586029824274676,
          0.01169630879647554,
          0.09648623761994124,
          0,
          0.1533780856541257,
          0.11387080015518736,
          0.06286297349234315,
          0.3473949976434165,
          0,
          0,
          0,
          0.015021317483348118,
          0.08972432814435993,
          1.1102230246251565e-16,
          0.01433423418608415,
          0.2556465282349867,
          0.07214556726552035,
          0.016316143991664145,
          0.23976195739144757,
          0.02969710595423436,
          0.22693716651053608,
          0.25147400695262245,
          0.010250673350201467,
          0,
          0.010250673350201467,
          0.03273060865076849,
          0.038428338193000955,
          0.24886404507798043,
          0.02311282812104587,
          0.28219027295415544,
          0.38204414028494904,
          0,
          0.05767599657305744,
          0.32104025492498645,
          0.3362416483176899,
          0.06658369264033648,
          0.8532048313164853,
          0.14000030046276513,
          0.2742298696700044,
          0.3057073718372585,
          0.027728175868497074,
          0.16608679633178858,
          0.059597021475720546,
          0.21015236775145685,
          0.015924106012815464,
          1.1102230246251565e-16,
          0.07901011630451416,
          0.2127116719734916,
          0.5240913656875239,
          0.045593855264483896,
          0.26352989388298587,
          0.07244789432614318,
          0.35277453365187794,
          0.009381870528289316,
          0.012286926231945494,
          0.437635491716144,
          0.2046463606093336,
          0.0020512842113266094,
          -2.220446049250313e-16,
          0.010710668080774033,
          0.05357699904708002,
          0.3848531777069698,
          0.04339436567484023,
          0.016666666666666607,
          0.25677191934018606,
          0.18556625083582723,
          0.321627649936305,
          0.27286576768295445,
          0.14691396415042635,
          0.20744376328218206,
          0.1853817205730829,
          0.02053181598519105,
          0.1474871544597034,
          0.4104191911639967,
          0.06643612860378711,
          0.6430561297655013,
          0.14469746351838586,
          0.061570575377343006,
          0.5936917868657583,
          0.16997134457562335,
          0.10079425906884987,
          0.6538965613623171,
          0.27700127183720114,
          0.03085639242861693,
          0.23313404610941335,
          0.3293680223254849,
          3.265146197806157e-05,
          0.021980706156348395,
          0.30560689780488826,
          0.05823678130397769,
          0.1853817205730829,
          0.12477144680360586,
          0.22278055857522838,
          0.007168551206053864,
          0.13316277218328343,
          0.007142948579625719,
          0.02083333333333348,
          0.007413846194057938,
          0.1260652759499622,
          2.220446049250313e-16,
          0.06457115319092555,
          0.5107664691550492
         ]
        },
        {
         "name": "non_uui_grey_score_pairs",
         "nbinsx": 100,
         "opacity": 0.75,
         "type": "histogram",
         "x": [
          0.0625,
          0.07918990572748663,
          1,
          0.05848691647599147,
          0.005364845572666366,
          0.011904761904761862,
          0.05236904092901207,
          0.06741141252154581,
          0.033244920046765714,
          0.03789760127051678,
          0.009319867815919536,
          0.005878956481225828,
          0.0357142857142857,
          0.29915263482735355,
          0.28490305806580574,
          0.013559949584378894,
          1,
          0.9809166473472472,
          0.24000445252738578,
          0.5936646020627991,
          0.013559949584378894,
          0.08178086177137833,
          0.4888987480000482,
          0.2567438748861993,
          0.32580013753675807,
          0.1941334791537439,
          0.9271294953338639,
          0.05740899576300906,
          0.09138235014690776,
          0.1662588954573052,
          0.056120192551460946,
          0.015384615384615441,
          0.03200606246773441,
          0.8987260632916333,
          0.0005945823584960763,
          0.47801078747738535,
          0.00430902926369614,
          0.062378383766924506,
          0.3489433547059022,
          0.43058371565254105,
          0.9259259259259259,
          0.1561469843107084,
          0.07116525895239545,
          0.248748082309023,
          0.07690691675425576,
          0.12988904090633768,
          0.03372696796460439,
          0.06133202836380447,
          0.1937742251701451,
          0.24189523274320968,
          0.09278157674697118,
          0.093762189971202,
          0.885667609904994,
          0.04423018725252181,
          0.15068513685495943,
          0.2411623738798433,
          0.03187049953241761,
          0.01965204786182717,
          0.47693421903405864,
          0.905319857208035,
          0.7813082375659254,
          0.3258800619052544,
          0.6190303411202703,
          0.052403769223049235,
          0.12054704503310687,
          0.29166666666666663,
          0.43978026289128846,
          0.02798026080032623,
          0.062296483227820776,
          0.7004788510634231,
          0.014279440386363085,
          0.6572427718012098,
          0.3407657469127844,
          0.014201971594085205,
          0.42821246747188846,
          0.6525588535830177,
          0.04432262823658184,
          0.4080975371996084,
          0.14404702092209276,
          0.006102360304856003,
          0.006102360304856003,
          2.220446049250313e-16,
          0.5648058601107554,
          0.04965845202445485,
          0.44943903089341,
          0.10530665003243123,
          0.11758749169737392,
          0.007168551206053864,
          0.180870324599124,
          0.022745450240084453,
          0.010302311767522832,
          0.4970133518666022,
          0.19029740986860533,
          0.35918947678764457,
          0.7361203017198745,
          0.026671473215424957,
          0.4788382803745266,
          0,
          0.3001457877762347,
          0.01811662836688488,
          0.03522734906322611,
          0,
          0.46530214840487716,
          0.5087084161883881,
          0.22960545696507917,
          0.7261044821676117,
          0.8559023955739413,
          0.040646891255705864,
          0.1362687072753782,
          0.012286926231945494,
          0.1434194966436847,
          0,
          0.11804710494782711,
          0.1858263159013379,
          0.5658784289377705,
          0.19590846733431144,
          0.04761904761904778,
          1,
          0.5625911173601469,
          0.010250673350201467,
          0.028139394495620973,
          0.1247584645607307,
          0.13026886510928892,
          0.11363636363636342,
          0.2874746968055747,
          0.35219674045224314,
          0.17265969600796938,
          0.15757646082576804,
          0.3575257011401858,
          0.034692700836577384,
          0,
          0.06122331607760967,
          0.07466936370325183,
          0.4589466682174045,
          0.014755324446221296,
          0.03923107716947705,
          0.0433777911734603,
          0.013772654556924335,
          0.38785390784758544,
          0.05292309803005946,
          0.2026900442473495,
          0.7154095301363904,
          0.2858079686728219,
          0.009434173173233806,
          0.25760766135437674,
          0.29895634829811657,
          0.046338793402134426,
          0.07390439952211769,
          0.3005530774975411,
          0.020885578238319824,
          0.04950495049504933,
          0.33068387762025986,
          0.7582531107923859,
          0.05715651979203873,
          1,
          0.2183391672181051,
          0.07343835417362354,
          0.8778305556436948,
          0.19140049191737551,
          0.20650002487007868,
          0.17149015007148438,
          0.8358780120275564,
          0.6710241525201155,
          0.08228942959672725,
          0.25256671330338787,
          0.1297147308473261,
          0.34367468288246306,
          0.01089950803882822,
          0.05844514663574896,
          0.1604298428478491,
          0.01005050633883331,
          0.48380317472504153,
          0.8985307421136318,
          0.032795848350648416,
          0.02950504116905428,
          0.0357142857142857,
          0.38095238095238093,
          1,
          0.13370383635158,
          0.2610115724154428,
          0.32190810914729917,
          0.09648536256481688,
          0.07762195928133675,
          0.058531128308728086,
          1.1102230246251565e-16,
          0.2716043165649188,
          0.0027586259451917172,
          0.9112479686039634,
          0.1186292010779042,
          0.9037511870613728,
          0.1487434692412516,
          0.05370837673721851,
          0.7486876550249827,
          0.027694414671753487,
          0.1959697477926302,
          0.073862110589066,
          0.29877486733954706,
          0.008230592639070555,
          0.10741509147306261,
          0.06458565330651456,
          0.4314907457147644,
          0.17630144519690738,
          0.5187734968142124,
          0.5819226063668663,
          1.1102230246251565e-16,
          0.10463034079877942,
          0.02042588664273015,
          0.05519097555956176,
          0.08137124588940303,
          0.0007861091131950992,
          0.06668067539817557,
          0.5222825337431466,
          0.2548585790887996,
          0.3564127522592252,
          0.4363902745730195,
          0.31074437703926494,
          0.013606076167856251,
          0.04318230501288589,
          0.010451131449529583,
          0.13004976165830284,
          0.6625596584789085,
          0.08086670851862465,
          1,
          0.13693970472932593,
          0.545945864052489,
          0.8092414643134012,
          0.1005987775622279,
          0.9116978428623304,
          0.00491403465259721,
          0.2739615830097306,
          0.3024815511171146,
          0.07942238267148016,
          0.026974454865344333,
          0,
          0.25456717063656,
          0.006683331190326158,
          0.2342102933781537,
          0.14169465871032294,
          0.10338801955457833,
          0.15959163471692073,
          0.013986702816730645,
          0.06458565330651445,
          0.14188366967896682,
          0.030464028516734132,
          0.2340425531914896,
          0.03721497613207547,
          0.11501534929789925,
          0.3539042616190782,
          0.01595396655806669,
          0.026271008879704794,
          0,
          0.025519418818017003,
          0.21905035185283772,
          -2.220446049250313e-16,
          0.8814475208454791,
          0.014099396490701133,
          0.4720267743231774,
          0.002916875440390654,
          0.19534914272451975,
          0.2229713101141888,
          0.24424259422068462,
          0.05906118495486856,
          0.4547178968754547,
          0.5500929464019002,
          0.40867504753046435,
          0.31701943378196196,
          0.12481005101263265,
          0.054545454545454564,
          0.21206332667642902,
          0.09858097426716561,
          0.03496810948673712,
          0.4041204284688761,
          0.3601599400249891,
          0.04856246632744976,
          0.5527864045000421,
          0.0341757212268371,
          0.09643180425148912,
          0.4089171953206746,
          0.47958350013346696,
          0.09523809523809545,
          0.39119804400978,
          0.05237744552637069,
          0.012036130589419658,
          0.043141942580860015,
          0.0341757212268371,
          0,
          1.1102230246251565e-16,
          0.07832747964458431,
          0.7610703479247989,
          0.5022042723061357,
          0.9373250124674738,
          0.7272727272727273,
          0.2171330695473157,
          0.4161257918788579,
          0.007168551206053864,
          0.06741141252154581,
          0,
          0.03522734906322611,
          0.08608777557085434,
          0.04757585280067589,
          1.1102230246251565e-16,
          0.06321608544760837,
          0.07034002088522862,
          0.9571209745053031,
          0.011148620369176854,
          0.008956190591035473,
          0.06308402182907791,
          0.49752827945981015,
          0.08039902025659429,
          0.034692700836577384,
          0.16235324306292975,
          0.13175685787554092,
          0.009119285843282365,
          0.01025210941474608,
          0.7276675865878177,
          0.095465966266709,
          0.12240568420367182,
          0.8648147261161251,
          0.02127659574468077,
          0.049052538113268374,
          0.2332819090444611,
          0.24918614668204275,
          0.7158270468742446,
          0.32342379631359797,
          0.43604254837232903,
          0.005970202611995101,
          0.008398907184583915,
          0.03822887059834956,
          0.024099927051466907
         ]
        },
        {
         "name": "uui_low_score_pairs",
         "nbinsx": 100,
         "opacity": 0.75,
         "type": "histogram",
         "x": [
          0.44651865867812357,
          0.9279015906085499,
          0.7472984109144032,
          0.7958758547680685,
          1,
          0.7705842661294382,
          0.7909090716301475,
          0.5563811695820517,
          0.7615511745781502,
          0.5054981436704059,
          0.1759323938933871,
          0.3024755473773837,
          0.7929803321972938,
          0.7775745789805246,
          0.24246250970691796,
          0.3048666642633455,
          0.5905441596351138,
          0.3911997166480319,
          0.42077912983990307,
          0.17124026750331223,
          0.2866446678870913,
          0.9735649471427286,
          0.5040650406504065,
          0.01869323707468351,
          0.11915499964664267,
          0.13548908922576608,
          0.39054235623342015,
          0.7043366476770648,
          0.4125808637968805,
          0.4629138444704253,
          0.1726874710917442,
          0.3043449494355964,
          0.19644631561516457,
          0.6221375554642228,
          0.008500075484884517,
          0.6127351643487126,
          0.1563450414562222,
          0.22727334536154387,
          0.16570745081065885,
          0.3314081959047265,
          0.33785372714477224,
          0.7807603571549034,
          0.308647033833919,
          0.0349269210337706,
          0.3467580750253132,
          0.2879878201518916,
          0.5215604210268666,
          0.5201403064400796,
          0.2630213300877081,
          0.6319515489926217,
          0.19473728312749683,
          0.7522831528465689,
          0.33320514053017436,
          0.2397583099431675,
          0.13098487226467959,
          0.28151326552344114,
          0.1865576614201383,
          0.5899548798986367,
          0.20506666939182405,
          0.39397455007732307,
          0.3600900136260341,
          0.5212309270084081,
          0.14232980726318667,
          0.8672319403655875,
          0.07180056906460797,
          0.32507747791226405,
          0.11341372651940518,
          0.38696013027998577,
          0.8570516620216273,
          0.13850452200318275,
          0.4280701967272934,
          0.5853658536585366,
          0.47005052176435325,
          0.625937865294875,
          0.16491453436225623,
          0.17336607019636552,
          0.055915290821607955,
          0.09938791128676117,
          0.28280512763686305,
          0.2727847643699759,
          0.5655998780133362,
          0.6984886554222365,
          0.3139535530832622,
          0.543154051768501,
          0.20859585889015553,
          0.7520408504664561,
          0.5461695695299882,
          0.20900680119666093,
          0.25775578503077023,
          0.1003720058584523,
          0.10222289768317772,
          0.9206011554432781,
          0.1606634069371463,
          0.967164544834844,
          0.5561873177007027,
          0.1612483049595118,
          0.3163193699793386,
          0.022410199428299027,
          0.1606312641933526,
          0.4560060485167128,
          0.032106323948350224,
          0.4201119983196695,
          0.20863601224597783,
          0.767113331732494,
          0.09763295285235829,
          0.11039309039350098,
          0.2516439024557039,
          0.5305932602765053,
          0.5744061464847081,
          0.7323483104843446,
          0.16260195740620853,
          0.4495643113890909,
          0.49332603703190414,
          0.2963096524216047,
          0.8871109982220529,
          0.3853972747085378,
          0.19738995299589113,
          0.036039626993955354,
          0.2120990372222733,
          0.3200701063706506,
          0.27899744661528836,
          0.5228339455272388,
          0.25046788547493326,
          0.4479152606419071,
          0.3159086792196839,
          0.20778037117317805,
          0.15229842595291687,
          0.6027824863747945,
          0.4604711065736623,
          1,
          0.2725352214375182,
          0.2251130295059368,
          0.1494545427274473,
          0.6359949641675857,
          0.036188879745802205,
          0.18630491140116867,
          0.27271943008554467,
          1,
          0.45917409524167097,
          0.6221375554642228,
          0.19974524167437513,
          0.444348883262923,
          0.41657310205694387,
          0.5710513223081048,
          0.27108421465078747,
          0.0185801604724406,
          0.7142401494523627,
          0.2350289495706609,
          0.6674687442067357,
          0.7178501347485433,
          0.523537109993369,
          0.32502034194019724,
          0.5886233243962788,
          0.5477495927523952,
          0.10514653861338952,
          0.11377523540908752,
          0.6293452137473783,
          0.15369859219274262,
          0.34083847439451576,
          0.1851354288539161,
          0.2659194486877723,
          0.2628128247281022,
          0.12795855960610547,
          0.24606985074097332,
          0.17126183647940774,
          0.6206065446803359,
          0.12460974765772326,
          0.31767873670280844,
          0.23733303490056734,
          0.20470067886574395,
          0.4583801063206041,
          0.6457704967762501,
          0.02906392712471839,
          0.11006064505327606,
          0.29513095814498025,
          0.8317575761801819,
          0,
          0.44383339468614147,
          0.21967627367748588,
          1,
          0.49580278820222634,
          0.4857017411976463,
          0.44878271176630835,
          0.31575119086550363,
          0.19657111484426293,
          0.2864750203934856,
          0.4565469647464363,
          0.46682789092320964,
          0.438551853119749,
          0.1447502927344605,
          0.1873813851518512,
          0.12865466737606623,
          0.22276221956518116,
          0.6326448190873499,
          0.57620655158679,
          0.22123073356073086,
          0.3648844680790789,
          0.6135941979960422,
          0.18209025279978353,
          0.36306263961551466,
          0.0076719396690094754,
          0.13823656257782857,
          0.35158788289756615,
          0.18216786278400732,
          0.1760628957881779,
          0.47626328403729523,
          0.042349414364885374,
          0.24127566867572137,
          0.13854026303027667,
          0.19889054246693905,
          0.5959049028961451,
          0.25168526049145645,
          0.4524798903145403,
          0.19352021335022573,
          0.28346452103523934,
          0.3819251366868691,
          0.7058630755466253,
          0.1682133707441269,
          0.03909304557292714,
          0.9574948857957775,
          0.6580072159716153,
          0.5040817009329122,
          0.8454203680799439,
          0.2115436499811454,
          0.16693182424216058,
          0.529118390651989,
          0.18467831217479902,
          0.640907576770196,
          0.023014422659881184,
          0.32504410851238585,
          0.24180534949332821,
          0.11912705489405728,
          0.7334139454616049,
          0.04479646509058188,
          0.17095085508348828,
          0.20134355881767485,
          0.172171340397146,
          0.5959049028961452,
          0.19640458621619483,
          0.15663779508896825,
          0.5753924368512677,
          0.4011917845787718,
          0.4825208445112378,
          0.13015933875860608,
          0.5512804231940441,
          0.2344123018837172,
          0.5817858194953286,
          0.2245484350269722,
          0.9717777495555132,
          0.0983225174393948,
          0.7717822677061807,
          0.1675200672635685,
          0.8925569381299493,
          0.16781122383477431,
          1,
          0.8871109982220529,
          0.10325178696190673,
          0.6221375554642228,
          0.9297271631073694,
          0.04322805309681921,
          0.4819851259897223,
          0.2514921947897415,
          0.6095146781701464,
          0.4204323817451283,
          0.60348172938179,
          0.142601368572716,
          0.13451145034558387,
          0.629925289361131,
          0.4549975913184776,
          0.2244191799514571,
          0.20607409587340342,
          0.29805403641951433,
          0.16574221314406123,
          0.4171337702119956,
          0.797555917455271,
          0.34470201338223605,
          0.15946614582723306,
          0.1992219967467428,
          0.32035352683731577,
          0.3518812923474145,
          0.2353029712416752,
          0.20176925993477945,
          0.2987430017731758,
          0.26561280792392705,
          0.6370849726545197,
          0.17828366147791042,
          0.5765239955419033,
          0.283469930317062,
          0.44109655112166646,
          0.5415536838329147,
          0.7569051498148944,
          0.523537109993369,
          0.11749850488008307,
          0.6101667263582111,
          0.5795536199403877,
          0.7835992876798162,
          0.10437039290527761,
          0.31823121817137723,
          0.3251197928284648,
          0.4356253140563905,
          0.014472543347425426,
          0.7858167085900257,
          0.7514778240127905,
          0.4399837741118534,
          0.37701317277761237,
          0.39690962013435827,
          0.33911148467424657,
          0.19846866419989329,
          0.35937586102105623,
          0.22891082914707128,
          0.7049392833712929,
          0.8149416974505987,
          0.3773565976074764,
          0.3344837512166693,
          0.08748901009450749,
          0.8871109982220529,
          0.3484212280602461,
          0.33459015879062703,
          0.5970037034443194,
          0.6135941979960422,
          0.248653335108598,
          0.3233568578704167,
          0.17857968194157492,
          0.20223965931066734,
          0.0901162189995669,
          0.21288025270130573,
          1,
          0.423114770015633,
          0.22752187652546063
         ]
        },
        {
         "name": "non_uui_low_score_pairs",
         "nbinsx": 100,
         "opacity": 0.75,
         "type": "histogram",
         "x": [
          0.38580236604380047,
          1,
          0.4288805154547295,
          0.925276838536041,
          0.5519334424280913,
          0.3216853037053712,
          0.6990750488603155,
          0.6574199201484255,
          0.8519333324633489,
          1,
          0.7381883472692495,
          0.49636158078268666,
          0.3769168403751666,
          0.8938636620132392,
          0.267184881736408,
          0.2719116025199366,
          0.5899456138921294,
          0.9405014820896219,
          0.7131434918920243,
          0.6304956888560846,
          0.9649238571286851,
          1,
          0.2207189248935022,
          0.8694170240665433,
          0.9537859543413836,
          0.6118587229086144,
          0.30635158393025164,
          0.7105263157894738,
          0.5159221772003868,
          0.3929431014081044,
          0.6002743704761654,
          0.36047602590565975,
          0.13277261728348722,
          0.894199762619684,
          0.44405798169779,
          0.7433876419121128,
          0.05662992948308465,
          0.06351603086539426,
          0.1252078302031503,
          0.3508376522486555,
          0.3621460252829566,
          0.7438114202360753,
          0.5100344553470235,
          1,
          0.5520859912353167,
          0.022495847006857028,
          0.146545420617753,
          0.22682897805785307,
          0.7106962454119692,
          0.8838891380929526,
          0.8060041015842073,
          0.18142943368532083,
          0.8672670316995252,
          0.8651600275073515,
          0.6911204974743554,
          0.6667350949484474,
          0.6793141308314327,
          0.7127452679602457,
          0.8873211495673602,
          0.9805128807554823,
          0.5673028951063759,
          0.25233175020637433,
          0.520108983427362,
          0.8307257183505606,
          0.961032593563926,
          0.9679501995065828,
          0.5540197108050879,
          0.4479439533864864,
          0.729317207539278,
          1,
          0.6948182295442887,
          0.19805700018786,
          0.9237784066033294,
          0.38931815968517647,
          1,
          1,
          0.6241320250933657,
          0.9626673303526722,
          0.9110231893399742,
          0.7049103340090286,
          0.7930381814037463,
          0.6163718220765653,
          0.48060618254998355,
          0.6741521428296914,
          0.6516846789125683,
          0.9513284200442409,
          0.8518010204390856,
          0.9292598406717597,
          0.7408188845879384,
          1,
          1,
          0.9688184390649984,
          0.4751917009146621,
          0.6011482412070175,
          0.7457458295952708,
          0.6187839367510233,
          0.27326873230112114,
          0.38229217630472134,
          0.16285719419359856,
          0.6646024784376806,
          0.5863470246949224,
          0.27514831711846244,
          0.05978680937011993,
          0.7459654815407963,
          1,
          0.7380164188790674,
          0.6573418746480334,
          0.7974521265832667,
          0.5893963436955771,
          0.4640081673573866,
          0.44804426772394534,
          0.5467571145721253,
          0.8784929027520876,
          0.9358895779932107,
          0.5986941431110182,
          0.665787269767305,
          0.049671109562589355,
          1,
          0.8305082733756244,
          0.9005665767977512,
          0.20689741406427153,
          0.6381801007638312,
          0.3861891494636044,
          0.8285518333754534,
          0.5294690370127336,
          0.9399886730182139,
          0.5013816810401773,
          1,
          1,
          1,
          0.8725882021405936,
          0.5039132636118344,
          0.735893006709833,
          0.9419393728668997,
          0.44099100382591916,
          0.29004338982034195,
          0.8995368029576435,
          0.843588273871291,
          0.8027925392794684,
          0.6736893961179471,
          0.9151620316032296,
          0.8475079262172167,
          0.814815228231568,
          0.592275374503892,
          0.7184312292396626,
          0.9548246048547374,
          0.07984449246655112,
          0.4221332251866122,
          0.1256143502148126,
          0.3963386457129058,
          0.2253539333267255,
          0.8618372272619743,
          0.9536849289816788,
          0.5491886885990738,
          0.5553883557783262,
          0.447971386826602,
          0.7065207420262772,
          0.540705308169221,
          0.5238842665174236,
          0.8382716307168407,
          0.5567387152472472,
          0.2547715808601698,
          0.44507179091871896,
          0.6030579069812777,
          0.5308619381681691,
          0.704453668794282,
          0.4543844099428287,
          0.8097013749704878,
          0.3891474502469652,
          0.2718281843579704,
          0.3310816785784154,
          0.3767350957180874,
          0.47388063782467094,
          0.650754047595143,
          0.7531918118690016,
          0.7690254745555436,
          0.6089258871242356,
          0.8235407406273902,
          0.5147215767990947,
          0.6440832729317394,
          0.4562983633919071,
          0.9811377636513288,
          0.648006046837063,
          0.7501930541449084,
          0.8230468889797564,
          0.5703049965594504,
          0.7492824348010187,
          0.8067265827467959,
          0.37599942105447137,
          1,
          0.726189411926944,
          0.5607155288212076,
          0.5580568400812524,
          0.7609345302092014,
          1,
          0.9349399951367644,
          0.7623364621586826,
          0.6616235159080202,
          0.726116264056522,
          0.7436955596326064,
          0.10285004108538931,
          0.39478021801712626,
          1,
          0.6030884549281994,
          0.9308101593978336,
          0.6241629220171672,
          0.6985659245480177,
          1,
          0.8900255251086071,
          0.7032640547792232,
          0.4756211797244303,
          0.763475041604367,
          0.6888784145315452,
          0.4172424271756937,
          0.7425288407784763,
          0.8413832519830646,
          0.9737816222106292,
          0.7853602497592886,
          0.6125340400372309,
          0.8574906328269364,
          0.5180546004138158,
          0.17902990443583133,
          1,
          0.6227618238818882,
          0.6499707515585851,
          0.631647639393794,
          0.8536752503749995,
          0.688812042867929,
          0.6937763990596189,
          0.5123158594255426,
          0.4019236057167639,
          1,
          0.6400430815727167,
          0.06905066374873725,
          0.6135790204056889,
          0.2764675741343683,
          0.3846461684149297,
          0.5455647539072819,
          0.7041003987887038,
          0.3806468205724717,
          0.8309691490542966,
          0.3160192883549596,
          0.7143262808833857,
          0.4973184186577677,
          0.6482010200499744,
          0.8464375383624925,
          0.7016960568322774,
          0.6383126629149583,
          0.8813388868663582,
          0.608429352848721,
          1,
          0.4826424635326546,
          0.10205354546423195,
          0.22228622895218098,
          0.8449097025907383,
          0.3375919181943544,
          0.609905251197253,
          0.5936992946722816,
          0.3154970761721976,
          0.9418355397505656,
          0.8646410522276342,
          0.31349139147800553,
          0.5261302049639718,
          0.1185910594791385,
          0.3086224396749312,
          1,
          0.41113684770761916,
          0.21303352378414186,
          0.7284047920179963,
          0.6191145416857962,
          0.4533618885383486,
          0.7014712004317629,
          0.5856616389418403,
          1,
          0.484639972209051,
          0.45564979423876717,
          0.6044840855248301,
          1,
          0.5228587884116196,
          0.9108117414984156,
          0.8924171292720162,
          0.4044503740053418,
          0.2601448342160315,
          0.7959630227496592,
          0.769411368081003,
          0.7146106130783012,
          0.6476878134901014,
          0.3317993635842116,
          0.9916179205052049,
          0.9420552226728776,
          0.8909882521528363,
          0.14826609409226998,
          0.6613881926339736,
          0.8940928055911621,
          0.6749241787957583,
          0.4976443726862547,
          0.6284865890233144,
          0.4943900014477779,
          0.3469647753475461,
          0.4107173962139954,
          0.23175370133670536,
          0.5764999893845869,
          0.48478459119207706,
          0.5124777075618021,
          0.014068196529312571,
          0.5892000763124925,
          1,
          0.28005996589695337,
          0.8069415639839929,
          0.9325960874055326,
          0.12066079591405099,
          0.8942949221660564,
          0.46227968337399616,
          0.890575061101501,
          0.554618874434965,
          0.8186308939771676,
          0.7181327394989392,
          0.719144385096794,
          0.12370254877884435,
          0.985023164005627,
          0.7471391312879132,
          0.3432725270864978,
          0.7801965247779276,
          0.4244084931664228,
          0.32244927934389966,
          0.7694996594587385,
          0.9541650751485894,
          0.5560430308309885,
          0.44396092865297454
         ]
        }
       ],
       "layout": {
        "barmode": "overlay",
        "template": {
         "data": {
          "bar": [
           {
            "error_x": {
             "color": "#2a3f5f"
            },
            "error_y": {
             "color": "#2a3f5f"
            },
            "marker": {
             "line": {
              "color": "#E5ECF6",
              "width": 0.5
             }
            },
            "type": "bar"
           }
          ],
          "barpolar": [
           {
            "marker": {
             "line": {
              "color": "#E5ECF6",
              "width": 0.5
             }
            },
            "type": "barpolar"
           }
          ],
          "carpet": [
           {
            "aaxis": {
             "endlinecolor": "#2a3f5f",
             "gridcolor": "white",
             "linecolor": "white",
             "minorgridcolor": "white",
             "startlinecolor": "#2a3f5f"
            },
            "baxis": {
             "endlinecolor": "#2a3f5f",
             "gridcolor": "white",
             "linecolor": "white",
             "minorgridcolor": "white",
             "startlinecolor": "#2a3f5f"
            },
            "type": "carpet"
           }
          ],
          "choropleth": [
           {
            "colorbar": {
             "outlinewidth": 0,
             "ticks": ""
            },
            "type": "choropleth"
           }
          ],
          "contour": [
           {
            "colorbar": {
             "outlinewidth": 0,
             "ticks": ""
            },
            "colorscale": [
             [
              0,
              "#0d0887"
             ],
             [
              0.1111111111111111,
              "#46039f"
             ],
             [
              0.2222222222222222,
              "#7201a8"
             ],
             [
              0.3333333333333333,
              "#9c179e"
             ],
             [
              0.4444444444444444,
              "#bd3786"
             ],
             [
              0.5555555555555556,
              "#d8576b"
             ],
             [
              0.6666666666666666,
              "#ed7953"
             ],
             [
              0.7777777777777778,
              "#fb9f3a"
             ],
             [
              0.8888888888888888,
              "#fdca26"
             ],
             [
              1,
              "#f0f921"
             ]
            ],
            "type": "contour"
           }
          ],
          "contourcarpet": [
           {
            "colorbar": {
             "outlinewidth": 0,
             "ticks": ""
            },
            "type": "contourcarpet"
           }
          ],
          "heatmap": [
           {
            "colorbar": {
             "outlinewidth": 0,
             "ticks": ""
            },
            "colorscale": [
             [
              0,
              "#0d0887"
             ],
             [
              0.1111111111111111,
              "#46039f"
             ],
             [
              0.2222222222222222,
              "#7201a8"
             ],
             [
              0.3333333333333333,
              "#9c179e"
             ],
             [
              0.4444444444444444,
              "#bd3786"
             ],
             [
              0.5555555555555556,
              "#d8576b"
             ],
             [
              0.6666666666666666,
              "#ed7953"
             ],
             [
              0.7777777777777778,
              "#fb9f3a"
             ],
             [
              0.8888888888888888,
              "#fdca26"
             ],
             [
              1,
              "#f0f921"
             ]
            ],
            "type": "heatmap"
           }
          ],
          "heatmapgl": [
           {
            "colorbar": {
             "outlinewidth": 0,
             "ticks": ""
            },
            "colorscale": [
             [
              0,
              "#0d0887"
             ],
             [
              0.1111111111111111,
              "#46039f"
             ],
             [
              0.2222222222222222,
              "#7201a8"
             ],
             [
              0.3333333333333333,
              "#9c179e"
             ],
             [
              0.4444444444444444,
              "#bd3786"
             ],
             [
              0.5555555555555556,
              "#d8576b"
             ],
             [
              0.6666666666666666,
              "#ed7953"
             ],
             [
              0.7777777777777778,
              "#fb9f3a"
             ],
             [
              0.8888888888888888,
              "#fdca26"
             ],
             [
              1,
              "#f0f921"
             ]
            ],
            "type": "heatmapgl"
           }
          ],
          "histogram": [
           {
            "marker": {
             "colorbar": {
              "outlinewidth": 0,
              "ticks": ""
             }
            },
            "type": "histogram"
           }
          ],
          "histogram2d": [
           {
            "colorbar": {
             "outlinewidth": 0,
             "ticks": ""
            },
            "colorscale": [
             [
              0,
              "#0d0887"
             ],
             [
              0.1111111111111111,
              "#46039f"
             ],
             [
              0.2222222222222222,
              "#7201a8"
             ],
             [
              0.3333333333333333,
              "#9c179e"
             ],
             [
              0.4444444444444444,
              "#bd3786"
             ],
             [
              0.5555555555555556,
              "#d8576b"
             ],
             [
              0.6666666666666666,
              "#ed7953"
             ],
             [
              0.7777777777777778,
              "#fb9f3a"
             ],
             [
              0.8888888888888888,
              "#fdca26"
             ],
             [
              1,
              "#f0f921"
             ]
            ],
            "type": "histogram2d"
           }
          ],
          "histogram2dcontour": [
           {
            "colorbar": {
             "outlinewidth": 0,
             "ticks": ""
            },
            "colorscale": [
             [
              0,
              "#0d0887"
             ],
             [
              0.1111111111111111,
              "#46039f"
             ],
             [
              0.2222222222222222,
              "#7201a8"
             ],
             [
              0.3333333333333333,
              "#9c179e"
             ],
             [
              0.4444444444444444,
              "#bd3786"
             ],
             [
              0.5555555555555556,
              "#d8576b"
             ],
             [
              0.6666666666666666,
              "#ed7953"
             ],
             [
              0.7777777777777778,
              "#fb9f3a"
             ],
             [
              0.8888888888888888,
              "#fdca26"
             ],
             [
              1,
              "#f0f921"
             ]
            ],
            "type": "histogram2dcontour"
           }
          ],
          "mesh3d": [
           {
            "colorbar": {
             "outlinewidth": 0,
             "ticks": ""
            },
            "type": "mesh3d"
           }
          ],
          "parcoords": [
           {
            "line": {
             "colorbar": {
              "outlinewidth": 0,
              "ticks": ""
             }
            },
            "type": "parcoords"
           }
          ],
          "scatter": [
           {
            "marker": {
             "colorbar": {
              "outlinewidth": 0,
              "ticks": ""
             }
            },
            "type": "scatter"
           }
          ],
          "scatter3d": [
           {
            "line": {
             "colorbar": {
              "outlinewidth": 0,
              "ticks": ""
             }
            },
            "marker": {
             "colorbar": {
              "outlinewidth": 0,
              "ticks": ""
             }
            },
            "type": "scatter3d"
           }
          ],
          "scattercarpet": [
           {
            "marker": {
             "colorbar": {
              "outlinewidth": 0,
              "ticks": ""
             }
            },
            "type": "scattercarpet"
           }
          ],
          "scattergeo": [
           {
            "marker": {
             "colorbar": {
              "outlinewidth": 0,
              "ticks": ""
             }
            },
            "type": "scattergeo"
           }
          ],
          "scattergl": [
           {
            "marker": {
             "colorbar": {
              "outlinewidth": 0,
              "ticks": ""
             }
            },
            "type": "scattergl"
           }
          ],
          "scattermapbox": [
           {
            "marker": {
             "colorbar": {
              "outlinewidth": 0,
              "ticks": ""
             }
            },
            "type": "scattermapbox"
           }
          ],
          "scatterpolar": [
           {
            "marker": {
             "colorbar": {
              "outlinewidth": 0,
              "ticks": ""
             }
            },
            "type": "scatterpolar"
           }
          ],
          "scatterpolargl": [
           {
            "marker": {
             "colorbar": {
              "outlinewidth": 0,
              "ticks": ""
             }
            },
            "type": "scatterpolargl"
           }
          ],
          "scatterternary": [
           {
            "marker": {
             "colorbar": {
              "outlinewidth": 0,
              "ticks": ""
             }
            },
            "type": "scatterternary"
           }
          ],
          "surface": [
           {
            "colorbar": {
             "outlinewidth": 0,
             "ticks": ""
            },
            "colorscale": [
             [
              0,
              "#0d0887"
             ],
             [
              0.1111111111111111,
              "#46039f"
             ],
             [
              0.2222222222222222,
              "#7201a8"
             ],
             [
              0.3333333333333333,
              "#9c179e"
             ],
             [
              0.4444444444444444,
              "#bd3786"
             ],
             [
              0.5555555555555556,
              "#d8576b"
             ],
             [
              0.6666666666666666,
              "#ed7953"
             ],
             [
              0.7777777777777778,
              "#fb9f3a"
             ],
             [
              0.8888888888888888,
              "#fdca26"
             ],
             [
              1,
              "#f0f921"
             ]
            ],
            "type": "surface"
           }
          ],
          "table": [
           {
            "cells": {
             "fill": {
              "color": "#EBF0F8"
             },
             "line": {
              "color": "white"
             }
            },
            "header": {
             "fill": {
              "color": "#C8D4E3"
             },
             "line": {
              "color": "white"
             }
            },
            "type": "table"
           }
          ]
         },
         "layout": {
          "annotationdefaults": {
           "arrowcolor": "#2a3f5f",
           "arrowhead": 0,
           "arrowwidth": 1
          },
          "colorscale": {
           "diverging": [
            [
             0,
             "#8e0152"
            ],
            [
             0.1,
             "#c51b7d"
            ],
            [
             0.2,
             "#de77ae"
            ],
            [
             0.3,
             "#f1b6da"
            ],
            [
             0.4,
             "#fde0ef"
            ],
            [
             0.5,
             "#f7f7f7"
            ],
            [
             0.6,
             "#e6f5d0"
            ],
            [
             0.7,
             "#b8e186"
            ],
            [
             0.8,
             "#7fbc41"
            ],
            [
             0.9,
             "#4d9221"
            ],
            [
             1,
             "#276419"
            ]
           ],
           "sequential": [
            [
             0,
             "#0d0887"
            ],
            [
             0.1111111111111111,
             "#46039f"
            ],
            [
             0.2222222222222222,
             "#7201a8"
            ],
            [
             0.3333333333333333,
             "#9c179e"
            ],
            [
             0.4444444444444444,
             "#bd3786"
            ],
            [
             0.5555555555555556,
             "#d8576b"
            ],
            [
             0.6666666666666666,
             "#ed7953"
            ],
            [
             0.7777777777777778,
             "#fb9f3a"
            ],
            [
             0.8888888888888888,
             "#fdca26"
            ],
            [
             1,
             "#f0f921"
            ]
           ],
           "sequentialminus": [
            [
             0,
             "#0d0887"
            ],
            [
             0.1111111111111111,
             "#46039f"
            ],
            [
             0.2222222222222222,
             "#7201a8"
            ],
            [
             0.3333333333333333,
             "#9c179e"
            ],
            [
             0.4444444444444444,
             "#bd3786"
            ],
            [
             0.5555555555555556,
             "#d8576b"
            ],
            [
             0.6666666666666666,
             "#ed7953"
            ],
            [
             0.7777777777777778,
             "#fb9f3a"
            ],
            [
             0.8888888888888888,
             "#fdca26"
            ],
            [
             1,
             "#f0f921"
            ]
           ]
          },
          "colorway": [
           "#636efa",
           "#EF553B",
           "#00cc96",
           "#ab63fa",
           "#FFA15A",
           "#19d3f3",
           "#FF6692",
           "#B6E880",
           "#FF97FF",
           "#FECB52"
          ],
          "font": {
           "color": "#2a3f5f"
          },
          "geo": {
           "bgcolor": "white",
           "lakecolor": "white",
           "landcolor": "#E5ECF6",
           "showlakes": true,
           "showland": true,
           "subunitcolor": "white"
          },
          "hoverlabel": {
           "align": "left"
          },
          "hovermode": "closest",
          "mapbox": {
           "style": "light"
          },
          "paper_bgcolor": "white",
          "plot_bgcolor": "#E5ECF6",
          "polar": {
           "angularaxis": {
            "gridcolor": "white",
            "linecolor": "white",
            "ticks": ""
           },
           "bgcolor": "#E5ECF6",
           "radialaxis": {
            "gridcolor": "white",
            "linecolor": "white",
            "ticks": ""
           }
          },
          "scene": {
           "xaxis": {
            "backgroundcolor": "#E5ECF6",
            "gridcolor": "white",
            "gridwidth": 2,
            "linecolor": "white",
            "showbackground": true,
            "ticks": "",
            "zerolinecolor": "white"
           },
           "yaxis": {
            "backgroundcolor": "#E5ECF6",
            "gridcolor": "white",
            "gridwidth": 2,
            "linecolor": "white",
            "showbackground": true,
            "ticks": "",
            "zerolinecolor": "white"
           },
           "zaxis": {
            "backgroundcolor": "#E5ECF6",
            "gridcolor": "white",
            "gridwidth": 2,
            "linecolor": "white",
            "showbackground": true,
            "ticks": "",
            "zerolinecolor": "white"
           }
          },
          "shapedefaults": {
           "line": {
            "color": "#2a3f5f"
           }
          },
          "ternary": {
           "aaxis": {
            "gridcolor": "white",
            "linecolor": "white",
            "ticks": ""
           },
           "baxis": {
            "gridcolor": "white",
            "linecolor": "white",
            "ticks": ""
           },
           "bgcolor": "#E5ECF6",
           "caxis": {
            "gridcolor": "white",
            "linecolor": "white",
            "ticks": ""
           }
          },
          "title": {
           "x": 0.05
          },
          "xaxis": {
           "automargin": true,
           "gridcolor": "white",
           "linecolor": "white",
           "ticks": "",
           "zerolinecolor": "white",
           "zerolinewidth": 2
          },
          "yaxis": {
           "automargin": true,
           "gridcolor": "white",
           "linecolor": "white",
           "ticks": "",
           "zerolinecolor": "white",
           "zerolinewidth": 2
          }
         }
        },
        "yaxis": {
         "type": "log"
        }
       }
      },
      "text/html": [
       "<div>\n",
       "        \n",
       "        \n",
       "            <div id=\"0a556d82-c26c-4a9c-8ecd-c7342ef63683\" class=\"plotly-graph-div\" style=\"height:525px; width:100%;\"></div>\n",
       "            <script type=\"text/javascript\">\n",
       "                require([\"plotly\"], function(Plotly) {\n",
       "                    window.PLOTLYENV=window.PLOTLYENV || {};\n",
       "                    \n",
       "                if (document.getElementById(\"0a556d82-c26c-4a9c-8ecd-c7342ef63683\")) {\n",
       "                    Plotly.newPlot(\n",
       "                        '0a556d82-c26c-4a9c-8ecd-c7342ef63683',\n",
       "                        [{\"name\": \"uui_high_score_pairs\", \"nbinsx\": 100, \"opacity\": 0.75, \"type\": \"histogram\", \"x\": [0.0, 0.00608762388668127, 0.0029455144984184, 0.008262425151216224, 0.0, 0.07300669825054273, 0.0, 0.35703120188686166, 0.064814965249963, 0.04613485554863339, 0.01801949393803426, 0.13677072888229713, 0.0, 0.0, 0.2791127048980071, 0.03604205007950212, 0.11644540621183563, 0.0, 0.006467327343595897, 0.040833695337456066, 0.0, 0.22575492810371145, 0.05981194358119357, 0.0797443482195721, 0.02593708480064083, 0.12523295026370151, 0.010250673350201467, 0.01681766769210502, 0.05982524420798685, 0.014895890006095813, 0.0, 0.28594936632384016, 0.0006838799584995003, 0.153944607997773, 0.025424978678125543, 0.11050082000667871, -2.220446049250313e-16, 0.2127566709273888, 0.03477984474274498, 0.5343154568214414, 0.022532774528604582, 0.10790121123610585, 0.06658369264033648, 0.10900090463637735, 0.0, 0.013462753911790082, 0.0, 1.1102230246251565e-16, 0.014895890006095813, 0.29039001003297393, 0.06348176743325906, 0.02219758592259058, 0.04038773749786739, 0.10349126184021562, 0.01510126906159448, 1.1102230246251565e-16, 0.008880411621396966, 0.46909952571679703, 0.008262425151216335, 0.38197675339090364, 0.020088130122268177, 0.4775761923794629, 0.13652128585498058, 0.0009918376899336057, 0.26526879119912183, 0.046179033523468194, 0.11341477591010884, 0.05324688359919605, 1.1102230246251565e-16, 0.02129095391133362, 1.1102230246251565e-16, 0.22627736000119292, 0.3020044765882052, 0.26815677030503104, 0.06103565149803669, 0.47183569889898, 0.0, 0.019555660792510032, 0.2172447882115517, 0.01045113144952936, -2.220446049250313e-16, 0.09959892145818672, 0.2606131863581468, 0.10136769025332892, 0.1214284157859159, 0.016266710036847765, 0.37181416407821744, 0.03309615416453482, 0.14876726795775053, -2.220446049250313e-16, 0.0027586259451919393, 0.21700545766825763, 0.001779888684733999, 0.41236198036236893, 0.058642551336716586, 0.24078771959993028, 0.2676758106010475, 0.02687631979809646, 2.220446049250313e-16, 0.03789760127051689, 0.21621672792702007, 0.12085574014418232, 0.17208952805962296, 0.012579636503907698, 0.006467327343595897, 0.0006838799584995003, 0.10819085609785972, 0.002543341244213959, 0.10525894318470175, 0.015690867224900318, 0.0882499641083978, 0.02875229215777464, 0.09093245402204919, -2.220446049250313e-16, 0.05767599657305744, 0.024143847935080176, 0.0, 0.06447265168912475, 0.4888935991402782, 0.0028668207111659516, 0.007205446408459992, 0.03604205007950212, 0.32045366324947266, 0.05160816318464201, 0.12712843905603044, 0.09049140611375128, 0.7644433073606703, 0.005645883220826264, 0.009319867815919536, 0.021054989627439236, 0.0, 0.0161802835031708, 0.09818029941164286, 0.028140938500275214, 2.220446049250313e-16, 0.6247158321649042, 1.1102230246251565e-16, 0.01567586171191071, 0.0, 0.033244920046765825, 1.1102230246251565e-16, 0.09463166882806573, -2.220446049250313e-16, 0.001121818454750012, 0.032441106306206446, 0.12484838463178305, 0.10766194656155614, 0.01109722788360512, 0.0, 0.0, 0.2667644248932336, 0.10491065885936968, 0.028527369856689355, 0.0, 0.018518518518518268, 0.009741324250093109, 0.005645883220826264, 0.007168551206053864, 0.4740157631056886, 0.06477892739038715, 0.01833635384304777, 0.009556533228894937, 0.1831904086288486, 0.009835603591558106, 0.02127659574468077, 0.4235841506827509, 0.0, 0.1202331510220579, -2.220446049250313e-16, 0.0, 0.017292370176009264, 0.026671473215424735, 0.40349872147733246, 0.006287849528741063, 0.06103565149803669, 0.3634282559844595, 0.04565100098558683, 0.320904857353583, 0.0, 0.18447977080970135, 1.1102230246251565e-16, 0.08356028504212365, 0.02127659574468077, 0.0, 0.0, 0.0, 0.39653995756853166, 0.020088130122268177, 0.9389566523920919, 0.17382791708593615, 0.0032663403846494576, 0.2672171149745187, 0.013696741540889623, 0.0, 0.021716126334426433, 0.006141306804223645, 0.009492730383673154, 2.220446049250313e-16, 0.0057665074550650175, 0.01567306166543403, 0.025003956956430762, 0.0, 0.07931927288861729, 0.17102209306885108, 0.26770177624913627, 0.0, 0.03923107716947727, 0.01856701586856324, 0.2606923489684442, 0.15919572324392994, 0.005506861356144754, -2.220446049250313e-16, 0.01151263048358242, 0.004453812125192025, 0.10813348421187596, 0.4413062302802192, 0.003454241755120324, 0.014861992201124163, 0.051312211109087125, 0.02353270812944097, 0.0, 0.01394668685530176, 0.23663645965334357, 0.014861992201124163, 0.020869951347670446, 0.0, -2.220446049250313e-16, 0.024432448132167495, 0.017292370176009264, 0.1035484974559373, -2.220446049250313e-16, -2.220446049250313e-16, 0.005227691796451994, 0.008836092273149854, 0.029565739213308406, 0.011148620369176854, 0.0, 0.012286926231945494, -2.220446049250313e-16, 0.04946094649711019, 0.3549580176947382, 0.0, 0.0007861091131950992, 0.16007894886838392, 0.0, 0.025823625905895264, 0.0029455144984184, 0.14213594554222286, 1.1102230246251565e-16, 0.5112541159629287, 0.022727272727272596, 0.050659014313312434, 0.02127659574468077, 0.023896635710245362, 0.01759448612499015, 0.16699372537725599, 0.010250673350201467, 0.10396550515424174, 0.15497647906771017, 0.0, 2.220446049250313e-16, 2.220446049250313e-16, 0.0004105968313462549, 0.3025709249977918, 0.0, 0.025165126648092118, 0.024099927051466574, 0.11511074078497618, 0.18307565814236426, 0.1314085915640646, 1.1102230246251565e-16, 0.08707217027587222, 0.009319867815919536, 0.004871199329818499, 0.008968791034885126, 1.1102230246251565e-16, 0.0033330587693997105, 0.7840176815702714, 1.1102230246251565e-16, 0.022532774528604582, 0.0, 0.014895890006095813, 0.0, 0.03469270083657716, 0.02127659574468077, 0.0, 0.26698488734481163, 0.034058203977514134, 0.11790348176166421, 0.035604062736925624, 0.0, 0.32800707755422287, 0.010250673350201467, 0.0, 0.11684819277591196, 0.09981266447410053, 0.020813185249199506, 0.007877860221563338, -2.220446049250313e-16, 0.6434685223046492, 0.018518518518518268, 0.3991705014628435, 0.05257546798499979, 0.0, 0.003933355477366396, 0.08117535958872402, 0.0, 0.05935983417215951, 0.009132611386275635, 0.07909434419656425, 0.005645883220826264, 0.003384104459876358, 0.09909454846154009, 0.12152798063008363, 0.044378554976805984, 0.45641716778185915, 0.1275905416933828, 0.0007861091131948772, 0.07101744618479522, 0.0, 0.33746084612862326, 0.010451131449529583, 0.0, 0.0, 0.036453917743640596, 1.1102230246251565e-16, 0.03256412576706247, 0.0014658286753422844, 0.011442573246776222]}, {\"name\": \"uui_grey_score_pairs\", \"nbinsx\": 100, \"opacity\": 0.75, \"type\": \"histogram\", \"x\": [0.33026497108293396, 0.77433226653789, 0.025416815895527578, 0.11011735453637894, 0.28803988172636386, 0.1138137402574324, 0.005364663733184893, 0.0019522602700100533, 0.0, 0.25042136517509217, 0.2996973725058615, 0.23708805992721227, 0.2598237051221106, 0.4026581710780198, 0.03152529077350341, 0.4335916540849256, 0.2228511107647363, 0.2520289976043919, 0.5228412343930987, 0.019570194480861502, 0.02129095391133351, 0.1562149817689492, 0.2528852515519586, 0.3066308216360364, 0.006683331190326158, 0.022727272727272596, 0.742988387771667, 0.2687752232338908, 0.0029609620349972943, 0.040574086085232164, 0.01433423418608415, 0.05740899576300906, 0.022727272727272596, 0.0009194257871538714, 0.10301903642312815, 0.45957350439289546, 0.00440854461227147, 0.0011526839009096124, 0.27872882470099036, 0.29967662163120434, 0.014440433212996484, 0.028072607062205823, 0.24645044572304808, 0.20804794896558287, 0.14146209596930082, 0.02012559674525327, 0.10434094358448842, 0.10338326547657462, 0.26382197578554956, 0.022727272727272596, 0.2992005861023552, 0.008956190591035362, 0.5497397087499365, 0.30055559680348953, 1.3563092114310393e-05, 0.0, 0.1801128785437952, 0.0061883605943749975, -2.220446049250313e-16, 0.30842798006510996, 0.021980706156348506, 0.22016333746352645, 0.022105805172637383, 0.610759281196176, 0.5099019705901966, 0.3357628036318241, 0.0778968619890692, 0.3221840631895637, 0.007142948579625719, 0.017057566599099072, 0.3430790378579228, 0.04040606878716002, 0.008914654642507847, 0.14579241039121804, 0.05767599657305744, 0.3649993649990476, 0.05056717413207157, 0.058445528556613224, 0.0061680457848043435, 0.013539148606414253, 0.014895890006095813, 0.11187008496657325, 0.031171759884774275, 0.016105300101781794, 0.02219758592259069, 0.36915797410699125, 0.01759448612499015, 0.0, 0.014440433212996484, 0.01367360544681151, 0.05773449453657753, 0.39306295008878633, 0.1604241879823698, 0.07914473774237774, 0.24099815941830494, 0.2808146928362064, 0.02461870723373394, 0.25951624889906966, 0.22449438673920674, 0.38819953226861525, 0.09898409927831775, 0.026753687625435063, 0.16540610993971028, 0.34262426486608355, 0.023532708129441082, 0.023014422659881184, 0.018284571687785633, 0.1200675015727235, 0.20030786450678895, 0.17605348411803923, 0.0182425167164606, 0.09014286552916373, 0.006087623886681159, 0.2822498701672217, 0.02127659574468077, 0.021054989627439236, 0.027655130391204485, 0.6846584550869359, 0.15677908862721868, 0.006057287059035965, 0.10346625807207899, 0.014895890006095813, 1.1102230246251565e-16, 0.5816632746651214, 0.022727272727272596, 0.6062319884628458, 0.1828163783358574, 0.5415536838329147, 0.48782777359326246, 0.3177187586429683, 0.37305658395238717, 0.13509129271456954, 0.01678971198330692, 0.028129707896426326, 0.05438914231069991, 0.4712294366475417, 0.020869951347670668, 0.35082894552686794, 0.32042779603903604, 1.1102230246251565e-16, 0.056435804879503504, 0.09271500271828592, 0.09389695548865573, 0.021980706156348506, 0.5022042723061357, 0.012533526637787396, 0.0006805767780381222, 0.46687914030295485, 0.009521996157319523, 0.7702481256797549, 0.014527259822066152, 0.23517741644103152, 1.1102230246251565e-16, 0.31974062671823433, 0.2829043180736185, 0.019761632745806113, 0.028527369856689355, 0.3243967828418233, 0.015616732838948377, 0.027694414671753376, 0.11392703576681407, 0.07338693455313439, 0.0100325801028337, 0.10797183990659309, 0.3400725168997041, -2.220446049250313e-16, 0.0009022638039117847, 0.05767599657305744, 0.09491009150142937, 0.0, 0.00044987630678960944, 0.28525267992962144, 0.3627914308933399, 0.010250673350201467, 0.009362827686917985, 0.02506664355713506, 0.35335246340455995, 0.015411307389211815, 0.17252775272086474, 0.018693237074683622, 0.05767599657305744, 0.4958560766148309, 0.033420885661611166, 0.610166726358211, 0.17849251579017322, 0.5403166324086048, 0.028527369856689355, 0.2430080874075552, 0.47226995013130324, 0.33346404658785755, 0.18581543219231678, 0.3106962463438421, 0.14104954234582368, 0.37317754590930763, 0.1017833633196148, 0.19699082560585546, 0.3959561031880142, 0.77433226653789, 0.13744138610907353, -2.220446049250313e-16, -2.220446049250313e-16, 0.26595135413068405, 0.043141942580860015, 0.081325770721697, 0.35910708589186435, 0.005448312229360153, 0.09352473349644408, 0.008836092273149854, 0.020869951347670668, 0.0, 0.4091361153358699, 1.1102230246251565e-16, 0.14752825587345042, 0.19080368520568747, 0.03583566193861898, 0.32007346981522833, 0.085340951559295, 0.01941932430907989, 0.1889525085052739, 0.31557094579245615, 0.1726792657997679, -2.220446049250313e-16, 0.075762205169432, 0.1320937049089217, 0.025566045798650183, 0.004922097153582716, 3.265146197806157e-05, 0.20586029824274676, 0.01169630879647554, 0.09648623761994124, 0.0, 0.1533780856541257, 0.11387080015518736, 0.06286297349234315, 0.3473949976434165, 0.0, 0.0, 0.0, 0.015021317483348118, 0.08972432814435993, 1.1102230246251565e-16, 0.01433423418608415, 0.2556465282349867, 0.07214556726552035, 0.016316143991664145, 0.23976195739144757, 0.02969710595423436, 0.22693716651053608, 0.25147400695262245, 0.010250673350201467, 0.0, 0.010250673350201467, 0.03273060865076849, 0.038428338193000955, 0.24886404507798043, 0.02311282812104587, 0.28219027295415544, 0.38204414028494904, 0.0, 0.05767599657305744, 0.32104025492498645, 0.3362416483176899, 0.06658369264033648, 0.8532048313164853, 0.14000030046276513, 0.2742298696700044, 0.3057073718372585, 0.027728175868497074, 0.16608679633178858, 0.059597021475720546, 0.21015236775145685, 0.015924106012815464, 1.1102230246251565e-16, 0.07901011630451416, 0.2127116719734916, 0.5240913656875239, 0.045593855264483896, 0.26352989388298587, 0.07244789432614318, 0.35277453365187794, 0.009381870528289316, 0.012286926231945494, 0.437635491716144, 0.2046463606093336, 0.0020512842113266094, -2.220446049250313e-16, 0.010710668080774033, 0.05357699904708002, 0.3848531777069698, 0.04339436567484023, 0.016666666666666607, 0.25677191934018606, 0.18556625083582723, 0.321627649936305, 0.27286576768295445, 0.14691396415042635, 0.20744376328218206, 0.1853817205730829, 0.02053181598519105, 0.1474871544597034, 0.4104191911639967, 0.06643612860378711, 0.6430561297655013, 0.14469746351838586, 0.061570575377343006, 0.5936917868657583, 0.16997134457562335, 0.10079425906884987, 0.6538965613623171, 0.27700127183720114, 0.03085639242861693, 0.23313404610941335, 0.3293680223254849, 3.265146197806157e-05, 0.021980706156348395, 0.30560689780488826, 0.05823678130397769, 0.1853817205730829, 0.12477144680360586, 0.22278055857522838, 0.007168551206053864, 0.13316277218328343, 0.007142948579625719, 0.02083333333333348, 0.007413846194057938, 0.1260652759499622, 2.220446049250313e-16, 0.06457115319092555, 0.5107664691550492]}, {\"name\": \"non_uui_grey_score_pairs\", \"nbinsx\": 100, \"opacity\": 0.75, \"type\": \"histogram\", \"x\": [0.0625, 0.07918990572748663, 1.0, 0.05848691647599147, 0.005364845572666366, 0.011904761904761862, 0.05236904092901207, 0.06741141252154581, 0.033244920046765714, 0.03789760127051678, 0.009319867815919536, 0.005878956481225828, 0.0357142857142857, 0.29915263482735355, 0.28490305806580574, 0.013559949584378894, 1.0, 0.9809166473472472, 0.24000445252738578, 0.5936646020627991, 0.013559949584378894, 0.08178086177137833, 0.4888987480000482, 0.2567438748861993, 0.32580013753675807, 0.1941334791537439, 0.9271294953338639, 0.05740899576300906, 0.09138235014690776, 0.1662588954573052, 0.056120192551460946, 0.015384615384615441, 0.03200606246773441, 0.8987260632916333, 0.0005945823584960763, 0.47801078747738535, 0.00430902926369614, 0.062378383766924506, 0.3489433547059022, 0.43058371565254105, 0.9259259259259259, 0.1561469843107084, 0.07116525895239545, 0.248748082309023, 0.07690691675425576, 0.12988904090633768, 0.03372696796460439, 0.06133202836380447, 0.1937742251701451, 0.24189523274320968, 0.09278157674697118, 0.093762189971202, 0.885667609904994, 0.04423018725252181, 0.15068513685495943, 0.2411623738798433, 0.03187049953241761, 0.01965204786182717, 0.47693421903405864, 0.905319857208035, 0.7813082375659254, 0.3258800619052544, 0.6190303411202703, 0.052403769223049235, 0.12054704503310687, 0.29166666666666663, 0.43978026289128846, 0.02798026080032623, 0.062296483227820776, 0.7004788510634231, 0.014279440386363085, 0.6572427718012098, 0.3407657469127844, 0.014201971594085205, 0.42821246747188846, 0.6525588535830177, 0.04432262823658184, 0.4080975371996084, 0.14404702092209276, 0.006102360304856003, 0.006102360304856003, 2.220446049250313e-16, 0.5648058601107554, 0.04965845202445485, 0.44943903089341, 0.10530665003243123, 0.11758749169737392, 0.007168551206053864, 0.180870324599124, 0.022745450240084453, 0.010302311767522832, 0.4970133518666022, 0.19029740986860533, 0.35918947678764457, 0.7361203017198745, 0.026671473215424957, 0.4788382803745266, 0.0, 0.3001457877762347, 0.01811662836688488, 0.03522734906322611, 0.0, 0.46530214840487716, 0.5087084161883881, 0.22960545696507917, 0.7261044821676117, 0.8559023955739413, 0.040646891255705864, 0.1362687072753782, 0.012286926231945494, 0.1434194966436847, 0.0, 0.11804710494782711, 0.1858263159013379, 0.5658784289377705, 0.19590846733431144, 0.04761904761904778, 1.0, 0.5625911173601469, 0.010250673350201467, 0.028139394495620973, 0.1247584645607307, 0.13026886510928892, 0.11363636363636342, 0.2874746968055747, 0.35219674045224314, 0.17265969600796938, 0.15757646082576804, 0.3575257011401858, 0.034692700836577384, 0.0, 0.06122331607760967, 0.07466936370325183, 0.4589466682174045, 0.014755324446221296, 0.03923107716947705, 0.0433777911734603, 0.013772654556924335, 0.38785390784758544, 0.05292309803005946, 0.2026900442473495, 0.7154095301363904, 0.2858079686728219, 0.009434173173233806, 0.25760766135437674, 0.29895634829811657, 0.046338793402134426, 0.07390439952211769, 0.3005530774975411, 0.020885578238319824, 0.04950495049504933, 0.33068387762025986, 0.7582531107923859, 0.05715651979203873, 1.0, 0.2183391672181051, 0.07343835417362354, 0.8778305556436948, 0.19140049191737551, 0.20650002487007868, 0.17149015007148438, 0.8358780120275564, 0.6710241525201155, 0.08228942959672725, 0.25256671330338787, 0.1297147308473261, 0.34367468288246306, 0.01089950803882822, 0.05844514663574896, 0.1604298428478491, 0.01005050633883331, 0.48380317472504153, 0.8985307421136318, 0.032795848350648416, 0.02950504116905428, 0.0357142857142857, 0.38095238095238093, 1.0, 0.13370383635158, 0.2610115724154428, 0.32190810914729917, 0.09648536256481688, 0.07762195928133675, 0.058531128308728086, 1.1102230246251565e-16, 0.2716043165649188, 0.0027586259451917172, 0.9112479686039634, 0.1186292010779042, 0.9037511870613728, 0.1487434692412516, 0.05370837673721851, 0.7486876550249827, 0.027694414671753487, 0.1959697477926302, 0.073862110589066, 0.29877486733954706, 0.008230592639070555, 0.10741509147306261, 0.06458565330651456, 0.4314907457147644, 0.17630144519690738, 0.5187734968142124, 0.5819226063668663, 1.1102230246251565e-16, 0.10463034079877942, 0.02042588664273015, 0.05519097555956176, 0.08137124588940303, 0.0007861091131950992, 0.06668067539817557, 0.5222825337431466, 0.2548585790887996, 0.3564127522592252, 0.4363902745730195, 0.31074437703926494, 0.013606076167856251, 0.04318230501288589, 0.010451131449529583, 0.13004976165830284, 0.6625596584789085, 0.08086670851862465, 1.0, 0.13693970472932593, 0.545945864052489, 0.8092414643134012, 0.1005987775622279, 0.9116978428623304, 0.00491403465259721, 0.2739615830097306, 0.3024815511171146, 0.07942238267148016, 0.026974454865344333, 0.0, 0.25456717063656, 0.006683331190326158, 0.2342102933781537, 0.14169465871032294, 0.10338801955457833, 0.15959163471692073, 0.013986702816730645, 0.06458565330651445, 0.14188366967896682, 0.030464028516734132, 0.2340425531914896, 0.03721497613207547, 0.11501534929789925, 0.3539042616190782, 0.01595396655806669, 0.026271008879704794, 0.0, 0.025519418818017003, 0.21905035185283772, -2.220446049250313e-16, 0.8814475208454791, 0.014099396490701133, 0.4720267743231774, 0.002916875440390654, 0.19534914272451975, 0.2229713101141888, 0.24424259422068462, 0.05906118495486856, 0.4547178968754547, 0.5500929464019002, 0.40867504753046435, 0.31701943378196196, 0.12481005101263265, 0.054545454545454564, 0.21206332667642902, 0.09858097426716561, 0.03496810948673712, 0.4041204284688761, 0.3601599400249891, 0.04856246632744976, 0.5527864045000421, 0.0341757212268371, 0.09643180425148912, 0.4089171953206746, 0.47958350013346696, 0.09523809523809545, 0.39119804400978, 0.05237744552637069, 0.012036130589419658, 0.043141942580860015, 0.0341757212268371, 0.0, 1.1102230246251565e-16, 0.07832747964458431, 0.7610703479247989, 0.5022042723061357, 0.9373250124674738, 0.7272727272727273, 0.2171330695473157, 0.4161257918788579, 0.007168551206053864, 0.06741141252154581, 0.0, 0.03522734906322611, 0.08608777557085434, 0.04757585280067589, 1.1102230246251565e-16, 0.06321608544760837, 0.07034002088522862, 0.9571209745053031, 0.011148620369176854, 0.008956190591035473, 0.06308402182907791, 0.49752827945981015, 0.08039902025659429, 0.034692700836577384, 0.16235324306292975, 0.13175685787554092, 0.009119285843282365, 0.01025210941474608, 0.7276675865878177, 0.095465966266709, 0.12240568420367182, 0.8648147261161251, 0.02127659574468077, 0.049052538113268374, 0.2332819090444611, 0.24918614668204275, 0.7158270468742446, 0.32342379631359797, 0.43604254837232903, 0.005970202611995101, 0.008398907184583915, 0.03822887059834956, 0.024099927051466907]}, {\"name\": \"uui_low_score_pairs\", \"nbinsx\": 100, \"opacity\": 0.75, \"type\": \"histogram\", \"x\": [0.44651865867812357, 0.9279015906085499, 0.7472984109144032, 0.7958758547680685, 1.0, 0.7705842661294382, 0.7909090716301475, 0.5563811695820517, 0.7615511745781502, 0.5054981436704059, 0.1759323938933871, 0.3024755473773837, 0.7929803321972938, 0.7775745789805246, 0.24246250970691796, 0.3048666642633455, 0.5905441596351138, 0.3911997166480319, 0.42077912983990307, 0.17124026750331223, 0.2866446678870913, 0.9735649471427286, 0.5040650406504065, 0.01869323707468351, 0.11915499964664267, 0.13548908922576608, 0.39054235623342015, 0.7043366476770648, 0.4125808637968805, 0.4629138444704253, 0.1726874710917442, 0.3043449494355964, 0.19644631561516457, 0.6221375554642228, 0.008500075484884517, 0.6127351643487126, 0.1563450414562222, 0.22727334536154387, 0.16570745081065885, 0.3314081959047265, 0.33785372714477224, 0.7807603571549034, 0.308647033833919, 0.0349269210337706, 0.3467580750253132, 0.2879878201518916, 0.5215604210268666, 0.5201403064400796, 0.2630213300877081, 0.6319515489926217, 0.19473728312749683, 0.7522831528465689, 0.33320514053017436, 0.2397583099431675, 0.13098487226467959, 0.28151326552344114, 0.1865576614201383, 0.5899548798986367, 0.20506666939182405, 0.39397455007732307, 0.3600900136260341, 0.5212309270084081, 0.14232980726318667, 0.8672319403655875, 0.07180056906460797, 0.32507747791226405, 0.11341372651940518, 0.38696013027998577, 0.8570516620216273, 0.13850452200318275, 0.4280701967272934, 0.5853658536585366, 0.47005052176435325, 0.625937865294875, 0.16491453436225623, 0.17336607019636552, 0.055915290821607955, 0.09938791128676117, 0.28280512763686305, 0.2727847643699759, 0.5655998780133362, 0.6984886554222365, 0.3139535530832622, 0.543154051768501, 0.20859585889015553, 0.7520408504664561, 0.5461695695299882, 0.20900680119666093, 0.25775578503077023, 0.1003720058584523, 0.10222289768317772, 0.9206011554432781, 0.1606634069371463, 0.967164544834844, 0.5561873177007027, 0.1612483049595118, 0.3163193699793386, 0.022410199428299027, 0.1606312641933526, 0.4560060485167128, 0.032106323948350224, 0.4201119983196695, 0.20863601224597783, 0.767113331732494, 0.09763295285235829, 0.11039309039350098, 0.2516439024557039, 0.5305932602765053, 0.5744061464847081, 0.7323483104843446, 0.16260195740620853, 0.4495643113890909, 0.49332603703190414, 0.2963096524216047, 0.8871109982220529, 0.3853972747085378, 0.19738995299589113, 0.036039626993955354, 0.2120990372222733, 0.3200701063706506, 0.27899744661528836, 0.5228339455272388, 0.25046788547493326, 0.4479152606419071, 0.3159086792196839, 0.20778037117317805, 0.15229842595291687, 0.6027824863747945, 0.4604711065736623, 1.0, 0.2725352214375182, 0.2251130295059368, 0.1494545427274473, 0.6359949641675857, 0.036188879745802205, 0.18630491140116867, 0.27271943008554467, 1.0, 0.45917409524167097, 0.6221375554642228, 0.19974524167437513, 0.444348883262923, 0.41657310205694387, 0.5710513223081048, 0.27108421465078747, 0.0185801604724406, 0.7142401494523627, 0.2350289495706609, 0.6674687442067357, 0.7178501347485433, 0.523537109993369, 0.32502034194019724, 0.5886233243962788, 0.5477495927523952, 0.10514653861338952, 0.11377523540908752, 0.6293452137473783, 0.15369859219274262, 0.34083847439451576, 0.1851354288539161, 0.2659194486877723, 0.2628128247281022, 0.12795855960610547, 0.24606985074097332, 0.17126183647940774, 0.6206065446803359, 0.12460974765772326, 0.31767873670280844, 0.23733303490056734, 0.20470067886574395, 0.4583801063206041, 0.6457704967762501, 0.02906392712471839, 0.11006064505327606, 0.29513095814498025, 0.8317575761801819, 0.0, 0.44383339468614147, 0.21967627367748588, 1.0, 0.49580278820222634, 0.4857017411976463, 0.44878271176630835, 0.31575119086550363, 0.19657111484426293, 0.2864750203934856, 0.4565469647464363, 0.46682789092320964, 0.438551853119749, 0.1447502927344605, 0.1873813851518512, 0.12865466737606623, 0.22276221956518116, 0.6326448190873499, 0.57620655158679, 0.22123073356073086, 0.3648844680790789, 0.6135941979960422, 0.18209025279978353, 0.36306263961551466, 0.0076719396690094754, 0.13823656257782857, 0.35158788289756615, 0.18216786278400732, 0.1760628957881779, 0.47626328403729523, 0.042349414364885374, 0.24127566867572137, 0.13854026303027667, 0.19889054246693905, 0.5959049028961451, 0.25168526049145645, 0.4524798903145403, 0.19352021335022573, 0.28346452103523934, 0.3819251366868691, 0.7058630755466253, 0.1682133707441269, 0.03909304557292714, 0.9574948857957775, 0.6580072159716153, 0.5040817009329122, 0.8454203680799439, 0.2115436499811454, 0.16693182424216058, 0.529118390651989, 0.18467831217479902, 0.640907576770196, 0.023014422659881184, 0.32504410851238585, 0.24180534949332821, 0.11912705489405728, 0.7334139454616049, 0.04479646509058188, 0.17095085508348828, 0.20134355881767485, 0.172171340397146, 0.5959049028961452, 0.19640458621619483, 0.15663779508896825, 0.5753924368512677, 0.4011917845787718, 0.4825208445112378, 0.13015933875860608, 0.5512804231940441, 0.2344123018837172, 0.5817858194953286, 0.2245484350269722, 0.9717777495555132, 0.0983225174393948, 0.7717822677061807, 0.1675200672635685, 0.8925569381299493, 0.16781122383477431, 1.0, 0.8871109982220529, 0.10325178696190673, 0.6221375554642228, 0.9297271631073694, 0.04322805309681921, 0.4819851259897223, 0.2514921947897415, 0.6095146781701464, 0.4204323817451283, 0.60348172938179, 0.142601368572716, 0.13451145034558387, 0.629925289361131, 0.4549975913184776, 0.2244191799514571, 0.20607409587340342, 0.29805403641951433, 0.16574221314406123, 0.4171337702119956, 0.797555917455271, 0.34470201338223605, 0.15946614582723306, 0.1992219967467428, 0.32035352683731577, 0.3518812923474145, 0.2353029712416752, 0.20176925993477945, 0.2987430017731758, 0.26561280792392705, 0.6370849726545197, 0.17828366147791042, 0.5765239955419033, 0.283469930317062, 0.44109655112166646, 0.5415536838329147, 0.7569051498148944, 0.523537109993369, 0.11749850488008307, 0.6101667263582111, 0.5795536199403877, 0.7835992876798162, 0.10437039290527761, 0.31823121817137723, 0.3251197928284648, 0.4356253140563905, 0.014472543347425426, 0.7858167085900257, 0.7514778240127905, 0.4399837741118534, 0.37701317277761237, 0.39690962013435827, 0.33911148467424657, 0.19846866419989329, 0.35937586102105623, 0.22891082914707128, 0.7049392833712929, 0.8149416974505987, 0.3773565976074764, 0.3344837512166693, 0.08748901009450749, 0.8871109982220529, 0.3484212280602461, 0.33459015879062703, 0.5970037034443194, 0.6135941979960422, 0.248653335108598, 0.3233568578704167, 0.17857968194157492, 0.20223965931066734, 0.0901162189995669, 0.21288025270130573, 1.0, 0.423114770015633, 0.22752187652546063]}, {\"name\": \"non_uui_low_score_pairs\", \"nbinsx\": 100, \"opacity\": 0.75, \"type\": \"histogram\", \"x\": [0.38580236604380047, 1.0, 0.4288805154547295, 0.925276838536041, 0.5519334424280913, 0.3216853037053712, 0.6990750488603155, 0.6574199201484255, 0.8519333324633489, 1.0, 0.7381883472692495, 0.49636158078268666, 0.3769168403751666, 0.8938636620132392, 0.267184881736408, 0.2719116025199366, 0.5899456138921294, 0.9405014820896219, 0.7131434918920243, 0.6304956888560846, 0.9649238571286851, 1.0, 0.2207189248935022, 0.8694170240665433, 0.9537859543413836, 0.6118587229086144, 0.30635158393025164, 0.7105263157894738, 0.5159221772003868, 0.3929431014081044, 0.6002743704761654, 0.36047602590565975, 0.13277261728348722, 0.894199762619684, 0.44405798169779, 0.7433876419121128, 0.05662992948308465, 0.06351603086539426, 0.1252078302031503, 0.3508376522486555, 0.3621460252829566, 0.7438114202360753, 0.5100344553470235, 1.0, 0.5520859912353167, 0.022495847006857028, 0.146545420617753, 0.22682897805785307, 0.7106962454119692, 0.8838891380929526, 0.8060041015842073, 0.18142943368532083, 0.8672670316995252, 0.8651600275073515, 0.6911204974743554, 0.6667350949484474, 0.6793141308314327, 0.7127452679602457, 0.8873211495673602, 0.9805128807554823, 0.5673028951063759, 0.25233175020637433, 0.520108983427362, 0.8307257183505606, 0.961032593563926, 0.9679501995065828, 0.5540197108050879, 0.4479439533864864, 0.729317207539278, 1.0, 0.6948182295442887, 0.19805700018786, 0.9237784066033294, 0.38931815968517647, 1.0, 1.0, 0.6241320250933657, 0.9626673303526722, 0.9110231893399742, 0.7049103340090286, 0.7930381814037463, 0.6163718220765653, 0.48060618254998355, 0.6741521428296914, 0.6516846789125683, 0.9513284200442409, 0.8518010204390856, 0.9292598406717597, 0.7408188845879384, 1.0, 1.0, 0.9688184390649984, 0.4751917009146621, 0.6011482412070175, 0.7457458295952708, 0.6187839367510233, 0.27326873230112114, 0.38229217630472134, 0.16285719419359856, 0.6646024784376806, 0.5863470246949224, 0.27514831711846244, 0.05978680937011993, 0.7459654815407963, 1.0, 0.7380164188790674, 0.6573418746480334, 0.7974521265832667, 0.5893963436955771, 0.4640081673573866, 0.44804426772394534, 0.5467571145721253, 0.8784929027520876, 0.9358895779932107, 0.5986941431110182, 0.665787269767305, 0.049671109562589355, 1.0, 0.8305082733756244, 0.9005665767977512, 0.20689741406427153, 0.6381801007638312, 0.3861891494636044, 0.8285518333754534, 0.5294690370127336, 0.9399886730182139, 0.5013816810401773, 1.0, 1.0, 1.0, 0.8725882021405936, 0.5039132636118344, 0.735893006709833, 0.9419393728668997, 0.44099100382591916, 0.29004338982034195, 0.8995368029576435, 0.843588273871291, 0.8027925392794684, 0.6736893961179471, 0.9151620316032296, 0.8475079262172167, 0.814815228231568, 0.592275374503892, 0.7184312292396626, 0.9548246048547374, 0.07984449246655112, 0.4221332251866122, 0.1256143502148126, 0.3963386457129058, 0.2253539333267255, 0.8618372272619743, 0.9536849289816788, 0.5491886885990738, 0.5553883557783262, 0.447971386826602, 0.7065207420262772, 0.540705308169221, 0.5238842665174236, 0.8382716307168407, 0.5567387152472472, 0.2547715808601698, 0.44507179091871896, 0.6030579069812777, 0.5308619381681691, 0.704453668794282, 0.4543844099428287, 0.8097013749704878, 0.3891474502469652, 0.2718281843579704, 0.3310816785784154, 0.3767350957180874, 0.47388063782467094, 0.650754047595143, 0.7531918118690016, 0.7690254745555436, 0.6089258871242356, 0.8235407406273902, 0.5147215767990947, 0.6440832729317394, 0.4562983633919071, 0.9811377636513288, 0.648006046837063, 0.7501930541449084, 0.8230468889797564, 0.5703049965594504, 0.7492824348010187, 0.8067265827467959, 0.37599942105447137, 1.0, 0.726189411926944, 0.5607155288212076, 0.5580568400812524, 0.7609345302092014, 1.0, 0.9349399951367644, 0.7623364621586826, 0.6616235159080202, 0.726116264056522, 0.7436955596326064, 0.10285004108538931, 0.39478021801712626, 1.0, 0.6030884549281994, 0.9308101593978336, 0.6241629220171672, 0.6985659245480177, 1.0, 0.8900255251086071, 0.7032640547792232, 0.4756211797244303, 0.763475041604367, 0.6888784145315452, 0.4172424271756937, 0.7425288407784763, 0.8413832519830646, 0.9737816222106292, 0.7853602497592886, 0.6125340400372309, 0.8574906328269364, 0.5180546004138158, 0.17902990443583133, 1.0, 0.6227618238818882, 0.6499707515585851, 0.631647639393794, 0.8536752503749995, 0.688812042867929, 0.6937763990596189, 0.5123158594255426, 0.4019236057167639, 1.0, 0.6400430815727167, 0.06905066374873725, 0.6135790204056889, 0.2764675741343683, 0.3846461684149297, 0.5455647539072819, 0.7041003987887038, 0.3806468205724717, 0.8309691490542966, 0.3160192883549596, 0.7143262808833857, 0.4973184186577677, 0.6482010200499744, 0.8464375383624925, 0.7016960568322774, 0.6383126629149583, 0.8813388868663582, 0.608429352848721, 1.0, 0.4826424635326546, 0.10205354546423195, 0.22228622895218098, 0.8449097025907383, 0.3375919181943544, 0.609905251197253, 0.5936992946722816, 0.3154970761721976, 0.9418355397505656, 0.8646410522276342, 0.31349139147800553, 0.5261302049639718, 0.1185910594791385, 0.3086224396749312, 1.0, 0.41113684770761916, 0.21303352378414186, 0.7284047920179963, 0.6191145416857962, 0.4533618885383486, 0.7014712004317629, 0.5856616389418403, 1.0, 0.484639972209051, 0.45564979423876717, 0.6044840855248301, 1.0, 0.5228587884116196, 0.9108117414984156, 0.8924171292720162, 0.4044503740053418, 0.2601448342160315, 0.7959630227496592, 0.769411368081003, 0.7146106130783012, 0.6476878134901014, 0.3317993635842116, 0.9916179205052049, 0.9420552226728776, 0.8909882521528363, 0.14826609409226998, 0.6613881926339736, 0.8940928055911621, 0.6749241787957583, 0.4976443726862547, 0.6284865890233144, 0.4943900014477779, 0.3469647753475461, 0.4107173962139954, 0.23175370133670536, 0.5764999893845869, 0.48478459119207706, 0.5124777075618021, 0.014068196529312571, 0.5892000763124925, 1.0, 0.28005996589695337, 0.8069415639839929, 0.9325960874055326, 0.12066079591405099, 0.8942949221660564, 0.46227968337399616, 0.890575061101501, 0.554618874434965, 0.8186308939771676, 0.7181327394989392, 0.719144385096794, 0.12370254877884435, 0.985023164005627, 0.7471391312879132, 0.3432725270864978, 0.7801965247779276, 0.4244084931664228, 0.32244927934389966, 0.7694996594587385, 0.9541650751485894, 0.5560430308309885, 0.44396092865297454]}],\n",
       "                        {\"barmode\": \"overlay\", \"template\": {\"data\": {\"bar\": [{\"error_x\": {\"color\": \"#2a3f5f\"}, \"error_y\": {\"color\": \"#2a3f5f\"}, \"marker\": {\"line\": {\"color\": \"#E5ECF6\", \"width\": 0.5}}, \"type\": \"bar\"}], \"barpolar\": [{\"marker\": {\"line\": {\"color\": \"#E5ECF6\", \"width\": 0.5}}, \"type\": \"barpolar\"}], \"carpet\": [{\"aaxis\": {\"endlinecolor\": \"#2a3f5f\", \"gridcolor\": \"white\", \"linecolor\": \"white\", \"minorgridcolor\": \"white\", \"startlinecolor\": \"#2a3f5f\"}, \"baxis\": {\"endlinecolor\": \"#2a3f5f\", \"gridcolor\": \"white\", \"linecolor\": \"white\", \"minorgridcolor\": \"white\", \"startlinecolor\": \"#2a3f5f\"}, \"type\": \"carpet\"}], \"choropleth\": [{\"colorbar\": {\"outlinewidth\": 0, \"ticks\": \"\"}, \"type\": \"choropleth\"}], \"contour\": [{\"colorbar\": {\"outlinewidth\": 0, \"ticks\": \"\"}, \"colorscale\": [[0.0, \"#0d0887\"], [0.1111111111111111, \"#46039f\"], [0.2222222222222222, \"#7201a8\"], [0.3333333333333333, \"#9c179e\"], [0.4444444444444444, \"#bd3786\"], [0.5555555555555556, \"#d8576b\"], [0.6666666666666666, \"#ed7953\"], [0.7777777777777778, \"#fb9f3a\"], [0.8888888888888888, \"#fdca26\"], [1.0, \"#f0f921\"]], \"type\": \"contour\"}], \"contourcarpet\": [{\"colorbar\": {\"outlinewidth\": 0, \"ticks\": \"\"}, \"type\": \"contourcarpet\"}], \"heatmap\": [{\"colorbar\": {\"outlinewidth\": 0, \"ticks\": \"\"}, \"colorscale\": [[0.0, \"#0d0887\"], [0.1111111111111111, \"#46039f\"], [0.2222222222222222, \"#7201a8\"], [0.3333333333333333, \"#9c179e\"], [0.4444444444444444, \"#bd3786\"], [0.5555555555555556, \"#d8576b\"], [0.6666666666666666, \"#ed7953\"], [0.7777777777777778, \"#fb9f3a\"], [0.8888888888888888, \"#fdca26\"], [1.0, \"#f0f921\"]], \"type\": \"heatmap\"}], \"heatmapgl\": [{\"colorbar\": {\"outlinewidth\": 0, \"ticks\": \"\"}, \"colorscale\": [[0.0, \"#0d0887\"], [0.1111111111111111, \"#46039f\"], [0.2222222222222222, \"#7201a8\"], [0.3333333333333333, \"#9c179e\"], [0.4444444444444444, \"#bd3786\"], [0.5555555555555556, \"#d8576b\"], [0.6666666666666666, \"#ed7953\"], [0.7777777777777778, \"#fb9f3a\"], [0.8888888888888888, \"#fdca26\"], [1.0, \"#f0f921\"]], \"type\": \"heatmapgl\"}], \"histogram\": [{\"marker\": {\"colorbar\": {\"outlinewidth\": 0, \"ticks\": \"\"}}, \"type\": \"histogram\"}], \"histogram2d\": [{\"colorbar\": {\"outlinewidth\": 0, \"ticks\": \"\"}, \"colorscale\": [[0.0, \"#0d0887\"], [0.1111111111111111, \"#46039f\"], [0.2222222222222222, \"#7201a8\"], [0.3333333333333333, \"#9c179e\"], [0.4444444444444444, \"#bd3786\"], [0.5555555555555556, \"#d8576b\"], [0.6666666666666666, \"#ed7953\"], [0.7777777777777778, \"#fb9f3a\"], [0.8888888888888888, \"#fdca26\"], [1.0, \"#f0f921\"]], \"type\": \"histogram2d\"}], \"histogram2dcontour\": [{\"colorbar\": {\"outlinewidth\": 0, \"ticks\": \"\"}, \"colorscale\": [[0.0, \"#0d0887\"], [0.1111111111111111, \"#46039f\"], [0.2222222222222222, \"#7201a8\"], [0.3333333333333333, \"#9c179e\"], [0.4444444444444444, \"#bd3786\"], [0.5555555555555556, \"#d8576b\"], [0.6666666666666666, \"#ed7953\"], [0.7777777777777778, \"#fb9f3a\"], [0.8888888888888888, \"#fdca26\"], [1.0, \"#f0f921\"]], \"type\": \"histogram2dcontour\"}], \"mesh3d\": [{\"colorbar\": {\"outlinewidth\": 0, \"ticks\": \"\"}, \"type\": \"mesh3d\"}], \"parcoords\": [{\"line\": {\"colorbar\": {\"outlinewidth\": 0, \"ticks\": \"\"}}, \"type\": \"parcoords\"}], \"scatter\": [{\"marker\": {\"colorbar\": {\"outlinewidth\": 0, \"ticks\": \"\"}}, \"type\": \"scatter\"}], \"scatter3d\": [{\"line\": {\"colorbar\": {\"outlinewidth\": 0, \"ticks\": \"\"}}, \"marker\": {\"colorbar\": {\"outlinewidth\": 0, \"ticks\": \"\"}}, \"type\": \"scatter3d\"}], \"scattercarpet\": [{\"marker\": {\"colorbar\": {\"outlinewidth\": 0, \"ticks\": \"\"}}, \"type\": \"scattercarpet\"}], \"scattergeo\": [{\"marker\": {\"colorbar\": {\"outlinewidth\": 0, \"ticks\": \"\"}}, \"type\": \"scattergeo\"}], \"scattergl\": [{\"marker\": {\"colorbar\": {\"outlinewidth\": 0, \"ticks\": \"\"}}, \"type\": \"scattergl\"}], \"scattermapbox\": [{\"marker\": {\"colorbar\": {\"outlinewidth\": 0, \"ticks\": \"\"}}, \"type\": \"scattermapbox\"}], \"scatterpolar\": [{\"marker\": {\"colorbar\": {\"outlinewidth\": 0, \"ticks\": \"\"}}, \"type\": \"scatterpolar\"}], \"scatterpolargl\": [{\"marker\": {\"colorbar\": {\"outlinewidth\": 0, \"ticks\": \"\"}}, \"type\": \"scatterpolargl\"}], \"scatterternary\": [{\"marker\": {\"colorbar\": {\"outlinewidth\": 0, \"ticks\": \"\"}}, \"type\": \"scatterternary\"}], \"surface\": [{\"colorbar\": {\"outlinewidth\": 0, \"ticks\": \"\"}, \"colorscale\": [[0.0, \"#0d0887\"], [0.1111111111111111, \"#46039f\"], [0.2222222222222222, \"#7201a8\"], [0.3333333333333333, \"#9c179e\"], [0.4444444444444444, \"#bd3786\"], [0.5555555555555556, \"#d8576b\"], [0.6666666666666666, \"#ed7953\"], [0.7777777777777778, \"#fb9f3a\"], [0.8888888888888888, \"#fdca26\"], [1.0, \"#f0f921\"]], \"type\": \"surface\"}], \"table\": [{\"cells\": {\"fill\": {\"color\": \"#EBF0F8\"}, \"line\": {\"color\": \"white\"}}, \"header\": {\"fill\": {\"color\": \"#C8D4E3\"}, \"line\": {\"color\": \"white\"}}, \"type\": \"table\"}]}, \"layout\": {\"annotationdefaults\": {\"arrowcolor\": \"#2a3f5f\", \"arrowhead\": 0, \"arrowwidth\": 1}, \"colorscale\": {\"diverging\": [[0, \"#8e0152\"], [0.1, \"#c51b7d\"], [0.2, \"#de77ae\"], [0.3, \"#f1b6da\"], [0.4, \"#fde0ef\"], [0.5, \"#f7f7f7\"], [0.6, \"#e6f5d0\"], [0.7, \"#b8e186\"], [0.8, \"#7fbc41\"], [0.9, \"#4d9221\"], [1, \"#276419\"]], \"sequential\": [[0.0, \"#0d0887\"], [0.1111111111111111, \"#46039f\"], [0.2222222222222222, \"#7201a8\"], [0.3333333333333333, \"#9c179e\"], [0.4444444444444444, \"#bd3786\"], [0.5555555555555556, \"#d8576b\"], [0.6666666666666666, \"#ed7953\"], [0.7777777777777778, \"#fb9f3a\"], [0.8888888888888888, \"#fdca26\"], [1.0, \"#f0f921\"]], \"sequentialminus\": [[0.0, \"#0d0887\"], [0.1111111111111111, \"#46039f\"], [0.2222222222222222, \"#7201a8\"], [0.3333333333333333, \"#9c179e\"], [0.4444444444444444, \"#bd3786\"], [0.5555555555555556, \"#d8576b\"], [0.6666666666666666, \"#ed7953\"], [0.7777777777777778, \"#fb9f3a\"], [0.8888888888888888, \"#fdca26\"], [1.0, \"#f0f921\"]]}, \"colorway\": [\"#636efa\", \"#EF553B\", \"#00cc96\", \"#ab63fa\", \"#FFA15A\", \"#19d3f3\", \"#FF6692\", \"#B6E880\", \"#FF97FF\", \"#FECB52\"], \"font\": {\"color\": \"#2a3f5f\"}, \"geo\": {\"bgcolor\": \"white\", \"lakecolor\": \"white\", \"landcolor\": \"#E5ECF6\", \"showlakes\": true, \"showland\": true, \"subunitcolor\": \"white\"}, \"hoverlabel\": {\"align\": \"left\"}, \"hovermode\": \"closest\", \"mapbox\": {\"style\": \"light\"}, \"paper_bgcolor\": \"white\", \"plot_bgcolor\": \"#E5ECF6\", \"polar\": {\"angularaxis\": {\"gridcolor\": \"white\", \"linecolor\": \"white\", \"ticks\": \"\"}, \"bgcolor\": \"#E5ECF6\", \"radialaxis\": {\"gridcolor\": \"white\", \"linecolor\": \"white\", \"ticks\": \"\"}}, \"scene\": {\"xaxis\": {\"backgroundcolor\": \"#E5ECF6\", \"gridcolor\": \"white\", \"gridwidth\": 2, \"linecolor\": \"white\", \"showbackground\": true, \"ticks\": \"\", \"zerolinecolor\": \"white\"}, \"yaxis\": {\"backgroundcolor\": \"#E5ECF6\", \"gridcolor\": \"white\", \"gridwidth\": 2, \"linecolor\": \"white\", \"showbackground\": true, \"ticks\": \"\", \"zerolinecolor\": \"white\"}, \"zaxis\": {\"backgroundcolor\": \"#E5ECF6\", \"gridcolor\": \"white\", \"gridwidth\": 2, \"linecolor\": \"white\", \"showbackground\": true, \"ticks\": \"\", \"zerolinecolor\": \"white\"}}, \"shapedefaults\": {\"line\": {\"color\": \"#2a3f5f\"}}, \"ternary\": {\"aaxis\": {\"gridcolor\": \"white\", \"linecolor\": \"white\", \"ticks\": \"\"}, \"baxis\": {\"gridcolor\": \"white\", \"linecolor\": \"white\", \"ticks\": \"\"}, \"bgcolor\": \"#E5ECF6\", \"caxis\": {\"gridcolor\": \"white\", \"linecolor\": \"white\", \"ticks\": \"\"}}, \"title\": {\"x\": 0.05}, \"xaxis\": {\"automargin\": true, \"gridcolor\": \"white\", \"linecolor\": \"white\", \"ticks\": \"\", \"zerolinecolor\": \"white\", \"zerolinewidth\": 2}, \"yaxis\": {\"automargin\": true, \"gridcolor\": \"white\", \"linecolor\": \"white\", \"ticks\": \"\", \"zerolinecolor\": \"white\", \"zerolinewidth\": 2}}}, \"yaxis\": {\"type\": \"log\"}},\n",
       "                        {\"responsive\": true}\n",
       "                    ).then(function(){\n",
       "                            \n",
       "var gd = document.getElementById('0a556d82-c26c-4a9c-8ecd-c7342ef63683');\n",
       "var x = new MutationObserver(function (mutations, observer) {{\n",
       "        var display = window.getComputedStyle(gd).display;\n",
       "        if (!display || display === 'none') {{\n",
       "            console.log([gd, 'removed!']);\n",
       "            Plotly.purge(gd);\n",
       "            observer.disconnect();\n",
       "        }}\n",
       "}});\n",
       "\n",
       "// Listen for the removal of the full notebook cells\n",
       "var notebookContainer = gd.closest('#notebook-container');\n",
       "if (notebookContainer) {{\n",
       "    x.observe(notebookContainer, {childList: true});\n",
       "}}\n",
       "\n",
       "// Listen for the clearing of the current output cell\n",
       "var outputEl = gd.closest('.output');\n",
       "if (outputEl) {{\n",
       "    x.observe(outputEl, {childList: true});\n",
       "}}\n",
       "\n",
       "                        })\n",
       "                };\n",
       "                });\n",
       "            </script>\n",
       "        </div>"
      ]
     },
     "metadata": {},
     "output_type": "display_data"
    }
   ],
   "source": [
    "axis = 'hour_normalise_cos_dis'\n",
    "\n",
    "bins = 100\n",
    "\n",
    "x1=sample_df[sample_df['label']=='uui_high_score_pairs'][axis].values\n",
    "x2=sample_df[sample_df['label']=='uui_grey_score_pairs'][axis].values\n",
    "x3=sample_df[sample_df['label']=='non_uui_grey_score_pairs'][axis].values\n",
    "x4=sample_df[sample_df['label']=='uui_low_score_pairs'][axis].values\n",
    "x5=sample_df[sample_df['label']=='non_uui_low_score_pairs'][axis].values\n",
    "\n",
    "fig = go.Figure()\n",
    "fig.add_trace(go.Histogram(x=x1, nbinsx=bins, name=\"uui_high_score_pairs\"))\n",
    "fig.add_trace(go.Histogram(x=x2, nbinsx=bins, name=\"uui_grey_score_pairs\"))\n",
    "fig.add_trace(go.Histogram(x=x3, nbinsx=bins, name=\"non_uui_grey_score_pairs\"))\n",
    "fig.add_trace(go.Histogram(x=x4, nbinsx=bins, name=\"uui_low_score_pairs\"))\n",
    "fig.add_trace(go.Histogram(x=x5, nbinsx=bins, name=\"non_uui_low_score_pairs\"))\n",
    "\n",
    "# Overlay both histograms\n",
    "fig.update_layout(barmode='overlay',  yaxis_type=\"log\")\n",
    "\n",
    "# Reduce opacity to see both histograms\n",
    "fig.update_traces(opacity=0.75)\n",
    "fig.show()"
   ]
  },
  {
   "cell_type": "markdown",
   "metadata": {},
   "source": [
    "# UUI with user behaviour"
   ]
  },
  {
   "cell_type": "code",
   "execution_count": 39,
   "metadata": {},
   "outputs": [],
   "source": [
    "pair_df['active_time_diff'] = abs(pair_df['active_time1'] - pair_df['active_time2']) / 60\n",
    "pair_df['session_count_diff'] = abs(pair_df['session_count1'] - pair_df['session_count2'])\n",
    "pair_df['operation_count_diff'] = abs(pair_df['operation_count1'] - pair_df['operation_count2']) "
   ]
  },
  {
   "cell_type": "code",
   "execution_count": 40,
   "metadata": {},
   "outputs": [
    {
     "data": {
      "text/html": [
       "<div>\n",
       "<style scoped>\n",
       "    .dataframe tbody tr th:only-of-type {\n",
       "        vertical-align: middle;\n",
       "    }\n",
       "\n",
       "    .dataframe tbody tr th {\n",
       "        vertical-align: top;\n",
       "    }\n",
       "\n",
       "    .dataframe thead tr th {\n",
       "        text-align: left;\n",
       "    }\n",
       "\n",
       "    .dataframe thead tr:last-of-type th {\n",
       "        text-align: right;\n",
       "    }\n",
       "</style>\n",
       "<table border=\"1\" class=\"dataframe\">\n",
       "  <thead>\n",
       "    <tr>\n",
       "      <th></th>\n",
       "      <th colspan=\"2\" halign=\"left\">active_time_diff</th>\n",
       "      <th colspan=\"2\" halign=\"left\">session_count_diff</th>\n",
       "      <th colspan=\"2\" halign=\"left\">operation_count_diff</th>\n",
       "      <th colspan=\"2\" halign=\"left\">action_normalise_cos_dis</th>\n",
       "      <th colspan=\"2\" halign=\"left\">markov_cos_dis</th>\n",
       "      <th colspan=\"2\" halign=\"left\">hour_normalise_cos_dis</th>\n",
       "      <th colspan=\"2\" halign=\"left\">interval_cos_dis</th>\n",
       "    </tr>\n",
       "    <tr>\n",
       "      <th></th>\n",
       "      <th>mean</th>\n",
       "      <th>std</th>\n",
       "      <th>mean</th>\n",
       "      <th>std</th>\n",
       "      <th>mean</th>\n",
       "      <th>std</th>\n",
       "      <th>mean</th>\n",
       "      <th>std</th>\n",
       "      <th>mean</th>\n",
       "      <th>std</th>\n",
       "      <th>mean</th>\n",
       "      <th>std</th>\n",
       "      <th>mean</th>\n",
       "      <th>std</th>\n",
       "    </tr>\n",
       "    <tr>\n",
       "      <th>label</th>\n",
       "      <th></th>\n",
       "      <th></th>\n",
       "      <th></th>\n",
       "      <th></th>\n",
       "      <th></th>\n",
       "      <th></th>\n",
       "      <th></th>\n",
       "      <th></th>\n",
       "      <th></th>\n",
       "      <th></th>\n",
       "      <th></th>\n",
       "      <th></th>\n",
       "      <th></th>\n",
       "      <th></th>\n",
       "    </tr>\n",
       "  </thead>\n",
       "  <tbody>\n",
       "    <tr>\n",
       "      <th>non_uui_grey_score_pairs</th>\n",
       "      <td>10.729777</td>\n",
       "      <td>61.929358</td>\n",
       "      <td>2.052730</td>\n",
       "      <td>5.628253</td>\n",
       "      <td>37.423766</td>\n",
       "      <td>306.591868</td>\n",
       "      <td>0.015524</td>\n",
       "      <td>0.054193</td>\n",
       "      <td>0.098752</td>\n",
       "      <td>0.164389</td>\n",
       "      <td>0.254780</td>\n",
       "      <td>0.271967</td>\n",
       "      <td>0.045032</td>\n",
       "      <td>0.133379</td>\n",
       "    </tr>\n",
       "    <tr>\n",
       "      <th>non_uui_low_score_pairs</th>\n",
       "      <td>183.751313</td>\n",
       "      <td>328.933677</td>\n",
       "      <td>17.848633</td>\n",
       "      <td>26.408557</td>\n",
       "      <td>866.787990</td>\n",
       "      <td>2163.437164</td>\n",
       "      <td>0.197881</td>\n",
       "      <td>0.200558</td>\n",
       "      <td>0.396411</td>\n",
       "      <td>0.192950</td>\n",
       "      <td>0.628093</td>\n",
       "      <td>0.258583</td>\n",
       "      <td>0.292150</td>\n",
       "      <td>0.271577</td>\n",
       "    </tr>\n",
       "    <tr>\n",
       "      <th>uui_grey_score_pairs</th>\n",
       "      <td>16.557499</td>\n",
       "      <td>36.170201</td>\n",
       "      <td>6.360825</td>\n",
       "      <td>9.176143</td>\n",
       "      <td>35.881840</td>\n",
       "      <td>94.209790</td>\n",
       "      <td>0.035899</td>\n",
       "      <td>0.075852</td>\n",
       "      <td>0.189710</td>\n",
       "      <td>0.212023</td>\n",
       "      <td>0.173485</td>\n",
       "      <td>0.195022</td>\n",
       "      <td>0.159673</td>\n",
       "      <td>0.241434</td>\n",
       "    </tr>\n",
       "    <tr>\n",
       "      <th>uui_high_score_pairs</th>\n",
       "      <td>24.165242</td>\n",
       "      <td>101.145815</td>\n",
       "      <td>3.804640</td>\n",
       "      <td>9.120802</td>\n",
       "      <td>79.840139</td>\n",
       "      <td>413.303389</td>\n",
       "      <td>0.023510</td>\n",
       "      <td>0.074711</td>\n",
       "      <td>0.120292</td>\n",
       "      <td>0.173867</td>\n",
       "      <td>0.103469</td>\n",
       "      <td>0.167522</td>\n",
       "      <td>0.107719</td>\n",
       "      <td>0.210396</td>\n",
       "    </tr>\n",
       "    <tr>\n",
       "      <th>uui_low_score_pairs</th>\n",
       "      <td>24.246352</td>\n",
       "      <td>25.786854</td>\n",
       "      <td>9.437690</td>\n",
       "      <td>9.923944</td>\n",
       "      <td>41.012158</td>\n",
       "      <td>55.047816</td>\n",
       "      <td>0.081571</td>\n",
       "      <td>0.114823</td>\n",
       "      <td>0.289540</td>\n",
       "      <td>0.257193</td>\n",
       "      <td>0.386992</td>\n",
       "      <td>0.247924</td>\n",
       "      <td>0.269222</td>\n",
       "      <td>0.264048</td>\n",
       "    </tr>\n",
       "  </tbody>\n",
       "</table>\n",
       "</div>"
      ],
      "text/plain": [
       "                         active_time_diff             session_count_diff  \\\n",
       "                                     mean         std               mean   \n",
       "label                                                                      \n",
       "non_uui_grey_score_pairs        10.729777   61.929358           2.052730   \n",
       "non_uui_low_score_pairs        183.751313  328.933677          17.848633   \n",
       "uui_grey_score_pairs            16.557499   36.170201           6.360825   \n",
       "uui_high_score_pairs            24.165242  101.145815           3.804640   \n",
       "uui_low_score_pairs             24.246352   25.786854           9.437690   \n",
       "\n",
       "                                    operation_count_diff               \\\n",
       "                                std                 mean          std   \n",
       "label                                                                   \n",
       "non_uui_grey_score_pairs   5.628253            37.423766   306.591868   \n",
       "non_uui_low_score_pairs   26.408557           866.787990  2163.437164   \n",
       "uui_grey_score_pairs       9.176143            35.881840    94.209790   \n",
       "uui_high_score_pairs       9.120802            79.840139   413.303389   \n",
       "uui_low_score_pairs        9.923944            41.012158    55.047816   \n",
       "\n",
       "                         action_normalise_cos_dis           markov_cos_dis  \\\n",
       "                                             mean       std           mean   \n",
       "label                                                                        \n",
       "non_uui_grey_score_pairs                 0.015524  0.054193       0.098752   \n",
       "non_uui_low_score_pairs                  0.197881  0.200558       0.396411   \n",
       "uui_grey_score_pairs                     0.035899  0.075852       0.189710   \n",
       "uui_high_score_pairs                     0.023510  0.074711       0.120292   \n",
       "uui_low_score_pairs                      0.081571  0.114823       0.289540   \n",
       "\n",
       "                                   hour_normalise_cos_dis            \\\n",
       "                               std                   mean       std   \n",
       "label                                                                 \n",
       "non_uui_grey_score_pairs  0.164389               0.254780  0.271967   \n",
       "non_uui_low_score_pairs   0.192950               0.628093  0.258583   \n",
       "uui_grey_score_pairs      0.212023               0.173485  0.195022   \n",
       "uui_high_score_pairs      0.173867               0.103469  0.167522   \n",
       "uui_low_score_pairs       0.257193               0.386992  0.247924   \n",
       "\n",
       "                         interval_cos_dis            \n",
       "                                     mean       std  \n",
       "label                                                \n",
       "non_uui_grey_score_pairs         0.045032  0.133379  \n",
       "non_uui_low_score_pairs          0.292150  0.271577  \n",
       "uui_grey_score_pairs             0.159673  0.241434  \n",
       "uui_high_score_pairs             0.107719  0.210396  \n",
       "uui_low_score_pairs              0.269222  0.264048  "
      ]
     },
     "execution_count": 40,
     "metadata": {},
     "output_type": "execute_result"
    }
   ],
   "source": [
    "stats_df = pair_df.groupby(\"label\")[\n",
    "    'active_time_diff',\n",
    "    'session_count_diff',\n",
    "    'operation_count_diff',\n",
    "    'action_normalise_cos_dis',\n",
    "    'markov_cos_dis',\n",
    "    'hour_normalise_cos_dis',\n",
    "    'interval_cos_dis'\n",
    "].agg([np.mean, np.std])\n",
    "\n",
    "stats_df"
   ]
  },
  {
   "cell_type": "code",
   "execution_count": 41,
   "metadata": {},
   "outputs": [
    {
     "data": {
      "application/vnd.plotly.v1+json": {
       "config": {
        "plotlyServerURL": "https://plot.ly"
       },
       "data": [
        {
         "name": "active_time_diff",
         "type": "bar",
         "x": [
          "non_uui_grey_score_pairs",
          "non_uui_low_score_pairs",
          "uui_grey_score_pairs",
          "uui_high_score_pairs",
          "uui_low_score_pairs"
         ],
         "y": [
          10.72977673402199,
          183.7513133190006,
          16.557499200278436,
          24.165241553837834,
          24.246351866627894
         ]
        },
        {
         "name": "session_count_diff",
         "type": "bar",
         "x": [
          "non_uui_grey_score_pairs",
          "non_uui_low_score_pairs",
          "uui_grey_score_pairs",
          "uui_high_score_pairs",
          "uui_low_score_pairs"
         ],
         "y": [
          2.052730023380553,
          17.84863260991969,
          6.360824742268041,
          3.8046403712296986,
          9.437689969604863
         ]
        },
        {
         "name": "operation_count_diff",
         "type": "bar",
         "x": [
          "non_uui_grey_score_pairs",
          "non_uui_low_score_pairs",
          "uui_grey_score_pairs",
          "uui_high_score_pairs",
          "uui_low_score_pairs"
         ],
         "y": [
          37.423765644340534,
          866.7879903292404,
          35.88183980967486,
          79.84013921113689,
          41.01215805471124
         ]
        },
        {
         "name": "action_normalise_cos_dis",
         "type": "bar",
         "x": [
          "non_uui_grey_score_pairs",
          "non_uui_low_score_pairs",
          "uui_grey_score_pairs",
          "uui_high_score_pairs",
          "uui_low_score_pairs"
         ],
         "y": [
          0.015523720331074856,
          0.1978813019263227,
          0.035899023713992145,
          0.023510149495300083,
          0.08157066001968434
         ]
        },
        {
         "name": "markov_cos_dis",
         "type": "bar",
         "x": [
          "non_uui_grey_score_pairs",
          "non_uui_low_score_pairs",
          "uui_grey_score_pairs",
          "uui_high_score_pairs",
          "uui_low_score_pairs"
         ],
         "y": [
          0.0987524756876374,
          0.3964106992496636,
          0.18971002461145015,
          0.12029188583278667,
          0.28954008093418454
         ]
        },
        {
         "name": "interval_cos_dis",
         "type": "bar",
         "x": [
          "non_uui_grey_score_pairs",
          "non_uui_low_score_pairs",
          "uui_grey_score_pairs",
          "uui_high_score_pairs",
          "uui_low_score_pairs"
         ],
         "y": [
          0.04503226957011233,
          0.2921496081959667,
          0.1596726704823253,
          0.10771854039896539,
          0.26922229904117195
         ]
        },
        {
         "name": "hour_normalise_cos_dis",
         "type": "bar",
         "x": [
          "non_uui_grey_score_pairs",
          "non_uui_low_score_pairs",
          "uui_grey_score_pairs",
          "uui_high_score_pairs",
          "uui_low_score_pairs"
         ],
         "y": [
          0.2547795335921536,
          0.6280932232219274,
          0.17348466878301258,
          0.10346915379107047,
          0.3869921566422853
         ]
        }
       ],
       "layout": {
        "barmode": "group",
        "template": {
         "data": {
          "bar": [
           {
            "error_x": {
             "color": "#2a3f5f"
            },
            "error_y": {
             "color": "#2a3f5f"
            },
            "marker": {
             "line": {
              "color": "#E5ECF6",
              "width": 0.5
             }
            },
            "type": "bar"
           }
          ],
          "barpolar": [
           {
            "marker": {
             "line": {
              "color": "#E5ECF6",
              "width": 0.5
             }
            },
            "type": "barpolar"
           }
          ],
          "carpet": [
           {
            "aaxis": {
             "endlinecolor": "#2a3f5f",
             "gridcolor": "white",
             "linecolor": "white",
             "minorgridcolor": "white",
             "startlinecolor": "#2a3f5f"
            },
            "baxis": {
             "endlinecolor": "#2a3f5f",
             "gridcolor": "white",
             "linecolor": "white",
             "minorgridcolor": "white",
             "startlinecolor": "#2a3f5f"
            },
            "type": "carpet"
           }
          ],
          "choropleth": [
           {
            "colorbar": {
             "outlinewidth": 0,
             "ticks": ""
            },
            "type": "choropleth"
           }
          ],
          "contour": [
           {
            "colorbar": {
             "outlinewidth": 0,
             "ticks": ""
            },
            "colorscale": [
             [
              0,
              "#0d0887"
             ],
             [
              0.1111111111111111,
              "#46039f"
             ],
             [
              0.2222222222222222,
              "#7201a8"
             ],
             [
              0.3333333333333333,
              "#9c179e"
             ],
             [
              0.4444444444444444,
              "#bd3786"
             ],
             [
              0.5555555555555556,
              "#d8576b"
             ],
             [
              0.6666666666666666,
              "#ed7953"
             ],
             [
              0.7777777777777778,
              "#fb9f3a"
             ],
             [
              0.8888888888888888,
              "#fdca26"
             ],
             [
              1,
              "#f0f921"
             ]
            ],
            "type": "contour"
           }
          ],
          "contourcarpet": [
           {
            "colorbar": {
             "outlinewidth": 0,
             "ticks": ""
            },
            "type": "contourcarpet"
           }
          ],
          "heatmap": [
           {
            "colorbar": {
             "outlinewidth": 0,
             "ticks": ""
            },
            "colorscale": [
             [
              0,
              "#0d0887"
             ],
             [
              0.1111111111111111,
              "#46039f"
             ],
             [
              0.2222222222222222,
              "#7201a8"
             ],
             [
              0.3333333333333333,
              "#9c179e"
             ],
             [
              0.4444444444444444,
              "#bd3786"
             ],
             [
              0.5555555555555556,
              "#d8576b"
             ],
             [
              0.6666666666666666,
              "#ed7953"
             ],
             [
              0.7777777777777778,
              "#fb9f3a"
             ],
             [
              0.8888888888888888,
              "#fdca26"
             ],
             [
              1,
              "#f0f921"
             ]
            ],
            "type": "heatmap"
           }
          ],
          "heatmapgl": [
           {
            "colorbar": {
             "outlinewidth": 0,
             "ticks": ""
            },
            "colorscale": [
             [
              0,
              "#0d0887"
             ],
             [
              0.1111111111111111,
              "#46039f"
             ],
             [
              0.2222222222222222,
              "#7201a8"
             ],
             [
              0.3333333333333333,
              "#9c179e"
             ],
             [
              0.4444444444444444,
              "#bd3786"
             ],
             [
              0.5555555555555556,
              "#d8576b"
             ],
             [
              0.6666666666666666,
              "#ed7953"
             ],
             [
              0.7777777777777778,
              "#fb9f3a"
             ],
             [
              0.8888888888888888,
              "#fdca26"
             ],
             [
              1,
              "#f0f921"
             ]
            ],
            "type": "heatmapgl"
           }
          ],
          "histogram": [
           {
            "marker": {
             "colorbar": {
              "outlinewidth": 0,
              "ticks": ""
             }
            },
            "type": "histogram"
           }
          ],
          "histogram2d": [
           {
            "colorbar": {
             "outlinewidth": 0,
             "ticks": ""
            },
            "colorscale": [
             [
              0,
              "#0d0887"
             ],
             [
              0.1111111111111111,
              "#46039f"
             ],
             [
              0.2222222222222222,
              "#7201a8"
             ],
             [
              0.3333333333333333,
              "#9c179e"
             ],
             [
              0.4444444444444444,
              "#bd3786"
             ],
             [
              0.5555555555555556,
              "#d8576b"
             ],
             [
              0.6666666666666666,
              "#ed7953"
             ],
             [
              0.7777777777777778,
              "#fb9f3a"
             ],
             [
              0.8888888888888888,
              "#fdca26"
             ],
             [
              1,
              "#f0f921"
             ]
            ],
            "type": "histogram2d"
           }
          ],
          "histogram2dcontour": [
           {
            "colorbar": {
             "outlinewidth": 0,
             "ticks": ""
            },
            "colorscale": [
             [
              0,
              "#0d0887"
             ],
             [
              0.1111111111111111,
              "#46039f"
             ],
             [
              0.2222222222222222,
              "#7201a8"
             ],
             [
              0.3333333333333333,
              "#9c179e"
             ],
             [
              0.4444444444444444,
              "#bd3786"
             ],
             [
              0.5555555555555556,
              "#d8576b"
             ],
             [
              0.6666666666666666,
              "#ed7953"
             ],
             [
              0.7777777777777778,
              "#fb9f3a"
             ],
             [
              0.8888888888888888,
              "#fdca26"
             ],
             [
              1,
              "#f0f921"
             ]
            ],
            "type": "histogram2dcontour"
           }
          ],
          "mesh3d": [
           {
            "colorbar": {
             "outlinewidth": 0,
             "ticks": ""
            },
            "type": "mesh3d"
           }
          ],
          "parcoords": [
           {
            "line": {
             "colorbar": {
              "outlinewidth": 0,
              "ticks": ""
             }
            },
            "type": "parcoords"
           }
          ],
          "scatter": [
           {
            "marker": {
             "colorbar": {
              "outlinewidth": 0,
              "ticks": ""
             }
            },
            "type": "scatter"
           }
          ],
          "scatter3d": [
           {
            "line": {
             "colorbar": {
              "outlinewidth": 0,
              "ticks": ""
             }
            },
            "marker": {
             "colorbar": {
              "outlinewidth": 0,
              "ticks": ""
             }
            },
            "type": "scatter3d"
           }
          ],
          "scattercarpet": [
           {
            "marker": {
             "colorbar": {
              "outlinewidth": 0,
              "ticks": ""
             }
            },
            "type": "scattercarpet"
           }
          ],
          "scattergeo": [
           {
            "marker": {
             "colorbar": {
              "outlinewidth": 0,
              "ticks": ""
             }
            },
            "type": "scattergeo"
           }
          ],
          "scattergl": [
           {
            "marker": {
             "colorbar": {
              "outlinewidth": 0,
              "ticks": ""
             }
            },
            "type": "scattergl"
           }
          ],
          "scattermapbox": [
           {
            "marker": {
             "colorbar": {
              "outlinewidth": 0,
              "ticks": ""
             }
            },
            "type": "scattermapbox"
           }
          ],
          "scatterpolar": [
           {
            "marker": {
             "colorbar": {
              "outlinewidth": 0,
              "ticks": ""
             }
            },
            "type": "scatterpolar"
           }
          ],
          "scatterpolargl": [
           {
            "marker": {
             "colorbar": {
              "outlinewidth": 0,
              "ticks": ""
             }
            },
            "type": "scatterpolargl"
           }
          ],
          "scatterternary": [
           {
            "marker": {
             "colorbar": {
              "outlinewidth": 0,
              "ticks": ""
             }
            },
            "type": "scatterternary"
           }
          ],
          "surface": [
           {
            "colorbar": {
             "outlinewidth": 0,
             "ticks": ""
            },
            "colorscale": [
             [
              0,
              "#0d0887"
             ],
             [
              0.1111111111111111,
              "#46039f"
             ],
             [
              0.2222222222222222,
              "#7201a8"
             ],
             [
              0.3333333333333333,
              "#9c179e"
             ],
             [
              0.4444444444444444,
              "#bd3786"
             ],
             [
              0.5555555555555556,
              "#d8576b"
             ],
             [
              0.6666666666666666,
              "#ed7953"
             ],
             [
              0.7777777777777778,
              "#fb9f3a"
             ],
             [
              0.8888888888888888,
              "#fdca26"
             ],
             [
              1,
              "#f0f921"
             ]
            ],
            "type": "surface"
           }
          ],
          "table": [
           {
            "cells": {
             "fill": {
              "color": "#EBF0F8"
             },
             "line": {
              "color": "white"
             }
            },
            "header": {
             "fill": {
              "color": "#C8D4E3"
             },
             "line": {
              "color": "white"
             }
            },
            "type": "table"
           }
          ]
         },
         "layout": {
          "annotationdefaults": {
           "arrowcolor": "#2a3f5f",
           "arrowhead": 0,
           "arrowwidth": 1
          },
          "colorscale": {
           "diverging": [
            [
             0,
             "#8e0152"
            ],
            [
             0.1,
             "#c51b7d"
            ],
            [
             0.2,
             "#de77ae"
            ],
            [
             0.3,
             "#f1b6da"
            ],
            [
             0.4,
             "#fde0ef"
            ],
            [
             0.5,
             "#f7f7f7"
            ],
            [
             0.6,
             "#e6f5d0"
            ],
            [
             0.7,
             "#b8e186"
            ],
            [
             0.8,
             "#7fbc41"
            ],
            [
             0.9,
             "#4d9221"
            ],
            [
             1,
             "#276419"
            ]
           ],
           "sequential": [
            [
             0,
             "#0d0887"
            ],
            [
             0.1111111111111111,
             "#46039f"
            ],
            [
             0.2222222222222222,
             "#7201a8"
            ],
            [
             0.3333333333333333,
             "#9c179e"
            ],
            [
             0.4444444444444444,
             "#bd3786"
            ],
            [
             0.5555555555555556,
             "#d8576b"
            ],
            [
             0.6666666666666666,
             "#ed7953"
            ],
            [
             0.7777777777777778,
             "#fb9f3a"
            ],
            [
             0.8888888888888888,
             "#fdca26"
            ],
            [
             1,
             "#f0f921"
            ]
           ],
           "sequentialminus": [
            [
             0,
             "#0d0887"
            ],
            [
             0.1111111111111111,
             "#46039f"
            ],
            [
             0.2222222222222222,
             "#7201a8"
            ],
            [
             0.3333333333333333,
             "#9c179e"
            ],
            [
             0.4444444444444444,
             "#bd3786"
            ],
            [
             0.5555555555555556,
             "#d8576b"
            ],
            [
             0.6666666666666666,
             "#ed7953"
            ],
            [
             0.7777777777777778,
             "#fb9f3a"
            ],
            [
             0.8888888888888888,
             "#fdca26"
            ],
            [
             1,
             "#f0f921"
            ]
           ]
          },
          "colorway": [
           "#636efa",
           "#EF553B",
           "#00cc96",
           "#ab63fa",
           "#FFA15A",
           "#19d3f3",
           "#FF6692",
           "#B6E880",
           "#FF97FF",
           "#FECB52"
          ],
          "font": {
           "color": "#2a3f5f"
          },
          "geo": {
           "bgcolor": "white",
           "lakecolor": "white",
           "landcolor": "#E5ECF6",
           "showlakes": true,
           "showland": true,
           "subunitcolor": "white"
          },
          "hoverlabel": {
           "align": "left"
          },
          "hovermode": "closest",
          "mapbox": {
           "style": "light"
          },
          "paper_bgcolor": "white",
          "plot_bgcolor": "#E5ECF6",
          "polar": {
           "angularaxis": {
            "gridcolor": "white",
            "linecolor": "white",
            "ticks": ""
           },
           "bgcolor": "#E5ECF6",
           "radialaxis": {
            "gridcolor": "white",
            "linecolor": "white",
            "ticks": ""
           }
          },
          "scene": {
           "xaxis": {
            "backgroundcolor": "#E5ECF6",
            "gridcolor": "white",
            "gridwidth": 2,
            "linecolor": "white",
            "showbackground": true,
            "ticks": "",
            "zerolinecolor": "white"
           },
           "yaxis": {
            "backgroundcolor": "#E5ECF6",
            "gridcolor": "white",
            "gridwidth": 2,
            "linecolor": "white",
            "showbackground": true,
            "ticks": "",
            "zerolinecolor": "white"
           },
           "zaxis": {
            "backgroundcolor": "#E5ECF6",
            "gridcolor": "white",
            "gridwidth": 2,
            "linecolor": "white",
            "showbackground": true,
            "ticks": "",
            "zerolinecolor": "white"
           }
          },
          "shapedefaults": {
           "line": {
            "color": "#2a3f5f"
           }
          },
          "ternary": {
           "aaxis": {
            "gridcolor": "white",
            "linecolor": "white",
            "ticks": ""
           },
           "baxis": {
            "gridcolor": "white",
            "linecolor": "white",
            "ticks": ""
           },
           "bgcolor": "#E5ECF6",
           "caxis": {
            "gridcolor": "white",
            "linecolor": "white",
            "ticks": ""
           }
          },
          "title": {
           "x": 0.05
          },
          "xaxis": {
           "automargin": true,
           "gridcolor": "white",
           "linecolor": "white",
           "ticks": "",
           "zerolinecolor": "white",
           "zerolinewidth": 2
          },
          "yaxis": {
           "automargin": true,
           "gridcolor": "white",
           "linecolor": "white",
           "ticks": "",
           "zerolinecolor": "white",
           "zerolinewidth": 2
          }
         }
        }
       }
      },
      "text/html": [
       "<div>\n",
       "        \n",
       "        \n",
       "            <div id=\"aac6dc97-dbf6-4586-ab90-debdb49ab292\" class=\"plotly-graph-div\" style=\"height:525px; width:100%;\"></div>\n",
       "            <script type=\"text/javascript\">\n",
       "                require([\"plotly\"], function(Plotly) {\n",
       "                    window.PLOTLYENV=window.PLOTLYENV || {};\n",
       "                    \n",
       "                if (document.getElementById(\"aac6dc97-dbf6-4586-ab90-debdb49ab292\")) {\n",
       "                    Plotly.newPlot(\n",
       "                        'aac6dc97-dbf6-4586-ab90-debdb49ab292',\n",
       "                        [{\"name\": \"active_time_diff\", \"type\": \"bar\", \"x\": [\"non_uui_grey_score_pairs\", \"non_uui_low_score_pairs\", \"uui_grey_score_pairs\", \"uui_high_score_pairs\", \"uui_low_score_pairs\"], \"y\": [10.72977673402199, 183.7513133190006, 16.557499200278436, 24.165241553837834, 24.246351866627894]}, {\"name\": \"session_count_diff\", \"type\": \"bar\", \"x\": [\"non_uui_grey_score_pairs\", \"non_uui_low_score_pairs\", \"uui_grey_score_pairs\", \"uui_high_score_pairs\", \"uui_low_score_pairs\"], \"y\": [2.052730023380553, 17.84863260991969, 6.360824742268041, 3.8046403712296986, 9.437689969604863]}, {\"name\": \"operation_count_diff\", \"type\": \"bar\", \"x\": [\"non_uui_grey_score_pairs\", \"non_uui_low_score_pairs\", \"uui_grey_score_pairs\", \"uui_high_score_pairs\", \"uui_low_score_pairs\"], \"y\": [37.423765644340534, 866.7879903292404, 35.88183980967486, 79.84013921113689, 41.01215805471124]}, {\"name\": \"action_normalise_cos_dis\", \"type\": \"bar\", \"x\": [\"non_uui_grey_score_pairs\", \"non_uui_low_score_pairs\", \"uui_grey_score_pairs\", \"uui_high_score_pairs\", \"uui_low_score_pairs\"], \"y\": [0.015523720331074856, 0.1978813019263227, 0.035899023713992145, 0.023510149495300083, 0.08157066001968434]}, {\"name\": \"markov_cos_dis\", \"type\": \"bar\", \"x\": [\"non_uui_grey_score_pairs\", \"non_uui_low_score_pairs\", \"uui_grey_score_pairs\", \"uui_high_score_pairs\", \"uui_low_score_pairs\"], \"y\": [0.0987524756876374, 0.3964106992496636, 0.18971002461145015, 0.12029188583278667, 0.28954008093418454]}, {\"name\": \"interval_cos_dis\", \"type\": \"bar\", \"x\": [\"non_uui_grey_score_pairs\", \"non_uui_low_score_pairs\", \"uui_grey_score_pairs\", \"uui_high_score_pairs\", \"uui_low_score_pairs\"], \"y\": [0.04503226957011233, 0.2921496081959667, 0.1596726704823253, 0.10771854039896539, 0.26922229904117195]}, {\"name\": \"hour_normalise_cos_dis\", \"type\": \"bar\", \"x\": [\"non_uui_grey_score_pairs\", \"non_uui_low_score_pairs\", \"uui_grey_score_pairs\", \"uui_high_score_pairs\", \"uui_low_score_pairs\"], \"y\": [0.2547795335921536, 0.6280932232219274, 0.17348466878301258, 0.10346915379107047, 0.3869921566422853]}],\n",
       "                        {\"barmode\": \"group\", \"template\": {\"data\": {\"bar\": [{\"error_x\": {\"color\": \"#2a3f5f\"}, \"error_y\": {\"color\": \"#2a3f5f\"}, \"marker\": {\"line\": {\"color\": \"#E5ECF6\", \"width\": 0.5}}, \"type\": \"bar\"}], \"barpolar\": [{\"marker\": {\"line\": {\"color\": \"#E5ECF6\", \"width\": 0.5}}, \"type\": \"barpolar\"}], \"carpet\": [{\"aaxis\": {\"endlinecolor\": \"#2a3f5f\", \"gridcolor\": \"white\", \"linecolor\": \"white\", \"minorgridcolor\": \"white\", \"startlinecolor\": \"#2a3f5f\"}, \"baxis\": {\"endlinecolor\": \"#2a3f5f\", \"gridcolor\": \"white\", \"linecolor\": \"white\", \"minorgridcolor\": \"white\", \"startlinecolor\": \"#2a3f5f\"}, \"type\": \"carpet\"}], \"choropleth\": [{\"colorbar\": {\"outlinewidth\": 0, \"ticks\": \"\"}, \"type\": \"choropleth\"}], \"contour\": [{\"colorbar\": {\"outlinewidth\": 0, \"ticks\": \"\"}, \"colorscale\": [[0.0, \"#0d0887\"], [0.1111111111111111, \"#46039f\"], [0.2222222222222222, \"#7201a8\"], [0.3333333333333333, \"#9c179e\"], [0.4444444444444444, \"#bd3786\"], [0.5555555555555556, \"#d8576b\"], [0.6666666666666666, \"#ed7953\"], [0.7777777777777778, \"#fb9f3a\"], [0.8888888888888888, \"#fdca26\"], [1.0, \"#f0f921\"]], \"type\": \"contour\"}], \"contourcarpet\": [{\"colorbar\": {\"outlinewidth\": 0, \"ticks\": \"\"}, \"type\": \"contourcarpet\"}], \"heatmap\": [{\"colorbar\": {\"outlinewidth\": 0, \"ticks\": \"\"}, \"colorscale\": [[0.0, \"#0d0887\"], [0.1111111111111111, \"#46039f\"], [0.2222222222222222, \"#7201a8\"], [0.3333333333333333, \"#9c179e\"], [0.4444444444444444, \"#bd3786\"], [0.5555555555555556, \"#d8576b\"], [0.6666666666666666, \"#ed7953\"], [0.7777777777777778, \"#fb9f3a\"], [0.8888888888888888, \"#fdca26\"], [1.0, \"#f0f921\"]], \"type\": \"heatmap\"}], \"heatmapgl\": [{\"colorbar\": {\"outlinewidth\": 0, \"ticks\": \"\"}, \"colorscale\": [[0.0, \"#0d0887\"], [0.1111111111111111, \"#46039f\"], [0.2222222222222222, \"#7201a8\"], [0.3333333333333333, \"#9c179e\"], [0.4444444444444444, \"#bd3786\"], [0.5555555555555556, \"#d8576b\"], [0.6666666666666666, \"#ed7953\"], [0.7777777777777778, \"#fb9f3a\"], [0.8888888888888888, \"#fdca26\"], [1.0, \"#f0f921\"]], \"type\": \"heatmapgl\"}], \"histogram\": [{\"marker\": {\"colorbar\": {\"outlinewidth\": 0, \"ticks\": \"\"}}, \"type\": \"histogram\"}], \"histogram2d\": [{\"colorbar\": {\"outlinewidth\": 0, \"ticks\": \"\"}, \"colorscale\": [[0.0, \"#0d0887\"], [0.1111111111111111, \"#46039f\"], [0.2222222222222222, \"#7201a8\"], [0.3333333333333333, \"#9c179e\"], [0.4444444444444444, \"#bd3786\"], [0.5555555555555556, \"#d8576b\"], [0.6666666666666666, \"#ed7953\"], [0.7777777777777778, \"#fb9f3a\"], [0.8888888888888888, \"#fdca26\"], [1.0, \"#f0f921\"]], \"type\": \"histogram2d\"}], \"histogram2dcontour\": [{\"colorbar\": {\"outlinewidth\": 0, \"ticks\": \"\"}, \"colorscale\": [[0.0, \"#0d0887\"], [0.1111111111111111, \"#46039f\"], [0.2222222222222222, \"#7201a8\"], [0.3333333333333333, \"#9c179e\"], [0.4444444444444444, \"#bd3786\"], [0.5555555555555556, \"#d8576b\"], [0.6666666666666666, \"#ed7953\"], [0.7777777777777778, \"#fb9f3a\"], [0.8888888888888888, \"#fdca26\"], [1.0, \"#f0f921\"]], \"type\": \"histogram2dcontour\"}], \"mesh3d\": [{\"colorbar\": {\"outlinewidth\": 0, \"ticks\": \"\"}, \"type\": \"mesh3d\"}], \"parcoords\": [{\"line\": {\"colorbar\": {\"outlinewidth\": 0, \"ticks\": \"\"}}, \"type\": \"parcoords\"}], \"scatter\": [{\"marker\": {\"colorbar\": {\"outlinewidth\": 0, \"ticks\": \"\"}}, \"type\": \"scatter\"}], \"scatter3d\": [{\"line\": {\"colorbar\": {\"outlinewidth\": 0, \"ticks\": \"\"}}, \"marker\": {\"colorbar\": {\"outlinewidth\": 0, \"ticks\": \"\"}}, \"type\": \"scatter3d\"}], \"scattercarpet\": [{\"marker\": {\"colorbar\": {\"outlinewidth\": 0, \"ticks\": \"\"}}, \"type\": \"scattercarpet\"}], \"scattergeo\": [{\"marker\": {\"colorbar\": {\"outlinewidth\": 0, \"ticks\": \"\"}}, \"type\": \"scattergeo\"}], \"scattergl\": [{\"marker\": {\"colorbar\": {\"outlinewidth\": 0, \"ticks\": \"\"}}, \"type\": \"scattergl\"}], \"scattermapbox\": [{\"marker\": {\"colorbar\": {\"outlinewidth\": 0, \"ticks\": \"\"}}, \"type\": \"scattermapbox\"}], \"scatterpolar\": [{\"marker\": {\"colorbar\": {\"outlinewidth\": 0, \"ticks\": \"\"}}, \"type\": \"scatterpolar\"}], \"scatterpolargl\": [{\"marker\": {\"colorbar\": {\"outlinewidth\": 0, \"ticks\": \"\"}}, \"type\": \"scatterpolargl\"}], \"scatterternary\": [{\"marker\": {\"colorbar\": {\"outlinewidth\": 0, \"ticks\": \"\"}}, \"type\": \"scatterternary\"}], \"surface\": [{\"colorbar\": {\"outlinewidth\": 0, \"ticks\": \"\"}, \"colorscale\": [[0.0, \"#0d0887\"], [0.1111111111111111, \"#46039f\"], [0.2222222222222222, \"#7201a8\"], [0.3333333333333333, \"#9c179e\"], [0.4444444444444444, \"#bd3786\"], [0.5555555555555556, \"#d8576b\"], [0.6666666666666666, \"#ed7953\"], [0.7777777777777778, \"#fb9f3a\"], [0.8888888888888888, \"#fdca26\"], [1.0, \"#f0f921\"]], \"type\": \"surface\"}], \"table\": [{\"cells\": {\"fill\": {\"color\": \"#EBF0F8\"}, \"line\": {\"color\": \"white\"}}, \"header\": {\"fill\": {\"color\": \"#C8D4E3\"}, \"line\": {\"color\": \"white\"}}, \"type\": \"table\"}]}, \"layout\": {\"annotationdefaults\": {\"arrowcolor\": \"#2a3f5f\", \"arrowhead\": 0, \"arrowwidth\": 1}, \"colorscale\": {\"diverging\": [[0, \"#8e0152\"], [0.1, \"#c51b7d\"], [0.2, \"#de77ae\"], [0.3, \"#f1b6da\"], [0.4, \"#fde0ef\"], [0.5, \"#f7f7f7\"], [0.6, \"#e6f5d0\"], [0.7, \"#b8e186\"], [0.8, \"#7fbc41\"], [0.9, \"#4d9221\"], [1, \"#276419\"]], \"sequential\": [[0.0, \"#0d0887\"], [0.1111111111111111, \"#46039f\"], [0.2222222222222222, \"#7201a8\"], [0.3333333333333333, \"#9c179e\"], [0.4444444444444444, \"#bd3786\"], [0.5555555555555556, \"#d8576b\"], [0.6666666666666666, \"#ed7953\"], [0.7777777777777778, \"#fb9f3a\"], [0.8888888888888888, \"#fdca26\"], [1.0, \"#f0f921\"]], \"sequentialminus\": [[0.0, \"#0d0887\"], [0.1111111111111111, \"#46039f\"], [0.2222222222222222, \"#7201a8\"], [0.3333333333333333, \"#9c179e\"], [0.4444444444444444, \"#bd3786\"], [0.5555555555555556, \"#d8576b\"], [0.6666666666666666, \"#ed7953\"], [0.7777777777777778, \"#fb9f3a\"], [0.8888888888888888, \"#fdca26\"], [1.0, \"#f0f921\"]]}, \"colorway\": [\"#636efa\", \"#EF553B\", \"#00cc96\", \"#ab63fa\", \"#FFA15A\", \"#19d3f3\", \"#FF6692\", \"#B6E880\", \"#FF97FF\", \"#FECB52\"], \"font\": {\"color\": \"#2a3f5f\"}, \"geo\": {\"bgcolor\": \"white\", \"lakecolor\": \"white\", \"landcolor\": \"#E5ECF6\", \"showlakes\": true, \"showland\": true, \"subunitcolor\": \"white\"}, \"hoverlabel\": {\"align\": \"left\"}, \"hovermode\": \"closest\", \"mapbox\": {\"style\": \"light\"}, \"paper_bgcolor\": \"white\", \"plot_bgcolor\": \"#E5ECF6\", \"polar\": {\"angularaxis\": {\"gridcolor\": \"white\", \"linecolor\": \"white\", \"ticks\": \"\"}, \"bgcolor\": \"#E5ECF6\", \"radialaxis\": {\"gridcolor\": \"white\", \"linecolor\": \"white\", \"ticks\": \"\"}}, \"scene\": {\"xaxis\": {\"backgroundcolor\": \"#E5ECF6\", \"gridcolor\": \"white\", \"gridwidth\": 2, \"linecolor\": \"white\", \"showbackground\": true, \"ticks\": \"\", \"zerolinecolor\": \"white\"}, \"yaxis\": {\"backgroundcolor\": \"#E5ECF6\", \"gridcolor\": \"white\", \"gridwidth\": 2, \"linecolor\": \"white\", \"showbackground\": true, \"ticks\": \"\", \"zerolinecolor\": \"white\"}, \"zaxis\": {\"backgroundcolor\": \"#E5ECF6\", \"gridcolor\": \"white\", \"gridwidth\": 2, \"linecolor\": \"white\", \"showbackground\": true, \"ticks\": \"\", \"zerolinecolor\": \"white\"}}, \"shapedefaults\": {\"line\": {\"color\": \"#2a3f5f\"}}, \"ternary\": {\"aaxis\": {\"gridcolor\": \"white\", \"linecolor\": \"white\", \"ticks\": \"\"}, \"baxis\": {\"gridcolor\": \"white\", \"linecolor\": \"white\", \"ticks\": \"\"}, \"bgcolor\": \"#E5ECF6\", \"caxis\": {\"gridcolor\": \"white\", \"linecolor\": \"white\", \"ticks\": \"\"}}, \"title\": {\"x\": 0.05}, \"xaxis\": {\"automargin\": true, \"gridcolor\": \"white\", \"linecolor\": \"white\", \"ticks\": \"\", \"zerolinecolor\": \"white\", \"zerolinewidth\": 2}, \"yaxis\": {\"automargin\": true, \"gridcolor\": \"white\", \"linecolor\": \"white\", \"ticks\": \"\", \"zerolinecolor\": \"white\", \"zerolinewidth\": 2}}}},\n",
       "                        {\"responsive\": true}\n",
       "                    ).then(function(){\n",
       "                            \n",
       "var gd = document.getElementById('aac6dc97-dbf6-4586-ab90-debdb49ab292');\n",
       "var x = new MutationObserver(function (mutations, observer) {{\n",
       "        var display = window.getComputedStyle(gd).display;\n",
       "        if (!display || display === 'none') {{\n",
       "            console.log([gd, 'removed!']);\n",
       "            Plotly.purge(gd);\n",
       "            observer.disconnect();\n",
       "        }}\n",
       "}});\n",
       "\n",
       "// Listen for the removal of the full notebook cells\n",
       "var notebookContainer = gd.closest('#notebook-container');\n",
       "if (notebookContainer) {{\n",
       "    x.observe(notebookContainer, {childList: true});\n",
       "}}\n",
       "\n",
       "// Listen for the clearing of the current output cell\n",
       "var outputEl = gd.closest('.output');\n",
       "if (outputEl) {{\n",
       "    x.observe(outputEl, {childList: true});\n",
       "}}\n",
       "\n",
       "                        })\n",
       "                };\n",
       "                });\n",
       "            </script>\n",
       "        </div>"
      ]
     },
     "metadata": {},
     "output_type": "display_data"
    }
   ],
   "source": [
    "labels=['non_uui_grey_score_pairs', \n",
    "        'non_uui_low_score_pairs', \n",
    "        'uui_grey_score_pairs', \n",
    "        'uui_high_score_pairs', \n",
    "        'uui_low_score_pairs']\n",
    "\n",
    "fig = go.Figure(data=[\n",
    "    go.Bar(name='active_time_diff',         x=labels, y=stats_df['active_time_diff']['mean'].values),\n",
    "    go.Bar(name='session_count_diff',       x=labels, y=stats_df['session_count_diff']['mean'].values),\n",
    "    go.Bar(name='operation_count_diff',     x=labels, y=stats_df['operation_count_diff']['mean'].values),\n",
    "    go.Bar(name='action_normalise_cos_dis', x=labels, y=stats_df['action_normalise_cos_dis']['mean'].values),\n",
    "    go.Bar(name='markov_cos_dis',           x=labels, y=stats_df['markov_cos_dis']['mean'].values),\n",
    "    go.Bar(name='interval_cos_dis',         x=labels, y=stats_df['interval_cos_dis']['mean'].values),\n",
    "    go.Bar(name='hour_normalise_cos_dis',   x=labels, y=stats_df['hour_normalise_cos_dis']['mean'].values)\n",
    "])\n",
    "# Change the bar mode\n",
    "fig.update_layout(barmode='group')\n",
    "fig.show()"
   ]
  },
  {
   "cell_type": "markdown",
   "metadata": {},
   "source": [
    "# make high threshold on user behaviour\n",
    "\n",
    "### For users who spend total time larger than 30 min (in 2019-09)"
   ]
  },
  {
   "cell_type": "code",
   "execution_count": 42,
   "metadata": {},
   "outputs": [],
   "source": [
    "session_count_threshold = 10\n",
    "active_time_threshold = 30 * 60\n",
    "\n",
    "\n",
    "df = pair_df[pair_df['session_count1'] >= session_count_threshold]\n",
    "df = df[df['session_count2'] >= session_count_threshold]\n",
    "df = df[df['active_time1'] >= active_time_threshold]\n",
    "df = df[df['active_time2'] >= active_time_threshold]"
   ]
  },
  {
   "cell_type": "code",
   "execution_count": 43,
   "metadata": {},
   "outputs": [
    {
     "data": {
      "text/plain": [
       "label\n",
       "non_uui_grey_score_pairs      1981\n",
       "non_uui_low_score_pairs     484277\n",
       "uui_grey_score_pairs           574\n",
       "uui_high_score_pairs           668\n",
       "uui_low_score_pairs             92\n",
       "Name: node1, dtype: int64"
      ]
     },
     "execution_count": 43,
     "metadata": {},
     "output_type": "execute_result"
    }
   ],
   "source": [
    "df.groupby('label')['node1'].count()"
   ]
  },
  {
   "cell_type": "code",
   "execution_count": 44,
   "metadata": {},
   "outputs": [
    {
     "data": {
      "text/html": [
       "<div>\n",
       "<style scoped>\n",
       "    .dataframe tbody tr th:only-of-type {\n",
       "        vertical-align: middle;\n",
       "    }\n",
       "\n",
       "    .dataframe tbody tr th {\n",
       "        vertical-align: top;\n",
       "    }\n",
       "\n",
       "    .dataframe thead tr th {\n",
       "        text-align: left;\n",
       "    }\n",
       "\n",
       "    .dataframe thead tr:last-of-type th {\n",
       "        text-align: right;\n",
       "    }\n",
       "</style>\n",
       "<table border=\"1\" class=\"dataframe\">\n",
       "  <thead>\n",
       "    <tr>\n",
       "      <th></th>\n",
       "      <th colspan=\"2\" halign=\"left\">active_time_diff</th>\n",
       "      <th colspan=\"2\" halign=\"left\">session_count_diff</th>\n",
       "      <th colspan=\"2\" halign=\"left\">operation_count_diff</th>\n",
       "      <th colspan=\"2\" halign=\"left\">action_normalise_cos_dis</th>\n",
       "      <th colspan=\"2\" halign=\"left\">markov_cos_dis</th>\n",
       "      <th colspan=\"2\" halign=\"left\">hour_normalise_cos_dis</th>\n",
       "      <th colspan=\"2\" halign=\"left\">interval_cos_dis</th>\n",
       "    </tr>\n",
       "    <tr>\n",
       "      <th></th>\n",
       "      <th>mean</th>\n",
       "      <th>std</th>\n",
       "      <th>mean</th>\n",
       "      <th>std</th>\n",
       "      <th>mean</th>\n",
       "      <th>std</th>\n",
       "      <th>mean</th>\n",
       "      <th>std</th>\n",
       "      <th>mean</th>\n",
       "      <th>std</th>\n",
       "      <th>mean</th>\n",
       "      <th>std</th>\n",
       "      <th>mean</th>\n",
       "      <th>std</th>\n",
       "    </tr>\n",
       "    <tr>\n",
       "      <th>label</th>\n",
       "      <th></th>\n",
       "      <th></th>\n",
       "      <th></th>\n",
       "      <th></th>\n",
       "      <th></th>\n",
       "      <th></th>\n",
       "      <th></th>\n",
       "      <th></th>\n",
       "      <th></th>\n",
       "      <th></th>\n",
       "      <th></th>\n",
       "      <th></th>\n",
       "      <th></th>\n",
       "      <th></th>\n",
       "    </tr>\n",
       "  </thead>\n",
       "  <tbody>\n",
       "    <tr>\n",
       "      <th>non_uui_grey_score_pairs</th>\n",
       "      <td>134.370831</td>\n",
       "      <td>224.339413</td>\n",
       "      <td>13.536598</td>\n",
       "      <td>17.002029</td>\n",
       "      <td>555.260979</td>\n",
       "      <td>1183.694171</td>\n",
       "      <td>0.088029</td>\n",
       "      <td>0.133166</td>\n",
       "      <td>0.341891</td>\n",
       "      <td>0.156857</td>\n",
       "      <td>0.299258</td>\n",
       "      <td>0.226706</td>\n",
       "      <td>0.298823</td>\n",
       "      <td>0.245762</td>\n",
       "    </tr>\n",
       "    <tr>\n",
       "      <th>non_uui_low_score_pairs</th>\n",
       "      <td>282.299358</td>\n",
       "      <td>378.675723</td>\n",
       "      <td>26.328017</td>\n",
       "      <td>28.965440</td>\n",
       "      <td>1340.881052</td>\n",
       "      <td>2619.516415</td>\n",
       "      <td>0.267949</td>\n",
       "      <td>0.194955</td>\n",
       "      <td>0.466326</td>\n",
       "      <td>0.132558</td>\n",
       "      <td>0.559652</td>\n",
       "      <td>0.213320</td>\n",
       "      <td>0.406270</td>\n",
       "      <td>0.255627</td>\n",
       "    </tr>\n",
       "    <tr>\n",
       "      <th>uui_grey_score_pairs</th>\n",
       "      <td>36.873701</td>\n",
       "      <td>69.730057</td>\n",
       "      <td>11.010453</td>\n",
       "      <td>9.097104</td>\n",
       "      <td>90.280488</td>\n",
       "      <td>179.664307</td>\n",
       "      <td>0.046528</td>\n",
       "      <td>0.093731</td>\n",
       "      <td>0.260030</td>\n",
       "      <td>0.157165</td>\n",
       "      <td>0.214426</td>\n",
       "      <td>0.149032</td>\n",
       "      <td>0.266178</td>\n",
       "      <td>0.234715</td>\n",
       "    </tr>\n",
       "    <tr>\n",
       "      <th>uui_high_score_pairs</th>\n",
       "      <td>121.824815</td>\n",
       "      <td>227.638394</td>\n",
       "      <td>12.654192</td>\n",
       "      <td>16.858042</td>\n",
       "      <td>425.543413</td>\n",
       "      <td>961.202164</td>\n",
       "      <td>0.054270</td>\n",
       "      <td>0.111118</td>\n",
       "      <td>0.286524</td>\n",
       "      <td>0.152949</td>\n",
       "      <td>0.228477</td>\n",
       "      <td>0.192845</td>\n",
       "      <td>0.296477</td>\n",
       "      <td>0.263460</td>\n",
       "    </tr>\n",
       "    <tr>\n",
       "      <th>uui_low_score_pairs</th>\n",
       "      <td>21.019390</td>\n",
       "      <td>20.657761</td>\n",
       "      <td>10.206522</td>\n",
       "      <td>8.029531</td>\n",
       "      <td>44.347826</td>\n",
       "      <td>59.426274</td>\n",
       "      <td>0.109754</td>\n",
       "      <td>0.155864</td>\n",
       "      <td>0.344585</td>\n",
       "      <td>0.238941</td>\n",
       "      <td>0.255881</td>\n",
       "      <td>0.147156</td>\n",
       "      <td>0.356394</td>\n",
       "      <td>0.220969</td>\n",
       "    </tr>\n",
       "  </tbody>\n",
       "</table>\n",
       "</div>"
      ],
      "text/plain": [
       "                         active_time_diff             session_count_diff  \\\n",
       "                                     mean         std               mean   \n",
       "label                                                                      \n",
       "non_uui_grey_score_pairs       134.370831  224.339413          13.536598   \n",
       "non_uui_low_score_pairs        282.299358  378.675723          26.328017   \n",
       "uui_grey_score_pairs            36.873701   69.730057          11.010453   \n",
       "uui_high_score_pairs           121.824815  227.638394          12.654192   \n",
       "uui_low_score_pairs             21.019390   20.657761          10.206522   \n",
       "\n",
       "                                    operation_count_diff               \\\n",
       "                                std                 mean          std   \n",
       "label                                                                   \n",
       "non_uui_grey_score_pairs  17.002029           555.260979  1183.694171   \n",
       "non_uui_low_score_pairs   28.965440          1340.881052  2619.516415   \n",
       "uui_grey_score_pairs       9.097104            90.280488   179.664307   \n",
       "uui_high_score_pairs      16.858042           425.543413   961.202164   \n",
       "uui_low_score_pairs        8.029531            44.347826    59.426274   \n",
       "\n",
       "                         action_normalise_cos_dis           markov_cos_dis  \\\n",
       "                                             mean       std           mean   \n",
       "label                                                                        \n",
       "non_uui_grey_score_pairs                 0.088029  0.133166       0.341891   \n",
       "non_uui_low_score_pairs                  0.267949  0.194955       0.466326   \n",
       "uui_grey_score_pairs                     0.046528  0.093731       0.260030   \n",
       "uui_high_score_pairs                     0.054270  0.111118       0.286524   \n",
       "uui_low_score_pairs                      0.109754  0.155864       0.344585   \n",
       "\n",
       "                                   hour_normalise_cos_dis            \\\n",
       "                               std                   mean       std   \n",
       "label                                                                 \n",
       "non_uui_grey_score_pairs  0.156857               0.299258  0.226706   \n",
       "non_uui_low_score_pairs   0.132558               0.559652  0.213320   \n",
       "uui_grey_score_pairs      0.157165               0.214426  0.149032   \n",
       "uui_high_score_pairs      0.152949               0.228477  0.192845   \n",
       "uui_low_score_pairs       0.238941               0.255881  0.147156   \n",
       "\n",
       "                         interval_cos_dis            \n",
       "                                     mean       std  \n",
       "label                                                \n",
       "non_uui_grey_score_pairs         0.298823  0.245762  \n",
       "non_uui_low_score_pairs          0.406270  0.255627  \n",
       "uui_grey_score_pairs             0.266178  0.234715  \n",
       "uui_high_score_pairs             0.296477  0.263460  \n",
       "uui_low_score_pairs              0.356394  0.220969  "
      ]
     },
     "execution_count": 44,
     "metadata": {},
     "output_type": "execute_result"
    }
   ],
   "source": [
    "stat_df = df.groupby(\"label\")[\n",
    "    'active_time_diff',\n",
    "    'session_count_diff',\n",
    "    'operation_count_diff',\n",
    "    'action_normalise_cos_dis',\n",
    "    'markov_cos_dis',\n",
    "    'hour_normalise_cos_dis',\n",
    "    'interval_cos_dis'\n",
    "].agg([np.mean, np.std])\n",
    "\n",
    "stat_df"
   ]
  },
  {
   "cell_type": "code",
   "execution_count": 45,
   "metadata": {},
   "outputs": [
    {
     "data": {
      "application/vnd.plotly.v1+json": {
       "config": {
        "plotlyServerURL": "https://plot.ly"
       },
       "data": [
        {
         "name": "active_time_diff",
         "type": "bar",
         "x": [
          "non_uui_grey_score_pairs",
          "non_uui_low_score_pairs",
          "uui_grey_score_pairs",
          "uui_high_score_pairs",
          "uui_low_score_pairs"
         ],
         "y": [
          10.72977673402199,
          183.7513133190006,
          16.557499200278436,
          24.165241553837834,
          24.246351866627894
         ]
        },
        {
         "name": "session_count_diff",
         "type": "bar",
         "x": [
          "non_uui_grey_score_pairs",
          "non_uui_low_score_pairs",
          "uui_grey_score_pairs",
          "uui_high_score_pairs",
          "uui_low_score_pairs"
         ],
         "y": [
          2.052730023380553,
          17.84863260991969,
          6.360824742268041,
          3.8046403712296986,
          9.437689969604863
         ]
        },
        {
         "name": "operation_count_diff",
         "type": "bar",
         "x": [
          "non_uui_grey_score_pairs",
          "non_uui_low_score_pairs",
          "uui_grey_score_pairs",
          "uui_high_score_pairs",
          "uui_low_score_pairs"
         ],
         "y": [
          37.423765644340534,
          866.7879903292404,
          35.88183980967486,
          79.84013921113689,
          41.01215805471124
         ]
        },
        {
         "name": "action_normalise_cos_dis",
         "type": "bar",
         "x": [
          "non_uui_grey_score_pairs",
          "non_uui_low_score_pairs",
          "uui_grey_score_pairs",
          "uui_high_score_pairs",
          "uui_low_score_pairs"
         ],
         "y": [
          0.015523720331074856,
          0.1978813019263227,
          0.035899023713992145,
          0.023510149495300083,
          0.08157066001968434
         ]
        },
        {
         "name": "markov_cos_dis",
         "type": "bar",
         "x": [
          "non_uui_grey_score_pairs",
          "non_uui_low_score_pairs",
          "uui_grey_score_pairs",
          "uui_high_score_pairs",
          "uui_low_score_pairs"
         ],
         "y": [
          0.0987524756876374,
          0.3964106992496636,
          0.18971002461145015,
          0.12029188583278667,
          0.28954008093418454
         ]
        },
        {
         "name": "interval_cos_dis",
         "type": "bar",
         "x": [
          "non_uui_grey_score_pairs",
          "non_uui_low_score_pairs",
          "uui_grey_score_pairs",
          "uui_high_score_pairs",
          "uui_low_score_pairs"
         ],
         "y": [
          0.04503226957011233,
          0.2921496081959667,
          0.1596726704823253,
          0.10771854039896539,
          0.26922229904117195
         ]
        },
        {
         "name": "hour_normalise_cos_dis",
         "type": "bar",
         "x": [
          "non_uui_grey_score_pairs",
          "non_uui_low_score_pairs",
          "uui_grey_score_pairs",
          "uui_high_score_pairs",
          "uui_low_score_pairs"
         ],
         "y": [
          0.2547795335921536,
          0.6280932232219274,
          0.17348466878301258,
          0.10346915379107047,
          0.3869921566422853
         ]
        }
       ],
       "layout": {
        "barmode": "group",
        "template": {
         "data": {
          "bar": [
           {
            "error_x": {
             "color": "#2a3f5f"
            },
            "error_y": {
             "color": "#2a3f5f"
            },
            "marker": {
             "line": {
              "color": "#E5ECF6",
              "width": 0.5
             }
            },
            "type": "bar"
           }
          ],
          "barpolar": [
           {
            "marker": {
             "line": {
              "color": "#E5ECF6",
              "width": 0.5
             }
            },
            "type": "barpolar"
           }
          ],
          "carpet": [
           {
            "aaxis": {
             "endlinecolor": "#2a3f5f",
             "gridcolor": "white",
             "linecolor": "white",
             "minorgridcolor": "white",
             "startlinecolor": "#2a3f5f"
            },
            "baxis": {
             "endlinecolor": "#2a3f5f",
             "gridcolor": "white",
             "linecolor": "white",
             "minorgridcolor": "white",
             "startlinecolor": "#2a3f5f"
            },
            "type": "carpet"
           }
          ],
          "choropleth": [
           {
            "colorbar": {
             "outlinewidth": 0,
             "ticks": ""
            },
            "type": "choropleth"
           }
          ],
          "contour": [
           {
            "colorbar": {
             "outlinewidth": 0,
             "ticks": ""
            },
            "colorscale": [
             [
              0,
              "#0d0887"
             ],
             [
              0.1111111111111111,
              "#46039f"
             ],
             [
              0.2222222222222222,
              "#7201a8"
             ],
             [
              0.3333333333333333,
              "#9c179e"
             ],
             [
              0.4444444444444444,
              "#bd3786"
             ],
             [
              0.5555555555555556,
              "#d8576b"
             ],
             [
              0.6666666666666666,
              "#ed7953"
             ],
             [
              0.7777777777777778,
              "#fb9f3a"
             ],
             [
              0.8888888888888888,
              "#fdca26"
             ],
             [
              1,
              "#f0f921"
             ]
            ],
            "type": "contour"
           }
          ],
          "contourcarpet": [
           {
            "colorbar": {
             "outlinewidth": 0,
             "ticks": ""
            },
            "type": "contourcarpet"
           }
          ],
          "heatmap": [
           {
            "colorbar": {
             "outlinewidth": 0,
             "ticks": ""
            },
            "colorscale": [
             [
              0,
              "#0d0887"
             ],
             [
              0.1111111111111111,
              "#46039f"
             ],
             [
              0.2222222222222222,
              "#7201a8"
             ],
             [
              0.3333333333333333,
              "#9c179e"
             ],
             [
              0.4444444444444444,
              "#bd3786"
             ],
             [
              0.5555555555555556,
              "#d8576b"
             ],
             [
              0.6666666666666666,
              "#ed7953"
             ],
             [
              0.7777777777777778,
              "#fb9f3a"
             ],
             [
              0.8888888888888888,
              "#fdca26"
             ],
             [
              1,
              "#f0f921"
             ]
            ],
            "type": "heatmap"
           }
          ],
          "heatmapgl": [
           {
            "colorbar": {
             "outlinewidth": 0,
             "ticks": ""
            },
            "colorscale": [
             [
              0,
              "#0d0887"
             ],
             [
              0.1111111111111111,
              "#46039f"
             ],
             [
              0.2222222222222222,
              "#7201a8"
             ],
             [
              0.3333333333333333,
              "#9c179e"
             ],
             [
              0.4444444444444444,
              "#bd3786"
             ],
             [
              0.5555555555555556,
              "#d8576b"
             ],
             [
              0.6666666666666666,
              "#ed7953"
             ],
             [
              0.7777777777777778,
              "#fb9f3a"
             ],
             [
              0.8888888888888888,
              "#fdca26"
             ],
             [
              1,
              "#f0f921"
             ]
            ],
            "type": "heatmapgl"
           }
          ],
          "histogram": [
           {
            "marker": {
             "colorbar": {
              "outlinewidth": 0,
              "ticks": ""
             }
            },
            "type": "histogram"
           }
          ],
          "histogram2d": [
           {
            "colorbar": {
             "outlinewidth": 0,
             "ticks": ""
            },
            "colorscale": [
             [
              0,
              "#0d0887"
             ],
             [
              0.1111111111111111,
              "#46039f"
             ],
             [
              0.2222222222222222,
              "#7201a8"
             ],
             [
              0.3333333333333333,
              "#9c179e"
             ],
             [
              0.4444444444444444,
              "#bd3786"
             ],
             [
              0.5555555555555556,
              "#d8576b"
             ],
             [
              0.6666666666666666,
              "#ed7953"
             ],
             [
              0.7777777777777778,
              "#fb9f3a"
             ],
             [
              0.8888888888888888,
              "#fdca26"
             ],
             [
              1,
              "#f0f921"
             ]
            ],
            "type": "histogram2d"
           }
          ],
          "histogram2dcontour": [
           {
            "colorbar": {
             "outlinewidth": 0,
             "ticks": ""
            },
            "colorscale": [
             [
              0,
              "#0d0887"
             ],
             [
              0.1111111111111111,
              "#46039f"
             ],
             [
              0.2222222222222222,
              "#7201a8"
             ],
             [
              0.3333333333333333,
              "#9c179e"
             ],
             [
              0.4444444444444444,
              "#bd3786"
             ],
             [
              0.5555555555555556,
              "#d8576b"
             ],
             [
              0.6666666666666666,
              "#ed7953"
             ],
             [
              0.7777777777777778,
              "#fb9f3a"
             ],
             [
              0.8888888888888888,
              "#fdca26"
             ],
             [
              1,
              "#f0f921"
             ]
            ],
            "type": "histogram2dcontour"
           }
          ],
          "mesh3d": [
           {
            "colorbar": {
             "outlinewidth": 0,
             "ticks": ""
            },
            "type": "mesh3d"
           }
          ],
          "parcoords": [
           {
            "line": {
             "colorbar": {
              "outlinewidth": 0,
              "ticks": ""
             }
            },
            "type": "parcoords"
           }
          ],
          "scatter": [
           {
            "marker": {
             "colorbar": {
              "outlinewidth": 0,
              "ticks": ""
             }
            },
            "type": "scatter"
           }
          ],
          "scatter3d": [
           {
            "line": {
             "colorbar": {
              "outlinewidth": 0,
              "ticks": ""
             }
            },
            "marker": {
             "colorbar": {
              "outlinewidth": 0,
              "ticks": ""
             }
            },
            "type": "scatter3d"
           }
          ],
          "scattercarpet": [
           {
            "marker": {
             "colorbar": {
              "outlinewidth": 0,
              "ticks": ""
             }
            },
            "type": "scattercarpet"
           }
          ],
          "scattergeo": [
           {
            "marker": {
             "colorbar": {
              "outlinewidth": 0,
              "ticks": ""
             }
            },
            "type": "scattergeo"
           }
          ],
          "scattergl": [
           {
            "marker": {
             "colorbar": {
              "outlinewidth": 0,
              "ticks": ""
             }
            },
            "type": "scattergl"
           }
          ],
          "scattermapbox": [
           {
            "marker": {
             "colorbar": {
              "outlinewidth": 0,
              "ticks": ""
             }
            },
            "type": "scattermapbox"
           }
          ],
          "scatterpolar": [
           {
            "marker": {
             "colorbar": {
              "outlinewidth": 0,
              "ticks": ""
             }
            },
            "type": "scatterpolar"
           }
          ],
          "scatterpolargl": [
           {
            "marker": {
             "colorbar": {
              "outlinewidth": 0,
              "ticks": ""
             }
            },
            "type": "scatterpolargl"
           }
          ],
          "scatterternary": [
           {
            "marker": {
             "colorbar": {
              "outlinewidth": 0,
              "ticks": ""
             }
            },
            "type": "scatterternary"
           }
          ],
          "surface": [
           {
            "colorbar": {
             "outlinewidth": 0,
             "ticks": ""
            },
            "colorscale": [
             [
              0,
              "#0d0887"
             ],
             [
              0.1111111111111111,
              "#46039f"
             ],
             [
              0.2222222222222222,
              "#7201a8"
             ],
             [
              0.3333333333333333,
              "#9c179e"
             ],
             [
              0.4444444444444444,
              "#bd3786"
             ],
             [
              0.5555555555555556,
              "#d8576b"
             ],
             [
              0.6666666666666666,
              "#ed7953"
             ],
             [
              0.7777777777777778,
              "#fb9f3a"
             ],
             [
              0.8888888888888888,
              "#fdca26"
             ],
             [
              1,
              "#f0f921"
             ]
            ],
            "type": "surface"
           }
          ],
          "table": [
           {
            "cells": {
             "fill": {
              "color": "#EBF0F8"
             },
             "line": {
              "color": "white"
             }
            },
            "header": {
             "fill": {
              "color": "#C8D4E3"
             },
             "line": {
              "color": "white"
             }
            },
            "type": "table"
           }
          ]
         },
         "layout": {
          "annotationdefaults": {
           "arrowcolor": "#2a3f5f",
           "arrowhead": 0,
           "arrowwidth": 1
          },
          "colorscale": {
           "diverging": [
            [
             0,
             "#8e0152"
            ],
            [
             0.1,
             "#c51b7d"
            ],
            [
             0.2,
             "#de77ae"
            ],
            [
             0.3,
             "#f1b6da"
            ],
            [
             0.4,
             "#fde0ef"
            ],
            [
             0.5,
             "#f7f7f7"
            ],
            [
             0.6,
             "#e6f5d0"
            ],
            [
             0.7,
             "#b8e186"
            ],
            [
             0.8,
             "#7fbc41"
            ],
            [
             0.9,
             "#4d9221"
            ],
            [
             1,
             "#276419"
            ]
           ],
           "sequential": [
            [
             0,
             "#0d0887"
            ],
            [
             0.1111111111111111,
             "#46039f"
            ],
            [
             0.2222222222222222,
             "#7201a8"
            ],
            [
             0.3333333333333333,
             "#9c179e"
            ],
            [
             0.4444444444444444,
             "#bd3786"
            ],
            [
             0.5555555555555556,
             "#d8576b"
            ],
            [
             0.6666666666666666,
             "#ed7953"
            ],
            [
             0.7777777777777778,
             "#fb9f3a"
            ],
            [
             0.8888888888888888,
             "#fdca26"
            ],
            [
             1,
             "#f0f921"
            ]
           ],
           "sequentialminus": [
            [
             0,
             "#0d0887"
            ],
            [
             0.1111111111111111,
             "#46039f"
            ],
            [
             0.2222222222222222,
             "#7201a8"
            ],
            [
             0.3333333333333333,
             "#9c179e"
            ],
            [
             0.4444444444444444,
             "#bd3786"
            ],
            [
             0.5555555555555556,
             "#d8576b"
            ],
            [
             0.6666666666666666,
             "#ed7953"
            ],
            [
             0.7777777777777778,
             "#fb9f3a"
            ],
            [
             0.8888888888888888,
             "#fdca26"
            ],
            [
             1,
             "#f0f921"
            ]
           ]
          },
          "colorway": [
           "#636efa",
           "#EF553B",
           "#00cc96",
           "#ab63fa",
           "#FFA15A",
           "#19d3f3",
           "#FF6692",
           "#B6E880",
           "#FF97FF",
           "#FECB52"
          ],
          "font": {
           "color": "#2a3f5f"
          },
          "geo": {
           "bgcolor": "white",
           "lakecolor": "white",
           "landcolor": "#E5ECF6",
           "showlakes": true,
           "showland": true,
           "subunitcolor": "white"
          },
          "hoverlabel": {
           "align": "left"
          },
          "hovermode": "closest",
          "mapbox": {
           "style": "light"
          },
          "paper_bgcolor": "white",
          "plot_bgcolor": "#E5ECF6",
          "polar": {
           "angularaxis": {
            "gridcolor": "white",
            "linecolor": "white",
            "ticks": ""
           },
           "bgcolor": "#E5ECF6",
           "radialaxis": {
            "gridcolor": "white",
            "linecolor": "white",
            "ticks": ""
           }
          },
          "scene": {
           "xaxis": {
            "backgroundcolor": "#E5ECF6",
            "gridcolor": "white",
            "gridwidth": 2,
            "linecolor": "white",
            "showbackground": true,
            "ticks": "",
            "zerolinecolor": "white"
           },
           "yaxis": {
            "backgroundcolor": "#E5ECF6",
            "gridcolor": "white",
            "gridwidth": 2,
            "linecolor": "white",
            "showbackground": true,
            "ticks": "",
            "zerolinecolor": "white"
           },
           "zaxis": {
            "backgroundcolor": "#E5ECF6",
            "gridcolor": "white",
            "gridwidth": 2,
            "linecolor": "white",
            "showbackground": true,
            "ticks": "",
            "zerolinecolor": "white"
           }
          },
          "shapedefaults": {
           "line": {
            "color": "#2a3f5f"
           }
          },
          "ternary": {
           "aaxis": {
            "gridcolor": "white",
            "linecolor": "white",
            "ticks": ""
           },
           "baxis": {
            "gridcolor": "white",
            "linecolor": "white",
            "ticks": ""
           },
           "bgcolor": "#E5ECF6",
           "caxis": {
            "gridcolor": "white",
            "linecolor": "white",
            "ticks": ""
           }
          },
          "title": {
           "x": 0.05
          },
          "xaxis": {
           "automargin": true,
           "gridcolor": "white",
           "linecolor": "white",
           "ticks": "",
           "zerolinecolor": "white",
           "zerolinewidth": 2
          },
          "yaxis": {
           "automargin": true,
           "gridcolor": "white",
           "linecolor": "white",
           "ticks": "",
           "zerolinecolor": "white",
           "zerolinewidth": 2
          }
         }
        }
       }
      },
      "text/html": [
       "<div>\n",
       "        \n",
       "        \n",
       "            <div id=\"1204b4b5-762b-40d2-abd9-5bb800888578\" class=\"plotly-graph-div\" style=\"height:525px; width:100%;\"></div>\n",
       "            <script type=\"text/javascript\">\n",
       "                require([\"plotly\"], function(Plotly) {\n",
       "                    window.PLOTLYENV=window.PLOTLYENV || {};\n",
       "                    \n",
       "                if (document.getElementById(\"1204b4b5-762b-40d2-abd9-5bb800888578\")) {\n",
       "                    Plotly.newPlot(\n",
       "                        '1204b4b5-762b-40d2-abd9-5bb800888578',\n",
       "                        [{\"name\": \"active_time_diff\", \"type\": \"bar\", \"x\": [\"non_uui_grey_score_pairs\", \"non_uui_low_score_pairs\", \"uui_grey_score_pairs\", \"uui_high_score_pairs\", \"uui_low_score_pairs\"], \"y\": [10.72977673402199, 183.7513133190006, 16.557499200278436, 24.165241553837834, 24.246351866627894]}, {\"name\": \"session_count_diff\", \"type\": \"bar\", \"x\": [\"non_uui_grey_score_pairs\", \"non_uui_low_score_pairs\", \"uui_grey_score_pairs\", \"uui_high_score_pairs\", \"uui_low_score_pairs\"], \"y\": [2.052730023380553, 17.84863260991969, 6.360824742268041, 3.8046403712296986, 9.437689969604863]}, {\"name\": \"operation_count_diff\", \"type\": \"bar\", \"x\": [\"non_uui_grey_score_pairs\", \"non_uui_low_score_pairs\", \"uui_grey_score_pairs\", \"uui_high_score_pairs\", \"uui_low_score_pairs\"], \"y\": [37.423765644340534, 866.7879903292404, 35.88183980967486, 79.84013921113689, 41.01215805471124]}, {\"name\": \"action_normalise_cos_dis\", \"type\": \"bar\", \"x\": [\"non_uui_grey_score_pairs\", \"non_uui_low_score_pairs\", \"uui_grey_score_pairs\", \"uui_high_score_pairs\", \"uui_low_score_pairs\"], \"y\": [0.015523720331074856, 0.1978813019263227, 0.035899023713992145, 0.023510149495300083, 0.08157066001968434]}, {\"name\": \"markov_cos_dis\", \"type\": \"bar\", \"x\": [\"non_uui_grey_score_pairs\", \"non_uui_low_score_pairs\", \"uui_grey_score_pairs\", \"uui_high_score_pairs\", \"uui_low_score_pairs\"], \"y\": [0.0987524756876374, 0.3964106992496636, 0.18971002461145015, 0.12029188583278667, 0.28954008093418454]}, {\"name\": \"interval_cos_dis\", \"type\": \"bar\", \"x\": [\"non_uui_grey_score_pairs\", \"non_uui_low_score_pairs\", \"uui_grey_score_pairs\", \"uui_high_score_pairs\", \"uui_low_score_pairs\"], \"y\": [0.04503226957011233, 0.2921496081959667, 0.1596726704823253, 0.10771854039896539, 0.26922229904117195]}, {\"name\": \"hour_normalise_cos_dis\", \"type\": \"bar\", \"x\": [\"non_uui_grey_score_pairs\", \"non_uui_low_score_pairs\", \"uui_grey_score_pairs\", \"uui_high_score_pairs\", \"uui_low_score_pairs\"], \"y\": [0.2547795335921536, 0.6280932232219274, 0.17348466878301258, 0.10346915379107047, 0.3869921566422853]}],\n",
       "                        {\"barmode\": \"group\", \"template\": {\"data\": {\"bar\": [{\"error_x\": {\"color\": \"#2a3f5f\"}, \"error_y\": {\"color\": \"#2a3f5f\"}, \"marker\": {\"line\": {\"color\": \"#E5ECF6\", \"width\": 0.5}}, \"type\": \"bar\"}], \"barpolar\": [{\"marker\": {\"line\": {\"color\": \"#E5ECF6\", \"width\": 0.5}}, \"type\": \"barpolar\"}], \"carpet\": [{\"aaxis\": {\"endlinecolor\": \"#2a3f5f\", \"gridcolor\": \"white\", \"linecolor\": \"white\", \"minorgridcolor\": \"white\", \"startlinecolor\": \"#2a3f5f\"}, \"baxis\": {\"endlinecolor\": \"#2a3f5f\", \"gridcolor\": \"white\", \"linecolor\": \"white\", \"minorgridcolor\": \"white\", \"startlinecolor\": \"#2a3f5f\"}, \"type\": \"carpet\"}], \"choropleth\": [{\"colorbar\": {\"outlinewidth\": 0, \"ticks\": \"\"}, \"type\": \"choropleth\"}], \"contour\": [{\"colorbar\": {\"outlinewidth\": 0, \"ticks\": \"\"}, \"colorscale\": [[0.0, \"#0d0887\"], [0.1111111111111111, \"#46039f\"], [0.2222222222222222, \"#7201a8\"], [0.3333333333333333, \"#9c179e\"], [0.4444444444444444, \"#bd3786\"], [0.5555555555555556, \"#d8576b\"], [0.6666666666666666, \"#ed7953\"], [0.7777777777777778, \"#fb9f3a\"], [0.8888888888888888, \"#fdca26\"], [1.0, \"#f0f921\"]], \"type\": \"contour\"}], \"contourcarpet\": [{\"colorbar\": {\"outlinewidth\": 0, \"ticks\": \"\"}, \"type\": \"contourcarpet\"}], \"heatmap\": [{\"colorbar\": {\"outlinewidth\": 0, \"ticks\": \"\"}, \"colorscale\": [[0.0, \"#0d0887\"], [0.1111111111111111, \"#46039f\"], [0.2222222222222222, \"#7201a8\"], [0.3333333333333333, \"#9c179e\"], [0.4444444444444444, \"#bd3786\"], [0.5555555555555556, \"#d8576b\"], [0.6666666666666666, \"#ed7953\"], [0.7777777777777778, \"#fb9f3a\"], [0.8888888888888888, \"#fdca26\"], [1.0, \"#f0f921\"]], \"type\": \"heatmap\"}], \"heatmapgl\": [{\"colorbar\": {\"outlinewidth\": 0, \"ticks\": \"\"}, \"colorscale\": [[0.0, \"#0d0887\"], [0.1111111111111111, \"#46039f\"], [0.2222222222222222, \"#7201a8\"], [0.3333333333333333, \"#9c179e\"], [0.4444444444444444, \"#bd3786\"], [0.5555555555555556, \"#d8576b\"], [0.6666666666666666, \"#ed7953\"], [0.7777777777777778, \"#fb9f3a\"], [0.8888888888888888, \"#fdca26\"], [1.0, \"#f0f921\"]], \"type\": \"heatmapgl\"}], \"histogram\": [{\"marker\": {\"colorbar\": {\"outlinewidth\": 0, \"ticks\": \"\"}}, \"type\": \"histogram\"}], \"histogram2d\": [{\"colorbar\": {\"outlinewidth\": 0, \"ticks\": \"\"}, \"colorscale\": [[0.0, \"#0d0887\"], [0.1111111111111111, \"#46039f\"], [0.2222222222222222, \"#7201a8\"], [0.3333333333333333, \"#9c179e\"], [0.4444444444444444, \"#bd3786\"], [0.5555555555555556, \"#d8576b\"], [0.6666666666666666, \"#ed7953\"], [0.7777777777777778, \"#fb9f3a\"], [0.8888888888888888, \"#fdca26\"], [1.0, \"#f0f921\"]], \"type\": \"histogram2d\"}], \"histogram2dcontour\": [{\"colorbar\": {\"outlinewidth\": 0, \"ticks\": \"\"}, \"colorscale\": [[0.0, \"#0d0887\"], [0.1111111111111111, \"#46039f\"], [0.2222222222222222, \"#7201a8\"], [0.3333333333333333, \"#9c179e\"], [0.4444444444444444, \"#bd3786\"], [0.5555555555555556, \"#d8576b\"], [0.6666666666666666, \"#ed7953\"], [0.7777777777777778, \"#fb9f3a\"], [0.8888888888888888, \"#fdca26\"], [1.0, \"#f0f921\"]], \"type\": \"histogram2dcontour\"}], \"mesh3d\": [{\"colorbar\": {\"outlinewidth\": 0, \"ticks\": \"\"}, \"type\": \"mesh3d\"}], \"parcoords\": [{\"line\": {\"colorbar\": {\"outlinewidth\": 0, \"ticks\": \"\"}}, \"type\": \"parcoords\"}], \"scatter\": [{\"marker\": {\"colorbar\": {\"outlinewidth\": 0, \"ticks\": \"\"}}, \"type\": \"scatter\"}], \"scatter3d\": [{\"line\": {\"colorbar\": {\"outlinewidth\": 0, \"ticks\": \"\"}}, \"marker\": {\"colorbar\": {\"outlinewidth\": 0, \"ticks\": \"\"}}, \"type\": \"scatter3d\"}], \"scattercarpet\": [{\"marker\": {\"colorbar\": {\"outlinewidth\": 0, \"ticks\": \"\"}}, \"type\": \"scattercarpet\"}], \"scattergeo\": [{\"marker\": {\"colorbar\": {\"outlinewidth\": 0, \"ticks\": \"\"}}, \"type\": \"scattergeo\"}], \"scattergl\": [{\"marker\": {\"colorbar\": {\"outlinewidth\": 0, \"ticks\": \"\"}}, \"type\": \"scattergl\"}], \"scattermapbox\": [{\"marker\": {\"colorbar\": {\"outlinewidth\": 0, \"ticks\": \"\"}}, \"type\": \"scattermapbox\"}], \"scatterpolar\": [{\"marker\": {\"colorbar\": {\"outlinewidth\": 0, \"ticks\": \"\"}}, \"type\": \"scatterpolar\"}], \"scatterpolargl\": [{\"marker\": {\"colorbar\": {\"outlinewidth\": 0, \"ticks\": \"\"}}, \"type\": \"scatterpolargl\"}], \"scatterternary\": [{\"marker\": {\"colorbar\": {\"outlinewidth\": 0, \"ticks\": \"\"}}, \"type\": \"scatterternary\"}], \"surface\": [{\"colorbar\": {\"outlinewidth\": 0, \"ticks\": \"\"}, \"colorscale\": [[0.0, \"#0d0887\"], [0.1111111111111111, \"#46039f\"], [0.2222222222222222, \"#7201a8\"], [0.3333333333333333, \"#9c179e\"], [0.4444444444444444, \"#bd3786\"], [0.5555555555555556, \"#d8576b\"], [0.6666666666666666, \"#ed7953\"], [0.7777777777777778, \"#fb9f3a\"], [0.8888888888888888, \"#fdca26\"], [1.0, \"#f0f921\"]], \"type\": \"surface\"}], \"table\": [{\"cells\": {\"fill\": {\"color\": \"#EBF0F8\"}, \"line\": {\"color\": \"white\"}}, \"header\": {\"fill\": {\"color\": \"#C8D4E3\"}, \"line\": {\"color\": \"white\"}}, \"type\": \"table\"}]}, \"layout\": {\"annotationdefaults\": {\"arrowcolor\": \"#2a3f5f\", \"arrowhead\": 0, \"arrowwidth\": 1}, \"colorscale\": {\"diverging\": [[0, \"#8e0152\"], [0.1, \"#c51b7d\"], [0.2, \"#de77ae\"], [0.3, \"#f1b6da\"], [0.4, \"#fde0ef\"], [0.5, \"#f7f7f7\"], [0.6, \"#e6f5d0\"], [0.7, \"#b8e186\"], [0.8, \"#7fbc41\"], [0.9, \"#4d9221\"], [1, \"#276419\"]], \"sequential\": [[0.0, \"#0d0887\"], [0.1111111111111111, \"#46039f\"], [0.2222222222222222, \"#7201a8\"], [0.3333333333333333, \"#9c179e\"], [0.4444444444444444, \"#bd3786\"], [0.5555555555555556, \"#d8576b\"], [0.6666666666666666, \"#ed7953\"], [0.7777777777777778, \"#fb9f3a\"], [0.8888888888888888, \"#fdca26\"], [1.0, \"#f0f921\"]], \"sequentialminus\": [[0.0, \"#0d0887\"], [0.1111111111111111, \"#46039f\"], [0.2222222222222222, \"#7201a8\"], [0.3333333333333333, \"#9c179e\"], [0.4444444444444444, \"#bd3786\"], [0.5555555555555556, \"#d8576b\"], [0.6666666666666666, \"#ed7953\"], [0.7777777777777778, \"#fb9f3a\"], [0.8888888888888888, \"#fdca26\"], [1.0, \"#f0f921\"]]}, \"colorway\": [\"#636efa\", \"#EF553B\", \"#00cc96\", \"#ab63fa\", \"#FFA15A\", \"#19d3f3\", \"#FF6692\", \"#B6E880\", \"#FF97FF\", \"#FECB52\"], \"font\": {\"color\": \"#2a3f5f\"}, \"geo\": {\"bgcolor\": \"white\", \"lakecolor\": \"white\", \"landcolor\": \"#E5ECF6\", \"showlakes\": true, \"showland\": true, \"subunitcolor\": \"white\"}, \"hoverlabel\": {\"align\": \"left\"}, \"hovermode\": \"closest\", \"mapbox\": {\"style\": \"light\"}, \"paper_bgcolor\": \"white\", \"plot_bgcolor\": \"#E5ECF6\", \"polar\": {\"angularaxis\": {\"gridcolor\": \"white\", \"linecolor\": \"white\", \"ticks\": \"\"}, \"bgcolor\": \"#E5ECF6\", \"radialaxis\": {\"gridcolor\": \"white\", \"linecolor\": \"white\", \"ticks\": \"\"}}, \"scene\": {\"xaxis\": {\"backgroundcolor\": \"#E5ECF6\", \"gridcolor\": \"white\", \"gridwidth\": 2, \"linecolor\": \"white\", \"showbackground\": true, \"ticks\": \"\", \"zerolinecolor\": \"white\"}, \"yaxis\": {\"backgroundcolor\": \"#E5ECF6\", \"gridcolor\": \"white\", \"gridwidth\": 2, \"linecolor\": \"white\", \"showbackground\": true, \"ticks\": \"\", \"zerolinecolor\": \"white\"}, \"zaxis\": {\"backgroundcolor\": \"#E5ECF6\", \"gridcolor\": \"white\", \"gridwidth\": 2, \"linecolor\": \"white\", \"showbackground\": true, \"ticks\": \"\", \"zerolinecolor\": \"white\"}}, \"shapedefaults\": {\"line\": {\"color\": \"#2a3f5f\"}}, \"ternary\": {\"aaxis\": {\"gridcolor\": \"white\", \"linecolor\": \"white\", \"ticks\": \"\"}, \"baxis\": {\"gridcolor\": \"white\", \"linecolor\": \"white\", \"ticks\": \"\"}, \"bgcolor\": \"#E5ECF6\", \"caxis\": {\"gridcolor\": \"white\", \"linecolor\": \"white\", \"ticks\": \"\"}}, \"title\": {\"x\": 0.05}, \"xaxis\": {\"automargin\": true, \"gridcolor\": \"white\", \"linecolor\": \"white\", \"ticks\": \"\", \"zerolinecolor\": \"white\", \"zerolinewidth\": 2}, \"yaxis\": {\"automargin\": true, \"gridcolor\": \"white\", \"linecolor\": \"white\", \"ticks\": \"\", \"zerolinecolor\": \"white\", \"zerolinewidth\": 2}}}},\n",
       "                        {\"responsive\": true}\n",
       "                    ).then(function(){\n",
       "                            \n",
       "var gd = document.getElementById('1204b4b5-762b-40d2-abd9-5bb800888578');\n",
       "var x = new MutationObserver(function (mutations, observer) {{\n",
       "        var display = window.getComputedStyle(gd).display;\n",
       "        if (!display || display === 'none') {{\n",
       "            console.log([gd, 'removed!']);\n",
       "            Plotly.purge(gd);\n",
       "            observer.disconnect();\n",
       "        }}\n",
       "}});\n",
       "\n",
       "// Listen for the removal of the full notebook cells\n",
       "var notebookContainer = gd.closest('#notebook-container');\n",
       "if (notebookContainer) {{\n",
       "    x.observe(notebookContainer, {childList: true});\n",
       "}}\n",
       "\n",
       "// Listen for the clearing of the current output cell\n",
       "var outputEl = gd.closest('.output');\n",
       "if (outputEl) {{\n",
       "    x.observe(outputEl, {childList: true});\n",
       "}}\n",
       "\n",
       "                        })\n",
       "                };\n",
       "                });\n",
       "            </script>\n",
       "        </div>"
      ]
     },
     "metadata": {},
     "output_type": "display_data"
    }
   ],
   "source": [
    "labels=['non_uui_grey_score_pairs', \n",
    "        'non_uui_low_score_pairs', \n",
    "        'uui_grey_score_pairs', \n",
    "        'uui_high_score_pairs', \n",
    "        'uui_low_score_pairs']\n",
    "\n",
    "fig = go.Figure(data=[\n",
    "    go.Bar(name='active_time_diff',         x=labels, y=stats_df['active_time_diff']['mean'].values),\n",
    "    go.Bar(name='session_count_diff',       x=labels, y=stats_df['session_count_diff']['mean'].values),\n",
    "    go.Bar(name='operation_count_diff',     x=labels, y=stats_df['operation_count_diff']['mean'].values),\n",
    "    go.Bar(name='action_normalise_cos_dis', x=labels, y=stats_df['action_normalise_cos_dis']['mean'].values),\n",
    "    go.Bar(name='markov_cos_dis',           x=labels, y=stats_df['markov_cos_dis']['mean'].values),\n",
    "    go.Bar(name='interval_cos_dis',         x=labels, y=stats_df['interval_cos_dis']['mean'].values),\n",
    "    go.Bar(name='hour_normalise_cos_dis',   x=labels, y=stats_df['hour_normalise_cos_dis']['mean'].values)\n",
    "])\n",
    "# Change the bar mode\n",
    "fig.update_layout(barmode='group')\n",
    "fig.show()"
   ]
  },
  {
   "cell_type": "code",
   "execution_count": 46,
   "metadata": {},
   "outputs": [
    {
     "name": "stdout",
     "output_type": "stream",
     "text": [
      "There are 61 high_sim records, about 0.000071 percentage of total pairs\n"
     ]
    },
    {
     "name": "stderr",
     "output_type": "stream",
     "text": [
      "/ldap_home/ming.liu/miniconda3/envs/spy/lib/python2.7/site-packages/ipykernel_launcher.py:1: UserWarning:\n",
      "\n",
      "Boolean Series key will be reindexed to match DataFrame index.\n",
      "\n"
     ]
    },
    {
     "data": {
      "text/plain": [
       "label\n",
       "non_uui_grey_score_pairs    18\n",
       "non_uui_low_score_pairs     36\n",
       "uui_grey_score_pairs         1\n",
       "uui_high_score_pairs         6\n",
       "Name: node1, dtype: int64"
      ]
     },
     "execution_count": 46,
     "metadata": {},
     "output_type": "execute_result"
    }
   ],
   "source": [
    "high_sim = df[pair_df['action_normalise_cos_dis'] < 0.05]\n",
    "high_sim = high_sim[high_sim['markov_cos_dis'] < 0.05]\n",
    "high_sim = high_sim[high_sim['hour_normalise_cos_dis'] < 0.05]\n",
    "high_sim = high_sim[high_sim['interval_cos_dis'] < 0.05]\n",
    "\n",
    "print('There are %d high_sim records, about %f percentage of total pairs'%\n",
    "      (len(high_sim), float(len(high_sim)) / len(pair_df)))\n",
    "\n",
    "high_sim.groupby('label')['node1'].count()"
   ]
  },
  {
   "cell_type": "markdown",
   "metadata": {},
   "source": [
    "###  For users who have total session >= 30 (in 2019 - 09)"
   ]
  },
  {
   "cell_type": "code",
   "execution_count": 47,
   "metadata": {},
   "outputs": [],
   "source": [
    "session_count_threshold = 30\n",
    "\n",
    "df = pair_df[pair_df['session_count1'] >= session_count_threshold]\n",
    "df = df[df['session_count2'] >= session_count_threshold]"
   ]
  },
  {
   "cell_type": "code",
   "execution_count": 48,
   "metadata": {},
   "outputs": [
    {
     "data": {
      "text/plain": [
       "label\n",
       "non_uui_grey_score_pairs      1023\n",
       "non_uui_low_score_pairs     117234\n",
       "uui_grey_score_pairs           764\n",
       "uui_high_score_pairs           496\n",
       "uui_low_score_pairs             84\n",
       "Name: node1, dtype: int64"
      ]
     },
     "execution_count": 48,
     "metadata": {},
     "output_type": "execute_result"
    }
   ],
   "source": [
    "df.groupby('label')['node1'].count()"
   ]
  },
  {
   "cell_type": "code",
   "execution_count": 49,
   "metadata": {},
   "outputs": [
    {
     "data": {
      "text/html": [
       "<div>\n",
       "<style scoped>\n",
       "    .dataframe tbody tr th:only-of-type {\n",
       "        vertical-align: middle;\n",
       "    }\n",
       "\n",
       "    .dataframe tbody tr th {\n",
       "        vertical-align: top;\n",
       "    }\n",
       "\n",
       "    .dataframe thead tr th {\n",
       "        text-align: left;\n",
       "    }\n",
       "\n",
       "    .dataframe thead tr:last-of-type th {\n",
       "        text-align: right;\n",
       "    }\n",
       "</style>\n",
       "<table border=\"1\" class=\"dataframe\">\n",
       "  <thead>\n",
       "    <tr>\n",
       "      <th></th>\n",
       "      <th colspan=\"2\" halign=\"left\">active_time_diff</th>\n",
       "      <th colspan=\"2\" halign=\"left\">session_count_diff</th>\n",
       "      <th colspan=\"2\" halign=\"left\">operation_count_diff</th>\n",
       "      <th colspan=\"2\" halign=\"left\">action_normalise_cos_dis</th>\n",
       "      <th colspan=\"2\" halign=\"left\">markov_cos_dis</th>\n",
       "      <th colspan=\"2\" halign=\"left\">hour_normalise_cos_dis</th>\n",
       "      <th colspan=\"2\" halign=\"left\">interval_cos_dis</th>\n",
       "    </tr>\n",
       "    <tr>\n",
       "      <th></th>\n",
       "      <th>mean</th>\n",
       "      <th>std</th>\n",
       "      <th>mean</th>\n",
       "      <th>std</th>\n",
       "      <th>mean</th>\n",
       "      <th>std</th>\n",
       "      <th>mean</th>\n",
       "      <th>std</th>\n",
       "      <th>mean</th>\n",
       "      <th>std</th>\n",
       "      <th>mean</th>\n",
       "      <th>std</th>\n",
       "      <th>mean</th>\n",
       "      <th>std</th>\n",
       "    </tr>\n",
       "    <tr>\n",
       "      <th>label</th>\n",
       "      <th></th>\n",
       "      <th></th>\n",
       "      <th></th>\n",
       "      <th></th>\n",
       "      <th></th>\n",
       "      <th></th>\n",
       "      <th></th>\n",
       "      <th></th>\n",
       "      <th></th>\n",
       "      <th></th>\n",
       "      <th></th>\n",
       "      <th></th>\n",
       "      <th></th>\n",
       "      <th></th>\n",
       "    </tr>\n",
       "  </thead>\n",
       "  <tbody>\n",
       "    <tr>\n",
       "      <th>non_uui_grey_score_pairs</th>\n",
       "      <td>145.463230</td>\n",
       "      <td>245.247218</td>\n",
       "      <td>13.766373</td>\n",
       "      <td>16.038273</td>\n",
       "      <td>587.090909</td>\n",
       "      <td>1448.451712</td>\n",
       "      <td>0.061679</td>\n",
       "      <td>0.107780</td>\n",
       "      <td>0.339922</td>\n",
       "      <td>0.150055</td>\n",
       "      <td>0.191037</td>\n",
       "      <td>0.147319</td>\n",
       "      <td>0.276448</td>\n",
       "      <td>0.238394</td>\n",
       "    </tr>\n",
       "    <tr>\n",
       "      <th>non_uui_low_score_pairs</th>\n",
       "      <td>405.320549</td>\n",
       "      <td>492.040475</td>\n",
       "      <td>31.869125</td>\n",
       "      <td>32.407463</td>\n",
       "      <td>1832.818781</td>\n",
       "      <td>3460.604788</td>\n",
       "      <td>0.212805</td>\n",
       "      <td>0.191979</td>\n",
       "      <td>0.437833</td>\n",
       "      <td>0.134946</td>\n",
       "      <td>0.394679</td>\n",
       "      <td>0.189392</td>\n",
       "      <td>0.386781</td>\n",
       "      <td>0.238126</td>\n",
       "    </tr>\n",
       "    <tr>\n",
       "      <th>uui_grey_score_pairs</th>\n",
       "      <td>37.052923</td>\n",
       "      <td>49.349557</td>\n",
       "      <td>9.823298</td>\n",
       "      <td>7.151895</td>\n",
       "      <td>66.560209</td>\n",
       "      <td>100.431991</td>\n",
       "      <td>0.038144</td>\n",
       "      <td>0.058234</td>\n",
       "      <td>0.262836</td>\n",
       "      <td>0.165854</td>\n",
       "      <td>0.191935</td>\n",
       "      <td>0.081884</td>\n",
       "      <td>0.271166</td>\n",
       "      <td>0.230500</td>\n",
       "    </tr>\n",
       "    <tr>\n",
       "      <th>uui_high_score_pairs</th>\n",
       "      <td>107.597103</td>\n",
       "      <td>232.706161</td>\n",
       "      <td>12.256048</td>\n",
       "      <td>16.118405</td>\n",
       "      <td>299.832661</td>\n",
       "      <td>918.567329</td>\n",
       "      <td>0.039115</td>\n",
       "      <td>0.088200</td>\n",
       "      <td>0.278868</td>\n",
       "      <td>0.161758</td>\n",
       "      <td>0.162431</td>\n",
       "      <td>0.106769</td>\n",
       "      <td>0.252679</td>\n",
       "      <td>0.232250</td>\n",
       "    </tr>\n",
       "    <tr>\n",
       "      <th>uui_low_score_pairs</th>\n",
       "      <td>29.754301</td>\n",
       "      <td>26.698863</td>\n",
       "      <td>9.357143</td>\n",
       "      <td>7.351162</td>\n",
       "      <td>51.690476</td>\n",
       "      <td>47.357389</td>\n",
       "      <td>0.044557</td>\n",
       "      <td>0.060025</td>\n",
       "      <td>0.244345</td>\n",
       "      <td>0.168719</td>\n",
       "      <td>0.180371</td>\n",
       "      <td>0.057461</td>\n",
       "      <td>0.296486</td>\n",
       "      <td>0.227116</td>\n",
       "    </tr>\n",
       "  </tbody>\n",
       "</table>\n",
       "</div>"
      ],
      "text/plain": [
       "                         active_time_diff             session_count_diff  \\\n",
       "                                     mean         std               mean   \n",
       "label                                                                      \n",
       "non_uui_grey_score_pairs       145.463230  245.247218          13.766373   \n",
       "non_uui_low_score_pairs        405.320549  492.040475          31.869125   \n",
       "uui_grey_score_pairs            37.052923   49.349557           9.823298   \n",
       "uui_high_score_pairs           107.597103  232.706161          12.256048   \n",
       "uui_low_score_pairs             29.754301   26.698863           9.357143   \n",
       "\n",
       "                                    operation_count_diff               \\\n",
       "                                std                 mean          std   \n",
       "label                                                                   \n",
       "non_uui_grey_score_pairs  16.038273           587.090909  1448.451712   \n",
       "non_uui_low_score_pairs   32.407463          1832.818781  3460.604788   \n",
       "uui_grey_score_pairs       7.151895            66.560209   100.431991   \n",
       "uui_high_score_pairs      16.118405           299.832661   918.567329   \n",
       "uui_low_score_pairs        7.351162            51.690476    47.357389   \n",
       "\n",
       "                         action_normalise_cos_dis           markov_cos_dis  \\\n",
       "                                             mean       std           mean   \n",
       "label                                                                        \n",
       "non_uui_grey_score_pairs                 0.061679  0.107780       0.339922   \n",
       "non_uui_low_score_pairs                  0.212805  0.191979       0.437833   \n",
       "uui_grey_score_pairs                     0.038144  0.058234       0.262836   \n",
       "uui_high_score_pairs                     0.039115  0.088200       0.278868   \n",
       "uui_low_score_pairs                      0.044557  0.060025       0.244345   \n",
       "\n",
       "                                   hour_normalise_cos_dis            \\\n",
       "                               std                   mean       std   \n",
       "label                                                                 \n",
       "non_uui_grey_score_pairs  0.150055               0.191037  0.147319   \n",
       "non_uui_low_score_pairs   0.134946               0.394679  0.189392   \n",
       "uui_grey_score_pairs      0.165854               0.191935  0.081884   \n",
       "uui_high_score_pairs      0.161758               0.162431  0.106769   \n",
       "uui_low_score_pairs       0.168719               0.180371  0.057461   \n",
       "\n",
       "                         interval_cos_dis            \n",
       "                                     mean       std  \n",
       "label                                                \n",
       "non_uui_grey_score_pairs         0.276448  0.238394  \n",
       "non_uui_low_score_pairs          0.386781  0.238126  \n",
       "uui_grey_score_pairs             0.271166  0.230500  \n",
       "uui_high_score_pairs             0.252679  0.232250  \n",
       "uui_low_score_pairs              0.296486  0.227116  "
      ]
     },
     "execution_count": 49,
     "metadata": {},
     "output_type": "execute_result"
    }
   ],
   "source": [
    "stat_df = df.groupby(\"label\")[\n",
    "    'active_time_diff',\n",
    "    'session_count_diff',\n",
    "    'operation_count_diff',\n",
    "    'action_normalise_cos_dis',\n",
    "    'markov_cos_dis',\n",
    "    'hour_normalise_cos_dis',\n",
    "    'interval_cos_dis'\n",
    "].agg([np.mean, np.std])\n",
    "\n",
    "stat_df"
   ]
  },
  {
   "cell_type": "code",
   "execution_count": 50,
   "metadata": {},
   "outputs": [
    {
     "data": {
      "application/vnd.plotly.v1+json": {
       "config": {
        "plotlyServerURL": "https://plot.ly"
       },
       "data": [
        {
         "name": "active_time_diff",
         "type": "bar",
         "x": [
          "non_uui_grey_score_pairs",
          "non_uui_low_score_pairs",
          "uui_grey_score_pairs",
          "uui_high_score_pairs",
          "uui_low_score_pairs"
         ],
         "y": [
          10.72977673402199,
          183.7513133190006,
          16.557499200278436,
          24.165241553837834,
          24.246351866627894
         ]
        },
        {
         "name": "session_count_diff",
         "type": "bar",
         "x": [
          "non_uui_grey_score_pairs",
          "non_uui_low_score_pairs",
          "uui_grey_score_pairs",
          "uui_high_score_pairs",
          "uui_low_score_pairs"
         ],
         "y": [
          2.052730023380553,
          17.84863260991969,
          6.360824742268041,
          3.8046403712296986,
          9.437689969604863
         ]
        },
        {
         "name": "operation_count_diff",
         "type": "bar",
         "x": [
          "non_uui_grey_score_pairs",
          "non_uui_low_score_pairs",
          "uui_grey_score_pairs",
          "uui_high_score_pairs",
          "uui_low_score_pairs"
         ],
         "y": [
          37.423765644340534,
          866.7879903292404,
          35.88183980967486,
          79.84013921113689,
          41.01215805471124
         ]
        },
        {
         "name": "action_normalise_cos_dis",
         "type": "bar",
         "x": [
          "non_uui_grey_score_pairs",
          "non_uui_low_score_pairs",
          "uui_grey_score_pairs",
          "uui_high_score_pairs",
          "uui_low_score_pairs"
         ],
         "y": [
          0.015523720331074856,
          0.1978813019263227,
          0.035899023713992145,
          0.023510149495300083,
          0.08157066001968434
         ]
        },
        {
         "name": "markov_cos_dis",
         "type": "bar",
         "x": [
          "non_uui_grey_score_pairs",
          "non_uui_low_score_pairs",
          "uui_grey_score_pairs",
          "uui_high_score_pairs",
          "uui_low_score_pairs"
         ],
         "y": [
          0.0987524756876374,
          0.3964106992496636,
          0.18971002461145015,
          0.12029188583278667,
          0.28954008093418454
         ]
        },
        {
         "name": "interval_cos_dis",
         "type": "bar",
         "x": [
          "non_uui_grey_score_pairs",
          "non_uui_low_score_pairs",
          "uui_grey_score_pairs",
          "uui_high_score_pairs",
          "uui_low_score_pairs"
         ],
         "y": [
          0.04503226957011233,
          0.2921496081959667,
          0.1596726704823253,
          0.10771854039896539,
          0.26922229904117195
         ]
        },
        {
         "name": "hour_normalise_cos_dis",
         "type": "bar",
         "x": [
          "non_uui_grey_score_pairs",
          "non_uui_low_score_pairs",
          "uui_grey_score_pairs",
          "uui_high_score_pairs",
          "uui_low_score_pairs"
         ],
         "y": [
          0.2547795335921536,
          0.6280932232219274,
          0.17348466878301258,
          0.10346915379107047,
          0.3869921566422853
         ]
        }
       ],
       "layout": {
        "barmode": "group",
        "template": {
         "data": {
          "bar": [
           {
            "error_x": {
             "color": "#2a3f5f"
            },
            "error_y": {
             "color": "#2a3f5f"
            },
            "marker": {
             "line": {
              "color": "#E5ECF6",
              "width": 0.5
             }
            },
            "type": "bar"
           }
          ],
          "barpolar": [
           {
            "marker": {
             "line": {
              "color": "#E5ECF6",
              "width": 0.5
             }
            },
            "type": "barpolar"
           }
          ],
          "carpet": [
           {
            "aaxis": {
             "endlinecolor": "#2a3f5f",
             "gridcolor": "white",
             "linecolor": "white",
             "minorgridcolor": "white",
             "startlinecolor": "#2a3f5f"
            },
            "baxis": {
             "endlinecolor": "#2a3f5f",
             "gridcolor": "white",
             "linecolor": "white",
             "minorgridcolor": "white",
             "startlinecolor": "#2a3f5f"
            },
            "type": "carpet"
           }
          ],
          "choropleth": [
           {
            "colorbar": {
             "outlinewidth": 0,
             "ticks": ""
            },
            "type": "choropleth"
           }
          ],
          "contour": [
           {
            "colorbar": {
             "outlinewidth": 0,
             "ticks": ""
            },
            "colorscale": [
             [
              0,
              "#0d0887"
             ],
             [
              0.1111111111111111,
              "#46039f"
             ],
             [
              0.2222222222222222,
              "#7201a8"
             ],
             [
              0.3333333333333333,
              "#9c179e"
             ],
             [
              0.4444444444444444,
              "#bd3786"
             ],
             [
              0.5555555555555556,
              "#d8576b"
             ],
             [
              0.6666666666666666,
              "#ed7953"
             ],
             [
              0.7777777777777778,
              "#fb9f3a"
             ],
             [
              0.8888888888888888,
              "#fdca26"
             ],
             [
              1,
              "#f0f921"
             ]
            ],
            "type": "contour"
           }
          ],
          "contourcarpet": [
           {
            "colorbar": {
             "outlinewidth": 0,
             "ticks": ""
            },
            "type": "contourcarpet"
           }
          ],
          "heatmap": [
           {
            "colorbar": {
             "outlinewidth": 0,
             "ticks": ""
            },
            "colorscale": [
             [
              0,
              "#0d0887"
             ],
             [
              0.1111111111111111,
              "#46039f"
             ],
             [
              0.2222222222222222,
              "#7201a8"
             ],
             [
              0.3333333333333333,
              "#9c179e"
             ],
             [
              0.4444444444444444,
              "#bd3786"
             ],
             [
              0.5555555555555556,
              "#d8576b"
             ],
             [
              0.6666666666666666,
              "#ed7953"
             ],
             [
              0.7777777777777778,
              "#fb9f3a"
             ],
             [
              0.8888888888888888,
              "#fdca26"
             ],
             [
              1,
              "#f0f921"
             ]
            ],
            "type": "heatmap"
           }
          ],
          "heatmapgl": [
           {
            "colorbar": {
             "outlinewidth": 0,
             "ticks": ""
            },
            "colorscale": [
             [
              0,
              "#0d0887"
             ],
             [
              0.1111111111111111,
              "#46039f"
             ],
             [
              0.2222222222222222,
              "#7201a8"
             ],
             [
              0.3333333333333333,
              "#9c179e"
             ],
             [
              0.4444444444444444,
              "#bd3786"
             ],
             [
              0.5555555555555556,
              "#d8576b"
             ],
             [
              0.6666666666666666,
              "#ed7953"
             ],
             [
              0.7777777777777778,
              "#fb9f3a"
             ],
             [
              0.8888888888888888,
              "#fdca26"
             ],
             [
              1,
              "#f0f921"
             ]
            ],
            "type": "heatmapgl"
           }
          ],
          "histogram": [
           {
            "marker": {
             "colorbar": {
              "outlinewidth": 0,
              "ticks": ""
             }
            },
            "type": "histogram"
           }
          ],
          "histogram2d": [
           {
            "colorbar": {
             "outlinewidth": 0,
             "ticks": ""
            },
            "colorscale": [
             [
              0,
              "#0d0887"
             ],
             [
              0.1111111111111111,
              "#46039f"
             ],
             [
              0.2222222222222222,
              "#7201a8"
             ],
             [
              0.3333333333333333,
              "#9c179e"
             ],
             [
              0.4444444444444444,
              "#bd3786"
             ],
             [
              0.5555555555555556,
              "#d8576b"
             ],
             [
              0.6666666666666666,
              "#ed7953"
             ],
             [
              0.7777777777777778,
              "#fb9f3a"
             ],
             [
              0.8888888888888888,
              "#fdca26"
             ],
             [
              1,
              "#f0f921"
             ]
            ],
            "type": "histogram2d"
           }
          ],
          "histogram2dcontour": [
           {
            "colorbar": {
             "outlinewidth": 0,
             "ticks": ""
            },
            "colorscale": [
             [
              0,
              "#0d0887"
             ],
             [
              0.1111111111111111,
              "#46039f"
             ],
             [
              0.2222222222222222,
              "#7201a8"
             ],
             [
              0.3333333333333333,
              "#9c179e"
             ],
             [
              0.4444444444444444,
              "#bd3786"
             ],
             [
              0.5555555555555556,
              "#d8576b"
             ],
             [
              0.6666666666666666,
              "#ed7953"
             ],
             [
              0.7777777777777778,
              "#fb9f3a"
             ],
             [
              0.8888888888888888,
              "#fdca26"
             ],
             [
              1,
              "#f0f921"
             ]
            ],
            "type": "histogram2dcontour"
           }
          ],
          "mesh3d": [
           {
            "colorbar": {
             "outlinewidth": 0,
             "ticks": ""
            },
            "type": "mesh3d"
           }
          ],
          "parcoords": [
           {
            "line": {
             "colorbar": {
              "outlinewidth": 0,
              "ticks": ""
             }
            },
            "type": "parcoords"
           }
          ],
          "scatter": [
           {
            "marker": {
             "colorbar": {
              "outlinewidth": 0,
              "ticks": ""
             }
            },
            "type": "scatter"
           }
          ],
          "scatter3d": [
           {
            "line": {
             "colorbar": {
              "outlinewidth": 0,
              "ticks": ""
             }
            },
            "marker": {
             "colorbar": {
              "outlinewidth": 0,
              "ticks": ""
             }
            },
            "type": "scatter3d"
           }
          ],
          "scattercarpet": [
           {
            "marker": {
             "colorbar": {
              "outlinewidth": 0,
              "ticks": ""
             }
            },
            "type": "scattercarpet"
           }
          ],
          "scattergeo": [
           {
            "marker": {
             "colorbar": {
              "outlinewidth": 0,
              "ticks": ""
             }
            },
            "type": "scattergeo"
           }
          ],
          "scattergl": [
           {
            "marker": {
             "colorbar": {
              "outlinewidth": 0,
              "ticks": ""
             }
            },
            "type": "scattergl"
           }
          ],
          "scattermapbox": [
           {
            "marker": {
             "colorbar": {
              "outlinewidth": 0,
              "ticks": ""
             }
            },
            "type": "scattermapbox"
           }
          ],
          "scatterpolar": [
           {
            "marker": {
             "colorbar": {
              "outlinewidth": 0,
              "ticks": ""
             }
            },
            "type": "scatterpolar"
           }
          ],
          "scatterpolargl": [
           {
            "marker": {
             "colorbar": {
              "outlinewidth": 0,
              "ticks": ""
             }
            },
            "type": "scatterpolargl"
           }
          ],
          "scatterternary": [
           {
            "marker": {
             "colorbar": {
              "outlinewidth": 0,
              "ticks": ""
             }
            },
            "type": "scatterternary"
           }
          ],
          "surface": [
           {
            "colorbar": {
             "outlinewidth": 0,
             "ticks": ""
            },
            "colorscale": [
             [
              0,
              "#0d0887"
             ],
             [
              0.1111111111111111,
              "#46039f"
             ],
             [
              0.2222222222222222,
              "#7201a8"
             ],
             [
              0.3333333333333333,
              "#9c179e"
             ],
             [
              0.4444444444444444,
              "#bd3786"
             ],
             [
              0.5555555555555556,
              "#d8576b"
             ],
             [
              0.6666666666666666,
              "#ed7953"
             ],
             [
              0.7777777777777778,
              "#fb9f3a"
             ],
             [
              0.8888888888888888,
              "#fdca26"
             ],
             [
              1,
              "#f0f921"
             ]
            ],
            "type": "surface"
           }
          ],
          "table": [
           {
            "cells": {
             "fill": {
              "color": "#EBF0F8"
             },
             "line": {
              "color": "white"
             }
            },
            "header": {
             "fill": {
              "color": "#C8D4E3"
             },
             "line": {
              "color": "white"
             }
            },
            "type": "table"
           }
          ]
         },
         "layout": {
          "annotationdefaults": {
           "arrowcolor": "#2a3f5f",
           "arrowhead": 0,
           "arrowwidth": 1
          },
          "colorscale": {
           "diverging": [
            [
             0,
             "#8e0152"
            ],
            [
             0.1,
             "#c51b7d"
            ],
            [
             0.2,
             "#de77ae"
            ],
            [
             0.3,
             "#f1b6da"
            ],
            [
             0.4,
             "#fde0ef"
            ],
            [
             0.5,
             "#f7f7f7"
            ],
            [
             0.6,
             "#e6f5d0"
            ],
            [
             0.7,
             "#b8e186"
            ],
            [
             0.8,
             "#7fbc41"
            ],
            [
             0.9,
             "#4d9221"
            ],
            [
             1,
             "#276419"
            ]
           ],
           "sequential": [
            [
             0,
             "#0d0887"
            ],
            [
             0.1111111111111111,
             "#46039f"
            ],
            [
             0.2222222222222222,
             "#7201a8"
            ],
            [
             0.3333333333333333,
             "#9c179e"
            ],
            [
             0.4444444444444444,
             "#bd3786"
            ],
            [
             0.5555555555555556,
             "#d8576b"
            ],
            [
             0.6666666666666666,
             "#ed7953"
            ],
            [
             0.7777777777777778,
             "#fb9f3a"
            ],
            [
             0.8888888888888888,
             "#fdca26"
            ],
            [
             1,
             "#f0f921"
            ]
           ],
           "sequentialminus": [
            [
             0,
             "#0d0887"
            ],
            [
             0.1111111111111111,
             "#46039f"
            ],
            [
             0.2222222222222222,
             "#7201a8"
            ],
            [
             0.3333333333333333,
             "#9c179e"
            ],
            [
             0.4444444444444444,
             "#bd3786"
            ],
            [
             0.5555555555555556,
             "#d8576b"
            ],
            [
             0.6666666666666666,
             "#ed7953"
            ],
            [
             0.7777777777777778,
             "#fb9f3a"
            ],
            [
             0.8888888888888888,
             "#fdca26"
            ],
            [
             1,
             "#f0f921"
            ]
           ]
          },
          "colorway": [
           "#636efa",
           "#EF553B",
           "#00cc96",
           "#ab63fa",
           "#FFA15A",
           "#19d3f3",
           "#FF6692",
           "#B6E880",
           "#FF97FF",
           "#FECB52"
          ],
          "font": {
           "color": "#2a3f5f"
          },
          "geo": {
           "bgcolor": "white",
           "lakecolor": "white",
           "landcolor": "#E5ECF6",
           "showlakes": true,
           "showland": true,
           "subunitcolor": "white"
          },
          "hoverlabel": {
           "align": "left"
          },
          "hovermode": "closest",
          "mapbox": {
           "style": "light"
          },
          "paper_bgcolor": "white",
          "plot_bgcolor": "#E5ECF6",
          "polar": {
           "angularaxis": {
            "gridcolor": "white",
            "linecolor": "white",
            "ticks": ""
           },
           "bgcolor": "#E5ECF6",
           "radialaxis": {
            "gridcolor": "white",
            "linecolor": "white",
            "ticks": ""
           }
          },
          "scene": {
           "xaxis": {
            "backgroundcolor": "#E5ECF6",
            "gridcolor": "white",
            "gridwidth": 2,
            "linecolor": "white",
            "showbackground": true,
            "ticks": "",
            "zerolinecolor": "white"
           },
           "yaxis": {
            "backgroundcolor": "#E5ECF6",
            "gridcolor": "white",
            "gridwidth": 2,
            "linecolor": "white",
            "showbackground": true,
            "ticks": "",
            "zerolinecolor": "white"
           },
           "zaxis": {
            "backgroundcolor": "#E5ECF6",
            "gridcolor": "white",
            "gridwidth": 2,
            "linecolor": "white",
            "showbackground": true,
            "ticks": "",
            "zerolinecolor": "white"
           }
          },
          "shapedefaults": {
           "line": {
            "color": "#2a3f5f"
           }
          },
          "ternary": {
           "aaxis": {
            "gridcolor": "white",
            "linecolor": "white",
            "ticks": ""
           },
           "baxis": {
            "gridcolor": "white",
            "linecolor": "white",
            "ticks": ""
           },
           "bgcolor": "#E5ECF6",
           "caxis": {
            "gridcolor": "white",
            "linecolor": "white",
            "ticks": ""
           }
          },
          "title": {
           "x": 0.05
          },
          "xaxis": {
           "automargin": true,
           "gridcolor": "white",
           "linecolor": "white",
           "ticks": "",
           "zerolinecolor": "white",
           "zerolinewidth": 2
          },
          "yaxis": {
           "automargin": true,
           "gridcolor": "white",
           "linecolor": "white",
           "ticks": "",
           "zerolinecolor": "white",
           "zerolinewidth": 2
          }
         }
        }
       }
      },
      "text/html": [
       "<div>\n",
       "        \n",
       "        \n",
       "            <div id=\"f8a5f65e-a66d-4ee3-954d-f423addcefe5\" class=\"plotly-graph-div\" style=\"height:525px; width:100%;\"></div>\n",
       "            <script type=\"text/javascript\">\n",
       "                require([\"plotly\"], function(Plotly) {\n",
       "                    window.PLOTLYENV=window.PLOTLYENV || {};\n",
       "                    \n",
       "                if (document.getElementById(\"f8a5f65e-a66d-4ee3-954d-f423addcefe5\")) {\n",
       "                    Plotly.newPlot(\n",
       "                        'f8a5f65e-a66d-4ee3-954d-f423addcefe5',\n",
       "                        [{\"name\": \"active_time_diff\", \"type\": \"bar\", \"x\": [\"non_uui_grey_score_pairs\", \"non_uui_low_score_pairs\", \"uui_grey_score_pairs\", \"uui_high_score_pairs\", \"uui_low_score_pairs\"], \"y\": [10.72977673402199, 183.7513133190006, 16.557499200278436, 24.165241553837834, 24.246351866627894]}, {\"name\": \"session_count_diff\", \"type\": \"bar\", \"x\": [\"non_uui_grey_score_pairs\", \"non_uui_low_score_pairs\", \"uui_grey_score_pairs\", \"uui_high_score_pairs\", \"uui_low_score_pairs\"], \"y\": [2.052730023380553, 17.84863260991969, 6.360824742268041, 3.8046403712296986, 9.437689969604863]}, {\"name\": \"operation_count_diff\", \"type\": \"bar\", \"x\": [\"non_uui_grey_score_pairs\", \"non_uui_low_score_pairs\", \"uui_grey_score_pairs\", \"uui_high_score_pairs\", \"uui_low_score_pairs\"], \"y\": [37.423765644340534, 866.7879903292404, 35.88183980967486, 79.84013921113689, 41.01215805471124]}, {\"name\": \"action_normalise_cos_dis\", \"type\": \"bar\", \"x\": [\"non_uui_grey_score_pairs\", \"non_uui_low_score_pairs\", \"uui_grey_score_pairs\", \"uui_high_score_pairs\", \"uui_low_score_pairs\"], \"y\": [0.015523720331074856, 0.1978813019263227, 0.035899023713992145, 0.023510149495300083, 0.08157066001968434]}, {\"name\": \"markov_cos_dis\", \"type\": \"bar\", \"x\": [\"non_uui_grey_score_pairs\", \"non_uui_low_score_pairs\", \"uui_grey_score_pairs\", \"uui_high_score_pairs\", \"uui_low_score_pairs\"], \"y\": [0.0987524756876374, 0.3964106992496636, 0.18971002461145015, 0.12029188583278667, 0.28954008093418454]}, {\"name\": \"interval_cos_dis\", \"type\": \"bar\", \"x\": [\"non_uui_grey_score_pairs\", \"non_uui_low_score_pairs\", \"uui_grey_score_pairs\", \"uui_high_score_pairs\", \"uui_low_score_pairs\"], \"y\": [0.04503226957011233, 0.2921496081959667, 0.1596726704823253, 0.10771854039896539, 0.26922229904117195]}, {\"name\": \"hour_normalise_cos_dis\", \"type\": \"bar\", \"x\": [\"non_uui_grey_score_pairs\", \"non_uui_low_score_pairs\", \"uui_grey_score_pairs\", \"uui_high_score_pairs\", \"uui_low_score_pairs\"], \"y\": [0.2547795335921536, 0.6280932232219274, 0.17348466878301258, 0.10346915379107047, 0.3869921566422853]}],\n",
       "                        {\"barmode\": \"group\", \"template\": {\"data\": {\"bar\": [{\"error_x\": {\"color\": \"#2a3f5f\"}, \"error_y\": {\"color\": \"#2a3f5f\"}, \"marker\": {\"line\": {\"color\": \"#E5ECF6\", \"width\": 0.5}}, \"type\": \"bar\"}], \"barpolar\": [{\"marker\": {\"line\": {\"color\": \"#E5ECF6\", \"width\": 0.5}}, \"type\": \"barpolar\"}], \"carpet\": [{\"aaxis\": {\"endlinecolor\": \"#2a3f5f\", \"gridcolor\": \"white\", \"linecolor\": \"white\", \"minorgridcolor\": \"white\", \"startlinecolor\": \"#2a3f5f\"}, \"baxis\": {\"endlinecolor\": \"#2a3f5f\", \"gridcolor\": \"white\", \"linecolor\": \"white\", \"minorgridcolor\": \"white\", \"startlinecolor\": \"#2a3f5f\"}, \"type\": \"carpet\"}], \"choropleth\": [{\"colorbar\": {\"outlinewidth\": 0, \"ticks\": \"\"}, \"type\": \"choropleth\"}], \"contour\": [{\"colorbar\": {\"outlinewidth\": 0, \"ticks\": \"\"}, \"colorscale\": [[0.0, \"#0d0887\"], [0.1111111111111111, \"#46039f\"], [0.2222222222222222, \"#7201a8\"], [0.3333333333333333, \"#9c179e\"], [0.4444444444444444, \"#bd3786\"], [0.5555555555555556, \"#d8576b\"], [0.6666666666666666, \"#ed7953\"], [0.7777777777777778, \"#fb9f3a\"], [0.8888888888888888, \"#fdca26\"], [1.0, \"#f0f921\"]], \"type\": \"contour\"}], \"contourcarpet\": [{\"colorbar\": {\"outlinewidth\": 0, \"ticks\": \"\"}, \"type\": \"contourcarpet\"}], \"heatmap\": [{\"colorbar\": {\"outlinewidth\": 0, \"ticks\": \"\"}, \"colorscale\": [[0.0, \"#0d0887\"], [0.1111111111111111, \"#46039f\"], [0.2222222222222222, \"#7201a8\"], [0.3333333333333333, \"#9c179e\"], [0.4444444444444444, \"#bd3786\"], [0.5555555555555556, \"#d8576b\"], [0.6666666666666666, \"#ed7953\"], [0.7777777777777778, \"#fb9f3a\"], [0.8888888888888888, \"#fdca26\"], [1.0, \"#f0f921\"]], \"type\": \"heatmap\"}], \"heatmapgl\": [{\"colorbar\": {\"outlinewidth\": 0, \"ticks\": \"\"}, \"colorscale\": [[0.0, \"#0d0887\"], [0.1111111111111111, \"#46039f\"], [0.2222222222222222, \"#7201a8\"], [0.3333333333333333, \"#9c179e\"], [0.4444444444444444, \"#bd3786\"], [0.5555555555555556, \"#d8576b\"], [0.6666666666666666, \"#ed7953\"], [0.7777777777777778, \"#fb9f3a\"], [0.8888888888888888, \"#fdca26\"], [1.0, \"#f0f921\"]], \"type\": \"heatmapgl\"}], \"histogram\": [{\"marker\": {\"colorbar\": {\"outlinewidth\": 0, \"ticks\": \"\"}}, \"type\": \"histogram\"}], \"histogram2d\": [{\"colorbar\": {\"outlinewidth\": 0, \"ticks\": \"\"}, \"colorscale\": [[0.0, \"#0d0887\"], [0.1111111111111111, \"#46039f\"], [0.2222222222222222, \"#7201a8\"], [0.3333333333333333, \"#9c179e\"], [0.4444444444444444, \"#bd3786\"], [0.5555555555555556, \"#d8576b\"], [0.6666666666666666, \"#ed7953\"], [0.7777777777777778, \"#fb9f3a\"], [0.8888888888888888, \"#fdca26\"], [1.0, \"#f0f921\"]], \"type\": \"histogram2d\"}], \"histogram2dcontour\": [{\"colorbar\": {\"outlinewidth\": 0, \"ticks\": \"\"}, \"colorscale\": [[0.0, \"#0d0887\"], [0.1111111111111111, \"#46039f\"], [0.2222222222222222, \"#7201a8\"], [0.3333333333333333, \"#9c179e\"], [0.4444444444444444, \"#bd3786\"], [0.5555555555555556, \"#d8576b\"], [0.6666666666666666, \"#ed7953\"], [0.7777777777777778, \"#fb9f3a\"], [0.8888888888888888, \"#fdca26\"], [1.0, \"#f0f921\"]], \"type\": \"histogram2dcontour\"}], \"mesh3d\": [{\"colorbar\": {\"outlinewidth\": 0, \"ticks\": \"\"}, \"type\": \"mesh3d\"}], \"parcoords\": [{\"line\": {\"colorbar\": {\"outlinewidth\": 0, \"ticks\": \"\"}}, \"type\": \"parcoords\"}], \"scatter\": [{\"marker\": {\"colorbar\": {\"outlinewidth\": 0, \"ticks\": \"\"}}, \"type\": \"scatter\"}], \"scatter3d\": [{\"line\": {\"colorbar\": {\"outlinewidth\": 0, \"ticks\": \"\"}}, \"marker\": {\"colorbar\": {\"outlinewidth\": 0, \"ticks\": \"\"}}, \"type\": \"scatter3d\"}], \"scattercarpet\": [{\"marker\": {\"colorbar\": {\"outlinewidth\": 0, \"ticks\": \"\"}}, \"type\": \"scattercarpet\"}], \"scattergeo\": [{\"marker\": {\"colorbar\": {\"outlinewidth\": 0, \"ticks\": \"\"}}, \"type\": \"scattergeo\"}], \"scattergl\": [{\"marker\": {\"colorbar\": {\"outlinewidth\": 0, \"ticks\": \"\"}}, \"type\": \"scattergl\"}], \"scattermapbox\": [{\"marker\": {\"colorbar\": {\"outlinewidth\": 0, \"ticks\": \"\"}}, \"type\": \"scattermapbox\"}], \"scatterpolar\": [{\"marker\": {\"colorbar\": {\"outlinewidth\": 0, \"ticks\": \"\"}}, \"type\": \"scatterpolar\"}], \"scatterpolargl\": [{\"marker\": {\"colorbar\": {\"outlinewidth\": 0, \"ticks\": \"\"}}, \"type\": \"scatterpolargl\"}], \"scatterternary\": [{\"marker\": {\"colorbar\": {\"outlinewidth\": 0, \"ticks\": \"\"}}, \"type\": \"scatterternary\"}], \"surface\": [{\"colorbar\": {\"outlinewidth\": 0, \"ticks\": \"\"}, \"colorscale\": [[0.0, \"#0d0887\"], [0.1111111111111111, \"#46039f\"], [0.2222222222222222, \"#7201a8\"], [0.3333333333333333, \"#9c179e\"], [0.4444444444444444, \"#bd3786\"], [0.5555555555555556, \"#d8576b\"], [0.6666666666666666, \"#ed7953\"], [0.7777777777777778, \"#fb9f3a\"], [0.8888888888888888, \"#fdca26\"], [1.0, \"#f0f921\"]], \"type\": \"surface\"}], \"table\": [{\"cells\": {\"fill\": {\"color\": \"#EBF0F8\"}, \"line\": {\"color\": \"white\"}}, \"header\": {\"fill\": {\"color\": \"#C8D4E3\"}, \"line\": {\"color\": \"white\"}}, \"type\": \"table\"}]}, \"layout\": {\"annotationdefaults\": {\"arrowcolor\": \"#2a3f5f\", \"arrowhead\": 0, \"arrowwidth\": 1}, \"colorscale\": {\"diverging\": [[0, \"#8e0152\"], [0.1, \"#c51b7d\"], [0.2, \"#de77ae\"], [0.3, \"#f1b6da\"], [0.4, \"#fde0ef\"], [0.5, \"#f7f7f7\"], [0.6, \"#e6f5d0\"], [0.7, \"#b8e186\"], [0.8, \"#7fbc41\"], [0.9, \"#4d9221\"], [1, \"#276419\"]], \"sequential\": [[0.0, \"#0d0887\"], [0.1111111111111111, \"#46039f\"], [0.2222222222222222, \"#7201a8\"], [0.3333333333333333, \"#9c179e\"], [0.4444444444444444, \"#bd3786\"], [0.5555555555555556, \"#d8576b\"], [0.6666666666666666, \"#ed7953\"], [0.7777777777777778, \"#fb9f3a\"], [0.8888888888888888, \"#fdca26\"], [1.0, \"#f0f921\"]], \"sequentialminus\": [[0.0, \"#0d0887\"], [0.1111111111111111, \"#46039f\"], [0.2222222222222222, \"#7201a8\"], [0.3333333333333333, \"#9c179e\"], [0.4444444444444444, \"#bd3786\"], [0.5555555555555556, \"#d8576b\"], [0.6666666666666666, \"#ed7953\"], [0.7777777777777778, \"#fb9f3a\"], [0.8888888888888888, \"#fdca26\"], [1.0, \"#f0f921\"]]}, \"colorway\": [\"#636efa\", \"#EF553B\", \"#00cc96\", \"#ab63fa\", \"#FFA15A\", \"#19d3f3\", \"#FF6692\", \"#B6E880\", \"#FF97FF\", \"#FECB52\"], \"font\": {\"color\": \"#2a3f5f\"}, \"geo\": {\"bgcolor\": \"white\", \"lakecolor\": \"white\", \"landcolor\": \"#E5ECF6\", \"showlakes\": true, \"showland\": true, \"subunitcolor\": \"white\"}, \"hoverlabel\": {\"align\": \"left\"}, \"hovermode\": \"closest\", \"mapbox\": {\"style\": \"light\"}, \"paper_bgcolor\": \"white\", \"plot_bgcolor\": \"#E5ECF6\", \"polar\": {\"angularaxis\": {\"gridcolor\": \"white\", \"linecolor\": \"white\", \"ticks\": \"\"}, \"bgcolor\": \"#E5ECF6\", \"radialaxis\": {\"gridcolor\": \"white\", \"linecolor\": \"white\", \"ticks\": \"\"}}, \"scene\": {\"xaxis\": {\"backgroundcolor\": \"#E5ECF6\", \"gridcolor\": \"white\", \"gridwidth\": 2, \"linecolor\": \"white\", \"showbackground\": true, \"ticks\": \"\", \"zerolinecolor\": \"white\"}, \"yaxis\": {\"backgroundcolor\": \"#E5ECF6\", \"gridcolor\": \"white\", \"gridwidth\": 2, \"linecolor\": \"white\", \"showbackground\": true, \"ticks\": \"\", \"zerolinecolor\": \"white\"}, \"zaxis\": {\"backgroundcolor\": \"#E5ECF6\", \"gridcolor\": \"white\", \"gridwidth\": 2, \"linecolor\": \"white\", \"showbackground\": true, \"ticks\": \"\", \"zerolinecolor\": \"white\"}}, \"shapedefaults\": {\"line\": {\"color\": \"#2a3f5f\"}}, \"ternary\": {\"aaxis\": {\"gridcolor\": \"white\", \"linecolor\": \"white\", \"ticks\": \"\"}, \"baxis\": {\"gridcolor\": \"white\", \"linecolor\": \"white\", \"ticks\": \"\"}, \"bgcolor\": \"#E5ECF6\", \"caxis\": {\"gridcolor\": \"white\", \"linecolor\": \"white\", \"ticks\": \"\"}}, \"title\": {\"x\": 0.05}, \"xaxis\": {\"automargin\": true, \"gridcolor\": \"white\", \"linecolor\": \"white\", \"ticks\": \"\", \"zerolinecolor\": \"white\", \"zerolinewidth\": 2}, \"yaxis\": {\"automargin\": true, \"gridcolor\": \"white\", \"linecolor\": \"white\", \"ticks\": \"\", \"zerolinecolor\": \"white\", \"zerolinewidth\": 2}}}},\n",
       "                        {\"responsive\": true}\n",
       "                    ).then(function(){\n",
       "                            \n",
       "var gd = document.getElementById('f8a5f65e-a66d-4ee3-954d-f423addcefe5');\n",
       "var x = new MutationObserver(function (mutations, observer) {{\n",
       "        var display = window.getComputedStyle(gd).display;\n",
       "        if (!display || display === 'none') {{\n",
       "            console.log([gd, 'removed!']);\n",
       "            Plotly.purge(gd);\n",
       "            observer.disconnect();\n",
       "        }}\n",
       "}});\n",
       "\n",
       "// Listen for the removal of the full notebook cells\n",
       "var notebookContainer = gd.closest('#notebook-container');\n",
       "if (notebookContainer) {{\n",
       "    x.observe(notebookContainer, {childList: true});\n",
       "}}\n",
       "\n",
       "// Listen for the clearing of the current output cell\n",
       "var outputEl = gd.closest('.output');\n",
       "if (outputEl) {{\n",
       "    x.observe(outputEl, {childList: true});\n",
       "}}\n",
       "\n",
       "                        })\n",
       "                };\n",
       "                });\n",
       "            </script>\n",
       "        </div>"
      ]
     },
     "metadata": {},
     "output_type": "display_data"
    }
   ],
   "source": [
    "labels=['non_uui_grey_score_pairs', \n",
    "        'non_uui_low_score_pairs', \n",
    "        'uui_grey_score_pairs', \n",
    "        'uui_high_score_pairs', \n",
    "        'uui_low_score_pairs']\n",
    "\n",
    "fig = go.Figure(data=[\n",
    "    go.Bar(name='active_time_diff',         x=labels, y=stats_df['active_time_diff']['mean'].values),\n",
    "    go.Bar(name='session_count_diff',       x=labels, y=stats_df['session_count_diff']['mean'].values),\n",
    "    go.Bar(name='operation_count_diff',     x=labels, y=stats_df['operation_count_diff']['mean'].values),\n",
    "    go.Bar(name='action_normalise_cos_dis', x=labels, y=stats_df['action_normalise_cos_dis']['mean'].values),\n",
    "    go.Bar(name='markov_cos_dis',           x=labels, y=stats_df['markov_cos_dis']['mean'].values),\n",
    "    go.Bar(name='interval_cos_dis',         x=labels, y=stats_df['interval_cos_dis']['mean'].values),\n",
    "    go.Bar(name='hour_normalise_cos_dis',   x=labels, y=stats_df['hour_normalise_cos_dis']['mean'].values)\n",
    "])\n",
    "# Change the bar mode\n",
    "fig.update_layout(barmode='group')\n",
    "fig.show()"
   ]
  },
  {
   "cell_type": "code",
   "execution_count": 51,
   "metadata": {},
   "outputs": [
    {
     "name": "stdout",
     "output_type": "stream",
     "text": [
      "There are 8 high_sim records, about 0.000009 percentage of total pairs\n"
     ]
    },
    {
     "name": "stderr",
     "output_type": "stream",
     "text": [
      "/ldap_home/ming.liu/miniconda3/envs/spy/lib/python2.7/site-packages/ipykernel_launcher.py:1: UserWarning:\n",
      "\n",
      "Boolean Series key will be reindexed to match DataFrame index.\n",
      "\n"
     ]
    },
    {
     "data": {
      "text/plain": [
       "label\n",
       "non_uui_grey_score_pairs    1\n",
       "non_uui_low_score_pairs     5\n",
       "uui_high_score_pairs        2\n",
       "Name: node1, dtype: int64"
      ]
     },
     "execution_count": 51,
     "metadata": {},
     "output_type": "execute_result"
    }
   ],
   "source": [
    "high_sim = df[pair_df['action_normalise_cos_dis'] < 0.05]\n",
    "high_sim = high_sim[high_sim['markov_cos_dis'] < 0.05]\n",
    "high_sim = high_sim[high_sim['hour_normalise_cos_dis'] < 0.05]\n",
    "high_sim = high_sim[high_sim['interval_cos_dis'] < 0.05]\n",
    "\n",
    "print('There are %d high_sim records, about %f percentage of total pairs'%\n",
    "      (len(high_sim), float(len(high_sim)) / len(pair_df)))\n",
    "\n",
    "high_sim.groupby('label')['node1'].count()"
   ]
  },
  {
   "cell_type": "markdown",
   "metadata": {},
   "source": [
    "# Case Study"
   ]
  },
  {
   "cell_type": "code",
   "execution_count": 52,
   "metadata": {},
   "outputs": [
    {
     "data": {
      "text/html": [
       "<div>\n",
       "<style scoped>\n",
       "    .dataframe tbody tr th:only-of-type {\n",
       "        vertical-align: middle;\n",
       "    }\n",
       "\n",
       "    .dataframe tbody tr th {\n",
       "        vertical-align: top;\n",
       "    }\n",
       "\n",
       "    .dataframe thead th {\n",
       "        text-align: right;\n",
       "    }\n",
       "</style>\n",
       "<table border=\"1\" class=\"dataframe\">\n",
       "  <thead>\n",
       "    <tr style=\"text-align: right;\">\n",
       "      <th></th>\n",
       "      <th>node1</th>\n",
       "      <th>node2</th>\n",
       "      <th>similarity</th>\n",
       "      <th>label</th>\n",
       "      <th>active_time1</th>\n",
       "      <th>active_time2</th>\n",
       "      <th>session_count1</th>\n",
       "      <th>session_count2</th>\n",
       "      <th>operation_count1</th>\n",
       "      <th>operation_count2</th>\n",
       "      <th>action_normalise_cos_dis</th>\n",
       "      <th>markov_cos_dis</th>\n",
       "      <th>hour_normalise_cos_dis</th>\n",
       "      <th>interval_cos_dis</th>\n",
       "      <th>active_time_diff</th>\n",
       "      <th>session_count_diff</th>\n",
       "      <th>operation_count_diff</th>\n",
       "    </tr>\n",
       "  </thead>\n",
       "  <tbody>\n",
       "    <tr>\n",
       "      <th>21090</th>\n",
       "      <td>175924895</td>\n",
       "      <td>175925363</td>\n",
       "      <td>0.499375</td>\n",
       "      <td>non_uui_low_score_pairs</td>\n",
       "      <td>4102.377996</td>\n",
       "      <td>4082.268996</td>\n",
       "      <td>34</td>\n",
       "      <td>32</td>\n",
       "      <td>1885</td>\n",
       "      <td>1973</td>\n",
       "      <td>0.000835</td>\n",
       "      <td>0.047311</td>\n",
       "      <td>0.024098</td>\n",
       "      <td>0.000498</td>\n",
       "      <td>0.335150</td>\n",
       "      <td>2</td>\n",
       "      <td>88</td>\n",
       "    </tr>\n",
       "    <tr>\n",
       "      <th>187273</th>\n",
       "      <td>175846386</td>\n",
       "      <td>175848183</td>\n",
       "      <td>0.425625</td>\n",
       "      <td>non_uui_low_score_pairs</td>\n",
       "      <td>4850.214996</td>\n",
       "      <td>4298.096997</td>\n",
       "      <td>37</td>\n",
       "      <td>32</td>\n",
       "      <td>2009</td>\n",
       "      <td>1863</td>\n",
       "      <td>0.000648</td>\n",
       "      <td>0.046601</td>\n",
       "      <td>0.016386</td>\n",
       "      <td>0.001400</td>\n",
       "      <td>9.201967</td>\n",
       "      <td>5</td>\n",
       "      <td>146</td>\n",
       "    </tr>\n",
       "    <tr>\n",
       "      <th>259802</th>\n",
       "      <td>144437935</td>\n",
       "      <td>144443841</td>\n",
       "      <td>0.641875</td>\n",
       "      <td>non_uui_low_score_pairs</td>\n",
       "      <td>4588.993996</td>\n",
       "      <td>5126.046995</td>\n",
       "      <td>42</td>\n",
       "      <td>49</td>\n",
       "      <td>153</td>\n",
       "      <td>193</td>\n",
       "      <td>0.008286</td>\n",
       "      <td>0.040188</td>\n",
       "      <td>0.039575</td>\n",
       "      <td>0.040543</td>\n",
       "      <td>8.950883</td>\n",
       "      <td>7</td>\n",
       "      <td>40</td>\n",
       "    </tr>\n",
       "    <tr>\n",
       "      <th>364824</th>\n",
       "      <td>39782939</td>\n",
       "      <td>80397833</td>\n",
       "      <td>0.424375</td>\n",
       "      <td>non_uui_low_score_pairs</td>\n",
       "      <td>12425.328996</td>\n",
       "      <td>13163.690996</td>\n",
       "      <td>36</td>\n",
       "      <td>33</td>\n",
       "      <td>1702</td>\n",
       "      <td>1625</td>\n",
       "      <td>0.000029</td>\n",
       "      <td>0.006666</td>\n",
       "      <td>0.002626</td>\n",
       "      <td>0.004912</td>\n",
       "      <td>12.306033</td>\n",
       "      <td>3</td>\n",
       "      <td>77</td>\n",
       "    </tr>\n",
       "    <tr>\n",
       "      <th>526790</th>\n",
       "      <td>174577324</td>\n",
       "      <td>174581162</td>\n",
       "      <td>0.736875</td>\n",
       "      <td>non_uui_grey_score_pairs</td>\n",
       "      <td>9708.976996</td>\n",
       "      <td>10455.082998</td>\n",
       "      <td>38</td>\n",
       "      <td>33</td>\n",
       "      <td>494</td>\n",
       "      <td>529</td>\n",
       "      <td>0.002008</td>\n",
       "      <td>0.014656</td>\n",
       "      <td>0.019172</td>\n",
       "      <td>0.000387</td>\n",
       "      <td>12.435100</td>\n",
       "      <td>5</td>\n",
       "      <td>35</td>\n",
       "    </tr>\n",
       "    <tr>\n",
       "      <th>782564</th>\n",
       "      <td>171850824</td>\n",
       "      <td>171852395</td>\n",
       "      <td>0.856250</td>\n",
       "      <td>uui_high_score_pairs</td>\n",
       "      <td>11416.250996</td>\n",
       "      <td>8759.302997</td>\n",
       "      <td>36</td>\n",
       "      <td>30</td>\n",
       "      <td>2248</td>\n",
       "      <td>1811</td>\n",
       "      <td>0.000034</td>\n",
       "      <td>0.024252</td>\n",
       "      <td>0.046912</td>\n",
       "      <td>0.018795</td>\n",
       "      <td>44.282467</td>\n",
       "      <td>6</td>\n",
       "      <td>437</td>\n",
       "    </tr>\n",
       "    <tr>\n",
       "      <th>821657</th>\n",
       "      <td>172342718</td>\n",
       "      <td>172486816</td>\n",
       "      <td>0.416875</td>\n",
       "      <td>non_uui_low_score_pairs</td>\n",
       "      <td>12081.051996</td>\n",
       "      <td>12536.996996</td>\n",
       "      <td>37</td>\n",
       "      <td>44</td>\n",
       "      <td>3304</td>\n",
       "      <td>3646</td>\n",
       "      <td>0.000266</td>\n",
       "      <td>0.000998</td>\n",
       "      <td>0.036840</td>\n",
       "      <td>0.002624</td>\n",
       "      <td>7.599083</td>\n",
       "      <td>7</td>\n",
       "      <td>342</td>\n",
       "    </tr>\n",
       "    <tr>\n",
       "      <th>852744</th>\n",
       "      <td>169791521</td>\n",
       "      <td>169791809</td>\n",
       "      <td>0.844375</td>\n",
       "      <td>uui_high_score_pairs</td>\n",
       "      <td>3550.122997</td>\n",
       "      <td>4481.146995</td>\n",
       "      <td>36</td>\n",
       "      <td>50</td>\n",
       "      <td>127</td>\n",
       "      <td>210</td>\n",
       "      <td>0.012943</td>\n",
       "      <td>0.032723</td>\n",
       "      <td>0.048621</td>\n",
       "      <td>0.047882</td>\n",
       "      <td>15.517067</td>\n",
       "      <td>14</td>\n",
       "      <td>83</td>\n",
       "    </tr>\n",
       "  </tbody>\n",
       "</table>\n",
       "</div>"
      ],
      "text/plain": [
       "            node1      node2  similarity                     label  \\\n",
       "21090   175924895  175925363    0.499375   non_uui_low_score_pairs   \n",
       "187273  175846386  175848183    0.425625   non_uui_low_score_pairs   \n",
       "259802  144437935  144443841    0.641875   non_uui_low_score_pairs   \n",
       "364824   39782939   80397833    0.424375   non_uui_low_score_pairs   \n",
       "526790  174577324  174581162    0.736875  non_uui_grey_score_pairs   \n",
       "782564  171850824  171852395    0.856250      uui_high_score_pairs   \n",
       "821657  172342718  172486816    0.416875   non_uui_low_score_pairs   \n",
       "852744  169791521  169791809    0.844375      uui_high_score_pairs   \n",
       "\n",
       "        active_time1  active_time2  session_count1  session_count2  \\\n",
       "21090    4102.377996   4082.268996              34              32   \n",
       "187273   4850.214996   4298.096997              37              32   \n",
       "259802   4588.993996   5126.046995              42              49   \n",
       "364824  12425.328996  13163.690996              36              33   \n",
       "526790   9708.976996  10455.082998              38              33   \n",
       "782564  11416.250996   8759.302997              36              30   \n",
       "821657  12081.051996  12536.996996              37              44   \n",
       "852744   3550.122997   4481.146995              36              50   \n",
       "\n",
       "        operation_count1  operation_count2  action_normalise_cos_dis  \\\n",
       "21090               1885              1973                  0.000835   \n",
       "187273              2009              1863                  0.000648   \n",
       "259802               153               193                  0.008286   \n",
       "364824              1702              1625                  0.000029   \n",
       "526790               494               529                  0.002008   \n",
       "782564              2248              1811                  0.000034   \n",
       "821657              3304              3646                  0.000266   \n",
       "852744               127               210                  0.012943   \n",
       "\n",
       "        markov_cos_dis  hour_normalise_cos_dis  interval_cos_dis  \\\n",
       "21090         0.047311                0.024098          0.000498   \n",
       "187273        0.046601                0.016386          0.001400   \n",
       "259802        0.040188                0.039575          0.040543   \n",
       "364824        0.006666                0.002626          0.004912   \n",
       "526790        0.014656                0.019172          0.000387   \n",
       "782564        0.024252                0.046912          0.018795   \n",
       "821657        0.000998                0.036840          0.002624   \n",
       "852744        0.032723                0.048621          0.047882   \n",
       "\n",
       "        active_time_diff  session_count_diff  operation_count_diff  \n",
       "21090           0.335150                   2                    88  \n",
       "187273          9.201967                   5                   146  \n",
       "259802          8.950883                   7                    40  \n",
       "364824         12.306033                   3                    77  \n",
       "526790         12.435100                   5                    35  \n",
       "782564         44.282467                   6                   437  \n",
       "821657          7.599083                   7                   342  \n",
       "852744         15.517067                  14                    83  "
      ]
     },
     "execution_count": 52,
     "metadata": {},
     "output_type": "execute_result"
    }
   ],
   "source": [
    "high_sim.head(30)"
   ]
  },
  {
   "cell_type": "code",
   "execution_count": 54,
   "metadata": {},
   "outputs": [],
   "source": [
    "def case_study_data(u1, u2, spark=spark, country='ID', begin='2019-09-01', end='2019-09-30'):\n",
    "    \"\"\" \n",
    "    pull all user action data (click & view) on certain day \n",
    "\n",
    "    Args:\n",
    "        spark: spark session object\n",
    "        country: str country code e.g. 'ID'\n",
    "        date: str e.g. ('2019-09-09')\n",
    "\n",
    "    Returns:\n",
    "        action_df: spark dataframe\n",
    "            - schema: uid, page_type, page_section, operation, \n",
    "                event_timestamp\n",
    "    \"\"\"\n",
    "\n",
    "    VIEW_QUERY = \"\"\"  \n",
    "        SELECT \n",
    "            userid, \n",
    "            page_type,\n",
    "            page_section[0] as section,\n",
    "            operation,\n",
    "            target_type,\n",
    "            event_timestamp,\n",
    "            hour,\n",
    "            utc_date\n",
    "        FROM \n",
    "            user_behavior_mart_dwd__view_event\n",
    "        WHERE \n",
    "            grass_region='%s' and utc_date >='%s' and utc_date <='%s' and (userid=%d or userid=%d)\n",
    "    \"\"\" % (country, begin, end, u1, u2)\n",
    "\n",
    "    CLICK_QUERY = \"\"\"\n",
    "        SELECT \n",
    "            userid, \n",
    "            page_type,\n",
    "            page_section[0] as section,\n",
    "            operation,\n",
    "            target_type,\n",
    "            event_timestamp,\n",
    "            hour,\n",
    "            utc_date\n",
    "        FROM \n",
    "            user_behavior_mart_dwd__click_event\n",
    "        WHERE \n",
    "            grass_region='%s' and utc_date >='%s' and utc_date <='%s' and (userid=%d or userid=%d)\n",
    "    \"\"\" % (country, begin, end, u1, u2)\n",
    "\n",
    "    click_df = spark.sql(CLICK_QUERY)\n",
    "    view_df = spark.sql(VIEW_QUERY)\n",
    "    union_df = click_df.union(view_df).orderBy(['utc_date', 'userid', 'event_timestamp'])\n",
    "    return union_df"
   ]
  },
  {
   "cell_type": "code",
   "execution_count": 117,
   "metadata": {
    "collapsed": true
   },
   "outputs": [
    {
     "name": "stdout",
     "output_type": "stream",
     "text": [
      "+---------+----------+-------+--------------------+-----------+---------------+----+----------+\n",
      "|   userid| page_type|section|           operation|target_type|event_timestamp|hour|  utc_date|\n",
      "+---------+----------+-------+--------------------+-----------+---------------+----+----------+\n",
      "|130957307|      null|   null|action_login_success|       null|  1569289763029|   1|2019-09-24|\n",
      "|130957307|coins_page|   null|                view|       null|  1569289763472|   1|2019-09-24|\n",
      "|130957530|      null|   null|action_login_success|       null|  1569289789362|   1|2019-09-24|\n",
      "|130957530|coins_page|   null|                view|       null|  1569289789791|   1|2019-09-24|\n",
      "|130957307|coins_page|   null|                view|       null|  1569379056995|   2|2019-09-25|\n",
      "|130957307|      null|   null|action_login_success|       null|  1569379061330|   2|2019-09-25|\n",
      "|130957307|      null|   null|action_login_success|       null|  1569380442768|   3|2019-09-25|\n",
      "|130957307|coins_page|   null|                view|       null|  1569380443264|   3|2019-09-25|\n",
      "|130957307|coins_page|   null|                view|       null|  1569381827592|   3|2019-09-25|\n",
      "|130957307|      null|   null|action_login_success|       null|  1569381831390|   3|2019-09-25|\n",
      "|130957307|coins_page|   null|                view|       null|  1569385715379|   4|2019-09-25|\n",
      "|130957307|      null|   null|action_login_success|       null|  1569385719009|   4|2019-09-25|\n",
      "|130957307|      null|   null|action_login_success|       null|  1569387057211|   4|2019-09-25|\n",
      "|130957307|coins_page|   null|                view|       null|  1569387057609|   4|2019-09-25|\n",
      "|130957307|      null|   null|action_login_success|       null|  1569388466314|   5|2019-09-25|\n",
      "|130957307|coins_page|   null|                view|       null|  1569388466782|   5|2019-09-25|\n",
      "|130957307|      null|   null|action_login_success|       null|  1569389806376|   5|2019-09-25|\n",
      "|130957307|coins_page|   null|                view|       null|  1569389806869|   5|2019-09-25|\n",
      "|130957530|      null|   null|action_login_success|       null|  1569379076440|   2|2019-09-25|\n",
      "|130957530|coins_page|   null|                view|       null|  1569379076828|   2|2019-09-25|\n",
      "|130957530|      null|   null|action_login_success|       null|  1569380460457|   3|2019-09-25|\n",
      "|130957530|      null|   null|action_login_success|       null|  1569381846665|   3|2019-09-25|\n",
      "|130957530|coins_page|   null|                view|       null|  1569381847245|   3|2019-09-25|\n",
      "|130957530|coins_page|   null|                view|       null|  1569383164628|   3|2019-09-25|\n",
      "|130957530|      null|   null|action_login_success|       null|  1569383167296|   3|2019-09-25|\n",
      "|130957530|      null|   null|action_login_success|       null|  1569385734694|   4|2019-09-25|\n",
      "|130957530|coins_page|   null|                view|       null|  1569385735142|   4|2019-09-25|\n",
      "|130957530|      null|   null|action_login_success|       null|  1569387081997|   4|2019-09-25|\n",
      "|130957530|coins_page|   null|                view|       null|  1569387082423|   4|2019-09-25|\n",
      "|130957530|      null|   null|action_login_success|       null|  1569388482256|   5|2019-09-25|\n",
      "|130957530|coins_page|   null|                view|       null|  1569388483075|   5|2019-09-25|\n",
      "|130957530|      null|   null|action_login_success|       null|  1569389822541|   5|2019-09-25|\n",
      "|130957530|coins_page|   null|                view|       null|  1569389823349|   5|2019-09-25|\n",
      "|130957307|coins_page|   null|                view|       null|  1569462616758|   1|2019-09-26|\n",
      "|130957307|      null|   null|action_login_success|       null|  1569462621536|   1|2019-09-26|\n",
      "|130957530|      null|   null|action_login_success|       null|  1569462637575|   1|2019-09-26|\n",
      "|130957307|      null|   null|action_login_success|       null|  1569549524632|   1|2019-09-27|\n",
      "|130957307|coins_page|   null|                view|       null|  1569549525118|   1|2019-09-27|\n",
      "|130957307|      null|   null|action_login_success|       null|  1569550037033|   2|2019-09-27|\n",
      "|130957307|coins_page|   null|                view|       null|  1569550037668|   2|2019-09-27|\n",
      "|130957307|      null|   null|action_login_success|       null|  1569550540156|   2|2019-09-27|\n",
      "|130957307|coins_page|   null|                view|       null|  1569550540746|   2|2019-09-27|\n",
      "|130957307|      null|   null|action_login_success|       null|  1569551085819|   2|2019-09-27|\n",
      "|130957307|coins_page|   null|                view|       null|  1569551086250|   2|2019-09-27|\n",
      "|130957307|      null|   null|action_login_success|       null|  1569551530495|   2|2019-09-27|\n",
      "|130957307|coins_page|   null|                view|       null|  1569551530958|   2|2019-09-27|\n",
      "|130957307|      null|   null|action_login_success|       null|  1569551877681|   2|2019-09-27|\n",
      "|130957307|coins_page|   null|                view|       null|  1569551878122|   2|2019-09-27|\n",
      "|130957307|      null|   null|action_login_success|       null|  1569552746811|   2|2019-09-27|\n",
      "|130957307|coins_page|   null|                view|       null|  1569552747295|   2|2019-09-27|\n",
      "|130957307|      null|   null|action_login_success|       null|  1569553616038|   3|2019-09-27|\n",
      "|130957307|coins_page|   null|                view|       null|  1569553616487|   3|2019-09-27|\n",
      "|130957307|      null|   null|action_login_success|       null|  1569554087863|   3|2019-09-27|\n",
      "|130957307|coins_page|   null|                view|       null|  1569554088357|   3|2019-09-27|\n",
      "|130957307|      null|   null|action_login_success|       null|  1569554577562|   3|2019-09-27|\n",
      "|130957307|coins_page|   null|                view|       null|  1569554577976|   3|2019-09-27|\n",
      "|130957307|      null|   null|action_login_success|       null|  1569555023651|   3|2019-09-27|\n",
      "|130957307|coins_page|   null|                view|       null|  1569555024330|   3|2019-09-27|\n",
      "|130957307|coins_page|   null|                view|       null|  1569555552108|   3|2019-09-27|\n",
      "|130957307|      null|   null|action_login_success|       null|  1569555556144|   3|2019-09-27|\n",
      "|130957307|      null|   null|action_login_success|       null|  1569556014055|   3|2019-09-27|\n",
      "|130957307|coins_page|   null|                view|       null|  1569556014441|   3|2019-09-27|\n",
      "|130957530|      null|   null|action_login_success|       null|  1569549542046|   1|2019-09-27|\n",
      "|130957530|coins_page|   null|                view|       null|  1569549542538|   1|2019-09-27|\n",
      "|130957530|      null|   null|action_login_success|       null|  1569550053667|   2|2019-09-27|\n",
      "|130957530|coins_page|   null|                view|       null|  1569550054156|   2|2019-09-27|\n",
      "|130957530|      null|   null|action_login_success|       null|  1569550557993|   2|2019-09-27|\n",
      "|130957530|coins_page|   null|                view|       null|  1569550558487|   2|2019-09-27|\n",
      "|130957530|      null|   null|action_login_success|       null|  1569551103425|   2|2019-09-27|\n",
      "|130957530|      null|   null|action_login_success|       null|  1569551894164|   2|2019-09-27|\n",
      "|130957530|coins_page|   null|                view|       null|  1569551894647|   2|2019-09-27|\n",
      "|130957530|      null|   null|action_login_success|       null|  1569553630829|   3|2019-09-27|\n",
      "|130957530|coins_page|   null|                view|       null|  1569553631214|   3|2019-09-27|\n",
      "|130957530|      null|   null|action_login_success|       null|  1569554102657|   3|2019-09-27|\n",
      "|130957530|coins_page|   null|                view|       null|  1569554103216|   3|2019-09-27|\n",
      "|130957530|      null|   null|action_login_success|       null|  1569554592978|   3|2019-09-27|\n",
      "|130957530|coins_page|   null|                view|       null|  1569554593569|   3|2019-09-27|\n",
      "|130957530|      null|   null|action_login_success|       null|  1569555090586|   3|2019-09-27|\n",
      "|130957530|coins_page|   null|                view|       null|  1569555090955|   3|2019-09-27|\n",
      "|130957530|      null|   null|action_login_success|       null|  1569555572689|   3|2019-09-27|\n",
      "|130957530|coins_page|   null|                view|       null|  1569555573203|   3|2019-09-27|\n",
      "|130957530|      null|   null|action_login_success|       null|  1569556040080|   3|2019-09-27|\n",
      "|130957530|coins_page|   null|                view|       null|  1569556040601|   3|2019-09-27|\n",
      "|130957307|      null|   null|action_login_success|       null|  1569634960714|   1|2019-09-28|\n",
      "|130957307|coins_page|   null|                view|       null|  1569634961309|   1|2019-09-28|\n",
      "|130957307|      null|   null|action_login_success|       null|  1569668661805|  11|2019-09-28|\n",
      "|130957307|coins_page|   null|                view|       null|  1569668662336|  11|2019-09-28|\n",
      "|130957530|      null|   null|action_login_success|       null|  1569634974717|   1|2019-09-28|\n",
      "|130957530|coins_page|   null|                view|       null|  1569634975446|   1|2019-09-28|\n",
      "|130957530|      null|   null|action_login_success|       null|  1569668687471|  11|2019-09-28|\n",
      "|130957530|coins_page|   null|                view|       null|  1569668687968|  11|2019-09-28|\n",
      "|130957307|      null|   null|action_login_success|       null|  1569721620312|   1|2019-09-29|\n",
      "|130957530|      null|   null|action_login_success|       null|  1569721635307|   1|2019-09-29|\n",
      "|130957530|coins_page|   null|                view|       null|  1569721635684|   1|2019-09-29|\n",
      "|130957307|      null|   null|action_login_success|       null|  1569808293242|   1|2019-09-30|\n",
      "|130957307|coins_page|   null|                view|       null|  1569808293735|   1|2019-09-30|\n",
      "|130957530|      null|   null|action_login_success|       null|  1569808305813|   1|2019-09-30|\n",
      "|130957530|coins_page|   null|                view|       null|  1569808306383|   1|2019-09-30|\n",
      "+---------+----------+-------+--------------------+-----------+---------------+----+----------+\n",
      "\n"
     ]
    }
   ],
   "source": [
    "case_study_data(130957307, 130957530, begin='2019-09-24').show(200)"
   ]
  },
  {
   "cell_type": "code",
   "execution_count": 55,
   "metadata": {
    "collapsed": true
   },
   "outputs": [
    {
     "name": "stdout",
     "output_type": "stream",
     "text": [
      "+---------+-------------+-------------------+--------------------+--------------------+---------------+----+----------+\n",
      "|   userid|    page_type|            section|           operation|         target_type|event_timestamp|hour|  utc_date|\n",
      "+---------+-------------+-------------------+--------------------+--------------------+---------------+----+----------+\n",
      "|174577324|         home|               null|                view|                null|  1569308166962|   6|2019-09-24|\n",
      "|174577324|         null|               null|action_login_success|                null|  1569309667575|   7|2019-09-24|\n",
      "|174577324|notifications|notification_folder|               click|                 tab|  1569309687294|   7|2019-09-24|\n",
      "|174577324|       search|               null|                view|                null|  1569310148483|   7|2019-09-24|\n",
      "|174577324|       search|               null|               click|                shop|  1569310178176|   7|2019-09-24|\n",
      "|174577324|         shop|               null|                view|                null|  1569310178866|   7|2019-09-24|\n",
      "|174577324|      product|               null|                view|                null|  1569310193720|   7|2019-09-24|\n",
      "|174577324|      product|               null|               click|      buy_now_button|  1569310206664|   7|2019-09-24|\n",
      "|174577324|         null|               null|action_add_to_car...|                null|  1569310210718|   7|2019-09-24|\n",
      "|174577324|shopping_cart|               null|                view|                null|  1569310211094|   7|2019-09-24|\n",
      "|174577324|   order_list|               null|                view|                null|  1569310256619|   7|2019-09-24|\n",
      "|174577324|      product|               null|                view|                null|  1569310703953|   7|2019-09-24|\n",
      "|174577324|      product|               null|               click|      buy_now_button|  1569310714046|   7|2019-09-24|\n",
      "|174577324|   order_list|               null|                view|                null|  1569310755959|   7|2019-09-24|\n",
      "|174577324|      product|               null|                view|                null|  1569311605573|   7|2019-09-24|\n",
      "|174577324|      product|               null|               click|      buy_now_button|  1569311615171|   7|2019-09-24|\n",
      "|174577324|         null|               null|action_add_to_car...|                null|  1569311616292|   7|2019-09-24|\n",
      "|174577324|shopping_cart|               null|                view|                null|  1569311616516|   7|2019-09-24|\n",
      "|174577324|shopping_cart|               null|               click|     checkout_button|  1569311644759|   7|2019-09-24|\n",
      "|174577324|shopping_cart|               null|action_checkout_s...|                null|  1569311655786|   7|2019-09-24|\n",
      "|174577324|checkout_page|               null|                view|                null|  1569311656544|   7|2019-09-24|\n",
      "|174577324|checkout_page|               null|               click|change_delivery_a...|  1569311694956|   7|2019-09-24|\n",
      "|174577324|checkout_page|               null|               click|  address_row_button|  1569311697302|   7|2019-09-24|\n",
      "|174577324|checkout_page|               null|               click|submit_delivery_a...|  1569311699089|   7|2019-09-24|\n",
      "|174577324|checkout_page|               null|action_change_add...|                null|  1569311701373|   7|2019-09-24|\n",
      "|174577324|checkout_page|               null|               click|  place_order_button|  1569311705149|   7|2019-09-24|\n",
      "|174577324|checkout_page|               null|action_place_orde...|                null|  1569311708421|   7|2019-09-24|\n",
      "|174577324|   order_list|               null|                view|                null|  1569311720054|   7|2019-09-24|\n",
      "|174577324|      product|               null|                view|                null|  1569312379053|   8|2019-09-24|\n",
      "|174577324|      product|               null|               click|      buy_now_button|  1569312450948|   8|2019-09-24|\n",
      "|174577324|      product|               null|               click|      buy_now_button|  1569312518982|   8|2019-09-24|\n",
      "|174577324|         null|               null|action_add_to_car...|                null|  1569312546142|   8|2019-09-24|\n",
      "|174577324|         null|               null|action_add_to_car...|                null|  1569312546281|   8|2019-09-24|\n",
      "|174577324|shopping_cart|               null|                view|                null|  1569312546480|   8|2019-09-24|\n",
      "|174577324|shopping_cart|               null|               click|     checkout_button|  1569312624766|   8|2019-09-24|\n",
      "|174577324|shopping_cart|               null|action_checkout_s...|                null|  1569312625520|   8|2019-09-24|\n",
      "|174577324|checkout_page|               null|                view|                null|  1569312627199|   8|2019-09-24|\n",
      "|174577324|checkout_page|               null|               click|change_delivery_a...|  1569312676343|   8|2019-09-24|\n",
      "|174577324|checkout_page|               null|               click|  address_row_button|  1569312678454|   8|2019-09-24|\n",
      "|174577324|checkout_page|               null|               click|submit_delivery_a...|  1569312681317|   8|2019-09-24|\n",
      "|174577324|checkout_page|               null|action_change_add...|                null|  1569312683210|   8|2019-09-24|\n",
      "|174577324|checkout_page|               null|               click|  place_order_button|  1569312689980|   8|2019-09-24|\n",
      "|174577324|checkout_page|               null|action_place_orde...|                null|  1569312691502|   8|2019-09-24|\n",
      "|174577324|   order_list|               null|                view|                null|  1569312699990|   8|2019-09-24|\n",
      "|174577324|      product|               null|                view|                null|  1569313967137|   8|2019-09-24|\n",
      "|174577324|   order_list|               null|                view|                null|  1569314016871|   8|2019-09-24|\n",
      "|174577324|      product|               null|                view|                null|  1569316021709|   9|2019-09-24|\n",
      "|174577324|      product|               null|               click|      buy_now_button|  1569316034131|   9|2019-09-24|\n",
      "|174577324|         null|               null|action_add_to_car...|                null|  1569316035026|   9|2019-09-24|\n",
      "|174577324|shopping_cart|               null|                view|                null|  1569316035329|   9|2019-09-24|\n",
      "|174577324|shopping_cart|               null|               click|     checkout_button|  1569316040375|   9|2019-09-24|\n",
      "|174577324|shopping_cart|               null|action_checkout_s...|                null|  1569316040637|   9|2019-09-24|\n",
      "|174577324|checkout_page|               null|                view|                null|  1569316041297|   9|2019-09-24|\n",
      "|174577324|checkout_page|               null|               click|change_delivery_a...|  1569316048589|   9|2019-09-24|\n",
      "|174577324|checkout_page|               null|               click|  address_row_button|  1569316052155|   9|2019-09-24|\n",
      "|174577324|checkout_page|               null|               click|submit_delivery_a...|  1569316053068|   9|2019-09-24|\n",
      "|174577324|checkout_page|               null|action_change_add...|                null|  1569316054661|   9|2019-09-24|\n",
      "|174577324|checkout_page|               null|               click|  place_order_button|  1569316058665|   9|2019-09-24|\n",
      "|174577324|checkout_page|               null|action_place_orde...|                null|  1569316059913|   9|2019-09-24|\n",
      "|174577324|   order_list|               null|                view|                null|  1569316067040|   9|2019-09-24|\n",
      "|174577324|      product|               null|                view|                null|  1569316557643|   9|2019-09-24|\n",
      "|174577324|      product|               null|               click|      buy_now_button|  1569316567551|   9|2019-09-24|\n",
      "|174577324|         null|               null|action_add_to_car...|                null|  1569316568371|   9|2019-09-24|\n",
      "|174577324|shopping_cart|               null|                view|                null|  1569316568666|   9|2019-09-24|\n",
      "|174577324|shopping_cart|               null|               click|     checkout_button|  1569316575160|   9|2019-09-24|\n",
      "|174577324|shopping_cart|               null|action_checkout_s...|                null|  1569316575612|   9|2019-09-24|\n",
      "|174577324|checkout_page|               null|                view|                null|  1569316576287|   9|2019-09-24|\n",
      "|174577324|checkout_page|               null|               click|change_delivery_a...|  1569316579553|   9|2019-09-24|\n",
      "|174577324|checkout_page|               null|               click|  address_row_button|  1569316581997|   9|2019-09-24|\n",
      "|174577324|checkout_page|               null|               click|submit_delivery_a...|  1569316582397|   9|2019-09-24|\n",
      "|174577324|checkout_page|               null|action_change_add...|                null|  1569316583885|   9|2019-09-24|\n",
      "|174577324|checkout_page|               null|               click|  place_order_button|  1569316589009|   9|2019-09-24|\n",
      "|174577324|checkout_page|               null|action_place_orde...|                null|  1569316590977|   9|2019-09-24|\n",
      "|174577324|   order_list|               null|                view|                null|  1569316599208|   9|2019-09-24|\n",
      "|174577324|   order_list|               null|               click| order_action_button|  1569321712502|  10|2019-09-24|\n",
      "|174577324|   order_list|               null|               click| order_action_button|  1569321737011|  10|2019-09-24|\n",
      "|174577324|   order_list|               null|               click| order_action_button|  1569321816653|  10|2019-09-24|\n",
      "|174581162|         null|               null|action_login_success|                null|  1569309908343|   7|2019-09-24|\n",
      "|174581162|notifications|notification_folder|               click|                 tab|  1569309928952|   7|2019-09-24|\n",
      "|174581162|       search|               null|                view|                null|  1569309987335|   7|2019-09-24|\n",
      "|174581162|       search|               null|               click|                shop|  1569310004974|   7|2019-09-24|\n",
      "|174581162|         shop|               null|                view|                null|  1569310005599|   7|2019-09-24|\n",
      "|174581162|      product|               null|                view|                null|  1569310028890|   7|2019-09-24|\n",
      "|174581162|      product|               null|               click|      buy_now_button|  1569310039697|   7|2019-09-24|\n",
      "|174581162|         null|               null|action_add_to_car...|                null|  1569310041902|   7|2019-09-24|\n",
      "|174581162|shopping_cart|               null|                view|                null|  1569310042907|   7|2019-09-24|\n",
      "|174581162|shopping_cart|               null|               click|     checkout_button|  1569310048211|   7|2019-09-24|\n",
      "|174581162|shopping_cart|               null|action_checkout_s...|                null|  1569310048473|   7|2019-09-24|\n",
      "|174581162|checkout_page|               null|                view|                null|  1569310049316|   7|2019-09-24|\n",
      "|174581162|checkout_page|               null|               click|  place_order_button|  1569310057083|   7|2019-09-24|\n",
      "|174581162|checkout_page|               null|action_place_orde...|                null|  1569310059588|   7|2019-09-24|\n",
      "|174581162|   order_list|               null|                view|                null|  1569310068636|   7|2019-09-24|\n",
      "|174581162|      product|               null|                view|                null|  1569310890382|   7|2019-09-24|\n",
      "|174581162|      product|               null|               click|      buy_now_button|  1569310909582|   7|2019-09-24|\n",
      "|174581162|         null|               null|action_add_to_car...|                null|  1569310915240|   7|2019-09-24|\n",
      "|174581162|shopping_cart|               null|                view|                null|  1569310915563|   7|2019-09-24|\n",
      "|174581162|shopping_cart|               null|               click|     checkout_button|  1569310919306|   7|2019-09-24|\n",
      "|174581162|shopping_cart|               null|action_checkout_s...|                null|  1569310919778|   7|2019-09-24|\n",
      "|174581162|checkout_page|               null|                view|                null|  1569310921054|   7|2019-09-24|\n",
      "|174581162|checkout_page|               null|               click|change_delivery_a...|  1569310926934|   7|2019-09-24|\n",
      "|174581162|checkout_page|               null|               click|  address_row_button|  1569310929240|   7|2019-09-24|\n",
      "|174581162|checkout_page|               null|               click|submit_delivery_a...|  1569310930181|   7|2019-09-24|\n",
      "|174581162|checkout_page|               null|action_change_add...|                null|  1569310933771|   7|2019-09-24|\n",
      "|174581162|checkout_page|               null|               click|  place_order_button|  1569310940055|   7|2019-09-24|\n",
      "|174581162|checkout_page|               null|action_place_orde...|                null|  1569310954210|   7|2019-09-24|\n",
      "|174581162|      product|               null|                view|                null|  1569312608841|   8|2019-09-24|\n",
      "|174581162|      product|               null|               click|      buy_now_button|  1569312633756|   8|2019-09-24|\n",
      "|174581162|         null|               null|action_add_to_car...|                null|  1569312635164|   8|2019-09-24|\n",
      "|174581162|shopping_cart|               null|                view|                null|  1569312635506|   8|2019-09-24|\n",
      "|174581162|shopping_cart|               null|               click|     checkout_button|  1569312644666|   8|2019-09-24|\n",
      "|174581162|shopping_cart|               null|action_checkout_s...|                null|  1569312645020|   8|2019-09-24|\n",
      "|174581162|checkout_page|               null|                view|                null|  1569312646406|   8|2019-09-24|\n",
      "|174581162|checkout_page|               null|               click|change_delivery_a...|  1569312653640|   8|2019-09-24|\n",
      "|174581162|checkout_page|               null|               click|  address_row_button|  1569312655926|   8|2019-09-24|\n",
      "|174581162|   order_list|               null|                view|                null|  1569312674229|   8|2019-09-24|\n",
      "|174581162|      product|               null|                view|                null|  1569313594678|   8|2019-09-24|\n",
      "|174581162|      product|               null|               click|      buy_now_button|  1569313611557|   8|2019-09-24|\n",
      "|174581162|         null|               null|action_add_to_car...|                null|  1569313612400|   8|2019-09-24|\n",
      "|174581162|shopping_cart|               null|                view|                null|  1569313612654|   8|2019-09-24|\n",
      "|174581162|shopping_cart|               null|               click|     checkout_button|  1569313616071|   8|2019-09-24|\n",
      "|174581162|shopping_cart|               null|action_checkout_s...|                null|  1569313616328|   8|2019-09-24|\n",
      "|174581162|checkout_page|               null|                view|                null|  1569313617284|   8|2019-09-24|\n",
      "|174581162|checkout_page|               null|               click|change_delivery_a...|  1569313620857|   8|2019-09-24|\n",
      "|174581162|checkout_page|               null|               click|  address_row_button|  1569313623222|   8|2019-09-24|\n",
      "|174581162|checkout_page|               null|               click|submit_delivery_a...|  1569313624198|   8|2019-09-24|\n",
      "|174581162|checkout_page|               null|action_change_add...|                null|  1569313625615|   8|2019-09-24|\n",
      "|174581162|checkout_page|               null|               click|  place_order_button|  1569313629166|   8|2019-09-24|\n",
      "|174581162|checkout_page|               null|action_place_orde...|                null|  1569313630787|   8|2019-09-24|\n",
      "|174581162|   order_list|               null|                view|                null|  1569313638593|   8|2019-09-24|\n",
      "|174581162|      product|               null|                view|                null|  1569314278971|   8|2019-09-24|\n",
      "|174581162|      product|               null|               click|      buy_now_button|  1569314290666|   8|2019-09-24|\n",
      "|174581162|         null|               null|action_add_to_car...|                null|  1569314291563|   8|2019-09-24|\n",
      "|174581162|shopping_cart|               null|                view|                null|  1569314291843|   8|2019-09-24|\n",
      "|174581162|shopping_cart|               null|               click|     checkout_button|  1569314297888|   8|2019-09-24|\n",
      "|174581162|shopping_cart|               null|action_checkout_s...|                null|  1569314298043|   8|2019-09-24|\n",
      "|174581162|checkout_page|               null|                view|                null|  1569314299115|   8|2019-09-24|\n",
      "|174581162|checkout_page|               null|               click|change_delivery_a...|  1569314303169|   8|2019-09-24|\n",
      "|174581162|checkout_page|               null|               click|  address_row_button|  1569314305545|   8|2019-09-24|\n",
      "|174581162|checkout_page|               null|               click|submit_delivery_a...|  1569314306770|   8|2019-09-24|\n",
      "|174581162|checkout_page|               null|action_change_add...|                null|  1569314308259|   8|2019-09-24|\n",
      "|174581162|checkout_page|               null|               click|  place_order_button|  1569314312576|   8|2019-09-24|\n",
      "|174581162|checkout_page|               null|action_place_orde...|                null|  1569314314055|   8|2019-09-24|\n",
      "|174581162|   order_list|               null|                view|                null|  1569314321520|   8|2019-09-24|\n",
      "|174581162|      product|               null|                view|                null|  1569315656257|   9|2019-09-24|\n",
      "|174581162|      product|               null|               click|      buy_now_button|  1569315667310|   9|2019-09-24|\n",
      "|174581162|         null|               null|action_add_to_car...|                null|  1569315668146|   9|2019-09-24|\n",
      "|174581162|shopping_cart|               null|                view|                null|  1569315668444|   9|2019-09-24|\n",
      "|174581162|shopping_cart|               null|               click|     checkout_button|  1569315672441|   9|2019-09-24|\n",
      "|174581162|shopping_cart|               null|action_checkout_s...|                null|  1569315672706|   9|2019-09-24|\n",
      "|174581162|checkout_page|               null|                view|                null|  1569315673673|   9|2019-09-24|\n",
      "|174581162|checkout_page|               null|               click|change_delivery_a...|  1569315677085|   9|2019-09-24|\n",
      "|174581162|checkout_page|               null|               click|  address_row_button|  1569315679140|   9|2019-09-24|\n",
      "|174581162|checkout_page|               null|               click|submit_delivery_a...|  1569315680360|   9|2019-09-24|\n",
      "|174581162|checkout_page|               null|action_change_add...|                null|  1569315682005|   9|2019-09-24|\n",
      "|174581162|checkout_page|               null|               click|  place_order_button|  1569315684913|   9|2019-09-24|\n",
      "|174581162|checkout_page|               null|action_place_orde...|                null|  1569315686520|   9|2019-09-24|\n",
      "|174581162|   order_list|               null|                view|                null|  1569315695094|   9|2019-09-24|\n",
      "|174581162|      product|               null|                view|                null|  1569316225082|   9|2019-09-24|\n",
      "|174581162|      product|               null|               click|      buy_now_button|  1569316233233|   9|2019-09-24|\n",
      "|174581162|         null|               null|action_add_to_car...|                null|  1569316234025|   9|2019-09-24|\n",
      "|174581162|shopping_cart|               null|                view|                null|  1569316234211|   9|2019-09-24|\n",
      "|174581162|shopping_cart|               null|               click|     checkout_button|  1569316238479|   9|2019-09-24|\n",
      "|174581162|shopping_cart|               null|action_checkout_s...|                null|  1569316238627|   9|2019-09-24|\n",
      "|174581162|checkout_page|               null|                view|                null|  1569316239317|   9|2019-09-24|\n",
      "|174581162|checkout_page|               null|               click|change_delivery_a...|  1569316246779|   9|2019-09-24|\n",
      "|174581162|checkout_page|               null|               click|  address_row_button|  1569316250985|   9|2019-09-24|\n",
      "|174581162|checkout_page|               null|               click|submit_delivery_a...|  1569316251474|   9|2019-09-24|\n",
      "|174581162|checkout_page|               null|action_change_add...|                null|  1569316252972|   9|2019-09-24|\n",
      "|174581162|checkout_page|               null|               click|  place_order_button|  1569316257496|   9|2019-09-24|\n",
      "|174581162|checkout_page|               null|action_place_orde...|                null|  1569316258612|   9|2019-09-24|\n",
      "|174581162|   order_list|               null|                view|                null|  1569316266262|   9|2019-09-24|\n",
      "|174581162|      product|               null|                view|                null|  1569316705636|   9|2019-09-24|\n",
      "|174581162|      product|               null|               click|      buy_now_button|  1569316720309|   9|2019-09-24|\n",
      "|174581162|         null|               null|action_add_to_car...|                null|  1569316721154|   9|2019-09-24|\n",
      "|174581162|shopping_cart|               null|                view|                null|  1569316721983|   9|2019-09-24|\n",
      "|174581162|shopping_cart|               null|               click|     checkout_button|  1569316729022|   9|2019-09-24|\n",
      "|174581162|shopping_cart|               null|action_checkout_s...|                null|  1569316729184|   9|2019-09-24|\n",
      "|174581162|checkout_page|               null|                view|                null|  1569316730077|   9|2019-09-24|\n",
      "|174581162|checkout_page|               null|               click|change_delivery_a...|  1569316733674|   9|2019-09-24|\n",
      "|174581162|checkout_page|               null|               click|  address_row_button|  1569316736233|   9|2019-09-24|\n",
      "|174581162|checkout_page|               null|               click|submit_delivery_a...|  1569316736626|   9|2019-09-24|\n",
      "|174581162|checkout_page|               null|action_change_add...|                null|  1569316738080|   9|2019-09-24|\n",
      "|174581162|checkout_page|               null|               click|  place_order_button|  1569316740795|   9|2019-09-24|\n",
      "|174581162|checkout_page|               null|action_place_orde...|                null|  1569316742290|   9|2019-09-24|\n",
      "|174581162|   order_list|               null|                view|                null|  1569316750702|   9|2019-09-24|\n",
      "|174581162|      product|               null|                view|                null|  1569317452738|   9|2019-09-24|\n",
      "|174581162|      product|               null|               click|      buy_now_button|  1569317473205|   9|2019-09-24|\n",
      "|174581162|         null|               null|action_add_to_car...|                null|  1569317474009|   9|2019-09-24|\n",
      "|174581162|shopping_cart|               null|                view|                null|  1569317474296|   9|2019-09-24|\n",
      "|174581162|shopping_cart|               null|               click|     checkout_button|  1569317481748|   9|2019-09-24|\n",
      "|174581162|shopping_cart|               null|action_checkout_s...|                null|  1569317482013|   9|2019-09-24|\n",
      "|174581162|checkout_page|               null|                view|                null|  1569317482849|   9|2019-09-24|\n",
      "|174581162|checkout_page|               null|               click|change_delivery_a...|  1569317487014|   9|2019-09-24|\n",
      "|174581162|checkout_page|               null|               click|  address_row_button|  1569317489887|   9|2019-09-24|\n",
      "|174581162|checkout_page|               null|               click|submit_delivery_a...|  1569317490161|   9|2019-09-24|\n",
      "|174581162|checkout_page|               null|action_change_add...|                null|  1569317491861|   9|2019-09-24|\n",
      "|174581162|checkout_page|               null|               click|  place_order_button|  1569317494969|   9|2019-09-24|\n",
      "|174581162|checkout_page|               null|action_place_orde...|                null|  1569317496152|   9|2019-09-24|\n",
      "|174581162|   order_list|               null|                view|                null|  1569317504405|   9|2019-09-24|\n",
      "|174581162|   order_list|               null|               click| order_action_button|  1569321875203|  10|2019-09-24|\n",
      "+---------+-------------+-------------------+--------------------+--------------------+---------------+----+----------+\n",
      "only showing top 200 rows\n",
      "\n"
     ]
    }
   ],
   "source": [
    "case_study_data(174577324, 174581162, begin='2019-09-24').show(200)"
   ]
  },
  {
   "cell_type": "markdown",
   "metadata": {},
   "source": [
    "# Extreme Cases \n",
    "for user who have super long sessions or super long active time"
   ]
  },
  {
   "cell_type": "code",
   "execution_count": 61,
   "metadata": {},
   "outputs": [
    {
     "data": {
      "text/html": [
       "<div>\n",
       "<style scoped>\n",
       "    .dataframe tbody tr th:only-of-type {\n",
       "        vertical-align: middle;\n",
       "    }\n",
       "\n",
       "    .dataframe tbody tr th {\n",
       "        vertical-align: top;\n",
       "    }\n",
       "\n",
       "    .dataframe thead th {\n",
       "        text-align: right;\n",
       "    }\n",
       "</style>\n",
       "<table border=\"1\" class=\"dataframe\">\n",
       "  <thead>\n",
       "    <tr style=\"text-align: right;\">\n",
       "      <th></th>\n",
       "      <th>node1</th>\n",
       "      <th>node2</th>\n",
       "      <th>similarity</th>\n",
       "      <th>label</th>\n",
       "      <th>active_time1</th>\n",
       "      <th>active_time2</th>\n",
       "      <th>session_count1</th>\n",
       "      <th>session_count2</th>\n",
       "      <th>operation_count1</th>\n",
       "      <th>operation_count2</th>\n",
       "      <th>action_normalise_cos_dis</th>\n",
       "      <th>markov_cos_dis</th>\n",
       "      <th>hour_normalise_cos_dis</th>\n",
       "      <th>interval_cos_dis</th>\n",
       "      <th>active_time_diff</th>\n",
       "      <th>session_count_diff</th>\n",
       "      <th>operation_count_diff</th>\n",
       "    </tr>\n",
       "  </thead>\n",
       "  <tbody>\n",
       "    <tr>\n",
       "      <th>10534</th>\n",
       "      <td>117742253</td>\n",
       "      <td>118479126</td>\n",
       "      <td>0.182500</td>\n",
       "      <td>non_uui_low_score_pairs</td>\n",
       "      <td>284775.722987</td>\n",
       "      <td>139905.793983</td>\n",
       "      <td>138</td>\n",
       "      <td>185</td>\n",
       "      <td>9763</td>\n",
       "      <td>4825</td>\n",
       "      <td>0.071234</td>\n",
       "      <td>0.264403</td>\n",
       "      <td>0.141717</td>\n",
       "      <td>0.229593</td>\n",
       "      <td>2414.498817</td>\n",
       "      <td>47</td>\n",
       "      <td>4938</td>\n",
       "    </tr>\n",
       "    <tr>\n",
       "      <th>11879</th>\n",
       "      <td>48135685</td>\n",
       "      <td>50323129</td>\n",
       "      <td>0.123125</td>\n",
       "      <td>non_uui_low_score_pairs</td>\n",
       "      <td>75092.924988</td>\n",
       "      <td>275233.875985</td>\n",
       "      <td>111</td>\n",
       "      <td>172</td>\n",
       "      <td>3283</td>\n",
       "      <td>16512</td>\n",
       "      <td>0.454511</td>\n",
       "      <td>0.567918</td>\n",
       "      <td>0.244148</td>\n",
       "      <td>0.406058</td>\n",
       "      <td>3335.682517</td>\n",
       "      <td>61</td>\n",
       "      <td>13229</td>\n",
       "    </tr>\n",
       "    <tr>\n",
       "      <th>16869</th>\n",
       "      <td>114791222</td>\n",
       "      <td>175375499</td>\n",
       "      <td>0.053125</td>\n",
       "      <td>non_uui_low_score_pairs</td>\n",
       "      <td>423649.759990</td>\n",
       "      <td>23604.071991</td>\n",
       "      <td>100</td>\n",
       "      <td>80</td>\n",
       "      <td>41410</td>\n",
       "      <td>1674</td>\n",
       "      <td>0.224470</td>\n",
       "      <td>0.482244</td>\n",
       "      <td>0.212058</td>\n",
       "      <td>0.473169</td>\n",
       "      <td>6667.428133</td>\n",
       "      <td>20</td>\n",
       "      <td>39736</td>\n",
       "    </tr>\n",
       "    <tr>\n",
       "      <th>17859</th>\n",
       "      <td>139638930</td>\n",
       "      <td>181289910</td>\n",
       "      <td>0.085000</td>\n",
       "      <td>non_uui_low_score_pairs</td>\n",
       "      <td>259489.952979</td>\n",
       "      <td>4716.481999</td>\n",
       "      <td>221</td>\n",
       "      <td>12</td>\n",
       "      <td>21304</td>\n",
       "      <td>350</td>\n",
       "      <td>0.827196</td>\n",
       "      <td>0.708082</td>\n",
       "      <td>0.471429</td>\n",
       "      <td>0.541020</td>\n",
       "      <td>4246.224516</td>\n",
       "      <td>209</td>\n",
       "      <td>20954</td>\n",
       "    </tr>\n",
       "    <tr>\n",
       "      <th>18805</th>\n",
       "      <td>75674574</td>\n",
       "      <td>118037262</td>\n",
       "      <td>0.105000</td>\n",
       "      <td>non_uui_low_score_pairs</td>\n",
       "      <td>87329.738992</td>\n",
       "      <td>310429.303988</td>\n",
       "      <td>91</td>\n",
       "      <td>142</td>\n",
       "      <td>6030</td>\n",
       "      <td>26290</td>\n",
       "      <td>0.182936</td>\n",
       "      <td>0.343563</td>\n",
       "      <td>0.069905</td>\n",
       "      <td>0.258415</td>\n",
       "      <td>3718.326083</td>\n",
       "      <td>51</td>\n",
       "      <td>20260</td>\n",
       "    </tr>\n",
       "  </tbody>\n",
       "</table>\n",
       "</div>"
      ],
      "text/plain": [
       "           node1      node2  similarity                    label  \\\n",
       "10534  117742253  118479126    0.182500  non_uui_low_score_pairs   \n",
       "11879   48135685   50323129    0.123125  non_uui_low_score_pairs   \n",
       "16869  114791222  175375499    0.053125  non_uui_low_score_pairs   \n",
       "17859  139638930  181289910    0.085000  non_uui_low_score_pairs   \n",
       "18805   75674574  118037262    0.105000  non_uui_low_score_pairs   \n",
       "\n",
       "        active_time1   active_time2  session_count1  session_count2  \\\n",
       "10534  284775.722987  139905.793983             138             185   \n",
       "11879   75092.924988  275233.875985             111             172   \n",
       "16869  423649.759990   23604.071991             100              80   \n",
       "17859  259489.952979    4716.481999             221              12   \n",
       "18805   87329.738992  310429.303988              91             142   \n",
       "\n",
       "       operation_count1  operation_count2  action_normalise_cos_dis  \\\n",
       "10534              9763              4825                  0.071234   \n",
       "11879              3283             16512                  0.454511   \n",
       "16869             41410              1674                  0.224470   \n",
       "17859             21304               350                  0.827196   \n",
       "18805              6030             26290                  0.182936   \n",
       "\n",
       "       markov_cos_dis  hour_normalise_cos_dis  interval_cos_dis  \\\n",
       "10534        0.264403                0.141717          0.229593   \n",
       "11879        0.567918                0.244148          0.406058   \n",
       "16869        0.482244                0.212058          0.473169   \n",
       "17859        0.708082                0.471429          0.541020   \n",
       "18805        0.343563                0.069905          0.258415   \n",
       "\n",
       "       active_time_diff  session_count_diff  operation_count_diff  \n",
       "10534       2414.498817                  47                  4938  \n",
       "11879       3335.682517                  61                 13229  \n",
       "16869       6667.428133                  20                 39736  \n",
       "17859       4246.224516                 209                 20954  \n",
       "18805       3718.326083                  51                 20260  "
      ]
     },
     "execution_count": 61,
     "metadata": {},
     "output_type": "execute_result"
    }
   ],
   "source": [
    "pair_df[(pair_df['active_time1'] > 3 * 24 * 3600 ) | (pair_df['active_time2'] > 3 * 24 * 3600)].head(5)"
   ]
  },
  {
   "cell_type": "code",
   "execution_count": 56,
   "metadata": {
    "collapsed": true
   },
   "outputs": [
    {
     "name": "stdout",
     "output_type": "stream",
     "text": [
      "+-------+-------------------+--------------------+--------------------+---------------+---------------+----+----------+\n",
      "| userid|          page_type|             section|           operation|    target_type|event_timestamp|hour|  utc_date|\n",
      "+-------+-------------------+--------------------+--------------------+---------------+---------------+----+----------+\n",
      "|8210111|streaming_room_push|                null| action_live_details|           null|  1569283195926|   0|2019-09-24|\n",
      "|8210111|streaming_room_push|                null| action_live_details|           null|  1569283197925|   0|2019-09-24|\n",
      "|8210111|streaming_room_push|                null| action_live_details|           null|  1569283199934|   0|2019-09-24|\n",
      "|8210111|streaming_room_push|                null| action_live_details|           null|  1569283201931|   0|2019-09-24|\n",
      "|8210111|streaming_room_push|                null| action_live_details|           null|  1569283203930|   0|2019-09-24|\n",
      "|8210111|streaming_room_push|                null| action_live_details|           null|  1569283205930|   0|2019-09-24|\n",
      "|8210111|streaming_room_push|                null| action_live_details|           null|  1569283207926|   0|2019-09-24|\n",
      "|8210111|streaming_room_push|                null| action_live_details|           null|  1569283209928|   0|2019-09-24|\n",
      "|8210111|streaming_room_push|                null| action_live_details|           null|  1569283211925|   0|2019-09-24|\n",
      "|8210111|streaming_room_push|                null| action_live_details|           null|  1569283213927|   0|2019-09-24|\n",
      "|8210111|streaming_room_push|                null| action_live_details|           null|  1569283215928|   0|2019-09-24|\n",
      "|8210111|streaming_room_push|                null| action_live_details|           null|  1569283217927|   0|2019-09-24|\n",
      "|8210111|streaming_room_push|                null| action_live_details|           null|  1569283219925|   0|2019-09-24|\n",
      "|8210111|streaming_room_push|                null| action_live_details|           null|  1569283221925|   0|2019-09-24|\n",
      "|8210111|streaming_room_push|                null| action_live_details|           null|  1569283223925|   0|2019-09-24|\n",
      "|8210111|streaming_room_push|                null| action_live_details|           null|  1569283225930|   0|2019-09-24|\n",
      "|8210111|streaming_room_push|                null| action_live_details|           null|  1569283227924|   0|2019-09-24|\n",
      "|8210111|streaming_room_push|                null| action_live_details|           null|  1569283229925|   0|2019-09-24|\n",
      "|8210111|streaming_room_push|                null| action_live_details|           null|  1569283231926|   0|2019-09-24|\n",
      "|8210111|streaming_room_push|                null| action_live_details|           null|  1569283233924|   0|2019-09-24|\n",
      "|8210111|streaming_room_push|                null| action_live_details|           null|  1569283235926|   0|2019-09-24|\n",
      "|8210111|streaming_room_push|                null| action_live_details|           null|  1569283237926|   0|2019-09-24|\n",
      "|8210111|streaming_room_push|                null| action_live_details|           null|  1569283239925|   0|2019-09-24|\n",
      "|8210111|streaming_room_push|                null| action_live_details|           null|  1569283241926|   0|2019-09-24|\n",
      "|8210111|streaming_room_push|                null| action_live_details|           null|  1569283243924|   0|2019-09-24|\n",
      "|8210111|streaming_room_push|                null| action_live_details|           null|  1569283245926|   0|2019-09-24|\n",
      "|8210111|streaming_room_push|                null| action_live_details|           null|  1569283247927|   0|2019-09-24|\n",
      "|8210111|streaming_room_push|                null| action_live_details|           null|  1569283249927|   0|2019-09-24|\n",
      "|8210111|streaming_room_push|                null| action_live_details|           null|  1569283251926|   0|2019-09-24|\n",
      "|8210111|streaming_room_push|                null| action_live_details|           null|  1569283253924|   0|2019-09-24|\n",
      "|8210111|streaming_room_push|                null| action_live_details|           null|  1569283255929|   0|2019-09-24|\n",
      "|8210111|streaming_room_push|                null| action_live_details|           null|  1569283257926|   0|2019-09-24|\n",
      "|8210111|streaming_room_push|                null| action_live_details|           null|  1569283259927|   0|2019-09-24|\n",
      "|8210111|               home|                null|                view|           null|  1569283261530|   0|2019-09-24|\n",
      "|8210111|streaming_room_push|                null| action_live_details|           null|  1569283261926|   0|2019-09-24|\n",
      "|8210111|      notifications|                null|                view|           null|  1569283262987|   0|2019-09-24|\n",
      "|8210111|               null|                null|action_click_navi...|           null|  1569283262987|   0|2019-09-24|\n",
      "|8210111|               null|                null|action_click_navi...|           null|  1569283263228|   0|2019-09-24|\n",
      "|8210111|               null|                null|action_click_navi...|           null|  1569283263377|   0|2019-09-24|\n",
      "|8210111|               null|                null|action_click_navi...|           null|  1569283263478|   0|2019-09-24|\n",
      "|8210111|               null|                null|action_click_navi...|           null|  1569283263606|   0|2019-09-24|\n",
      "|8210111|               null|                null|action_click_navi...|           null|  1569283263755|   0|2019-09-24|\n",
      "|8210111|               null|                null|action_click_navi...|           null|  1569283263914|   0|2019-09-24|\n",
      "|8210111|streaming_room_push|                null| action_live_details|           null|  1569283263926|   0|2019-09-24|\n",
      "|8210111|               null|                null|action_click_navi...|           null|  1569283264053|   0|2019-09-24|\n",
      "|8210111|               null|                null|action_click_navi...|           null|  1569283264213|   0|2019-09-24|\n",
      "|8210111|               null|                null|action_click_navi...|           null|  1569283264366|   0|2019-09-24|\n",
      "|8210111|               null|                null|action_click_navi...|           null|  1569283264534|   0|2019-09-24|\n",
      "|8210111|               null|                null|action_click_navi...|           null|  1569283264687|   0|2019-09-24|\n",
      "|8210111|streaming_room_push|                null| action_live_details|           null|  1569283265925|   0|2019-09-24|\n",
      "|8210111|      notifications| notification_folder|               click|            tab|  1569283267690|   0|2019-09-24|\n",
      "|8210111|notification_folder|                null|                view|           null|  1569283267813|   0|2019-09-24|\n",
      "|8210111|notification_folder|notification_fold...|               click|            tab|  1569283267841|   0|2019-09-24|\n",
      "|8210111|streaming_room_push|                null| action_live_details|           null|  1569283267925|   0|2019-09-24|\n",
      "|8210111|streaming_room_push|                null| action_live_details|           null|  1569283269929|   0|2019-09-24|\n",
      "|8210111|streaming_room_push|                null| action_live_details|           null|  1569283271928|   0|2019-09-24|\n",
      "|8210111|notification_folder|                null|               click|action_required|  1569283273853|   0|2019-09-24|\n",
      "|8210111|streaming_room_push|                null| action_live_details|           null|  1569283273929|   0|2019-09-24|\n",
      "|8210111|streaming_room_push|                null| action_live_details|           null|  1569283275927|   0|2019-09-24|\n",
      "|8210111|streaming_room_push|                null| action_live_details|           null|  1569283277927|   0|2019-09-24|\n",
      "|8210111|streaming_room_push|                null| action_live_details|           null|  1569283279927|   0|2019-09-24|\n",
      "|8210111|notification_folder|notification_fold...|               click|            tab|  1569283281412|   0|2019-09-24|\n",
      "|8210111|streaming_room_push|                null| action_live_details|           null|  1569283281930|   0|2019-09-24|\n",
      "|8210111|      notifications|                null|                view|           null|  1569283282794|   0|2019-09-24|\n",
      "|8210111|               null|                null|action_click_navi...|           null|  1569283283721|   0|2019-09-24|\n",
      "|8210111|               null|                null|action_click_navi...|           null|  1569283283881|   0|2019-09-24|\n",
      "|8210111|streaming_room_push|                null| action_live_details|           null|  1569283283928|   0|2019-09-24|\n",
      "|8210111|               null|                null|action_click_navi...|           null|  1569283284033|   0|2019-09-24|\n",
      "|8210111|streaming_room_push|                null| action_live_details|           null|  1569283285927|   0|2019-09-24|\n",
      "|8210111|streaming_room_push|                null| action_live_details|           null|  1569283287927|   0|2019-09-24|\n",
      "|8210111|streaming_room_push|                null| action_live_details|           null|  1569283289925|   0|2019-09-24|\n",
      "|8210111|streaming_room_push|                null| action_live_details|           null|  1569283291924|   0|2019-09-24|\n",
      "|8210111|streaming_room_push|                null| action_live_details|           null|  1569283293932|   0|2019-09-24|\n",
      "|8210111|               null|                null|action_click_navi...|           null|  1569283294661|   0|2019-09-24|\n",
      "|8210111|                 me|                null|                view|           null|  1569283294661|   0|2019-09-24|\n",
      "|8210111|               null|                null|action_click_navi...|           null|  1569283295111|   0|2019-09-24|\n",
      "|8210111|               null|                null|action_click_navi...|           null|  1569283295270|   0|2019-09-24|\n",
      "|8210111|streaming_room_push|                null| action_live_details|           null|  1569283295926|   0|2019-09-24|\n",
      "|8210111|                 me|                null|               click|            tab|  1569283296012|   0|2019-09-24|\n",
      "|8210111|streaming_room_push|                null| action_live_details|           null|  1569283297926|   0|2019-09-24|\n",
      "|8210111|streaming_room_push|                null| action_live_details|           null|  1569283299925|   0|2019-09-24|\n",
      "|8210111|               post|                null|                view|           null|  1569283300075|   0|2019-09-24|\n",
      "|8210111|streaming_room_push|                null| action_live_details|           null|  1569283301925|   0|2019-09-24|\n",
      "|8210111|streaming_room_push|                null| action_live_details|           null|  1569283303926|   0|2019-09-24|\n",
      "|8210111|streaming_room_push|                null| action_live_details|           null|  1569283305927|   0|2019-09-24|\n",
      "|8210111|streaming_room_push|                null| action_live_details|           null|  1569283307926|   0|2019-09-24|\n",
      "|8210111|               post|                null|               click|           item|  1569283309219|   0|2019-09-24|\n",
      "|8210111|            product|                null|                view|           null|  1569283309850|   0|2019-09-24|\n",
      "|8210111|streaming_room_push|                null| action_live_details|           null|  1569283309924|   0|2019-09-24|\n",
      "|8210111|streaming_room_push|                null| action_live_details|           null|  1569283311925|   0|2019-09-24|\n",
      "|8210111|            product|      product_detail|               click|see_more_button|  1569283312969|   0|2019-09-24|\n",
      "|8210111|streaming_room_push|                null| action_live_details|           null|  1569283313934|   0|2019-09-24|\n",
      "|8210111|               post|                null|                view|           null|  1569283315496|   0|2019-09-24|\n",
      "|8210111|streaming_room_push|                null| action_live_details|           null|  1569283315927|   0|2019-09-24|\n",
      "|8210111|streaming_room_push|                null| action_live_details|           null|  1569283317926|   0|2019-09-24|\n",
      "|8210111|               post|                null|               click|        comment|  1569283317956|   0|2019-09-24|\n",
      "|8210111|            comment|                null|                view|           null|  1569283318140|   0|2019-09-24|\n",
      "|8210111|streaming_room_push|                null| action_live_details|           null|  1569283319924|   0|2019-09-24|\n",
      "|8210111|            comment|                null|               click| comment_button|  1569283321834|   0|2019-09-24|\n",
      "|8210111|streaming_room_push|                null| action_live_details|           null|  1569283321924|   0|2019-09-24|\n",
      "|8210111|streaming_room_push|                null| action_live_details|           null|  1569283323925|   0|2019-09-24|\n",
      "|8210111|streaming_room_push|                null| action_live_details|           null|  1569283325924|   0|2019-09-24|\n",
      "|8210111|streaming_room_push|                null| action_live_details|           null|  1569283327924|   0|2019-09-24|\n",
      "|8210111|streaming_room_push|                null| action_live_details|           null|  1569283329927|   0|2019-09-24|\n",
      "|8210111|streaming_room_push|                null| action_live_details|           null|  1569283331926|   0|2019-09-24|\n",
      "|8210111|streaming_room_push|                null| action_live_details|           null|  1569283333925|   0|2019-09-24|\n",
      "|8210111|streaming_room_push|                null| action_live_details|           null|  1569283335925|   0|2019-09-24|\n",
      "|8210111|streaming_room_push|                null| action_live_details|           null|  1569283337925|   0|2019-09-24|\n",
      "|8210111|streaming_room_push|                null| action_live_details|           null|  1569283339925|   0|2019-09-24|\n",
      "|8210111|streaming_room_push|                null| action_live_details|           null|  1569283341926|   0|2019-09-24|\n",
      "|8210111|streaming_room_push|                null| action_live_details|           null|  1569283343926|   0|2019-09-24|\n",
      "|8210111|streaming_room_push|                null| action_live_details|           null|  1569283345926|   0|2019-09-24|\n",
      "|8210111|streaming_room_push|                null| action_live_details|           null|  1569283347926|   0|2019-09-24|\n",
      "|8210111|            comment|                null|               click|   send_comment|  1569283348871|   0|2019-09-24|\n",
      "|8210111|streaming_room_push|                null| action_live_details|           null|  1569283349925|   0|2019-09-24|\n",
      "|8210111|streaming_room_push|                null| action_live_details|           null|  1569283351924|   0|2019-09-24|\n",
      "|8210111|streaming_room_push|                null| action_live_details|           null|  1569283353925|   0|2019-09-24|\n",
      "|8210111|      notifications|                null|                view|           null|  1569283354805|   0|2019-09-24|\n",
      "|8210111|               null|                null|action_click_navi...|           null|  1569283354805|   0|2019-09-24|\n",
      "|8210111|               null|                null|action_click_navi...|           null|  1569283355258|   0|2019-09-24|\n",
      "|8210111|               null|                null|action_click_navi...|           null|  1569283355393|   0|2019-09-24|\n",
      "|8210111|               null|                null|action_click_navi...|           null|  1569283355543|   0|2019-09-24|\n",
      "|8210111|               null|                null|action_click_navi...|           null|  1569283355693|   0|2019-09-24|\n",
      "|8210111|               null|                null|action_click_navi...|           null|  1569283355852|   0|2019-09-24|\n",
      "|8210111|streaming_room_push|                null| action_live_details|           null|  1569283355925|   0|2019-09-24|\n",
      "|8210111|               null|                null|action_click_navi...|           null|  1569283356002|   0|2019-09-24|\n",
      "|8210111|streaming_room_push|                null| action_live_details|           null|  1569283357925|   0|2019-09-24|\n",
      "|8210111|                 me|                null|                view|           null|  1569283358437|   0|2019-09-24|\n",
      "|8210111|               null|                null|action_click_navi...|           null|  1569283358438|   0|2019-09-24|\n",
      "|8210111|streaming_room_push|                null| action_live_details|           null|  1569283359925|   0|2019-09-24|\n",
      "|8210111|streaming_room_push|                null| action_live_details|           null|  1569283361924|   0|2019-09-24|\n",
      "|8210111|streaming_room_push|                null| action_live_details|           null|  1569283363926|   0|2019-09-24|\n",
      "|8210111|streaming_room_push|                null| action_live_details|           null|  1569283365933|   0|2019-09-24|\n",
      "|8210111|streaming_room_push|                null| action_live_details|           null|  1569283367926|   0|2019-09-24|\n",
      "|8210111|streaming_room_push|                null| action_live_details|           null|  1569283369926|   0|2019-09-24|\n",
      "|8210111|streaming_room_push|                null| action_live_details|           null|  1569283371924|   0|2019-09-24|\n",
      "|8210111|streaming_room_push|                null| action_live_details|           null|  1569283373924|   0|2019-09-24|\n",
      "|8210111|streaming_room_push|                null| action_live_details|           null|  1569283375925|   0|2019-09-24|\n",
      "|8210111|streaming_room_push|                null| action_live_details|           null|  1569283377925|   0|2019-09-24|\n",
      "|8210111|streaming_room_push|                null| action_live_details|           null|  1569283379925|   0|2019-09-24|\n",
      "|8210111|streaming_room_push|                null|   action_push_event|           null|  1569283380377|   0|2019-09-24|\n",
      "|8210111|streaming_room_push|                null| action_live_details|           null|  1569283381924|   0|2019-09-24|\n",
      "|8210111|streaming_room_push|                null|   action_push_event|           null|  1569283382899|   0|2019-09-24|\n",
      "|8210111|streaming_room_push|                null| action_live_details|           null|  1569283383925|   0|2019-09-24|\n",
      "|8210111|streaming_room_push|                null|   action_push_event|           null|  1569283384434|   0|2019-09-24|\n",
      "|8210111|streaming_room_push|                null| action_live_details|           null|  1569283385924|   0|2019-09-24|\n",
      "|8210111|streaming_room_push|                null|   action_push_event|           null|  1569283387484|   0|2019-09-24|\n",
      "|8210111|streaming_room_push|                null| action_live_details|           null|  1569283387924|   0|2019-09-24|\n",
      "|8210111|streaming_room_push|                null| action_live_details|           null|  1569283389924|   0|2019-09-24|\n",
      "|8210111|streaming_room_push|                null|   action_push_event|           null|  1569283390480|   0|2019-09-24|\n",
      "|8210111|streaming_room_push|                null| action_live_details|           null|  1569283391925|   0|2019-09-24|\n",
      "|8210111|streaming_room_push|                null| action_live_details|           null|  1569283393924|   0|2019-09-24|\n",
      "|8210111|streaming_room_push|                null|   action_push_event|           null|  1569283395324|   0|2019-09-24|\n",
      "|8210111|streaming_room_push|                null| action_live_details|           null|  1569283395924|   0|2019-09-24|\n",
      "|8210111|streaming_room_push|                null|   action_push_event|           null|  1569283397274|   0|2019-09-24|\n",
      "|8210111|streaming_room_push|                null| action_live_details|           null|  1569283397924|   0|2019-09-24|\n",
      "|8210111|streaming_room_push|                null| action_live_details|           null|  1569283399924|   0|2019-09-24|\n",
      "|8210111|streaming_room_push|                null| action_live_details|           null|  1569283401924|   0|2019-09-24|\n",
      "|8210111|streaming_room_push|                null|   action_push_event|           null|  1569283402965|   0|2019-09-24|\n",
      "|8210111|streaming_room_push|                null| action_live_details|           null|  1569283403925|   0|2019-09-24|\n",
      "|8210111|streaming_room_push|                null| action_live_details|           null|  1569283405927|   0|2019-09-24|\n",
      "|8210111|streaming_room_push|                null|   action_push_event|           null|  1569283407190|   0|2019-09-24|\n",
      "|8210111|streaming_room_push|                null| action_live_details|           null|  1569283407925|   0|2019-09-24|\n",
      "|8210111|streaming_room_push|                null| action_live_details|           null|  1569283409925|   0|2019-09-24|\n",
      "|8210111|streaming_room_push|                null| action_live_details|           null|  1569283411925|   0|2019-09-24|\n",
      "|8210111|streaming_room_push|                null|   action_push_event|           null|  1569283413796|   0|2019-09-24|\n",
      "|8210111|streaming_room_push|                null| action_live_details|           null|  1569283413924|   0|2019-09-24|\n",
      "|8210111|streaming_room_push|                null|   action_push_event|           null|  1569283414724|   0|2019-09-24|\n",
      "|8210111|streaming_room_push|                null| action_live_details|           null|  1569283415925|   0|2019-09-24|\n",
      "|8210111|streaming_room_push|                null| action_live_details|           null|  1569283417924|   0|2019-09-24|\n",
      "|8210111|streaming_room_push|                null| action_live_details|           null|  1569283419924|   0|2019-09-24|\n",
      "|8210111|streaming_room_push|                null|   action_push_event|           null|  1569283420778|   0|2019-09-24|\n",
      "|8210111|streaming_room_push|                null| action_live_details|           null|  1569283421927|   0|2019-09-24|\n",
      "|8210111|streaming_room_push|                null| action_live_details|           null|  1569283423925|   0|2019-09-24|\n",
      "|8210111|streaming_room_push|                null| action_live_details|           null|  1569283425924|   0|2019-09-24|\n",
      "|8210111|streaming_room_push|                null| action_live_details|           null|  1569283427924|   0|2019-09-24|\n",
      "|8210111|streaming_room_push|                null| action_live_details|           null|  1569283429924|   0|2019-09-24|\n",
      "|8210111|streaming_room_push|                null| action_live_details|           null|  1569283431925|   0|2019-09-24|\n",
      "|8210111|streaming_room_push|                null| action_live_details|           null|  1569283433925|   0|2019-09-24|\n",
      "|8210111|streaming_room_push|                null| action_live_details|           null|  1569283435924|   0|2019-09-24|\n",
      "|8210111|streaming_room_push|                null|   action_push_event|           null|  1569283437392|   0|2019-09-24|\n",
      "|8210111|streaming_room_push|                null| action_live_details|           null|  1569283437924|   0|2019-09-24|\n",
      "|8210111|streaming_room_push|                null| action_live_details|           null|  1569283439924|   0|2019-09-24|\n",
      "|8210111|streaming_room_push|                null| action_live_details|           null|  1569283441924|   0|2019-09-24|\n",
      "|8210111|streaming_room_push|                null| action_live_details|           null|  1569283443925|   0|2019-09-24|\n",
      "|8210111|streaming_room_push|                null| action_live_details|           null|  1569283445925|   0|2019-09-24|\n",
      "|8210111|streaming_room_push|                null| action_live_details|           null|  1569283447924|   0|2019-09-24|\n",
      "|8210111|streaming_room_push|                null| action_live_details|           null|  1569283449924|   0|2019-09-24|\n",
      "|8210111|streaming_room_push|                null| action_live_details|           null|  1569283451925|   0|2019-09-24|\n",
      "|8210111|streaming_room_push|                null| action_live_details|           null|  1569283453927|   0|2019-09-24|\n",
      "|8210111|streaming_room_push|                null| action_live_details|           null|  1569283455928|   0|2019-09-24|\n",
      "|8210111|streaming_room_push|                null| action_live_details|           null|  1569283457926|   0|2019-09-24|\n",
      "|8210111|streaming_room_push|                null| action_live_details|           null|  1569283459925|   0|2019-09-24|\n",
      "|8210111|streaming_room_push|                null| action_live_details|           null|  1569283461925|   0|2019-09-24|\n",
      "|8210111|streaming_room_push|                null| action_live_details|           null|  1569283463925|   0|2019-09-24|\n",
      "|8210111|streaming_room_push|                null| action_live_details|           null|  1569283465925|   0|2019-09-24|\n",
      "|8210111|streaming_room_push|                null| action_live_details|           null|  1569283467924|   0|2019-09-24|\n",
      "|8210111|streaming_room_push|                null| action_live_details|           null|  1569283469925|   0|2019-09-24|\n",
      "|8210111|streaming_room_push|                null| action_live_details|           null|  1569283471927|   0|2019-09-24|\n",
      "|8210111|streaming_room_push|                null| action_live_details|           null|  1569283473924|   0|2019-09-24|\n",
      "+-------+-------------------+--------------------+--------------------+---------------+---------------+----+----------+\n",
      "only showing top 200 rows\n",
      "\n"
     ]
    }
   ],
   "source": [
    "case_study_data(8210111, 1000000000000, begin='2019-09-24').show(200)"
   ]
  },
  {
   "cell_type": "code",
   "execution_count": 57,
   "metadata": {
    "collapsed": true
   },
   "outputs": [
    {
     "name": "stdout",
     "output_type": "stream",
     "text": [
      "+-------+-------------------+-------+-------------------+-----------+---------------+----+----------+\n",
      "| userid|          page_type|section|          operation|target_type|event_timestamp|hour|  utc_date|\n",
      "+-------+-------------------+-------+-------------------+-----------+---------------+----+----------+\n",
      "|9756598|streaming_room_push|   null|action_live_details|       null|  1569283180207|   0|2019-09-24|\n",
      "|9756598|streaming_room_push|   null|action_live_details|       null|  1569283182221|   0|2019-09-24|\n",
      "|9756598|streaming_room_push|   null|action_live_details|       null|  1569283184228|   0|2019-09-24|\n",
      "|9756598|streaming_room_push|   null|action_live_details|       null|  1569283186887|   0|2019-09-24|\n",
      "|9756598|streaming_room_push|   null|action_live_details|       null|  1569283188892|   0|2019-09-24|\n",
      "|9756598|streaming_room_push|   null|action_live_details|       null|  1569283190912|   0|2019-09-24|\n",
      "|9756598|streaming_room_push|   null|action_live_details|       null|  1569283192961|   0|2019-09-24|\n",
      "|9756598|streaming_room_push|   null|action_live_details|       null|  1569283194952|   0|2019-09-24|\n",
      "|9756598|streaming_room_push|   null|action_live_details|       null|  1569283196961|   0|2019-09-24|\n",
      "|9756598|streaming_room_push|   null|action_live_details|       null|  1569283199608|   0|2019-09-24|\n",
      "|9756598|streaming_room_push|   null|action_live_details|       null|  1569283201622|   0|2019-09-24|\n",
      "|9756598|streaming_room_push|   null|action_live_details|       null|  1569283203647|   0|2019-09-24|\n",
      "|9756598|streaming_room_push|   null|action_live_details|       null|  1569283205665|   0|2019-09-24|\n",
      "|9756598|streaming_room_push|   null|action_live_details|       null|  1569283207682|   0|2019-09-24|\n",
      "|9756598|streaming_room_push|   null|action_live_details|       null|  1569283209697|   0|2019-09-24|\n",
      "|9756598|streaming_room_push|   null|action_live_details|       null|  1569283212341|   0|2019-09-24|\n",
      "|9756598|streaming_room_push|   null|action_live_details|       null|  1569283214348|   0|2019-09-24|\n",
      "|9756598|streaming_room_push|   null|action_live_details|       null|  1569283216363|   0|2019-09-24|\n",
      "|9756598|streaming_room_push|   null|action_live_details|       null|  1569283218414|   0|2019-09-24|\n",
      "|9756598|streaming_room_push|   null|action_live_details|       null|  1569283220474|   0|2019-09-24|\n",
      "|9756598|streaming_room_push|   null|action_live_details|       null|  1569283222495|   0|2019-09-24|\n",
      "|9756598|streaming_room_push|   null|action_live_details|       null|  1569283225136|   0|2019-09-24|\n",
      "|9756598|streaming_room_push|   null|action_live_details|       null|  1569283227156|   0|2019-09-24|\n",
      "|9756598|streaming_room_push|   null|action_live_details|       null|  1569283229166|   0|2019-09-24|\n",
      "|9756598|streaming_room_push|   null|action_live_details|       null|  1569283231194|   0|2019-09-24|\n",
      "|9756598|streaming_room_push|   null|action_live_details|       null|  1569283233210|   0|2019-09-24|\n",
      "|9756598|streaming_room_push|   null|action_live_details|       null|  1569283235220|   0|2019-09-24|\n",
      "|9756598|streaming_room_push|   null|action_live_details|       null|  1569283237877|   0|2019-09-24|\n",
      "|9756598|streaming_room_push|   null|action_live_details|       null|  1569283239887|   0|2019-09-24|\n",
      "|9756598|streaming_room_push|   null|action_live_details|       null|  1569283241895|   0|2019-09-24|\n",
      "|9756598|streaming_room_push|   null|action_live_details|       null|  1569283243914|   0|2019-09-24|\n",
      "|9756598|streaming_room_push|   null|action_live_details|       null|  1569283245925|   0|2019-09-24|\n",
      "|9756598|streaming_room_push|   null|action_live_details|       null|  1569283247962|   0|2019-09-24|\n",
      "|9756598|streaming_room_push|   null|action_live_details|       null|  1569283250632|   0|2019-09-24|\n",
      "|9756598|streaming_room_push|   null|action_live_details|       null|  1569283252654|   0|2019-09-24|\n",
      "|9756598|streaming_room_push|   null|action_live_details|       null|  1569283254662|   0|2019-09-24|\n",
      "|9756598|streaming_room_push|   null|action_live_details|       null|  1569283256783|   0|2019-09-24|\n",
      "|9756598|streaming_room_push|   null|action_live_details|       null|  1569283258806|   0|2019-09-24|\n",
      "|9756598|streaming_room_push|   null|action_live_details|       null|  1569283260851|   0|2019-09-24|\n",
      "|9756598|streaming_room_push|   null|action_live_details|       null|  1569283263466|   0|2019-09-24|\n",
      "|9756598|streaming_room_push|   null|action_live_details|       null|  1569283265472|   0|2019-09-24|\n",
      "|9756598|streaming_room_push|   null|action_live_details|       null|  1569283267490|   0|2019-09-24|\n",
      "|9756598|streaming_room_push|   null|action_live_details|       null|  1569283269526|   0|2019-09-24|\n",
      "|9756598|streaming_room_push|   null|action_live_details|       null|  1569283271546|   0|2019-09-24|\n",
      "|9756598|streaming_room_push|   null|action_live_details|       null|  1569283273564|   0|2019-09-24|\n",
      "|9756598|streaming_room_push|   null|action_live_details|       null|  1569283276209|   0|2019-09-24|\n",
      "|9756598|streaming_room_push|   null|action_live_details|       null|  1569283278218|   0|2019-09-24|\n",
      "|9756598|streaming_room_push|   null|action_live_details|       null|  1569283280264|   0|2019-09-24|\n",
      "|9756598|streaming_room_push|   null|action_live_details|       null|  1569283282306|   0|2019-09-24|\n",
      "|9756598|streaming_room_push|   null|action_live_details|       null|  1569283284332|   0|2019-09-24|\n",
      "|9756598|streaming_room_push|   null|action_live_details|       null|  1569283286827|   0|2019-09-24|\n",
      "|9756598|streaming_room_push|   null|action_live_details|       null|  1569283289488|   0|2019-09-24|\n",
      "|9756598|streaming_room_push|   null|action_live_details|       null|  1569283291487|   0|2019-09-24|\n",
      "|9756598|streaming_room_push|   null|action_live_details|       null|  1569283293495|   0|2019-09-24|\n",
      "|9756598|streaming_room_push|   null|action_live_details|       null|  1569283295520|   0|2019-09-24|\n",
      "|9756598|streaming_room_push|   null|action_live_details|       null|  1569283297535|   0|2019-09-24|\n",
      "|9756598|streaming_room_push|   null|action_live_details|       null|  1569283299548|   0|2019-09-24|\n",
      "|9756598|streaming_room_push|   null|action_live_details|       null|  1569283302177|   0|2019-09-24|\n",
      "|9756598|streaming_room_push|   null|action_live_details|       null|  1569283304201|   0|2019-09-24|\n",
      "|9756598|streaming_room_push|   null|action_live_details|       null|  1569283306241|   0|2019-09-24|\n",
      "|9756598|streaming_room_push|   null|action_live_details|       null|  1569283308262|   0|2019-09-24|\n",
      "|9756598|streaming_room_push|   null|action_live_details|       null|  1569283310286|   0|2019-09-24|\n",
      "|9756598|streaming_room_push|   null|action_live_details|       null|  1569283312303|   0|2019-09-24|\n",
      "|9756598|streaming_room_push|   null|action_live_details|       null|  1569283314958|   0|2019-09-24|\n",
      "|9756598|streaming_room_push|   null|action_live_details|       null|  1569283316966|   0|2019-09-24|\n",
      "|9756598|streaming_room_push|   null|action_live_details|       null|  1569283318980|   0|2019-09-24|\n",
      "|9756598|streaming_room_push|   null|action_live_details|       null|  1569283321040|   0|2019-09-24|\n",
      "|9756598|streaming_room_push|   null|action_live_details|       null|  1569283323023|   0|2019-09-24|\n",
      "|9756598|streaming_room_push|   null|action_live_details|       null|  1569283325037|   0|2019-09-24|\n",
      "|9756598|streaming_room_push|   null|action_live_details|       null|  1569283327648|   0|2019-09-24|\n",
      "|9756598|streaming_room_push|   null|action_live_details|       null|  1569283329659|   0|2019-09-24|\n",
      "|9756598|streaming_room_push|   null|action_live_details|       null|  1569283331670|   0|2019-09-24|\n",
      "|9756598|streaming_room_push|   null|action_live_details|       null|  1569283333705|   0|2019-09-24|\n",
      "|9756598|streaming_room_push|   null|action_live_details|       null|  1569283335711|   0|2019-09-24|\n",
      "|9756598|streaming_room_push|   null|action_live_details|       null|  1569283338004|   0|2019-09-24|\n",
      "|9756598|streaming_room_push|   null|action_live_details|       null|  1569283340611|   0|2019-09-24|\n",
      "|9756598|streaming_room_push|   null|action_live_details|       null|  1569283342617|   0|2019-09-24|\n",
      "|9756598|streaming_room_push|   null|action_live_details|       null|  1569283344640|   0|2019-09-24|\n",
      "|9756598|streaming_room_push|   null|action_live_details|       null|  1569283346681|   0|2019-09-24|\n",
      "|9756598|streaming_room_push|   null|action_live_details|       null|  1569283348692|   0|2019-09-24|\n",
      "|9756598|streaming_room_push|   null|action_live_details|       null|  1569283350699|   0|2019-09-24|\n",
      "|9756598|streaming_room_push|   null|action_live_details|       null|  1569283353332|   0|2019-09-24|\n",
      "|9756598|streaming_room_push|   null|action_live_details|       null|  1569283355345|   0|2019-09-24|\n",
      "|9756598|streaming_room_push|   null|action_live_details|       null|  1569283357359|   0|2019-09-24|\n",
      "|9756598|streaming_room_push|   null|action_live_details|       null|  1569283359399|   0|2019-09-24|\n",
      "|9756598|streaming_room_push|   null|action_live_details|       null|  1569283361410|   0|2019-09-24|\n",
      "|9756598|streaming_room_push|   null|action_live_details|       null|  1569283363433|   0|2019-09-24|\n",
      "|9756598|streaming_room_push|   null|action_live_details|       null|  1569283366055|   0|2019-09-24|\n",
      "|9756598|streaming_room_push|   null|action_live_details|       null|  1569283368074|   0|2019-09-24|\n",
      "|9756598|streaming_room_push|   null|action_live_details|       null|  1569283370083|   0|2019-09-24|\n",
      "|9756598|streaming_room_push|   null|action_live_details|       null|  1569283372115|   0|2019-09-24|\n",
      "|9756598|streaming_room_push|   null|action_live_details|       null|  1569283374127|   0|2019-09-24|\n",
      "|9756598|streaming_room_push|   null|action_live_details|       null|  1569283376154|   0|2019-09-24|\n",
      "|9756598|streaming_room_push|   null|action_live_details|       null|  1569283378801|   0|2019-09-24|\n",
      "|9756598|streaming_room_push|   null|action_live_details|       null|  1569283380847|   0|2019-09-24|\n",
      "|9756598|streaming_room_push|   null|action_live_details|       null|  1569283382864|   0|2019-09-24|\n",
      "|9756598|streaming_room_push|   null|action_live_details|       null|  1569283384900|   0|2019-09-24|\n",
      "|9756598|streaming_room_push|   null|action_live_details|       null|  1569283386906|   0|2019-09-24|\n",
      "|9756598|streaming_room_push|   null|action_live_details|       null|  1569283388926|   0|2019-09-24|\n",
      "|9756598|streaming_room_push|   null|action_live_details|       null|  1569283391554|   0|2019-09-24|\n",
      "|9756598|streaming_room_push|   null|action_live_details|       null|  1569283393562|   0|2019-09-24|\n",
      "|9756598|streaming_room_push|   null|action_live_details|       null|  1569283395571|   0|2019-09-24|\n",
      "|9756598|streaming_room_push|   null|action_live_details|       null|  1569283397627|   0|2019-09-24|\n",
      "|9756598|streaming_room_push|   null|action_live_details|       null|  1569283399645|   0|2019-09-24|\n",
      "|9756598|streaming_room_push|   null|action_live_details|       null|  1569283401778|   0|2019-09-24|\n",
      "|9756598|streaming_room_push|   null|action_live_details|       null|  1569283404375|   0|2019-09-24|\n",
      "|9756598|streaming_room_push|   null|action_live_details|       null|  1569283406385|   0|2019-09-24|\n",
      "|9756598|streaming_room_push|   null|action_live_details|       null|  1569283408404|   0|2019-09-24|\n",
      "|9756598|streaming_room_push|   null|action_live_details|       null|  1569283410439|   0|2019-09-24|\n",
      "|9756598|streaming_room_push|   null|action_live_details|       null|  1569283412435|   0|2019-09-24|\n",
      "|9756598|streaming_room_push|   null|action_live_details|       null|  1569283414445|   0|2019-09-24|\n",
      "|9756598|streaming_room_push|   null|action_live_details|       null|  1569283417165|   0|2019-09-24|\n",
      "|9756598|streaming_room_push|   null|action_live_details|       null|  1569283419170|   0|2019-09-24|\n",
      "|9756598|streaming_room_push|   null|action_live_details|       null|  1569283421184|   0|2019-09-24|\n",
      "|9756598|streaming_room_push|   null|action_live_details|       null|  1569283423207|   0|2019-09-24|\n",
      "|9756598|streaming_room_push|   null|action_live_details|       null|  1569283425220|   0|2019-09-24|\n",
      "|9756598|streaming_room_push|   null|action_live_details|       null|  1569283427246|   0|2019-09-24|\n",
      "|9756598|streaming_room_push|   null|action_live_details|       null|  1569283429974|   0|2019-09-24|\n",
      "|9756598|streaming_room_push|   null|action_live_details|       null|  1569283431981|   0|2019-09-24|\n",
      "|9756598|streaming_room_push|   null|action_live_details|       null|  1569283434504|   0|2019-09-24|\n",
      "|9756598|streaming_room_push|   null|action_live_details|       null|  1569283436530|   0|2019-09-24|\n",
      "|9756598|streaming_room_push|   null|action_live_details|       null|  1569283438543|   0|2019-09-24|\n",
      "|9756598|streaming_room_push|   null|action_live_details|       null|  1569283440554|   0|2019-09-24|\n",
      "|9756598|streaming_room_push|   null|action_live_details|       null|  1569283443198|   0|2019-09-24|\n",
      "|9756598|streaming_room_push|   null|action_live_details|       null|  1569283445206|   0|2019-09-24|\n",
      "|9756598|streaming_room_push|   null|action_live_details|       null|  1569283447221|   0|2019-09-24|\n",
      "|9756598|streaming_room_push|   null|action_live_details|       null|  1569283449242|   0|2019-09-24|\n",
      "|9756598|streaming_room_push|   null|action_live_details|       null|  1569283451252|   0|2019-09-24|\n",
      "|9756598|streaming_room_push|   null|action_live_details|       null|  1569283453269|   0|2019-09-24|\n",
      "|9756598|streaming_room_push|   null|action_live_details|       null|  1569283455880|   0|2019-09-24|\n",
      "|9756598|streaming_room_push|   null|action_live_details|       null|  1569283457883|   0|2019-09-24|\n",
      "|9756598|streaming_room_push|   null|action_live_details|       null|  1569283459916|   0|2019-09-24|\n",
      "|9756598|streaming_room_push|   null|action_live_details|       null|  1569283461945|   0|2019-09-24|\n",
      "|9756598|streaming_room_push|   null|action_live_details|       null|  1569283463999|   0|2019-09-24|\n",
      "|9756598|streaming_room_push|   null|action_live_details|       null|  1569283466024|   0|2019-09-24|\n",
      "|9756598|streaming_room_push|   null|action_live_details|       null|  1569283468679|   0|2019-09-24|\n",
      "|9756598|streaming_room_push|   null|action_live_details|       null|  1569283470685|   0|2019-09-24|\n",
      "|9756598|streaming_room_push|   null|action_live_details|       null|  1569283472698|   0|2019-09-24|\n",
      "|9756598|streaming_room_push|   null|action_live_details|       null|  1569283474736|   0|2019-09-24|\n",
      "|9756598|streaming_room_push|   null|action_live_details|       null|  1569283476752|   0|2019-09-24|\n",
      "|9756598|streaming_room_push|   null|action_live_details|       null|  1569283478779|   0|2019-09-24|\n",
      "|9756598|streaming_room_push|   null|action_live_details|       null|  1569283481400|   0|2019-09-24|\n",
      "|9756598|streaming_room_push|   null|action_live_details|       null|  1569283483405|   0|2019-09-24|\n",
      "|9756598|streaming_room_push|   null|action_live_details|       null|  1569283485424|   0|2019-09-24|\n",
      "|9756598|streaming_room_push|   null|action_live_details|       null|  1569283487442|   0|2019-09-24|\n",
      "|9756598|streaming_room_push|   null|action_live_details|       null|  1569283489452|   0|2019-09-24|\n",
      "|9756598|streaming_room_push|   null|action_live_details|       null|  1569283491584|   0|2019-09-24|\n",
      "|9756598|streaming_room_push|   null|action_live_details|       null|  1569283494224|   0|2019-09-24|\n",
      "|9756598|streaming_room_push|   null|action_live_details|       null|  1569283496236|   0|2019-09-24|\n",
      "|9756598|streaming_room_push|   null|action_live_details|       null|  1569283498252|   0|2019-09-24|\n",
      "|9756598|streaming_room_push|   null|action_live_details|       null|  1569283500671|   0|2019-09-24|\n",
      "|9756598|streaming_room_push|   null|action_live_details|       null|  1569283502676|   0|2019-09-24|\n",
      "|9756598|streaming_room_push|   null|action_live_details|       null|  1569283504694|   0|2019-09-24|\n",
      "|9756598|streaming_room_push|   null|action_live_details|       null|  1569283507322|   0|2019-09-24|\n",
      "|9756598|streaming_room_push|   null|action_live_details|       null|  1569283509380|   0|2019-09-24|\n",
      "|9756598|streaming_room_push|   null|action_live_details|       null|  1569283511384|   0|2019-09-24|\n",
      "|9756598|streaming_room_push|   null|action_live_details|       null|  1569283513420|   0|2019-09-24|\n",
      "|9756598|streaming_room_push|   null|action_live_details|       null|  1569283515451|   0|2019-09-24|\n",
      "|9756598|streaming_room_push|   null|action_live_details|       null|  1569283517454|   0|2019-09-24|\n",
      "|9756598|streaming_room_push|   null|action_live_details|       null|  1569283520082|   0|2019-09-24|\n",
      "|9756598|streaming_room_push|   null|action_live_details|       null|  1569283522089|   0|2019-09-24|\n",
      "|9756598|streaming_room_push|   null|action_live_details|       null|  1569283524099|   0|2019-09-24|\n",
      "|9756598|streaming_room_push|   null|action_live_details|       null|  1569283526264|   0|2019-09-24|\n",
      "|9756598|streaming_room_push|   null|action_live_details|       null|  1569283528281|   0|2019-09-24|\n",
      "|9756598|streaming_room_push|   null|action_live_details|       null|  1569283530300|   0|2019-09-24|\n",
      "|9756598|streaming_room_push|   null|action_live_details|       null|  1569283532912|   0|2019-09-24|\n",
      "|9756598|streaming_room_push|   null|action_live_details|       null|  1569283534933|   0|2019-09-24|\n",
      "|9756598|streaming_room_push|   null|action_live_details|       null|  1569283536942|   0|2019-09-24|\n",
      "|9756598|streaming_room_push|   null|action_live_details|       null|  1569283538978|   0|2019-09-24|\n",
      "|9756598|streaming_room_push|   null|action_live_details|       null|  1569283540996|   0|2019-09-24|\n",
      "|9756598|streaming_room_push|   null|action_live_details|       null|  1569283543024|   0|2019-09-24|\n",
      "|9756598|streaming_room_push|   null|action_live_details|       null|  1569283545641|   0|2019-09-24|\n",
      "|9756598|streaming_room_push|   null|action_live_details|       null|  1569283547650|   0|2019-09-24|\n",
      "|9756598|streaming_room_push|   null|action_live_details|       null|  1569283549674|   0|2019-09-24|\n",
      "|9756598|streaming_room_push|   null|action_live_details|       null|  1569283551709|   0|2019-09-24|\n",
      "|9756598|streaming_room_push|   null|action_live_details|       null|  1569283553717|   0|2019-09-24|\n",
      "|9756598|streaming_room_push|   null|action_live_details|       null|  1569283555732|   0|2019-09-24|\n",
      "|9756598|streaming_room_push|   null|action_live_details|       null|  1569283558348|   0|2019-09-24|\n",
      "|9756598|streaming_room_push|   null|action_live_details|       null|  1569283560351|   0|2019-09-24|\n",
      "|9756598|streaming_room_push|   null|action_live_details|       null|  1569283562361|   0|2019-09-24|\n",
      "|9756598|streaming_room_push|   null|action_live_details|       null|  1569283564389|   0|2019-09-24|\n",
      "|9756598|streaming_room_push|   null|action_live_details|       null|  1569283566414|   0|2019-09-24|\n",
      "|9756598|streaming_room_push|   null|action_live_details|       null|  1569283568462|   0|2019-09-24|\n",
      "|9756598|streaming_room_push|   null|action_live_details|       null|  1569283571111|   0|2019-09-24|\n",
      "|9756598|streaming_room_push|   null|action_live_details|       null|  1569283573109|   0|2019-09-24|\n",
      "|9756598|streaming_room_push|   null|action_live_details|       null|  1569283575145|   0|2019-09-24|\n",
      "|9756598|streaming_room_push|   null|action_live_details|       null|  1569283577167|   0|2019-09-24|\n",
      "|9756598|streaming_room_push|   null|action_live_details|       null|  1569283579178|   0|2019-09-24|\n",
      "|9756598|streaming_room_push|   null|action_live_details|       null|  1569283581193|   0|2019-09-24|\n",
      "|9756598|streaming_room_push|   null|action_live_details|       null|  1569283583863|   0|2019-09-24|\n",
      "|9756598|streaming_room_push|   null|action_live_details|       null|  1569283585870|   0|2019-09-24|\n",
      "|9756598|streaming_room_push|   null|action_live_details|       null|  1569283587881|   0|2019-09-24|\n",
      "|9756598|streaming_room_push|   null|action_live_details|       null|  1569283589946|   0|2019-09-24|\n",
      "|9756598|streaming_room_push|   null|action_live_details|       null|  1569283591943|   0|2019-09-24|\n",
      "|9756598|streaming_room_push|   null|action_live_details|       null|  1569283593979|   0|2019-09-24|\n",
      "|9756598|streaming_room_push|   null|action_live_details|       null|  1569283596591|   0|2019-09-24|\n",
      "|9756598|streaming_room_push|   null|action_live_details|       null|  1569283598600|   0|2019-09-24|\n",
      "|9756598|streaming_room_push|   null|action_live_details|       null|  1569283600613|   0|2019-09-24|\n",
      "|9756598|streaming_room_push|   null|action_live_details|       null|  1569283602669|   0|2019-09-24|\n",
      "|9756598|streaming_room_push|   null|action_live_details|       null|  1569283604725|   0|2019-09-24|\n",
      "+-------+-------------------+-------+-------------------+-----------+---------------+----+----------+\n",
      "only showing top 200 rows\n",
      "\n"
     ]
    }
   ],
   "source": [
    "case_study_data(9756598, 1000000000000, begin='2019-09-24').show(200)"
   ]
  },
  {
   "cell_type": "code",
   "execution_count": 60,
   "metadata": {
    "scrolled": true
   },
   "outputs": [
    {
     "data": {
      "text/html": [
       "<div>\n",
       "<style scoped>\n",
       "    .dataframe tbody tr th:only-of-type {\n",
       "        vertical-align: middle;\n",
       "    }\n",
       "\n",
       "    .dataframe tbody tr th {\n",
       "        vertical-align: top;\n",
       "    }\n",
       "\n",
       "    .dataframe thead th {\n",
       "        text-align: right;\n",
       "    }\n",
       "</style>\n",
       "<table border=\"1\" class=\"dataframe\">\n",
       "  <thead>\n",
       "    <tr style=\"text-align: right;\">\n",
       "      <th></th>\n",
       "      <th>node1</th>\n",
       "      <th>node2</th>\n",
       "      <th>similarity</th>\n",
       "      <th>label</th>\n",
       "      <th>active_time1</th>\n",
       "      <th>active_time2</th>\n",
       "      <th>session_count1</th>\n",
       "      <th>session_count2</th>\n",
       "      <th>operation_count1</th>\n",
       "      <th>operation_count2</th>\n",
       "      <th>action_normalise_cos_dis</th>\n",
       "      <th>markov_cos_dis</th>\n",
       "      <th>hour_normalise_cos_dis</th>\n",
       "      <th>interval_cos_dis</th>\n",
       "      <th>active_time_diff</th>\n",
       "      <th>session_count_diff</th>\n",
       "      <th>operation_count_diff</th>\n",
       "    </tr>\n",
       "  </thead>\n",
       "  <tbody>\n",
       "    <tr>\n",
       "      <th>45</th>\n",
       "      <td>67940462</td>\n",
       "      <td>71956746</td>\n",
       "      <td>0.220625</td>\n",
       "      <td>non_uui_low_score_pairs</td>\n",
       "      <td>94759.356978</td>\n",
       "      <td>18349.585994</td>\n",
       "      <td>230</td>\n",
       "      <td>65</td>\n",
       "      <td>6852</td>\n",
       "      <td>2266</td>\n",
       "      <td>0.690868</td>\n",
       "      <td>0.436714</td>\n",
       "      <td>0.399676</td>\n",
       "      <td>0.214315</td>\n",
       "      <td>1273.496183</td>\n",
       "      <td>165</td>\n",
       "      <td>4586</td>\n",
       "    </tr>\n",
       "    <tr>\n",
       "      <th>254</th>\n",
       "      <td>1331191</td>\n",
       "      <td>6674115</td>\n",
       "      <td>0.088750</td>\n",
       "      <td>non_uui_low_score_pairs</td>\n",
       "      <td>25433.377996</td>\n",
       "      <td>114088.251979</td>\n",
       "      <td>35</td>\n",
       "      <td>218</td>\n",
       "      <td>2248</td>\n",
       "      <td>6570</td>\n",
       "      <td>0.611496</td>\n",
       "      <td>0.498877</td>\n",
       "      <td>0.260575</td>\n",
       "      <td>0.576888</td>\n",
       "      <td>1477.581233</td>\n",
       "      <td>183</td>\n",
       "      <td>4322</td>\n",
       "    </tr>\n",
       "    <tr>\n",
       "      <th>823</th>\n",
       "      <td>82726621</td>\n",
       "      <td>137872604</td>\n",
       "      <td>0.007500</td>\n",
       "      <td>non_uui_low_score_pairs</td>\n",
       "      <td>105078.025980</td>\n",
       "      <td>40590.460995</td>\n",
       "      <td>205</td>\n",
       "      <td>48</td>\n",
       "      <td>7324</td>\n",
       "      <td>2604</td>\n",
       "      <td>0.355554</td>\n",
       "      <td>0.610375</td>\n",
       "      <td>0.283379</td>\n",
       "      <td>0.434114</td>\n",
       "      <td>1074.792750</td>\n",
       "      <td>157</td>\n",
       "      <td>4720</td>\n",
       "    </tr>\n",
       "    <tr>\n",
       "      <th>934</th>\n",
       "      <td>23122487</td>\n",
       "      <td>36956629</td>\n",
       "      <td>0.457500</td>\n",
       "      <td>non_uui_low_score_pairs</td>\n",
       "      <td>55204.695982</td>\n",
       "      <td>213154.848983</td>\n",
       "      <td>184</td>\n",
       "      <td>209</td>\n",
       "      <td>6159</td>\n",
       "      <td>28421</td>\n",
       "      <td>0.007176</td>\n",
       "      <td>0.212717</td>\n",
       "      <td>0.032833</td>\n",
       "      <td>0.174839</td>\n",
       "      <td>2632.502550</td>\n",
       "      <td>25</td>\n",
       "      <td>22262</td>\n",
       "    </tr>\n",
       "    <tr>\n",
       "      <th>1463</th>\n",
       "      <td>97139668</td>\n",
       "      <td>151138096</td>\n",
       "      <td>0.050625</td>\n",
       "      <td>non_uui_low_score_pairs</td>\n",
       "      <td>42811.379980</td>\n",
       "      <td>6528.076997</td>\n",
       "      <td>210</td>\n",
       "      <td>31</td>\n",
       "      <td>2159</td>\n",
       "      <td>734</td>\n",
       "      <td>0.159742</td>\n",
       "      <td>0.606575</td>\n",
       "      <td>0.414183</td>\n",
       "      <td>0.202920</td>\n",
       "      <td>604.721716</td>\n",
       "      <td>179</td>\n",
       "      <td>1425</td>\n",
       "    </tr>\n",
       "  </tbody>\n",
       "</table>\n",
       "</div>"
      ],
      "text/plain": [
       "         node1      node2  similarity                    label   active_time1  \\\n",
       "45    67940462   71956746    0.220625  non_uui_low_score_pairs   94759.356978   \n",
       "254    1331191    6674115    0.088750  non_uui_low_score_pairs   25433.377996   \n",
       "823   82726621  137872604    0.007500  non_uui_low_score_pairs  105078.025980   \n",
       "934   23122487   36956629    0.457500  non_uui_low_score_pairs   55204.695982   \n",
       "1463  97139668  151138096    0.050625  non_uui_low_score_pairs   42811.379980   \n",
       "\n",
       "       active_time2  session_count1  session_count2  operation_count1  \\\n",
       "45     18349.585994             230              65              6852   \n",
       "254   114088.251979              35             218              2248   \n",
       "823    40590.460995             205              48              7324   \n",
       "934   213154.848983             184             209              6159   \n",
       "1463    6528.076997             210              31              2159   \n",
       "\n",
       "      operation_count2  action_normalise_cos_dis  markov_cos_dis  \\\n",
       "45                2266                  0.690868        0.436714   \n",
       "254               6570                  0.611496        0.498877   \n",
       "823               2604                  0.355554        0.610375   \n",
       "934              28421                  0.007176        0.212717   \n",
       "1463               734                  0.159742        0.606575   \n",
       "\n",
       "      hour_normalise_cos_dis  interval_cos_dis  active_time_diff  \\\n",
       "45                  0.399676          0.214315       1273.496183   \n",
       "254                 0.260575          0.576888       1477.581233   \n",
       "823                 0.283379          0.434114       1074.792750   \n",
       "934                 0.032833          0.174839       2632.502550   \n",
       "1463                0.414183          0.202920        604.721716   \n",
       "\n",
       "      session_count_diff  operation_count_diff  \n",
       "45                   165                  4586  \n",
       "254                  183                  4322  \n",
       "823                  157                  4720  \n",
       "934                   25                 22262  \n",
       "1463                 179                  1425  "
      ]
     },
     "execution_count": 60,
     "metadata": {},
     "output_type": "execute_result"
    }
   ],
   "source": [
    "pair_df[(pair_df['session_count1'] > 200 ) | (pair_df['session_count2'] > 200 )].head(5)"
   ]
  },
  {
   "cell_type": "code",
   "execution_count": 59,
   "metadata": {
    "scrolled": false
   },
   "outputs": [
    {
     "name": "stdout",
     "output_type": "stream",
     "text": [
      "+---------+-------------------+--------------------+--------------------+-----------------+---------------+----+----------+\n",
      "|   userid|          page_type|             section|           operation|      target_type|event_timestamp|hour|  utc_date|\n",
      "+---------+-------------------+--------------------+--------------------+-----------------+---------------+----+----------+\n",
      "|159287310|               null|                null|action_click_navi...|             null|  1569283227814|   0|2019-09-24|\n",
      "|159287310|                 me|                null|                view|             null|  1569283229107|   0|2019-09-24|\n",
      "|159287310|                 me|                null|               click|   selling_button|  1569283230689|   0|2019-09-24|\n",
      "|159287310|             seller|                null|                view|             null|  1569283231668|   0|2019-09-24|\n",
      "|159287310|             seller|                null|               click|          to_ship|  1569283233677|   0|2019-09-24|\n",
      "|159287310|               chat|                null|                view|             null|  1569283236124|   0|2019-09-24|\n",
      "|159287310|        chat_window|                null|                view|             null|  1569283239988|   0|2019-09-24|\n",
      "|159287310|             seller|                null|                view|             null|  1569283279141|   0|2019-09-24|\n",
      "|159287310|                 me|                null|                view|             null|  1569283283141|   0|2019-09-24|\n",
      "|159287310|      notifications|                null|                view|             null|  1569283285885|   0|2019-09-24|\n",
      "|159287310|               null|                null|action_click_navi...|             null|  1569283285886|   0|2019-09-24|\n",
      "|159287310|                 me|                null|                view|             null|  1569283286913|   0|2019-09-24|\n",
      "|159287310|               null|                null|action_click_navi...|             null|  1569283286914|   0|2019-09-24|\n",
      "|159287310|      notifications|                null|                view|             null|  1569283287898|   0|2019-09-24|\n",
      "|159287310|               null|                null|action_click_navi...|             null|  1569283287899|   0|2019-09-24|\n",
      "|159287310|               chat|                null|                view|             null|  1569283288870|   0|2019-09-24|\n",
      "|159287310|        chat_window|                null|                view|             null|  1569283292024|   0|2019-09-24|\n",
      "|159287310|      notifications|                null|                view|             null|  1569283352202|   0|2019-09-24|\n",
      "|159287310|               null|                null|action_click_navi...|             null|  1569283354086|   0|2019-09-24|\n",
      "|159287310|                 me|                null|                view|             null|  1569283354086|   0|2019-09-24|\n",
      "|159287310|      notifications|                null|                view|             null|  1569283354945|   0|2019-09-24|\n",
      "|159287310|               null|                null|action_click_navi...|             null|  1569283354946|   0|2019-09-24|\n",
      "|159287310|                 me|                null|                view|             null|  1569283358189|   0|2019-09-24|\n",
      "|159287310|               null|                null|action_click_navi...|             null|  1569283358190|   0|2019-09-24|\n",
      "|159287310|                 me|                null|               click|             chat|  1569283359220|   0|2019-09-24|\n",
      "|159287310|               chat|                null|                view|             null|  1569283359406|   0|2019-09-24|\n",
      "|159287310|        chat_window|                null|                view|             null|  1569283362261|   0|2019-09-24|\n",
      "|159287310|                 me|                null|                view|             null|  1569283385892|   0|2019-09-24|\n",
      "|159287310|      notifications|                null|                view|             null|  1569283389053|   0|2019-09-24|\n",
      "|159287310|               null|                null|action_click_navi...|             null|  1569283389054|   0|2019-09-24|\n",
      "|159287310|                 me|                null|                view|             null|  1569283389706|   0|2019-09-24|\n",
      "|159287310|               null|                null|action_click_navi...|             null|  1569283389707|   0|2019-09-24|\n",
      "|159287310|                 me|                null|               click|   selling_button|  1569283390458|   0|2019-09-24|\n",
      "|159287310|             seller|                null|                view|             null|  1569283390872|   0|2019-09-24|\n",
      "|159287310|             seller|                null|               click|          to_ship|  1569283392297|   0|2019-09-24|\n",
      "|159287310|       order_detail|                null|                view|             null|  1569283409192|   0|2019-09-24|\n",
      "|159287310|               chat|                null|                view|             null|  1569283492643|   0|2019-09-24|\n",
      "|159287310|        chat_window|                null|                view|             null|  1569283494156|   0|2019-09-24|\n",
      "|159287310|               chat|                null|                view|             null|  1569283567586|   0|2019-09-24|\n",
      "|159287310|             seller|                null|                view|             null|  1569283569417|   0|2019-09-24|\n",
      "|159287310|             seller|                null|               click|          to_ship|  1569283575027|   0|2019-09-24|\n",
      "|159287310|       order_detail|                null|                view|             null|  1569283585384|   0|2019-09-24|\n",
      "|159287310|       order_detail|                null|               click|      chat_button|  1569283587457|   0|2019-09-24|\n",
      "|159287310|        chat_window|                null|                view|             null|  1569283587597|   0|2019-09-24|\n",
      "|159287310|       order_detail|                null|                view|             null|  1569283589577|   0|2019-09-24|\n",
      "|159287310|       order_detail|                null|               click|      chat_button|  1569283600767|   0|2019-09-24|\n",
      "|159287310|        chat_window|                null|                view|             null|  1569283600897|   0|2019-09-24|\n",
      "|159287310|             seller|                null|                view|             null|  1569283603288|   0|2019-09-24|\n",
      "|159287310|                 me|                null|                view|             null|  1569283604153|   0|2019-09-24|\n",
      "|159287310|      notifications|                null|                view|             null|  1569283605521|   0|2019-09-24|\n",
      "|159287310|               null|                null|action_click_navi...|             null|  1569283605522|   0|2019-09-24|\n",
      "|159287310|phone_notifications|                null|               click|push_notification|  1569285893826|   0|2019-09-24|\n",
      "|159287310|               home|                null|                view|             null|  1569285894519|   0|2019-09-24|\n",
      "|159287310|        chat_window|                null|                view|             null|  1569285894841|   0|2019-09-24|\n",
      "|159287310|               chat|                null|                view|             null|  1569285928503|   0|2019-09-24|\n",
      "|159287310|               home|                null|                view|             null|  1569285931959|   0|2019-09-24|\n",
      "|159287310|      notifications|                null|                view|             null|  1569285934143|   0|2019-09-24|\n",
      "|159287310|               null|                null|action_click_navi...|             null|  1569285934144|   0|2019-09-24|\n",
      "|159287310|      notifications|       order_updates|               click|  action_required|  1569285942132|   0|2019-09-24|\n",
      "|159287310|       order_detail|                null|                view|             null|  1569285944660|   0|2019-09-24|\n",
      "|159287310|      notifications|                null|                view|             null|  1569286047369|   0|2019-09-24|\n",
      "|159287310|                 me|                null|                view|             null|  1569286050730|   0|2019-09-24|\n",
      "|159287310|               null|                null|action_click_navi...|             null|  1569286050732|   0|2019-09-24|\n",
      "|159287310|                 me|                null|               click|   selling_button|  1569286052147|   0|2019-09-24|\n",
      "|159287310|             seller|                null|                view|             null|  1569286052443|   0|2019-09-24|\n",
      "|159287310|             seller|                null|               click|          to_ship|  1569286054089|   0|2019-09-24|\n",
      "|159287310|       order_detail|                null|                view|             null|  1569286066867|   0|2019-09-24|\n",
      "|159287310|             seller|                null|                view|             null|  1569286181627|   0|2019-09-24|\n",
      "|159287310|                 me|                null|                view|             null|  1569286261289|   0|2019-09-24|\n",
      "|159287310|               null|                null|action_click_navi...|             null|  1569286262613|   0|2019-09-24|\n",
      "|159287310|      notifications|                null|                view|             null|  1569286262613|   0|2019-09-24|\n",
      "|159287310|      notifications| notification_folder|               click|              tab|  1569286265395|   0|2019-09-24|\n",
      "|159287310|notification_folder|                null|                view|             null|  1569286265570|   0|2019-09-24|\n",
      "|159287310|notification_folder|notification_fold...|               click|              tab|  1569286265641|   0|2019-09-24|\n",
      "|159287310|notification_folder|notification_fold...|               click|              tab|  1569286266779|   0|2019-09-24|\n",
      "|159287310|      notifications|                null|                view|             null|  1569286312174|   0|2019-09-24|\n",
      "|159287310|                 me|                null|                view|             null|  1569286332536|   0|2019-09-24|\n",
      "|159287310|               null|                null|action_click_navi...|             null|  1569286332537|   0|2019-09-24|\n",
      "|159287310|      notifications|                null|                view|             null|  1569286333565|   0|2019-09-24|\n",
      "|159287310|               null|                null|action_click_navi...|             null|  1569286333566|   0|2019-09-24|\n",
      "|159287310|      notifications| notification_folder|               click|              tab|  1569286335966|   0|2019-09-24|\n",
      "|159287310|notification_folder|                null|                view|             null|  1569286336863|   0|2019-09-24|\n",
      "|159287310|notification_folder|                null|               click|  action_required|  1569286342462|   0|2019-09-24|\n",
      "|159287310|notification_folder|                null|               click|  action_required|  1569286347449|   0|2019-09-24|\n",
      "|159287310|notification_folder|                null|               click|  action_required|  1569286351232|   0|2019-09-24|\n",
      "|159287310|notification_folder|                null|               click|  action_required|  1569286354164|   0|2019-09-24|\n",
      "|159287310|      notifications|                null|                view|             null|  1569286364221|   0|2019-09-24|\n",
      "|159287310|                 me|                null|                view|             null|  1569286365771|   0|2019-09-24|\n",
      "|159287310|               null|                null|action_click_navi...|             null|  1569286365772|   0|2019-09-24|\n",
      "|159287310|                 me|                null|               click|   selling_button|  1569286367059|   0|2019-09-24|\n",
      "|159287310|             seller|                null|                view|             null|  1569286367338|   0|2019-09-24|\n",
      "|159287310|             seller|                null|               click|          to_ship|  1569286370093|   0|2019-09-24|\n",
      "|159287310|       order_detail|                null|                view|             null|  1569286393341|   0|2019-09-24|\n",
      "|159287310|             seller|                null|                view|             null|  1569286405324|   0|2019-09-24|\n",
      "|159287310|                 me|                null|                view|             null|  1569286406456|   0|2019-09-24|\n",
      "|159287310|      notifications|                null|                view|             null|  1569286407501|   0|2019-09-24|\n",
      "|159287310|               null|                null|action_click_navi...|             null|  1569286407502|   0|2019-09-24|\n",
      "|159287310|               null|                null|action_click_navi...|             null|  1569287373594|   1|2019-09-24|\n",
      "|159287310|               null|                null|action_click_navi...|             null|  1569287373594|   1|2019-09-24|\n",
      "|159287310|               null|                null|action_click_navi...|             null|  1569287373594|   1|2019-09-24|\n",
      "|159287310|                 me|                null|                view|             null|  1569287374311|   1|2019-09-24|\n",
      "|159287310|               null|                null|action_click_navi...|             null|  1569287376204|   1|2019-09-24|\n",
      "|159287310|               null|                null|action_click_navi...|             null|  1569287376204|   1|2019-09-24|\n",
      "|159287310|               null|                null|action_click_navi...|             null|  1569287376204|   1|2019-09-24|\n",
      "|159287310|      notifications|                null|                view|             null|  1569287377134|   1|2019-09-24|\n",
      "|159287310|      notifications|       order_updates|               click|  action_required|  1569287381487|   1|2019-09-24|\n",
      "|159287310|      notifications|       order_updates|               click|  action_required|  1569287381487|   1|2019-09-24|\n",
      "|159287310|      notifications|       order_updates|               click|  action_required|  1569287381487|   1|2019-09-24|\n",
      "|159287310|      notifications|       order_updates|               click|  action_required|  1569287402484|   1|2019-09-24|\n",
      "|159287310|      notifications|       order_updates|               click|  action_required|  1569287402484|   1|2019-09-24|\n",
      "|159287310|      notifications|       order_updates|               click|  action_required|  1569287402484|   1|2019-09-24|\n",
      "|159287310|       order_detail|                null|                view|             null|  1569287428275|   1|2019-09-24|\n",
      "|159287310|                 me|                null|                view|             null|  1569287463804|   1|2019-09-24|\n",
      "|159287310|               null|                null|action_click_navi...|             null|  1569287463805|   1|2019-09-24|\n",
      "|159287310|               null|                null|action_click_navi...|             null|  1569287463805|   1|2019-09-24|\n",
      "|159287310|                 me|                null|               click|   selling_button|  1569287465382|   1|2019-09-24|\n",
      "|159287310|                 me|                null|               click|   selling_button|  1569287465382|   1|2019-09-24|\n",
      "|159287310|             seller|                null|                view|             null|  1569287465910|   1|2019-09-24|\n",
      "|159287310|             seller|                null|               click|             item|  1569287484427|   1|2019-09-24|\n",
      "|159287310|             seller|                null|               click|             item|  1569287484427|   1|2019-09-24|\n",
      "|159287310|            product|                null|                view|             null|  1569287486115|   1|2019-09-24|\n",
      "|159287310|            product|     product_details|               click|          ratings|  1569287562932|   1|2019-09-24|\n",
      "|159287310|            product|     product_details|               click|          ratings|  1569287562932|   1|2019-09-24|\n",
      "|159287310|     product_rating|                null|                view|             null|  1569287592593|   1|2019-09-24|\n",
      "|159287310|            product|                null|                view|             null|  1569287611111|   1|2019-09-24|\n",
      "|159287310|            product|                null|               click|       image_card|  1569287629105|   1|2019-09-24|\n",
      "|159287310|            product|                null|               click|       image_card|  1569287712768|   1|2019-09-24|\n",
      "|159287310|                 me|                null|                view|             null|  1569288034625|   1|2019-09-24|\n",
      "|159287310|      notifications|                null|                view|             null|  1569288035942|   1|2019-09-24|\n",
      "|159287310|               null|                null|action_click_navi...|             null|  1569288035943|   1|2019-09-24|\n",
      "|159287310|               null|                null|action_click_navi...|             null|  1569289645476|   1|2019-09-24|\n",
      "|159287310|               home|                null|                view|             null|  1569289646323|   1|2019-09-24|\n",
      "|159287310|      notifications|                null|                view|             null|  1569289646350|   1|2019-09-24|\n",
      "|159287310|               null|                null|action_click_navi...|             null|  1569289646719|   1|2019-09-24|\n",
      "|159287310|                 me|                null|                view|             null|  1569289647529|   1|2019-09-24|\n",
      "|159287310|                 me|                null|               click|             chat|  1569289648489|   1|2019-09-24|\n",
      "|159287310|               chat|                null|                view|             null|  1569289648859|   1|2019-09-24|\n",
      "|159287310|        chat_window|                null|                view|             null|  1569289656956|   1|2019-09-24|\n",
      "|159287310|        chat_window|                null|               click|             item|  1569289666096|   1|2019-09-24|\n",
      "|159287310|            product|                null|                view|             null|  1569289666805|   1|2019-09-24|\n",
      "|159287310|             seller|                null|                view|             null|  1569289715571|   1|2019-09-24|\n",
      "|159287310|                 me|                null|                view|             null|  1569289716339|   1|2019-09-24|\n",
      "|159287310|               null|                null|action_click_navi...|             null|  1569289719588|   1|2019-09-24|\n",
      "|159287310|      notifications|                null|                view|             null|  1569289720645|   1|2019-09-24|\n",
      "|159287310|      notifications| notification_folder|               click|              tab|  1569289723133|   1|2019-09-24|\n",
      "|159287310|notification_folder|                null|                view|             null|  1569289723254|   1|2019-09-24|\n",
      "|159287310|notification_folder|notification_fold...|               click|              tab|  1569289723296|   1|2019-09-24|\n",
      "|159287310|notification_folder|notification_fold...|               click|              tab|  1569289724253|   1|2019-09-24|\n",
      "|159287310|      notifications|                null|                view|             null|  1569289725363|   1|2019-09-24|\n",
      "|159287310|               chat|                null|                view|             null|  1569289726250|   1|2019-09-24|\n",
      "|159287310|               null|                null|action_click_navi...|             null|  1569290404778|   2|2019-09-24|\n",
      "|159287310|               null|                null|action_click_navi...|             null|  1569290405524|   2|2019-09-24|\n",
      "|159287310|      notifications|                null|                view|             null|  1569290406025|   2|2019-09-24|\n",
      "|159287310|                 me|                null|                view|             null|  1569290406406|   2|2019-09-24|\n",
      "|159287310|      notifications|                null|                view|             null|  1569290407918|   2|2019-09-24|\n",
      "|159287310|               null|                null|action_click_navi...|             null|  1569290407919|   2|2019-09-24|\n",
      "|159287310|                 me|                null|                view|             null|  1569290409336|   2|2019-09-24|\n",
      "|159287310|               null|                null|action_click_navi...|             null|  1569290409338|   2|2019-09-24|\n",
      "|159287310|                 me|                null|               click|             chat|  1569290410280|   2|2019-09-24|\n",
      "|159287310|               chat|                null|                view|             null|  1569290410450|   2|2019-09-24|\n",
      "|159287310|        chat_window|                null|                view|             null|  1569290414061|   2|2019-09-24|\n",
      "|159287310|                 me|                null|                view|             null|  1569290418730|   2|2019-09-24|\n",
      "|159287310|               null|                null|action_click_navi...|             null|  1569290420096|   2|2019-09-24|\n",
      "|159287310|      notifications|                null|                view|             null|  1569290420096|   2|2019-09-24|\n",
      "|159287310|               chat|                null|                view|             null|  1569290425402|   2|2019-09-24|\n",
      "|159287310|        chat_window|                null|                view|             null|  1569290428006|   2|2019-09-24|\n",
      "|159287310|      notifications|                null|                view|             null|  1569290435222|   2|2019-09-24|\n",
      "|159287310|                 me|                null|                view|             null|  1569290436556|   2|2019-09-24|\n",
      "|159287310|               null|                null|action_click_navi...|             null|  1569290436557|   2|2019-09-24|\n",
      "|159287310|       live_landing|                null|                view|             null|  1569290437095|   2|2019-09-24|\n",
      "|159287310|                 me|                null|               click|   selling_button|  1569290437442|   2|2019-09-24|\n",
      "|159287310|             seller|                null|                view|             null|  1569290437801|   2|2019-09-24|\n",
      "|159287310|                 me|                null|                view|             null|  1569291765773|   2|2019-09-24|\n",
      "|159287310|      notifications|                null|                view|             null|  1569291768453|   2|2019-09-24|\n",
      "|159287310|               null|                null|action_click_navi...|             null|  1569291768454|   2|2019-09-24|\n",
      "|159287310|               home|                null|                view|             null|  1569291850733|   2|2019-09-24|\n",
      "|159287310|               null|                null|action_click_navi...|             null|  1569291854501|   2|2019-09-24|\n",
      "|159287310|      notifications|                null|                view|             null|  1569291855450|   2|2019-09-24|\n",
      "|159287310|      notifications|       order_updates|               click|  action_required|  1569291858820|   2|2019-09-24|\n",
      "|159287310|       order_detail|                null|                view|             null|  1569291862466|   2|2019-09-24|\n",
      "|159287310|       order_detail|                null|               click|             item|  1569292007691|   2|2019-09-24|\n",
      "|159287310|      notifications|                null|                view|             null|  1569292031236|   2|2019-09-24|\n",
      "|159287310|      notifications| notification_folder|               click|              tab|  1569292035159|   2|2019-09-24|\n",
      "|159287310|notification_folder|                null|                view|             null|  1569292035299|   2|2019-09-24|\n",
      "|159287310|notification_folder|notification_fold...|               click|              tab|  1569292035395|   2|2019-09-24|\n",
      "|159287310|notification_folder|notification_fold...|               click|              tab|  1569292037065|   2|2019-09-24|\n",
      "|159287310|      notifications|                null|                view|             null|  1569292045315|   2|2019-09-24|\n",
      "|159287310|      notifications|       order_updates|               click|  action_required|  1569292048474|   2|2019-09-24|\n",
      "|159287310|       order_detail|                null|                view|             null|  1569292051114|   2|2019-09-24|\n",
      "|159287310|                 me|                null|                view|             null|  1569292067540|   2|2019-09-24|\n",
      "|159287310|               null|                null|action_click_navi...|             null|  1569292067541|   2|2019-09-24|\n",
      "|159287310|      notifications|                null|                view|             null|  1569292068347|   2|2019-09-24|\n",
      "|159287310|               null|                null|action_click_navi...|             null|  1569292068348|   2|2019-09-24|\n",
      "|159287310|                 me|                null|                view|             null|  1569292075330|   2|2019-09-24|\n",
      "|159287310|               null|                null|action_click_navi...|             null|  1569292075330|   2|2019-09-24|\n",
      "|159287310|                 me|                null|               click|   selling_button|  1569292076858|   2|2019-09-24|\n",
      "|159287310|             seller|                null|                view|             null|  1569292077109|   2|2019-09-24|\n",
      "|159287310|             seller|                null|               click|          to_ship|  1569292078901|   2|2019-09-24|\n",
      "|159287310|                 me|                null|                view|             null|  1569292130596|   2|2019-09-24|\n",
      "|159287310|      notifications|                null|                view|             null|  1569292132688|   2|2019-09-24|\n",
      "+---------+-------------------+--------------------+--------------------+-----------------+---------------+----+----------+\n",
      "only showing top 200 rows\n",
      "\n"
     ]
    }
   ],
   "source": [
    "case_study_data(159287310, 1000000000000, begin='2019-09-24').show(200)"
   ]
  },
  {
   "cell_type": "code",
   "execution_count": null,
   "metadata": {},
   "outputs": [],
   "source": []
  }
 ],
 "metadata": {
  "kernelspec": {
   "display_name": "My Python 2.7",
   "language": "python",
   "name": "spy"
  },
  "language_info": {
   "codemirror_mode": {
    "name": "ipython",
    "version": 2
   },
   "file_extension": ".py",
   "mimetype": "text/x-python",
   "name": "python",
   "nbconvert_exporter": "python",
   "pygments_lexer": "ipython2",
   "version": "2.7.16"
  }
 },
 "nbformat": 4,
 "nbformat_minor": 2
}
