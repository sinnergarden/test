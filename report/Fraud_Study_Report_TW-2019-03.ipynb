{
 "cells": [
  {
   "cell_type": "markdown",
   "metadata": {},
   "source": [
    "# Fraud Study Report TW 2019-03\n",
    "\n",
    "## Abstract\n",
    "\n",
    "This report is a statistical analysis on different types of fraud in TW market. The data we use is between 2019-03-01 to 2019-03-26 (look back 7 days for all fraud user). \n",
    "\n",
    "We mainly has 3 types of features:\n",
    "\n",
    "- content irrelvant feature\n",
    "- action feature\n",
    "- action 2 gram markov transition probability\n",
    "\n",
    "## Content irrelvant feature\n",
    "\n",
    "We have gathered the following 6 content irrelvant features. They are:\n",
    "\n",
    "- average session idle time\n",
    "- average session duration time\n",
    "- average session count\n",
    "- average session operations\n",
    "- average operations intervals within session\n",
    "- total session count \n",
    "\n",
    "The following graphs show comparision between different fraud and normal user in terms of content irrelevant features together with a TSNE graph. "
   ]
  },
  {
   "cell_type": "code",
   "execution_count": 12,
   "metadata": {},
   "outputs": [
    {
     "data": {
      "text/html": [
       "\n",
       "        <iframe\n",
       "            width=\"1000\"\n",
       "            height=\"500\"\n",
       "            src=\"../plotly/Normalised_Content_Irrelevant_Feature_Distribution.html\"\n",
       "            frameborder=\"0\"\n",
       "            allowfullscreen\n",
       "        ></iframe>\n",
       "        "
      ],
      "text/plain": [
       "<IPython.lib.display.IFrame at 0x7f40a3b83a10>"
      ]
     },
     "execution_count": 12,
     "metadata": {},
     "output_type": "execute_result"
    }
   ],
   "source": [
    "from IPython.display import IFrame\n",
    "IFrame('../plotly/Normalised_Content_Irrelevant_Feature_Distribution.html', 1000, 500)"
   ]
  },
  {
   "cell_type": "code",
   "execution_count": 15,
   "metadata": {},
   "outputs": [
    {
     "data": {
      "text/html": [
       "\n",
       "        <iframe\n",
       "            width=\"1000\"\n",
       "            height=\"650\"\n",
       "            src=\"../plotly/TSNE_with_Content_Irrelevant_Feature.html\"\n",
       "            frameborder=\"0\"\n",
       "            allowfullscreen\n",
       "        ></iframe>\n",
       "        "
      ],
      "text/plain": [
       "<IPython.lib.display.IFrame at 0x7f40a3bf19d0>"
      ]
     },
     "execution_count": 15,
     "metadata": {},
     "output_type": "execute_result"
    }
   ],
   "source": [
    "IFrame('../plotly/TSNE_with_Content_Irrelevant_Feature.html', 1000, 650)"
   ]
  },
  {
   "cell_type": "markdown",
   "metadata": {},
   "source": [
    "## Discussion on content irrelvant feature\n",
    "\n",
    "- on TW market, content irrelvant feature can separate the *order brushing* with normal user well\n",
    "- there are two blocks of normal user which is very clear and not mixed with any fraud."
   ]
  },
  {
   "cell_type": "markdown",
   "metadata": {},
   "source": [
    "## Action Feature\n",
    "\n",
    "- Action feature is the selected 28 (including session begin and end) features based on domain knowledge. \n",
    "- We plot the absolute count, normalised count as well as T-SNE graph here."
   ]
  },
  {
   "cell_type": "code",
   "execution_count": 22,
   "metadata": {},
   "outputs": [
    {
     "data": {
      "text/html": [
       "\n",
       "        <iframe\n",
       "            width=\"1000\"\n",
       "            height=\"500\"\n",
       "            src=\"../plotly/Action_Feature_Distribtuion_Absolute_Value.html\"\n",
       "            frameborder=\"0\"\n",
       "            allowfullscreen\n",
       "        ></iframe>\n",
       "        "
      ],
      "text/plain": [
       "<IPython.lib.display.IFrame at 0x7f40a3b96190>"
      ]
     },
     "execution_count": 22,
     "metadata": {},
     "output_type": "execute_result"
    }
   ],
   "source": [
    "IFrame('../plotly/Action_Feature_Distribtuion_Absolute_Value.html', 1000, 500)"
   ]
  },
  {
   "cell_type": "code",
   "execution_count": 23,
   "metadata": {},
   "outputs": [
    {
     "data": {
      "text/html": [
       "\n",
       "        <iframe\n",
       "            width=\"1000\"\n",
       "            height=\"500\"\n",
       "            src=\"../plotly/Action_Feature_Distribtuion_Normalised.html\"\n",
       "            frameborder=\"0\"\n",
       "            allowfullscreen\n",
       "        ></iframe>\n",
       "        "
      ],
      "text/plain": [
       "<IPython.lib.display.IFrame at 0x7f40a3b96610>"
      ]
     },
     "execution_count": 23,
     "metadata": {},
     "output_type": "execute_result"
    }
   ],
   "source": [
    "IFrame('../plotly/Action_Feature_Distribtuion_Normalised.html', 1000, 500)"
   ]
  },
  {
   "cell_type": "code",
   "execution_count": 17,
   "metadata": {},
   "outputs": [
    {
     "data": {
      "text/html": [
       "\n",
       "        <iframe\n",
       "            width=\"1000\"\n",
       "            height=\"650\"\n",
       "            src=\"../plotly/TSNE_with_Normalised_Action_Feature.html\"\n",
       "            frameborder=\"0\"\n",
       "            allowfullscreen\n",
       "        ></iframe>\n",
       "        "
      ],
      "text/plain": [
       "<IPython.lib.display.IFrame at 0x7f40a3cad150>"
      ]
     },
     "execution_count": 17,
     "metadata": {},
     "output_type": "execute_result"
    }
   ],
   "source": [
    "IFrame('../plotly/TSNE_with_Normalised_Action_Feature.html', 1000, 650)"
   ]
  },
  {
   "cell_type": "markdown",
   "metadata": {},
   "source": [
    "## Discussion on Action Feature\n",
    "\n",
    "- Voucher/Order brushing/Free shipping (which more focus on shopping cart and checkout) this kind of fraud are far away to click spam fraud (which more focus on search and product).\n",
    "- Potential Scammer may be split into detailed parts."
   ]
  },
  {
   "cell_type": "markdown",
   "metadata": {},
   "source": [
    "## Action 2 Gram Feature\n",
    "\n",
    "- Action 2 gram feature is based on selected 28 (including session begin and end) features based on domain knowledge. So, in total, there will be 784 features. \n",
    "- We plot the T-SNE graph based on normalised count as well as transition probabilities."
   ]
  },
  {
   "cell_type": "code",
   "execution_count": 19,
   "metadata": {},
   "outputs": [
    {
     "data": {
      "text/html": [
       "\n",
       "        <iframe\n",
       "            width=\"1000\"\n",
       "            height=\"650\"\n",
       "            src=\"../plotly/TSNE_with_Normalised_Action_2_Gram_Feature.html\"\n",
       "            frameborder=\"0\"\n",
       "            allowfullscreen\n",
       "        ></iframe>\n",
       "        "
      ],
      "text/plain": [
       "<IPython.lib.display.IFrame at 0x7f40a3b90350>"
      ]
     },
     "execution_count": 19,
     "metadata": {},
     "output_type": "execute_result"
    }
   ],
   "source": [
    "IFrame('../plotly/TSNE_with_Normalised_Action_2_Gram_Feature.html', 1000, 650)"
   ]
  },
  {
   "cell_type": "code",
   "execution_count": 20,
   "metadata": {},
   "outputs": [
    {
     "data": {
      "text/html": [
       "\n",
       "        <iframe\n",
       "            width=\"1000\"\n",
       "            height=\"650\"\n",
       "            src=\"../plotly/TSNE_with_Transition_Probability_Feature.html\"\n",
       "            frameborder=\"0\"\n",
       "            allowfullscreen\n",
       "        ></iframe>\n",
       "        "
      ],
      "text/plain": [
       "<IPython.lib.display.IFrame at 0x7f40a3b90810>"
      ]
     },
     "execution_count": 20,
     "metadata": {},
     "output_type": "execute_result"
    }
   ],
   "source": [
    "IFrame('../plotly/TSNE_with_Transition_Probability_Feature.html', 1000, 650)"
   ]
  },
  {
   "cell_type": "markdown",
   "metadata": {},
   "source": [
    "## Discussion on action 2 gram features\n",
    "\n",
    "- the result of using normalised 2 gram distribtion is just like directly using action feature, which doesnt provide too much additional information.\n",
    "- markov feature provide more detailed clusters, nodes tend to cluster within small groups. But it doesnt capture the general information of each fraud type. The scatter plot of each fraud is more diversed compared to using other feature."
   ]
  },
  {
   "cell_type": "markdown",
   "metadata": {},
   "source": [
    "## Combined Features\n",
    "\n",
    "Combined all 3 features (6 general + 28 action + 784 bigram)\n",
    "\n",
    "- equally weighted, (all 3 kinds of features are weighted equally)\n",
    "- directly combined (tend to reflect bigram features)"
   ]
  },
  {
   "cell_type": "code",
   "execution_count": 24,
   "metadata": {},
   "outputs": [
    {
     "data": {
      "text/html": [
       "\n",
       "        <iframe\n",
       "            width=\"1000\"\n",
       "            height=\"650\"\n",
       "            src=\"../plotly/TSNE_with_Equally_Weighted_Combined_Feature.html\"\n",
       "            frameborder=\"0\"\n",
       "            allowfullscreen\n",
       "        ></iframe>\n",
       "        "
      ],
      "text/plain": [
       "<IPython.lib.display.IFrame at 0x7f40a3b96ad0>"
      ]
     },
     "execution_count": 24,
     "metadata": {},
     "output_type": "execute_result"
    }
   ],
   "source": [
    "IFrame('../plotly/TSNE_with_Equally_Weighted_Combined_Feature.html', 1000, 650)"
   ]
  },
  {
   "cell_type": "code",
   "execution_count": 25,
   "metadata": {},
   "outputs": [
    {
     "data": {
      "text/html": [
       "\n",
       "        <iframe\n",
       "            width=\"1000\"\n",
       "            height=\"650\"\n",
       "            src=\"../plotly/TSNE_with_Directly_Combined_Feature.html\"\n",
       "            frameborder=\"0\"\n",
       "            allowfullscreen\n",
       "        ></iframe>\n",
       "        "
      ],
      "text/plain": [
       "<IPython.lib.display.IFrame at 0x7f40a3b96f90>"
      ]
     },
     "execution_count": 25,
     "metadata": {},
     "output_type": "execute_result"
    }
   ],
   "source": [
    "IFrame('../plotly/TSNE_with_Directly_Combined_Feature.html', 1000, 650)"
   ]
  },
  {
   "cell_type": "code",
   "execution_count": null,
   "metadata": {},
   "outputs": [],
   "source": []
  }
 ],
 "metadata": {
  "kernelspec": {
   "display_name": "user-path (python 3.7)",
   "language": "python",
   "name": "user-path"
  },
  "language_info": {
   "codemirror_mode": {
    "name": "ipython",
    "version": 3
   },
   "file_extension": ".py",
   "mimetype": "text/x-python",
   "name": "python",
   "nbconvert_exporter": "python",
   "pygments_lexer": "ipython3",
   "version": "3.7.4"
  }
 },
 "nbformat": 4,
 "nbformat_minor": 2
}
